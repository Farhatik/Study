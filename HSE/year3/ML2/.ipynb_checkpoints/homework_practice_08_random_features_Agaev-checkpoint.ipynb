{
 "cells": [
  {
   "cell_type": "markdown",
   "metadata": {
    "id": "RYp0bXOFK-hP"
   },
   "source": [
    "# Машинное обучение, ФКН ВШЭ\n",
    "\n",
    "## Практическое задание 8. Метод опорных векторов и аппроксимация ядер\n",
    "\n",
    "### Общая информация\n",
    "Дата выдачи: 05.02.2021\n",
    "\n",
    "Мягкий дедлайн: 01:59MSK 21.02.2021\n",
    "\n",
    "Жесткий дедлайн: 01:59MSK 24.02.2021\n",
    "\n",
    "### Оценивание и штрафы\n",
    "Каждая из задач имеет определенную «стоимость» (указана в скобках около задачи). Максимальная оценка за работу (без учёта бонусов) — 10 баллов.\n",
    "\n",
    "Сдавать задание после указанного жёсткого срока сдачи нельзя. При выставлении неполного балла за задание в связи с наличием ошибок на усмотрение проверяющего предусмотрена возможность исправить работу на указанных в ответном письме условиях.\n",
    "\n",
    "Задание выполняется самостоятельно. «Похожие» решения считаются плагиатом и все задействованные студенты (в том числе те, у кого списали) не могут получить за него больше 0 баллов (подробнее о плагиате см. на странице курса). Если вы нашли решение какого-то из заданий (или его часть) в открытом источнике, необходимо указать ссылку на этот источник в отдельном блоке в конце вашей работы (скорее всего вы будете не единственным, кто это нашел, поэтому чтобы исключить подозрение в плагиате, необходима ссылка на источник).\n",
    "\n",
    "Неэффективная реализация кода может негативно отразиться на оценке.\n",
    "\n",
    "### Формат сдачи\n",
    "Задания сдаются через систему anytask. Посылка должна содержать:\n",
    "* Ноутбук homework-practice-08-random-features-Username.ipynb\n",
    "\n",
    "Username — ваша фамилия и имя на латинице именно в таком порядке"
   ]
  },
  {
   "cell_type": "markdown",
   "metadata": {
    "id": "vY8vT0W_K-hR"
   },
   "source": [
    "### О задании\n",
    "\n",
    "На занятиях мы подробно обсуждали метод опорных векторов (SVM). В базовой версии в нём нет чего-то особенного — мы всего лишь используем специальную функцию потерь, которая не требует устремлять отступы к бесконечности; ей достаточно, чтобы отступы были не меньше +1. Затем мы узнали, что SVM можно переписать в двойственном виде, который, позволяет заменить скалярные произведения объектов на ядра. Это будет соответствовать построению модели в новом пространстве более высокой размерности, координаты которого представляют собой нелинейные модификации исходных признаков.\n",
    "\n",
    "Ядровой SVM, к сожалению, довольно затратен по памяти (нужно хранить матрицу Грама размера $d \\times d$) и по времени (нужно решать задачу условной оптимизации с квадратичной функцией, а это не очень быстро). Мы обсуждали, что есть способы посчитать новые признаки $\\tilde \\varphi(x)$ на основе исходных так, что скалярные произведения этих новых $\\langle \\tilde \\varphi(x), \\tilde \\varphi(z) \\rangle$ приближают ядро $K(x, z)$.\n",
    "\n",
    "Мы будем исследовать аппроксимации методом Random Fourier Features (RFF, также в литературе встречается название Random Kitchen Sinks) для гауссовых ядер. Будем использовать формулы, которые немного отличаются от того, что было на лекциях (мы добавим сдвиги внутрь тригонометрических функций и будем использовать только косинусы, потому что с нужным сдвигом косинус превратится в синус):\n",
    "$$\\tilde \\varphi(x) = (\n",
    "\\cos (w_1^T x + b_1),\n",
    "\\dots,\n",
    "\\cos (w_n^T x + b_n)\n",
    "),$$\n",
    "где $w_j \\sim \\mathcal{N}(0, 1/\\sigma^2)$, $b_j \\sim U[-\\pi, \\pi]$.\n",
    "\n",
    "На новых признаках $\\tilde \\varphi(x)$ мы будем строить любую линейную модель.\n",
    "\n",
    "Можно считать, что это некоторая новая парадигма построения сложных моделей. Можно направленно искать сложные нелинейные закономерности в данных с помощью градиентного бустинга или нейронных сетей, а можно просто нагенерировать большое количество случайных нелинейных признаков и надеяться, что быстрая и простая модель (то есть линейная) сможет показать на них хорошее качество. В этом задании мы изучим, насколько работоспособна такая идея.\n",
    "\n",
    "### Алгоритм\n",
    "\n",
    "Вам потребуется реализовать следующий алгоритм:\n",
    "1. Понизить размерность выборки до new_dim с помощью метода главных компонент.\n",
    "2. Для полученной выборки оценить гиперпараметр $\\sigma^2$ с помощью эвристики (рекомендуем считать медиану не по всем парам объектов, а по случайному подмножеству из где-то миллиона пар объектов): $$\\sigma^2 = \\text{median}_{i, j = 1, \\dots, \\ell, i \\neq j} \\left\\{\\sum_{k = 1}^{d} (x_{ik} - x_{jk})^2 \\right\\}$$\n",
    "3. Сгенерировать n_features наборов весов $w_j$ и сдвигов $b_j$.\n",
    "4. Сформировать n_features новых признаков по формулам, приведённым выше.\n",
    "5. Обучить линейную модель (логистическую регрессию или SVM) на новых признаках.\n",
    "6. Повторить преобразования (PCA, формирование новых признаков) к тестовой выборке и применить модель."
   ]
  },
  {
   "cell_type": "markdown",
   "metadata": {
    "id": "N_sGunb7K-hS"
   },
   "source": [
    "Тестировать алгоритм мы будем на данных Fashion MNIST. Ниже код для их загрузки и подготовки."
   ]
  },
  {
   "cell_type": "code",
   "execution_count": 3,
   "metadata": {
    "colab": {
     "base_uri": "https://localhost:8080/"
    },
    "id": "psv7rSXxeqfu",
    "outputId": "3f343ba6-9e94-401e-ecc8-50baa9b6ad46"
   },
   "outputs": [
    {
     "name": "stdout",
     "output_type": "stream",
     "text": [
      "Requirement already satisfied: catboost in /usr/local/lib/python3.6/dist-packages (0.24.4)\n",
      "Requirement already satisfied: plotly in /usr/local/lib/python3.6/dist-packages (from catboost) (4.4.1)\n",
      "Requirement already satisfied: six in /usr/local/lib/python3.6/dist-packages (from catboost) (1.15.0)\n",
      "Requirement already satisfied: pandas>=0.24.0 in /usr/local/lib/python3.6/dist-packages (from catboost) (1.1.5)\n",
      "Requirement already satisfied: numpy>=1.16.0 in /usr/local/lib/python3.6/dist-packages (from catboost) (1.19.5)\n",
      "Requirement already satisfied: scipy in /usr/local/lib/python3.6/dist-packages (from catboost) (1.4.1)\n",
      "Requirement already satisfied: graphviz in /usr/local/lib/python3.6/dist-packages (from catboost) (0.10.1)\n",
      "Requirement already satisfied: matplotlib in /usr/local/lib/python3.6/dist-packages (from catboost) (3.2.2)\n",
      "Requirement already satisfied: retrying>=1.3.3 in /usr/local/lib/python3.6/dist-packages (from plotly->catboost) (1.3.3)\n",
      "Requirement already satisfied: pytz>=2017.2 in /usr/local/lib/python3.6/dist-packages (from pandas>=0.24.0->catboost) (2018.9)\n",
      "Requirement already satisfied: python-dateutil>=2.7.3 in /usr/local/lib/python3.6/dist-packages (from pandas>=0.24.0->catboost) (2.8.1)\n",
      "Requirement already satisfied: pyparsing!=2.0.4,!=2.1.2,!=2.1.6,>=2.0.1 in /usr/local/lib/python3.6/dist-packages (from matplotlib->catboost) (2.4.7)\n",
      "Requirement already satisfied: kiwisolver>=1.0.1 in /usr/local/lib/python3.6/dist-packages (from matplotlib->catboost) (1.3.1)\n",
      "Requirement already satisfied: cycler>=0.10 in /usr/local/lib/python3.6/dist-packages (from matplotlib->catboost) (0.10.0)\n",
      "Requirement already satisfied: ipywidgets in /usr/local/lib/python3.6/dist-packages (7.6.3)\n",
      "Requirement already satisfied: widgetsnbextension~=3.5.0 in /usr/local/lib/python3.6/dist-packages (from ipywidgets) (3.5.1)\n",
      "Requirement already satisfied: nbformat>=4.2.0 in /usr/local/lib/python3.6/dist-packages (from ipywidgets) (5.1.2)\n",
      "Requirement already satisfied: jupyterlab-widgets>=1.0.0; python_version >= \"3.6\" in /usr/local/lib/python3.6/dist-packages (from ipywidgets) (1.0.0)\n",
      "Requirement already satisfied: ipython>=4.0.0; python_version >= \"3.3\" in /usr/local/lib/python3.6/dist-packages (from ipywidgets) (5.5.0)\n",
      "Requirement already satisfied: ipykernel>=4.5.1 in /usr/local/lib/python3.6/dist-packages (from ipywidgets) (4.10.1)\n",
      "Requirement already satisfied: traitlets>=4.3.1 in /usr/local/lib/python3.6/dist-packages (from ipywidgets) (4.3.3)\n",
      "Requirement already satisfied: notebook>=4.4.1 in /usr/local/lib/python3.6/dist-packages (from widgetsnbextension~=3.5.0->ipywidgets) (5.3.1)\n",
      "Requirement already satisfied: jupyter-core in /usr/local/lib/python3.6/dist-packages (from nbformat>=4.2.0->ipywidgets) (4.7.1)\n",
      "Requirement already satisfied: ipython-genutils in /usr/local/lib/python3.6/dist-packages (from nbformat>=4.2.0->ipywidgets) (0.2.0)\n",
      "Requirement already satisfied: jsonschema!=2.5.0,>=2.4 in /usr/local/lib/python3.6/dist-packages (from nbformat>=4.2.0->ipywidgets) (2.6.0)\n",
      "Requirement already satisfied: pygments in /usr/local/lib/python3.6/dist-packages (from ipython>=4.0.0; python_version >= \"3.3\"->ipywidgets) (2.6.1)\n",
      "Requirement already satisfied: simplegeneric>0.8 in /usr/local/lib/python3.6/dist-packages (from ipython>=4.0.0; python_version >= \"3.3\"->ipywidgets) (0.8.1)\n",
      "Requirement already satisfied: pexpect; sys_platform != \"win32\" in /usr/local/lib/python3.6/dist-packages (from ipython>=4.0.0; python_version >= \"3.3\"->ipywidgets) (4.8.0)\n",
      "Requirement already satisfied: pickleshare in /usr/local/lib/python3.6/dist-packages (from ipython>=4.0.0; python_version >= \"3.3\"->ipywidgets) (0.7.5)\n",
      "Requirement already satisfied: prompt-toolkit<2.0.0,>=1.0.4 in /usr/local/lib/python3.6/dist-packages (from ipython>=4.0.0; python_version >= \"3.3\"->ipywidgets) (1.0.18)\n",
      "Requirement already satisfied: setuptools>=18.5 in /usr/local/lib/python3.6/dist-packages (from ipython>=4.0.0; python_version >= \"3.3\"->ipywidgets) (53.0.0)\n",
      "Requirement already satisfied: decorator in /usr/local/lib/python3.6/dist-packages (from ipython>=4.0.0; python_version >= \"3.3\"->ipywidgets) (4.4.2)\n",
      "Requirement already satisfied: jupyter-client in /usr/local/lib/python3.6/dist-packages (from ipykernel>=4.5.1->ipywidgets) (5.3.5)\n",
      "Requirement already satisfied: tornado>=4.0 in /usr/local/lib/python3.6/dist-packages (from ipykernel>=4.5.1->ipywidgets) (5.1.1)\n",
      "Requirement already satisfied: six in /usr/local/lib/python3.6/dist-packages (from traitlets>=4.3.1->ipywidgets) (1.15.0)\n",
      "Requirement already satisfied: jinja2 in /usr/local/lib/python3.6/dist-packages (from notebook>=4.4.1->widgetsnbextension~=3.5.0->ipywidgets) (2.11.3)\n",
      "Requirement already satisfied: nbconvert in /usr/local/lib/python3.6/dist-packages (from notebook>=4.4.1->widgetsnbextension~=3.5.0->ipywidgets) (5.6.1)\n",
      "Requirement already satisfied: terminado>=0.8.1 in /usr/local/lib/python3.6/dist-packages (from notebook>=4.4.1->widgetsnbextension~=3.5.0->ipywidgets) (0.9.2)\n",
      "Requirement already satisfied: Send2Trash in /usr/local/lib/python3.6/dist-packages (from notebook>=4.4.1->widgetsnbextension~=3.5.0->ipywidgets) (1.5.0)\n",
      "Requirement already satisfied: ptyprocess>=0.5 in /usr/local/lib/python3.6/dist-packages (from pexpect; sys_platform != \"win32\"->ipython>=4.0.0; python_version >= \"3.3\"->ipywidgets) (0.7.0)\n",
      "Requirement already satisfied: wcwidth in /usr/local/lib/python3.6/dist-packages (from prompt-toolkit<2.0.0,>=1.0.4->ipython>=4.0.0; python_version >= \"3.3\"->ipywidgets) (0.2.5)\n",
      "Requirement already satisfied: pyzmq>=13 in /usr/local/lib/python3.6/dist-packages (from jupyter-client->ipykernel>=4.5.1->ipywidgets) (22.0.2)\n",
      "Requirement already satisfied: python-dateutil>=2.1 in /usr/local/lib/python3.6/dist-packages (from jupyter-client->ipykernel>=4.5.1->ipywidgets) (2.8.1)\n",
      "Requirement already satisfied: MarkupSafe>=0.23 in /usr/local/lib/python3.6/dist-packages (from jinja2->notebook>=4.4.1->widgetsnbextension~=3.5.0->ipywidgets) (1.1.1)\n",
      "Requirement already satisfied: pandocfilters>=1.4.1 in /usr/local/lib/python3.6/dist-packages (from nbconvert->notebook>=4.4.1->widgetsnbextension~=3.5.0->ipywidgets) (1.4.3)\n",
      "Requirement already satisfied: defusedxml in /usr/local/lib/python3.6/dist-packages (from nbconvert->notebook>=4.4.1->widgetsnbextension~=3.5.0->ipywidgets) (0.6.0)\n",
      "Requirement already satisfied: bleach in /usr/local/lib/python3.6/dist-packages (from nbconvert->notebook>=4.4.1->widgetsnbextension~=3.5.0->ipywidgets) (3.3.0)\n",
      "Requirement already satisfied: entrypoints>=0.2.2 in /usr/local/lib/python3.6/dist-packages (from nbconvert->notebook>=4.4.1->widgetsnbextension~=3.5.0->ipywidgets) (0.3)\n",
      "Requirement already satisfied: mistune<2,>=0.8.1 in /usr/local/lib/python3.6/dist-packages (from nbconvert->notebook>=4.4.1->widgetsnbextension~=3.5.0->ipywidgets) (0.8.4)\n",
      "Requirement already satisfied: testpath in /usr/local/lib/python3.6/dist-packages (from nbconvert->notebook>=4.4.1->widgetsnbextension~=3.5.0->ipywidgets) (0.4.4)\n",
      "Requirement already satisfied: packaging in /usr/local/lib/python3.6/dist-packages (from bleach->nbconvert->notebook>=4.4.1->widgetsnbextension~=3.5.0->ipywidgets) (20.9)\n",
      "Requirement already satisfied: webencodings in /usr/local/lib/python3.6/dist-packages (from bleach->nbconvert->notebook>=4.4.1->widgetsnbextension~=3.5.0->ipywidgets) (0.5.1)\n",
      "Requirement already satisfied: pyparsing>=2.0.2 in /usr/local/lib/python3.6/dist-packages (from packaging->bleach->nbconvert->notebook>=4.4.1->widgetsnbextension~=3.5.0->ipywidgets) (2.4.7)\n",
      "Enabling notebook extension jupyter-js-widgets/extension...\n",
      "      - Validating: \u001b[32mOK\u001b[0m\n"
     ]
    }
   ],
   "source": [
    "!pip install catboost\n",
    "!pip install ipywidgets\n",
    "!jupyter nbextension enable --py widgetsnbextension"
   ]
  },
  {
   "cell_type": "code",
   "execution_count": 13,
   "metadata": {
    "id": "YyG6dBfjK-hS"
   },
   "outputs": [],
   "source": [
    "import warnings\n",
    "import keras\n",
    "import numpy as np\n",
    "import matplotlib.pyplot as plt\n",
    "from tabulate import tabulate\n",
    "from keras.datasets import fashion_mnist\n",
    "from sklearn.decomposition import PCA\n",
    "from sklearn.metrics import accuracy_score\n",
    "from sklearn.linear_model import LogisticRegression\n",
    "from sklearn.svm import SVC\n",
    "from sklearn.base import BaseEstimator, TransformerMixin\n",
    "from catboost import CatBoostClassifier"
   ]
  },
  {
   "cell_type": "code",
   "execution_count": 3,
   "metadata": {
    "id": "E_EH5YTDVcmK"
   },
   "outputs": [],
   "source": [
    "warnings.filterwarnings('ignore')"
   ]
  },
  {
   "cell_type": "code",
   "execution_count": 8,
   "metadata": {
    "id": "Cp9xN1L6JMrC"
   },
   "outputs": [],
   "source": [
    "(x_train_pics, y_train), (x_test_pics, y_test) = fashion_mnist.load_data()\n",
    "x_train = x_train_pics.reshape(x_train_pics.shape[0], -1)\n",
    "x_test = x_test_pics.reshape(x_test_pics.shape[0], -1)"
   ]
  },
  {
   "cell_type": "markdown",
   "metadata": {
    "id": "rJNN55F7K-hT"
   },
   "source": [
    "__Задание 1. (5 баллов)__\n",
    "\n",
    "Реализуйте алгоритм, описанный выше. Можете воспользоваться шаблоном класса ниже или написать свой интерфейс.\n",
    "\n",
    "Ваша реализация должна поддерживать следующие опции:\n",
    "1. Возможность задавать значения гиперпараметров new_dim (по умолчанию 50) и n_features (по умолчанию 1000).\n",
    "2. Возможность включать или выключать предварительное понижение размерности с помощью метода главных компонент.\n",
    "3. Возможность выбирать тип линейной модели (логистическая регрессия или SVM с линейным ядром).\n",
    "\n",
    "Протестируйте на данных Fashion MNIST, сформированных кодом выше. Если на тесте у вас получилась доля верных ответов не ниже 0.84 с гиперпараметрами по умолчанию, то вы всё сделали правильно."
   ]
  },
  {
   "cell_type": "code",
   "execution_count": 20,
   "metadata": {
    "id": "jP8yepx8K-hT"
   },
   "outputs": [],
   "source": [
    "class RFFPipeline(BaseEstimator, TransformerMixin):\n",
    "    def __init__(self, n_features=1000, new_dim=50, use_PCA=True, classifier='logreg'):\n",
    "        self.n_features = n_features\n",
    "        self.use_pca = use_PCA\n",
    "        self.new_dim = new_dim\n",
    "        self.classifier = classifier\n",
    "        self.clf = 0\n",
    "        self.W = 0\n",
    "        self.b = 0\n",
    "        self.pca = 0\n",
    "        \n",
    "    def fit(self, X, y):\n",
    "        x_train = np.copy(X)\n",
    "        if self.use_pca:\n",
    "          self.pca = PCA(n_components=self.new_dim)\n",
    "          self.pca.fit(x_train)\n",
    "          x_train = self.pca.transform(x_train)\n",
    "        else:\n",
    "          self.new_dim = X.shape[1]\n",
    "        \n",
    "        i_indexes = np.random.randint(0, x_train.shape[0], min(10**6, x_train.shape[0]))\n",
    "        j_indexes = np.random.randint(0, x_train.shape[0], min(10**6, x_train.shape[0]))\n",
    "        ind = i_indexes != j_indexes\n",
    "        i_indexes = i_indexes[ind]\n",
    "        j_indexes = j_indexes[ind]\n",
    "        \n",
    "        sigma = np.median(np.sum((x_train[i_indexes] - x_train[j_indexes])**2, axis=1))\n",
    "        self.W = np.random.normal(0, 1 / (sigma ** 0.5), (self.n_features, self.new_dim))\n",
    "        self.b = np.random.uniform(-np.pi, np.pi, self.n_features)\n",
    "        x_train = np.cos((self.W @ x_train.T).T + self.b)\n",
    "        self.clf = SVC()\n",
    "        if self.classifier == 'logreg':\n",
    "          self.clf = LogisticRegression()\n",
    "        self.clf.fit(x_train, y)\n",
    "\n",
    "\n",
    "    def predict_proba(self, X):\n",
    "      x_test = np.copy(X)\n",
    "      if self.use_pca:\n",
    "        x_test = self.pca.transform(x_test)\n",
    "      x_test = np.cos((self.W @ x_test.T).T + self.b)     \n",
    "      return self.clf.predict_proba(x_test)\n",
    "\n",
    "        \n",
    "    def predict(self, X):\n",
    "      x_test = np.copy(X)\n",
    "      if self.use_pca:\n",
    "        x_test = self.pca.transform(x_test)\n",
    "      x_test = np.cos((self.W @ x_test.T).T + self.b)      \n",
    "      return self.clf.predict(x_test)"
   ]
  },
  {
   "cell_type": "code",
   "execution_count": 8,
   "metadata": {
    "id": "VtX6ZAKgzoXE"
   },
   "outputs": [],
   "source": [
    "scores = []\n",
    "clfs = []"
   ]
  },
  {
   "cell_type": "code",
   "execution_count": 9,
   "metadata": {
    "colab": {
     "base_uri": "https://localhost:8080/"
    },
    "id": "tXP981LDM4Q6",
    "outputId": "c7d5be72-612b-4f5a-832c-6836eaa30505"
   },
   "outputs": [
    {
     "name": "stdout",
     "output_type": "stream",
     "text": [
      "Доля верных ответов на данных Fashion MNIST 0.86\n",
      "CPU times: user 1min 20s, sys: 19.7 s, total: 1min 40s\n",
      "Wall time: 52.2 s\n"
     ]
    }
   ],
   "source": [
    "%%time\n",
    "clf = RFFPipeline()\n",
    "clf.fit(x_train, y_train)\n",
    "print(\"Доля верных ответов на данных Fashion MNIST\", accuracy_score(y_test, clf.predict(x_test)))\n",
    "clfs.append('Логистическая регрессия на случайных признаках')\n",
    "scores.append(accuracy_score(y_test, clf.predict(x_test)))"
   ]
  },
  {
   "cell_type": "markdown",
   "metadata": {
    "id": "rR4klLn9eH1-"
   },
   "source": [
    "Все четко. accuracy 0.86, а это больше 0.84 => +5 баллов"
   ]
  },
  {
   "cell_type": "markdown",
   "metadata": {
    "id": "HYqQUEi-K-hU"
   },
   "source": [
    "__Задание 2. (3 балла)__\n",
    "\n",
    "Сравните подход со случайными признаками с обучением SVM на исходных признаках. Попробуйте вариант с обычным (линейным) SVM и с ядровым SVM. Ядровой SVM может очень долго обучаться, поэтому можно делать любые разумные вещи для ускорения: брать подмножество объектов из обучающей выборки, например.\n",
    "\n",
    "Сравните подход со случайными признаками с вариантом, в котором вы понижаете размерность с помощью PCA и обучаете градиентный бустинг. Используйте одну из реализаций CatBoost/LightGBM/XGBoost, не забудьте подобрать число деревьев и длину шага.\n",
    "\n",
    "Сделайте выводы — насколько идея со случайными признаками работает? Сравните как с точки зрения качества, так и с точки зрения скорости обучения и применения."
   ]
  },
  {
   "cell_type": "code",
   "execution_count": 10,
   "metadata": {
    "colab": {
     "base_uri": "https://localhost:8080/"
    },
    "id": "Zahgo3N5MBMq",
    "outputId": "71c36b60-3c59-425d-c6d3-4eee0c96ab3f"
   },
   "outputs": [
    {
     "name": "stdout",
     "output_type": "stream",
     "text": [
      "CPU times: user 1min 45s, sys: 23.7 ms, total: 1min 45s\n",
      "Wall time: 1min 45s\n"
     ]
    }
   ],
   "source": [
    "%%time\n",
    "svm = SVC(kernel='linear')\n",
    "clfs.append('Линейный SVM')\n",
    "ind = np.random.choice(np.arange(x_train.shape[0]), 11000, False)\n",
    "svm.fit(x_train[ind], y_train[ind])\n",
    "scores.append(accuracy_score(y_test, svm.predict(x_test)))"
   ]
  },
  {
   "cell_type": "code",
   "execution_count": 11,
   "metadata": {
    "colab": {
     "base_uri": "https://localhost:8080/"
    },
    "id": "qN8LUlJgK-hV",
    "outputId": "5def29a4-e18f-471a-8453-0089d41549a0"
   },
   "outputs": [
    {
     "name": "stdout",
     "output_type": "stream",
     "text": [
      "CPU times: user 1min 54s, sys: 32.5 ms, total: 1min 54s\n",
      "Wall time: 1min 54s\n"
     ]
    }
   ],
   "source": [
    "%%time\n",
    "svm_gaus = SVC(kernel='rbf')\n",
    "clfs.append('Ядровой SVM')\n",
    "svm_gaus.fit(x_train[ind], y_train[ind])\n",
    "scores.append(accuracy_score(y_test, svm_gaus.predict(x_test)))"
   ]
  },
  {
   "cell_type": "code",
   "execution_count": 12,
   "metadata": {
    "id": "2440V-hoYStE"
   },
   "outputs": [],
   "source": [
    "pca = PCA(n_components=27)\n",
    "pca.fit(x_train)\n",
    "x_train_transformed = pca.transform(x_train)"
   ]
  },
  {
   "cell_type": "code",
   "execution_count": 13,
   "metadata": {
    "id": "7RMY4AWY8doo"
   },
   "outputs": [],
   "source": [
    "items = [(0.01, 5), (0.05, 7), (0.02, 5), (0.01, 10), (0.005, 20), (0.02, 15), (None, None)]"
   ]
  },
  {
   "cell_type": "code",
   "execution_count": 14,
   "metadata": {
    "colab": {
     "base_uri": "https://localhost:8080/"
    },
    "id": "nl2dGKu5XTYI",
    "outputId": "52a2546f-0b7a-4f80-9833-9fed91463e2d"
   },
   "outputs": [
    {
     "name": "stdout",
     "output_type": "stream",
     "text": [
      "0:\tlearn: 2.2672601\ttotal: 329ms\tremaining: 1.31s\n",
      "1:\tlearn: 2.2318453\ttotal: 602ms\tremaining: 903ms\n",
      "2:\tlearn: 2.1996326\ttotal: 882ms\tremaining: 588ms\n",
      "3:\tlearn: 2.1693353\ttotal: 1.15s\tremaining: 288ms\n",
      "4:\tlearn: 2.1387552\ttotal: 1.44s\tremaining: 0us\n",
      "0:\tlearn: 2.1298271\ttotal: 270ms\tremaining: 1.62s\n",
      "1:\tlearn: 1.9891242\ttotal: 552ms\tremaining: 1.38s\n",
      "2:\tlearn: 1.8821464\ttotal: 837ms\tremaining: 1.11s\n",
      "3:\tlearn: 1.7876013\ttotal: 1.11s\tremaining: 836ms\n",
      "4:\tlearn: 1.7077408\ttotal: 1.39s\tremaining: 556ms\n",
      "5:\tlearn: 1.6425713\ttotal: 1.67s\tremaining: 278ms\n",
      "6:\tlearn: 1.5853932\ttotal: 1.95s\tremaining: 0us\n",
      "0:\tlearn: 2.2323023\ttotal: 278ms\tremaining: 1.11s\n",
      "1:\tlearn: 2.1654465\ttotal: 553ms\tremaining: 830ms\n",
      "2:\tlearn: 2.1092574\ttotal: 826ms\tremaining: 551ms\n",
      "3:\tlearn: 2.0572885\ttotal: 1.1s\tremaining: 275ms\n",
      "4:\tlearn: 2.0062682\ttotal: 1.38s\tremaining: 0us\n",
      "0:\tlearn: 2.2672601\ttotal: 281ms\tremaining: 2.53s\n",
      "1:\tlearn: 2.2318453\ttotal: 564ms\tremaining: 2.26s\n",
      "2:\tlearn: 2.1996326\ttotal: 841ms\tremaining: 1.96s\n",
      "3:\tlearn: 2.1693353\ttotal: 1.11s\tremaining: 1.67s\n",
      "4:\tlearn: 2.1387552\ttotal: 1.39s\tremaining: 1.39s\n",
      "5:\tlearn: 2.1107308\ttotal: 1.67s\tremaining: 1.11s\n",
      "6:\tlearn: 2.0843256\ttotal: 1.94s\tremaining: 834ms\n",
      "7:\tlearn: 2.0587856\ttotal: 2.23s\tremaining: 559ms\n",
      "8:\tlearn: 2.0341877\ttotal: 2.52s\tremaining: 280ms\n",
      "9:\tlearn: 2.0109587\ttotal: 2.79s\tremaining: 0us\n",
      "0:\tlearn: 2.2848778\ttotal: 270ms\tremaining: 5.13s\n",
      "1:\tlearn: 2.2666511\ttotal: 541ms\tremaining: 4.87s\n",
      "2:\tlearn: 2.2495708\ttotal: 810ms\tremaining: 4.59s\n",
      "3:\tlearn: 2.2330561\ttotal: 1.09s\tremaining: 4.36s\n",
      "4:\tlearn: 2.2160936\ttotal: 1.37s\tremaining: 4.11s\n",
      "5:\tlearn: 2.2001167\ttotal: 1.64s\tremaining: 3.83s\n",
      "6:\tlearn: 2.1847524\ttotal: 1.92s\tremaining: 3.57s\n",
      "7:\tlearn: 2.1698644\ttotal: 2.2s\tremaining: 3.3s\n",
      "8:\tlearn: 2.1551270\ttotal: 2.48s\tremaining: 3.04s\n",
      "9:\tlearn: 2.1409892\ttotal: 2.76s\tremaining: 2.76s\n",
      "10:\tlearn: 2.1269247\ttotal: 3.04s\tremaining: 2.49s\n",
      "11:\tlearn: 2.1130833\ttotal: 3.32s\tremaining: 2.21s\n",
      "12:\tlearn: 2.0999046\ttotal: 3.59s\tremaining: 1.93s\n",
      "13:\tlearn: 2.0866517\ttotal: 3.87s\tremaining: 1.66s\n",
      "14:\tlearn: 2.0737482\ttotal: 4.15s\tremaining: 1.38s\n",
      "15:\tlearn: 2.0615569\ttotal: 4.42s\tremaining: 1.1s\n",
      "16:\tlearn: 2.0496966\ttotal: 4.7s\tremaining: 829ms\n",
      "17:\tlearn: 2.0381948\ttotal: 4.97s\tremaining: 552ms\n",
      "18:\tlearn: 2.0262630\ttotal: 5.25s\tremaining: 276ms\n",
      "19:\tlearn: 2.0141880\ttotal: 5.53s\tremaining: 0us\n",
      "0:\tlearn: 2.2323023\ttotal: 271ms\tremaining: 3.79s\n",
      "1:\tlearn: 2.1654465\ttotal: 549ms\tremaining: 3.57s\n",
      "2:\tlearn: 2.1092574\ttotal: 828ms\tremaining: 3.31s\n",
      "3:\tlearn: 2.0572885\ttotal: 1.11s\tremaining: 3.05s\n",
      "4:\tlearn: 2.0062682\ttotal: 1.39s\tremaining: 2.78s\n",
      "5:\tlearn: 1.9613666\ttotal: 1.66s\tremaining: 2.49s\n",
      "6:\tlearn: 1.9195594\ttotal: 1.94s\tremaining: 2.22s\n",
      "7:\tlearn: 1.8801472\ttotal: 2.22s\tremaining: 1.94s\n",
      "8:\tlearn: 1.8421817\ttotal: 2.5s\tremaining: 1.66s\n",
      "9:\tlearn: 1.8082954\ttotal: 2.78s\tremaining: 1.39s\n",
      "10:\tlearn: 1.7747013\ttotal: 3.09s\tremaining: 1.12s\n",
      "11:\tlearn: 1.7440167\ttotal: 3.36s\tremaining: 841ms\n",
      "12:\tlearn: 1.7160455\ttotal: 3.64s\tremaining: 560ms\n",
      "13:\tlearn: 1.6871310\ttotal: 3.91s\tremaining: 279ms\n",
      "14:\tlearn: 1.6588127\ttotal: 4.2s\tremaining: 0us\n",
      "Learning rate set to 0.097501\n",
      "0:\tlearn: 1.9760582\ttotal: 281ms\tremaining: 4m 40s\n",
      "1:\tlearn: 1.7585780\ttotal: 559ms\tremaining: 4m 39s\n",
      "2:\tlearn: 1.6154465\ttotal: 833ms\tremaining: 4m 36s\n",
      "3:\tlearn: 1.5036049\ttotal: 1.11s\tremaining: 4m 36s\n",
      "4:\tlearn: 1.4084932\ttotal: 1.39s\tremaining: 4m 37s\n",
      "5:\tlearn: 1.3321321\ttotal: 1.67s\tremaining: 4m 37s\n",
      "6:\tlearn: 1.2671169\ttotal: 1.96s\tremaining: 4m 37s\n",
      "7:\tlearn: 1.2059770\ttotal: 2.23s\tremaining: 4m 37s\n",
      "8:\tlearn: 1.1540847\ttotal: 2.53s\tremaining: 4m 38s\n",
      "9:\tlearn: 1.1046149\ttotal: 2.82s\tremaining: 4m 38s\n",
      "10:\tlearn: 1.0602931\ttotal: 3.1s\tremaining: 4m 38s\n",
      "11:\tlearn: 1.0255470\ttotal: 3.38s\tremaining: 4m 38s\n",
      "12:\tlearn: 0.9923390\ttotal: 3.66s\tremaining: 4m 37s\n",
      "13:\tlearn: 0.9597123\ttotal: 3.94s\tremaining: 4m 37s\n",
      "14:\tlearn: 0.9309285\ttotal: 4.21s\tremaining: 4m 36s\n",
      "15:\tlearn: 0.9070852\ttotal: 4.51s\tremaining: 4m 37s\n",
      "16:\tlearn: 0.8861557\ttotal: 4.79s\tremaining: 4m 36s\n",
      "17:\tlearn: 0.8637016\ttotal: 5.06s\tremaining: 4m 36s\n",
      "18:\tlearn: 0.8464888\ttotal: 5.35s\tremaining: 4m 36s\n",
      "19:\tlearn: 0.8256299\ttotal: 5.62s\tremaining: 4m 35s\n",
      "20:\tlearn: 0.8073823\ttotal: 5.89s\tremaining: 4m 34s\n",
      "21:\tlearn: 0.7899560\ttotal: 6.18s\tremaining: 4m 34s\n",
      "22:\tlearn: 0.7748957\ttotal: 6.47s\tremaining: 4m 34s\n",
      "23:\tlearn: 0.7610885\ttotal: 6.75s\tremaining: 4m 34s\n",
      "24:\tlearn: 0.7478819\ttotal: 7.03s\tremaining: 4m 34s\n",
      "25:\tlearn: 0.7323443\ttotal: 7.31s\tremaining: 4m 33s\n",
      "26:\tlearn: 0.7220119\ttotal: 7.6s\tremaining: 4m 33s\n",
      "27:\tlearn: 0.7116807\ttotal: 7.88s\tremaining: 4m 33s\n",
      "28:\tlearn: 0.7018528\ttotal: 8.17s\tremaining: 4m 33s\n",
      "29:\tlearn: 0.6917768\ttotal: 8.47s\tremaining: 4m 33s\n",
      "30:\tlearn: 0.6846928\ttotal: 8.75s\tremaining: 4m 33s\n",
      "31:\tlearn: 0.6760544\ttotal: 9.03s\tremaining: 4m 33s\n",
      "32:\tlearn: 0.6654699\ttotal: 9.31s\tremaining: 4m 32s\n",
      "33:\tlearn: 0.6573813\ttotal: 9.61s\tremaining: 4m 32s\n",
      "34:\tlearn: 0.6499885\ttotal: 9.89s\tremaining: 4m 32s\n",
      "35:\tlearn: 0.6423767\ttotal: 10.2s\tremaining: 4m 32s\n",
      "36:\tlearn: 0.6329426\ttotal: 10.5s\tremaining: 4m 32s\n",
      "37:\tlearn: 0.6251371\ttotal: 10.8s\tremaining: 4m 32s\n",
      "38:\tlearn: 0.6180376\ttotal: 11s\tremaining: 4m 31s\n",
      "39:\tlearn: 0.6113336\ttotal: 11.3s\tremaining: 4m 31s\n",
      "40:\tlearn: 0.6049354\ttotal: 11.6s\tremaining: 4m 31s\n",
      "41:\tlearn: 0.5982790\ttotal: 11.9s\tremaining: 4m 31s\n",
      "42:\tlearn: 0.5930914\ttotal: 12.2s\tremaining: 4m 30s\n",
      "43:\tlearn: 0.5881695\ttotal: 12.4s\tremaining: 4m 30s\n",
      "44:\tlearn: 0.5832697\ttotal: 12.7s\tremaining: 4m 30s\n",
      "45:\tlearn: 0.5787059\ttotal: 13s\tremaining: 4m 29s\n",
      "46:\tlearn: 0.5728118\ttotal: 13.3s\tremaining: 4m 29s\n",
      "47:\tlearn: 0.5687895\ttotal: 13.6s\tremaining: 4m 28s\n",
      "48:\tlearn: 0.5647064\ttotal: 13.8s\tremaining: 4m 28s\n",
      "49:\tlearn: 0.5594807\ttotal: 14.1s\tremaining: 4m 28s\n",
      "50:\tlearn: 0.5554470\ttotal: 14.4s\tremaining: 4m 27s\n",
      "51:\tlearn: 0.5514045\ttotal: 14.7s\tremaining: 4m 27s\n",
      "52:\tlearn: 0.5459669\ttotal: 15s\tremaining: 4m 27s\n",
      "53:\tlearn: 0.5425834\ttotal: 15.2s\tremaining: 4m 27s\n",
      "54:\tlearn: 0.5379289\ttotal: 15.5s\tremaining: 4m 26s\n",
      "55:\tlearn: 0.5341793\ttotal: 15.8s\tremaining: 4m 26s\n",
      "56:\tlearn: 0.5302499\ttotal: 16.1s\tremaining: 4m 26s\n",
      "57:\tlearn: 0.5265295\ttotal: 16.4s\tremaining: 4m 25s\n",
      "58:\tlearn: 0.5225753\ttotal: 16.7s\tremaining: 4m 25s\n",
      "59:\tlearn: 0.5195369\ttotal: 16.9s\tremaining: 4m 25s\n",
      "60:\tlearn: 0.5158176\ttotal: 17.2s\tremaining: 4m 25s\n",
      "61:\tlearn: 0.5125793\ttotal: 17.5s\tremaining: 4m 24s\n",
      "62:\tlearn: 0.5096774\ttotal: 17.8s\tremaining: 4m 24s\n",
      "63:\tlearn: 0.5067196\ttotal: 18.1s\tremaining: 4m 24s\n",
      "64:\tlearn: 0.5042577\ttotal: 18.4s\tremaining: 4m 24s\n",
      "65:\tlearn: 0.5019059\ttotal: 18.6s\tremaining: 4m 23s\n",
      "66:\tlearn: 0.4992305\ttotal: 18.9s\tremaining: 4m 23s\n",
      "67:\tlearn: 0.4968037\ttotal: 19.2s\tremaining: 4m 23s\n",
      "68:\tlearn: 0.4948604\ttotal: 19.5s\tremaining: 4m 23s\n",
      "69:\tlearn: 0.4924751\ttotal: 19.8s\tremaining: 4m 22s\n",
      "70:\tlearn: 0.4901695\ttotal: 20.1s\tremaining: 4m 22s\n",
      "71:\tlearn: 0.4869888\ttotal: 20.3s\tremaining: 4m 22s\n",
      "72:\tlearn: 0.4849181\ttotal: 20.6s\tremaining: 4m 22s\n",
      "73:\tlearn: 0.4824199\ttotal: 20.9s\tremaining: 4m 21s\n",
      "74:\tlearn: 0.4807713\ttotal: 21.2s\tremaining: 4m 21s\n",
      "75:\tlearn: 0.4788717\ttotal: 21.5s\tremaining: 4m 20s\n",
      "76:\tlearn: 0.4771290\ttotal: 21.8s\tremaining: 4m 20s\n",
      "77:\tlearn: 0.4750778\ttotal: 22s\tremaining: 4m 20s\n",
      "78:\tlearn: 0.4735384\ttotal: 22.3s\tremaining: 4m 20s\n",
      "79:\tlearn: 0.4714307\ttotal: 22.6s\tremaining: 4m 19s\n",
      "80:\tlearn: 0.4696338\ttotal: 22.9s\tremaining: 4m 19s\n",
      "81:\tlearn: 0.4679592\ttotal: 23.2s\tremaining: 4m 19s\n",
      "82:\tlearn: 0.4664307\ttotal: 23.4s\tremaining: 4m 18s\n",
      "83:\tlearn: 0.4653643\ttotal: 23.7s\tremaining: 4m 18s\n",
      "84:\tlearn: 0.4640342\ttotal: 24s\tremaining: 4m 18s\n",
      "85:\tlearn: 0.4621320\ttotal: 24.3s\tremaining: 4m 18s\n",
      "86:\tlearn: 0.4603129\ttotal: 24.6s\tremaining: 4m 17s\n",
      "87:\tlearn: 0.4578316\ttotal: 24.9s\tremaining: 4m 17s\n",
      "88:\tlearn: 0.4561243\ttotal: 25.1s\tremaining: 4m 17s\n",
      "89:\tlearn: 0.4545961\ttotal: 25.4s\tremaining: 4m 17s\n",
      "90:\tlearn: 0.4536544\ttotal: 25.7s\tremaining: 4m 16s\n",
      "91:\tlearn: 0.4522081\ttotal: 26s\tremaining: 4m 16s\n",
      "92:\tlearn: 0.4506118\ttotal: 26.3s\tremaining: 4m 16s\n",
      "93:\tlearn: 0.4492971\ttotal: 26.5s\tremaining: 4m 15s\n",
      "94:\tlearn: 0.4472528\ttotal: 26.8s\tremaining: 4m 15s\n",
      "95:\tlearn: 0.4455636\ttotal: 27.1s\tremaining: 4m 15s\n",
      "96:\tlearn: 0.4437634\ttotal: 27.4s\tremaining: 4m 15s\n",
      "97:\tlearn: 0.4419184\ttotal: 27.7s\tremaining: 4m 14s\n",
      "98:\tlearn: 0.4409943\ttotal: 28s\tremaining: 4m 14s\n",
      "99:\tlearn: 0.4399036\ttotal: 28.2s\tremaining: 4m 14s\n",
      "100:\tlearn: 0.4382826\ttotal: 28.5s\tremaining: 4m 13s\n",
      "101:\tlearn: 0.4367945\ttotal: 28.8s\tremaining: 4m 13s\n",
      "102:\tlearn: 0.4356704\ttotal: 29.1s\tremaining: 4m 13s\n",
      "103:\tlearn: 0.4342742\ttotal: 29.4s\tremaining: 4m 13s\n",
      "104:\tlearn: 0.4331567\ttotal: 29.7s\tremaining: 4m 12s\n",
      "105:\tlearn: 0.4315466\ttotal: 29.9s\tremaining: 4m 12s\n",
      "106:\tlearn: 0.4304013\ttotal: 30.2s\tremaining: 4m 12s\n",
      "107:\tlearn: 0.4290861\ttotal: 30.5s\tremaining: 4m 11s\n",
      "108:\tlearn: 0.4280134\ttotal: 30.8s\tremaining: 4m 11s\n",
      "109:\tlearn: 0.4264574\ttotal: 31.1s\tremaining: 4m 11s\n",
      "110:\tlearn: 0.4255358\ttotal: 31.4s\tremaining: 4m 11s\n",
      "111:\tlearn: 0.4245251\ttotal: 31.6s\tremaining: 4m 10s\n",
      "112:\tlearn: 0.4232998\ttotal: 31.9s\tremaining: 4m 10s\n",
      "113:\tlearn: 0.4224035\ttotal: 32.2s\tremaining: 4m 10s\n",
      "114:\tlearn: 0.4212732\ttotal: 32.5s\tremaining: 4m 9s\n",
      "115:\tlearn: 0.4204824\ttotal: 32.8s\tremaining: 4m 9s\n",
      "116:\tlearn: 0.4195039\ttotal: 33s\tremaining: 4m 9s\n",
      "117:\tlearn: 0.4187370\ttotal: 33.3s\tremaining: 4m 9s\n",
      "118:\tlearn: 0.4176902\ttotal: 33.6s\tremaining: 4m 8s\n",
      "119:\tlearn: 0.4168035\ttotal: 33.9s\tremaining: 4m 8s\n",
      "120:\tlearn: 0.4157360\ttotal: 34.2s\tremaining: 4m 8s\n",
      "121:\tlearn: 0.4146705\ttotal: 34.4s\tremaining: 4m 7s\n",
      "122:\tlearn: 0.4138200\ttotal: 34.7s\tremaining: 4m 7s\n",
      "123:\tlearn: 0.4131573\ttotal: 35s\tremaining: 4m 7s\n",
      "124:\tlearn: 0.4122301\ttotal: 35.3s\tremaining: 4m 6s\n",
      "125:\tlearn: 0.4114516\ttotal: 35.6s\tremaining: 4m 6s\n",
      "126:\tlearn: 0.4108143\ttotal: 35.8s\tremaining: 4m 6s\n",
      "127:\tlearn: 0.4100215\ttotal: 36.1s\tremaining: 4m 6s\n",
      "128:\tlearn: 0.4092181\ttotal: 36.4s\tremaining: 4m 5s\n",
      "129:\tlearn: 0.4085747\ttotal: 36.7s\tremaining: 4m 5s\n",
      "130:\tlearn: 0.4080413\ttotal: 37s\tremaining: 4m 5s\n",
      "131:\tlearn: 0.4073999\ttotal: 37.2s\tremaining: 4m 4s\n",
      "132:\tlearn: 0.4065318\ttotal: 37.5s\tremaining: 4m 4s\n",
      "133:\tlearn: 0.4058281\ttotal: 37.8s\tremaining: 4m 4s\n",
      "134:\tlearn: 0.4052372\ttotal: 38.1s\tremaining: 4m 3s\n",
      "135:\tlearn: 0.4047411\ttotal: 38.3s\tremaining: 4m 3s\n",
      "136:\tlearn: 0.4039965\ttotal: 38.6s\tremaining: 4m 3s\n",
      "137:\tlearn: 0.4032207\ttotal: 38.9s\tremaining: 4m 3s\n",
      "138:\tlearn: 0.4025178\ttotal: 39.2s\tremaining: 4m 2s\n",
      "139:\tlearn: 0.4017210\ttotal: 39.5s\tremaining: 4m 2s\n",
      "140:\tlearn: 0.4011563\ttotal: 39.8s\tremaining: 4m 2s\n",
      "141:\tlearn: 0.4008895\ttotal: 40s\tremaining: 4m 1s\n",
      "142:\tlearn: 0.3999901\ttotal: 40.3s\tremaining: 4m 1s\n",
      "143:\tlearn: 0.3993219\ttotal: 40.6s\tremaining: 4m 1s\n",
      "144:\tlearn: 0.3985740\ttotal: 40.9s\tremaining: 4m 1s\n",
      "145:\tlearn: 0.3978863\ttotal: 41.1s\tremaining: 4m\n",
      "146:\tlearn: 0.3968792\ttotal: 41.4s\tremaining: 4m\n",
      "147:\tlearn: 0.3961935\ttotal: 41.7s\tremaining: 4m\n",
      "148:\tlearn: 0.3956467\ttotal: 42s\tremaining: 3m 59s\n",
      "149:\tlearn: 0.3950982\ttotal: 42.3s\tremaining: 3m 59s\n",
      "150:\tlearn: 0.3941721\ttotal: 42.5s\tremaining: 3m 59s\n",
      "151:\tlearn: 0.3934120\ttotal: 42.8s\tremaining: 3m 58s\n",
      "152:\tlearn: 0.3928385\ttotal: 43.1s\tremaining: 3m 58s\n",
      "153:\tlearn: 0.3921204\ttotal: 43.4s\tremaining: 3m 58s\n",
      "154:\tlearn: 0.3915593\ttotal: 43.6s\tremaining: 3m 57s\n",
      "155:\tlearn: 0.3907519\ttotal: 43.9s\tremaining: 3m 57s\n",
      "156:\tlearn: 0.3898462\ttotal: 44.2s\tremaining: 3m 57s\n",
      "157:\tlearn: 0.3893899\ttotal: 44.5s\tremaining: 3m 57s\n",
      "158:\tlearn: 0.3890836\ttotal: 44.8s\tremaining: 3m 56s\n",
      "159:\tlearn: 0.3885912\ttotal: 45s\tremaining: 3m 56s\n",
      "160:\tlearn: 0.3881862\ttotal: 45.3s\tremaining: 3m 56s\n",
      "161:\tlearn: 0.3876801\ttotal: 45.6s\tremaining: 3m 55s\n",
      "162:\tlearn: 0.3867819\ttotal: 45.9s\tremaining: 3m 55s\n",
      "163:\tlearn: 0.3860235\ttotal: 46.2s\tremaining: 3m 55s\n",
      "164:\tlearn: 0.3853221\ttotal: 46.4s\tremaining: 3m 55s\n",
      "165:\tlearn: 0.3845920\ttotal: 46.7s\tremaining: 3m 54s\n",
      "166:\tlearn: 0.3835990\ttotal: 47s\tremaining: 3m 54s\n",
      "167:\tlearn: 0.3828132\ttotal: 47.3s\tremaining: 3m 54s\n",
      "168:\tlearn: 0.3824403\ttotal: 47.5s\tremaining: 3m 53s\n",
      "169:\tlearn: 0.3820177\ttotal: 47.8s\tremaining: 3m 53s\n",
      "170:\tlearn: 0.3815436\ttotal: 48.1s\tremaining: 3m 53s\n",
      "171:\tlearn: 0.3807817\ttotal: 48.4s\tremaining: 3m 52s\n",
      "172:\tlearn: 0.3798923\ttotal: 48.7s\tremaining: 3m 52s\n",
      "173:\tlearn: 0.3794536\ttotal: 48.9s\tremaining: 3m 52s\n",
      "174:\tlearn: 0.3790453\ttotal: 49.2s\tremaining: 3m 52s\n",
      "175:\tlearn: 0.3785357\ttotal: 49.5s\tremaining: 3m 51s\n",
      "176:\tlearn: 0.3781752\ttotal: 49.8s\tremaining: 3m 51s\n",
      "177:\tlearn: 0.3777524\ttotal: 50s\tremaining: 3m 51s\n",
      "178:\tlearn: 0.3772631\ttotal: 50.3s\tremaining: 3m 50s\n",
      "179:\tlearn: 0.3768229\ttotal: 50.6s\tremaining: 3m 50s\n",
      "180:\tlearn: 0.3757803\ttotal: 50.9s\tremaining: 3m 50s\n",
      "181:\tlearn: 0.3750404\ttotal: 51.2s\tremaining: 3m 49s\n",
      "182:\tlearn: 0.3746762\ttotal: 51.4s\tremaining: 3m 49s\n",
      "183:\tlearn: 0.3741116\ttotal: 51.7s\tremaining: 3m 49s\n",
      "184:\tlearn: 0.3737661\ttotal: 52s\tremaining: 3m 49s\n",
      "185:\tlearn: 0.3733527\ttotal: 52.3s\tremaining: 3m 48s\n",
      "186:\tlearn: 0.3731005\ttotal: 52.6s\tremaining: 3m 48s\n",
      "187:\tlearn: 0.3725785\ttotal: 52.8s\tremaining: 3m 48s\n",
      "188:\tlearn: 0.3720392\ttotal: 53.1s\tremaining: 3m 47s\n",
      "189:\tlearn: 0.3713644\ttotal: 53.4s\tremaining: 3m 47s\n",
      "190:\tlearn: 0.3711781\ttotal: 53.7s\tremaining: 3m 47s\n",
      "191:\tlearn: 0.3706057\ttotal: 53.9s\tremaining: 3m 47s\n",
      "192:\tlearn: 0.3700840\ttotal: 54.2s\tremaining: 3m 46s\n",
      "193:\tlearn: 0.3694261\ttotal: 54.5s\tremaining: 3m 46s\n",
      "194:\tlearn: 0.3687590\ttotal: 54.8s\tremaining: 3m 46s\n",
      "195:\tlearn: 0.3684605\ttotal: 55.1s\tremaining: 3m 45s\n",
      "196:\tlearn: 0.3680395\ttotal: 55.3s\tremaining: 3m 45s\n",
      "197:\tlearn: 0.3676079\ttotal: 55.6s\tremaining: 3m 45s\n",
      "198:\tlearn: 0.3670388\ttotal: 55.9s\tremaining: 3m 44s\n",
      "199:\tlearn: 0.3667061\ttotal: 56.2s\tremaining: 3m 44s\n",
      "200:\tlearn: 0.3662585\ttotal: 56.4s\tremaining: 3m 44s\n",
      "201:\tlearn: 0.3658722\ttotal: 56.7s\tremaining: 3m 44s\n",
      "202:\tlearn: 0.3652803\ttotal: 57s\tremaining: 3m 43s\n",
      "203:\tlearn: 0.3647775\ttotal: 57.3s\tremaining: 3m 43s\n",
      "204:\tlearn: 0.3642856\ttotal: 57.6s\tremaining: 3m 43s\n",
      "205:\tlearn: 0.3637412\ttotal: 57.8s\tremaining: 3m 42s\n",
      "206:\tlearn: 0.3632079\ttotal: 58.1s\tremaining: 3m 42s\n",
      "207:\tlearn: 0.3628716\ttotal: 58.4s\tremaining: 3m 42s\n",
      "208:\tlearn: 0.3622792\ttotal: 58.7s\tremaining: 3m 42s\n",
      "209:\tlearn: 0.3616711\ttotal: 58.9s\tremaining: 3m 41s\n",
      "210:\tlearn: 0.3612139\ttotal: 59.2s\tremaining: 3m 41s\n",
      "211:\tlearn: 0.3608916\ttotal: 59.5s\tremaining: 3m 41s\n",
      "212:\tlearn: 0.3607089\ttotal: 59.8s\tremaining: 3m 40s\n",
      "213:\tlearn: 0.3600285\ttotal: 1m\tremaining: 3m 40s\n",
      "214:\tlearn: 0.3596331\ttotal: 1m\tremaining: 3m 40s\n",
      "215:\tlearn: 0.3591085\ttotal: 1m\tremaining: 3m 40s\n",
      "216:\tlearn: 0.3585956\ttotal: 1m\tremaining: 3m 39s\n",
      "217:\tlearn: 0.3583406\ttotal: 1m 1s\tremaining: 3m 39s\n",
      "218:\tlearn: 0.3578355\ttotal: 1m 1s\tremaining: 3m 39s\n",
      "219:\tlearn: 0.3574754\ttotal: 1m 1s\tremaining: 3m 38s\n",
      "220:\tlearn: 0.3571016\ttotal: 1m 2s\tremaining: 3m 38s\n",
      "221:\tlearn: 0.3568369\ttotal: 1m 2s\tremaining: 3m 38s\n",
      "222:\tlearn: 0.3563754\ttotal: 1m 2s\tremaining: 3m 38s\n",
      "223:\tlearn: 0.3559374\ttotal: 1m 2s\tremaining: 3m 37s\n",
      "224:\tlearn: 0.3555850\ttotal: 1m 3s\tremaining: 3m 37s\n",
      "225:\tlearn: 0.3552357\ttotal: 1m 3s\tremaining: 3m 37s\n",
      "226:\tlearn: 0.3548805\ttotal: 1m 3s\tremaining: 3m 36s\n",
      "227:\tlearn: 0.3545323\ttotal: 1m 3s\tremaining: 3m 36s\n",
      "228:\tlearn: 0.3541682\ttotal: 1m 4s\tremaining: 3m 36s\n",
      "229:\tlearn: 0.3538962\ttotal: 1m 4s\tremaining: 3m 36s\n",
      "230:\tlearn: 0.3533061\ttotal: 1m 4s\tremaining: 3m 35s\n",
      "231:\tlearn: 0.3530428\ttotal: 1m 5s\tremaining: 3m 35s\n",
      "232:\tlearn: 0.3525737\ttotal: 1m 5s\tremaining: 3m 35s\n",
      "233:\tlearn: 0.3521492\ttotal: 1m 5s\tremaining: 3m 34s\n",
      "234:\tlearn: 0.3517523\ttotal: 1m 5s\tremaining: 3m 34s\n",
      "235:\tlearn: 0.3512574\ttotal: 1m 6s\tremaining: 3m 34s\n",
      "236:\tlearn: 0.3507983\ttotal: 1m 6s\tremaining: 3m 34s\n",
      "237:\tlearn: 0.3503817\ttotal: 1m 6s\tremaining: 3m 33s\n",
      "238:\tlearn: 0.3499571\ttotal: 1m 7s\tremaining: 3m 33s\n",
      "239:\tlearn: 0.3494960\ttotal: 1m 7s\tremaining: 3m 33s\n",
      "240:\tlearn: 0.3492149\ttotal: 1m 7s\tremaining: 3m 33s\n",
      "241:\tlearn: 0.3488486\ttotal: 1m 7s\tremaining: 3m 32s\n",
      "242:\tlearn: 0.3483239\ttotal: 1m 8s\tremaining: 3m 32s\n",
      "243:\tlearn: 0.3479526\ttotal: 1m 8s\tremaining: 3m 32s\n",
      "244:\tlearn: 0.3476013\ttotal: 1m 8s\tremaining: 3m 31s\n",
      "245:\tlearn: 0.3472059\ttotal: 1m 9s\tremaining: 3m 31s\n",
      "246:\tlearn: 0.3468361\ttotal: 1m 9s\tremaining: 3m 31s\n",
      "247:\tlearn: 0.3465798\ttotal: 1m 9s\tremaining: 3m 31s\n",
      "248:\tlearn: 0.3461547\ttotal: 1m 9s\tremaining: 3m 30s\n",
      "249:\tlearn: 0.3458062\ttotal: 1m 10s\tremaining: 3m 30s\n",
      "250:\tlearn: 0.3454837\ttotal: 1m 10s\tremaining: 3m 30s\n",
      "251:\tlearn: 0.3449491\ttotal: 1m 10s\tremaining: 3m 29s\n",
      "252:\tlearn: 0.3446663\ttotal: 1m 11s\tremaining: 3m 29s\n",
      "253:\tlearn: 0.3442609\ttotal: 1m 11s\tremaining: 3m 29s\n",
      "254:\tlearn: 0.3439170\ttotal: 1m 11s\tremaining: 3m 29s\n",
      "255:\tlearn: 0.3435680\ttotal: 1m 11s\tremaining: 3m 28s\n",
      "256:\tlearn: 0.3432776\ttotal: 1m 12s\tremaining: 3m 28s\n",
      "257:\tlearn: 0.3431523\ttotal: 1m 12s\tremaining: 3m 28s\n",
      "258:\tlearn: 0.3426104\ttotal: 1m 12s\tremaining: 3m 27s\n",
      "259:\tlearn: 0.3422153\ttotal: 1m 12s\tremaining: 3m 27s\n",
      "260:\tlearn: 0.3416737\ttotal: 1m 13s\tremaining: 3m 27s\n",
      "261:\tlearn: 0.3414614\ttotal: 1m 13s\tremaining: 3m 27s\n",
      "262:\tlearn: 0.3411184\ttotal: 1m 13s\tremaining: 3m 26s\n",
      "263:\tlearn: 0.3408088\ttotal: 1m 14s\tremaining: 3m 26s\n",
      "264:\tlearn: 0.3404592\ttotal: 1m 14s\tremaining: 3m 26s\n",
      "265:\tlearn: 0.3401663\ttotal: 1m 14s\tremaining: 3m 25s\n",
      "266:\tlearn: 0.3396023\ttotal: 1m 14s\tremaining: 3m 25s\n",
      "267:\tlearn: 0.3393653\ttotal: 1m 15s\tremaining: 3m 25s\n",
      "268:\tlearn: 0.3391912\ttotal: 1m 15s\tremaining: 3m 25s\n",
      "269:\tlearn: 0.3389133\ttotal: 1m 15s\tremaining: 3m 24s\n",
      "270:\tlearn: 0.3386471\ttotal: 1m 16s\tremaining: 3m 24s\n",
      "271:\tlearn: 0.3383934\ttotal: 1m 16s\tremaining: 3m 24s\n",
      "272:\tlearn: 0.3379207\ttotal: 1m 16s\tremaining: 3m 23s\n",
      "273:\tlearn: 0.3375613\ttotal: 1m 16s\tremaining: 3m 23s\n",
      "274:\tlearn: 0.3371721\ttotal: 1m 17s\tremaining: 3m 23s\n",
      "275:\tlearn: 0.3368732\ttotal: 1m 17s\tremaining: 3m 23s\n",
      "276:\tlearn: 0.3365726\ttotal: 1m 17s\tremaining: 3m 22s\n",
      "277:\tlearn: 0.3361720\ttotal: 1m 17s\tremaining: 3m 22s\n",
      "278:\tlearn: 0.3358666\ttotal: 1m 18s\tremaining: 3m 22s\n",
      "279:\tlearn: 0.3354648\ttotal: 1m 18s\tremaining: 3m 21s\n",
      "280:\tlearn: 0.3350145\ttotal: 1m 18s\tremaining: 3m 21s\n",
      "281:\tlearn: 0.3347627\ttotal: 1m 19s\tremaining: 3m 21s\n",
      "282:\tlearn: 0.3345065\ttotal: 1m 19s\tremaining: 3m 21s\n",
      "283:\tlearn: 0.3341828\ttotal: 1m 19s\tremaining: 3m 20s\n",
      "284:\tlearn: 0.3338655\ttotal: 1m 19s\tremaining: 3m 20s\n",
      "285:\tlearn: 0.3335105\ttotal: 1m 20s\tremaining: 3m 20s\n",
      "286:\tlearn: 0.3330072\ttotal: 1m 20s\tremaining: 3m 19s\n",
      "287:\tlearn: 0.3325946\ttotal: 1m 20s\tremaining: 3m 19s\n",
      "288:\tlearn: 0.3322708\ttotal: 1m 21s\tremaining: 3m 19s\n",
      "289:\tlearn: 0.3319739\ttotal: 1m 21s\tremaining: 3m 19s\n",
      "290:\tlearn: 0.3316978\ttotal: 1m 21s\tremaining: 3m 18s\n",
      "291:\tlearn: 0.3313727\ttotal: 1m 21s\tremaining: 3m 18s\n",
      "292:\tlearn: 0.3310703\ttotal: 1m 22s\tremaining: 3m 18s\n",
      "293:\tlearn: 0.3306597\ttotal: 1m 22s\tremaining: 3m 17s\n",
      "294:\tlearn: 0.3304766\ttotal: 1m 22s\tremaining: 3m 17s\n",
      "295:\tlearn: 0.3300005\ttotal: 1m 22s\tremaining: 3m 17s\n",
      "296:\tlearn: 0.3296546\ttotal: 1m 23s\tremaining: 3m 17s\n",
      "297:\tlearn: 0.3292016\ttotal: 1m 23s\tremaining: 3m 16s\n",
      "298:\tlearn: 0.3287803\ttotal: 1m 23s\tremaining: 3m 16s\n",
      "299:\tlearn: 0.3285847\ttotal: 1m 24s\tremaining: 3m 16s\n",
      "300:\tlearn: 0.3284110\ttotal: 1m 24s\tremaining: 3m 15s\n",
      "301:\tlearn: 0.3280346\ttotal: 1m 24s\tremaining: 3m 15s\n",
      "302:\tlearn: 0.3278878\ttotal: 1m 24s\tremaining: 3m 15s\n",
      "303:\tlearn: 0.3276702\ttotal: 1m 25s\tremaining: 3m 15s\n",
      "304:\tlearn: 0.3272917\ttotal: 1m 25s\tremaining: 3m 14s\n",
      "305:\tlearn: 0.3270512\ttotal: 1m 25s\tremaining: 3m 14s\n",
      "306:\tlearn: 0.3267202\ttotal: 1m 26s\tremaining: 3m 14s\n",
      "307:\tlearn: 0.3264090\ttotal: 1m 26s\tremaining: 3m 13s\n",
      "308:\tlearn: 0.3260691\ttotal: 1m 26s\tremaining: 3m 13s\n",
      "309:\tlearn: 0.3256748\ttotal: 1m 26s\tremaining: 3m 13s\n",
      "310:\tlearn: 0.3254810\ttotal: 1m 27s\tremaining: 3m 13s\n",
      "311:\tlearn: 0.3252666\ttotal: 1m 27s\tremaining: 3m 12s\n",
      "312:\tlearn: 0.3250699\ttotal: 1m 27s\tremaining: 3m 12s\n",
      "313:\tlearn: 0.3247161\ttotal: 1m 28s\tremaining: 3m 12s\n",
      "314:\tlearn: 0.3243631\ttotal: 1m 28s\tremaining: 3m 12s\n",
      "315:\tlearn: 0.3240834\ttotal: 1m 28s\tremaining: 3m 11s\n",
      "316:\tlearn: 0.3238244\ttotal: 1m 28s\tremaining: 3m 11s\n",
      "317:\tlearn: 0.3235093\ttotal: 1m 29s\tremaining: 3m 11s\n",
      "318:\tlearn: 0.3230963\ttotal: 1m 29s\tremaining: 3m 10s\n",
      "319:\tlearn: 0.3228716\ttotal: 1m 29s\tremaining: 3m 10s\n",
      "320:\tlearn: 0.3225085\ttotal: 1m 29s\tremaining: 3m 10s\n",
      "321:\tlearn: 0.3222107\ttotal: 1m 30s\tremaining: 3m 10s\n",
      "322:\tlearn: 0.3217084\ttotal: 1m 30s\tremaining: 3m 9s\n",
      "323:\tlearn: 0.3213202\ttotal: 1m 30s\tremaining: 3m 9s\n",
      "324:\tlearn: 0.3211439\ttotal: 1m 31s\tremaining: 3m 9s\n",
      "325:\tlearn: 0.3208528\ttotal: 1m 31s\tremaining: 3m 8s\n",
      "326:\tlearn: 0.3206195\ttotal: 1m 31s\tremaining: 3m 8s\n",
      "327:\tlearn: 0.3201078\ttotal: 1m 31s\tremaining: 3m 8s\n",
      "328:\tlearn: 0.3199496\ttotal: 1m 32s\tremaining: 3m 8s\n",
      "329:\tlearn: 0.3193874\ttotal: 1m 32s\tremaining: 3m 7s\n",
      "330:\tlearn: 0.3192295\ttotal: 1m 32s\tremaining: 3m 7s\n",
      "331:\tlearn: 0.3189638\ttotal: 1m 33s\tremaining: 3m 7s\n",
      "332:\tlearn: 0.3183839\ttotal: 1m 33s\tremaining: 3m 6s\n",
      "333:\tlearn: 0.3180360\ttotal: 1m 33s\tremaining: 3m 6s\n",
      "334:\tlearn: 0.3175666\ttotal: 1m 33s\tremaining: 3m 6s\n",
      "335:\tlearn: 0.3174591\ttotal: 1m 34s\tremaining: 3m 6s\n",
      "336:\tlearn: 0.3171798\ttotal: 1m 34s\tremaining: 3m 5s\n",
      "337:\tlearn: 0.3166519\ttotal: 1m 34s\tremaining: 3m 5s\n",
      "338:\tlearn: 0.3162446\ttotal: 1m 35s\tremaining: 3m 5s\n",
      "339:\tlearn: 0.3158608\ttotal: 1m 35s\tremaining: 3m 5s\n",
      "340:\tlearn: 0.3156167\ttotal: 1m 35s\tremaining: 3m 4s\n",
      "341:\tlearn: 0.3153061\ttotal: 1m 35s\tremaining: 3m 4s\n",
      "342:\tlearn: 0.3150752\ttotal: 1m 36s\tremaining: 3m 4s\n",
      "343:\tlearn: 0.3149336\ttotal: 1m 36s\tremaining: 3m 3s\n",
      "344:\tlearn: 0.3145968\ttotal: 1m 36s\tremaining: 3m 3s\n",
      "345:\tlearn: 0.3143423\ttotal: 1m 37s\tremaining: 3m 3s\n",
      "346:\tlearn: 0.3141429\ttotal: 1m 37s\tremaining: 3m 3s\n",
      "347:\tlearn: 0.3137824\ttotal: 1m 37s\tremaining: 3m 2s\n",
      "348:\tlearn: 0.3136516\ttotal: 1m 37s\tremaining: 3m 2s\n",
      "349:\tlearn: 0.3134177\ttotal: 1m 38s\tremaining: 3m 2s\n",
      "350:\tlearn: 0.3131287\ttotal: 1m 38s\tremaining: 3m 1s\n",
      "351:\tlearn: 0.3129409\ttotal: 1m 38s\tremaining: 3m 1s\n",
      "352:\tlearn: 0.3126813\ttotal: 1m 38s\tremaining: 3m 1s\n",
      "353:\tlearn: 0.3124453\ttotal: 1m 39s\tremaining: 3m 1s\n",
      "354:\tlearn: 0.3122684\ttotal: 1m 39s\tremaining: 3m\n",
      "355:\tlearn: 0.3117814\ttotal: 1m 39s\tremaining: 3m\n",
      "356:\tlearn: 0.3114548\ttotal: 1m 40s\tremaining: 3m\n",
      "357:\tlearn: 0.3112131\ttotal: 1m 40s\tremaining: 2m 59s\n",
      "358:\tlearn: 0.3110518\ttotal: 1m 40s\tremaining: 2m 59s\n",
      "359:\tlearn: 0.3107780\ttotal: 1m 40s\tremaining: 2m 59s\n",
      "360:\tlearn: 0.3105787\ttotal: 1m 41s\tremaining: 2m 59s\n",
      "361:\tlearn: 0.3104172\ttotal: 1m 41s\tremaining: 2m 58s\n",
      "362:\tlearn: 0.3101882\ttotal: 1m 41s\tremaining: 2m 58s\n",
      "363:\tlearn: 0.3098906\ttotal: 1m 42s\tremaining: 2m 58s\n",
      "364:\tlearn: 0.3095142\ttotal: 1m 42s\tremaining: 2m 58s\n",
      "365:\tlearn: 0.3091460\ttotal: 1m 42s\tremaining: 2m 57s\n",
      "366:\tlearn: 0.3088561\ttotal: 1m 42s\tremaining: 2m 57s\n",
      "367:\tlearn: 0.3086155\ttotal: 1m 43s\tremaining: 2m 57s\n",
      "368:\tlearn: 0.3083019\ttotal: 1m 43s\tremaining: 2m 57s\n",
      "369:\tlearn: 0.3080609\ttotal: 1m 43s\tremaining: 2m 56s\n",
      "370:\tlearn: 0.3078048\ttotal: 1m 44s\tremaining: 2m 56s\n",
      "371:\tlearn: 0.3075050\ttotal: 1m 44s\tremaining: 2m 56s\n",
      "372:\tlearn: 0.3073037\ttotal: 1m 44s\tremaining: 2m 55s\n",
      "373:\tlearn: 0.3071252\ttotal: 1m 44s\tremaining: 2m 55s\n",
      "374:\tlearn: 0.3068542\ttotal: 1m 45s\tremaining: 2m 55s\n",
      "375:\tlearn: 0.3064223\ttotal: 1m 45s\tremaining: 2m 55s\n",
      "376:\tlearn: 0.3062216\ttotal: 1m 45s\tremaining: 2m 54s\n",
      "377:\tlearn: 0.3059232\ttotal: 1m 46s\tremaining: 2m 54s\n",
      "378:\tlearn: 0.3057416\ttotal: 1m 46s\tremaining: 2m 54s\n",
      "379:\tlearn: 0.3055290\ttotal: 1m 46s\tremaining: 2m 53s\n",
      "380:\tlearn: 0.3052391\ttotal: 1m 46s\tremaining: 2m 53s\n",
      "381:\tlearn: 0.3049928\ttotal: 1m 47s\tremaining: 2m 53s\n",
      "382:\tlearn: 0.3047946\ttotal: 1m 47s\tremaining: 2m 53s\n",
      "383:\tlearn: 0.3046168\ttotal: 1m 47s\tremaining: 2m 52s\n",
      "384:\tlearn: 0.3043873\ttotal: 1m 48s\tremaining: 2m 52s\n",
      "385:\tlearn: 0.3040864\ttotal: 1m 48s\tremaining: 2m 52s\n",
      "386:\tlearn: 0.3038862\ttotal: 1m 48s\tremaining: 2m 52s\n",
      "387:\tlearn: 0.3036965\ttotal: 1m 48s\tremaining: 2m 51s\n",
      "388:\tlearn: 0.3035352\ttotal: 1m 49s\tremaining: 2m 51s\n",
      "389:\tlearn: 0.3033592\ttotal: 1m 49s\tremaining: 2m 51s\n",
      "390:\tlearn: 0.3031895\ttotal: 1m 49s\tremaining: 2m 50s\n",
      "391:\tlearn: 0.3028906\ttotal: 1m 50s\tremaining: 2m 50s\n",
      "392:\tlearn: 0.3026808\ttotal: 1m 50s\tremaining: 2m 50s\n",
      "393:\tlearn: 0.3024762\ttotal: 1m 50s\tremaining: 2m 50s\n",
      "394:\tlearn: 0.3020855\ttotal: 1m 50s\tremaining: 2m 49s\n",
      "395:\tlearn: 0.3017987\ttotal: 1m 51s\tremaining: 2m 49s\n",
      "396:\tlearn: 0.3016096\ttotal: 1m 51s\tremaining: 2m 49s\n",
      "397:\tlearn: 0.3012876\ttotal: 1m 51s\tremaining: 2m 49s\n",
      "398:\tlearn: 0.3010851\ttotal: 1m 52s\tremaining: 2m 48s\n",
      "399:\tlearn: 0.3009034\ttotal: 1m 52s\tremaining: 2m 48s\n",
      "400:\tlearn: 0.3006521\ttotal: 1m 52s\tremaining: 2m 48s\n",
      "401:\tlearn: 0.3004632\ttotal: 1m 52s\tremaining: 2m 47s\n",
      "402:\tlearn: 0.3003730\ttotal: 1m 53s\tremaining: 2m 47s\n",
      "403:\tlearn: 0.3000769\ttotal: 1m 53s\tremaining: 2m 47s\n",
      "404:\tlearn: 0.2999029\ttotal: 1m 53s\tremaining: 2m 47s\n",
      "405:\tlearn: 0.2995283\ttotal: 1m 54s\tremaining: 2m 46s\n",
      "406:\tlearn: 0.2993967\ttotal: 1m 54s\tremaining: 2m 46s\n",
      "407:\tlearn: 0.2992038\ttotal: 1m 54s\tremaining: 2m 46s\n",
      "408:\tlearn: 0.2989197\ttotal: 1m 54s\tremaining: 2m 46s\n",
      "409:\tlearn: 0.2985827\ttotal: 1m 55s\tremaining: 2m 45s\n",
      "410:\tlearn: 0.2982487\ttotal: 1m 55s\tremaining: 2m 45s\n",
      "411:\tlearn: 0.2977441\ttotal: 1m 55s\tremaining: 2m 45s\n",
      "412:\tlearn: 0.2974519\ttotal: 1m 56s\tremaining: 2m 44s\n",
      "413:\tlearn: 0.2972941\ttotal: 1m 56s\tremaining: 2m 44s\n",
      "414:\tlearn: 0.2969366\ttotal: 1m 56s\tremaining: 2m 44s\n",
      "415:\tlearn: 0.2967231\ttotal: 1m 56s\tremaining: 2m 44s\n",
      "416:\tlearn: 0.2965109\ttotal: 1m 57s\tremaining: 2m 43s\n",
      "417:\tlearn: 0.2961982\ttotal: 1m 57s\tremaining: 2m 43s\n",
      "418:\tlearn: 0.2960088\ttotal: 1m 57s\tremaining: 2m 43s\n",
      "419:\tlearn: 0.2957949\ttotal: 1m 57s\tremaining: 2m 42s\n",
      "420:\tlearn: 0.2954106\ttotal: 1m 58s\tremaining: 2m 42s\n",
      "421:\tlearn: 0.2951122\ttotal: 1m 58s\tremaining: 2m 42s\n",
      "422:\tlearn: 0.2949507\ttotal: 1m 58s\tremaining: 2m 42s\n",
      "423:\tlearn: 0.2945357\ttotal: 1m 59s\tremaining: 2m 41s\n",
      "424:\tlearn: 0.2942504\ttotal: 1m 59s\tremaining: 2m 41s\n",
      "425:\tlearn: 0.2940686\ttotal: 1m 59s\tremaining: 2m 41s\n",
      "426:\tlearn: 0.2938633\ttotal: 1m 59s\tremaining: 2m 40s\n",
      "427:\tlearn: 0.2936440\ttotal: 2m\tremaining: 2m 40s\n",
      "428:\tlearn: 0.2933639\ttotal: 2m\tremaining: 2m 40s\n",
      "429:\tlearn: 0.2931572\ttotal: 2m\tremaining: 2m 40s\n",
      "430:\tlearn: 0.2930225\ttotal: 2m 1s\tremaining: 2m 39s\n",
      "431:\tlearn: 0.2927703\ttotal: 2m 1s\tremaining: 2m 39s\n",
      "432:\tlearn: 0.2926146\ttotal: 2m 1s\tremaining: 2m 39s\n",
      "433:\tlearn: 0.2923220\ttotal: 2m 1s\tremaining: 2m 38s\n",
      "434:\tlearn: 0.2921043\ttotal: 2m 2s\tremaining: 2m 38s\n",
      "435:\tlearn: 0.2918298\ttotal: 2m 2s\tremaining: 2m 38s\n",
      "436:\tlearn: 0.2916544\ttotal: 2m 2s\tremaining: 2m 38s\n",
      "437:\tlearn: 0.2914002\ttotal: 2m 3s\tremaining: 2m 37s\n",
      "438:\tlearn: 0.2911235\ttotal: 2m 3s\tremaining: 2m 37s\n",
      "439:\tlearn: 0.2909655\ttotal: 2m 3s\tremaining: 2m 37s\n",
      "440:\tlearn: 0.2907365\ttotal: 2m 3s\tremaining: 2m 37s\n",
      "441:\tlearn: 0.2904235\ttotal: 2m 4s\tremaining: 2m 36s\n",
      "442:\tlearn: 0.2902119\ttotal: 2m 4s\tremaining: 2m 36s\n",
      "443:\tlearn: 0.2899976\ttotal: 2m 4s\tremaining: 2m 36s\n",
      "444:\tlearn: 0.2898824\ttotal: 2m 5s\tremaining: 2m 35s\n",
      "445:\tlearn: 0.2897057\ttotal: 2m 5s\tremaining: 2m 35s\n",
      "446:\tlearn: 0.2895674\ttotal: 2m 5s\tremaining: 2m 35s\n",
      "447:\tlearn: 0.2892785\ttotal: 2m 5s\tremaining: 2m 35s\n",
      "448:\tlearn: 0.2891450\ttotal: 2m 6s\tremaining: 2m 34s\n",
      "449:\tlearn: 0.2889422\ttotal: 2m 6s\tremaining: 2m 34s\n",
      "450:\tlearn: 0.2887842\ttotal: 2m 6s\tremaining: 2m 34s\n",
      "451:\tlearn: 0.2886651\ttotal: 2m 6s\tremaining: 2m 33s\n",
      "452:\tlearn: 0.2885136\ttotal: 2m 7s\tremaining: 2m 33s\n",
      "453:\tlearn: 0.2881368\ttotal: 2m 7s\tremaining: 2m 33s\n",
      "454:\tlearn: 0.2878985\ttotal: 2m 7s\tremaining: 2m 33s\n",
      "455:\tlearn: 0.2877690\ttotal: 2m 8s\tremaining: 2m 32s\n",
      "456:\tlearn: 0.2876045\ttotal: 2m 8s\tremaining: 2m 32s\n",
      "457:\tlearn: 0.2873058\ttotal: 2m 8s\tremaining: 2m 32s\n",
      "458:\tlearn: 0.2871897\ttotal: 2m 8s\tremaining: 2m 31s\n",
      "459:\tlearn: 0.2868607\ttotal: 2m 9s\tremaining: 2m 31s\n",
      "460:\tlearn: 0.2866692\ttotal: 2m 9s\tremaining: 2m 31s\n",
      "461:\tlearn: 0.2864891\ttotal: 2m 9s\tremaining: 2m 31s\n",
      "462:\tlearn: 0.2862998\ttotal: 2m 10s\tremaining: 2m 30s\n",
      "463:\tlearn: 0.2861605\ttotal: 2m 10s\tremaining: 2m 30s\n",
      "464:\tlearn: 0.2859665\ttotal: 2m 10s\tremaining: 2m 30s\n",
      "465:\tlearn: 0.2858930\ttotal: 2m 10s\tremaining: 2m 30s\n",
      "466:\tlearn: 0.2857809\ttotal: 2m 11s\tremaining: 2m 29s\n",
      "467:\tlearn: 0.2855074\ttotal: 2m 11s\tremaining: 2m 29s\n",
      "468:\tlearn: 0.2853489\ttotal: 2m 11s\tremaining: 2m 29s\n",
      "469:\tlearn: 0.2849873\ttotal: 2m 12s\tremaining: 2m 28s\n",
      "470:\tlearn: 0.2846535\ttotal: 2m 12s\tremaining: 2m 28s\n",
      "471:\tlearn: 0.2845911\ttotal: 2m 12s\tremaining: 2m 28s\n",
      "472:\tlearn: 0.2844227\ttotal: 2m 12s\tremaining: 2m 28s\n",
      "473:\tlearn: 0.2842342\ttotal: 2m 13s\tremaining: 2m 27s\n",
      "474:\tlearn: 0.2839185\ttotal: 2m 13s\tremaining: 2m 27s\n",
      "475:\tlearn: 0.2835726\ttotal: 2m 13s\tremaining: 2m 27s\n",
      "476:\tlearn: 0.2834439\ttotal: 2m 14s\tremaining: 2m 26s\n",
      "477:\tlearn: 0.2832254\ttotal: 2m 14s\tremaining: 2m 26s\n",
      "478:\tlearn: 0.2830820\ttotal: 2m 14s\tremaining: 2m 26s\n",
      "479:\tlearn: 0.2829320\ttotal: 2m 14s\tremaining: 2m 26s\n",
      "480:\tlearn: 0.2826865\ttotal: 2m 15s\tremaining: 2m 25s\n",
      "481:\tlearn: 0.2824208\ttotal: 2m 15s\tremaining: 2m 25s\n",
      "482:\tlearn: 0.2822987\ttotal: 2m 15s\tremaining: 2m 25s\n",
      "483:\tlearn: 0.2822273\ttotal: 2m 15s\tremaining: 2m 24s\n",
      "484:\tlearn: 0.2819739\ttotal: 2m 16s\tremaining: 2m 24s\n",
      "485:\tlearn: 0.2817347\ttotal: 2m 16s\tremaining: 2m 24s\n",
      "486:\tlearn: 0.2816272\ttotal: 2m 16s\tremaining: 2m 24s\n",
      "487:\tlearn: 0.2815151\ttotal: 2m 17s\tremaining: 2m 23s\n",
      "488:\tlearn: 0.2812849\ttotal: 2m 17s\tremaining: 2m 23s\n",
      "489:\tlearn: 0.2811589\ttotal: 2m 17s\tremaining: 2m 23s\n",
      "490:\tlearn: 0.2809791\ttotal: 2m 17s\tremaining: 2m 22s\n",
      "491:\tlearn: 0.2808835\ttotal: 2m 18s\tremaining: 2m 22s\n",
      "492:\tlearn: 0.2807078\ttotal: 2m 18s\tremaining: 2m 22s\n",
      "493:\tlearn: 0.2805731\ttotal: 2m 18s\tremaining: 2m 22s\n",
      "494:\tlearn: 0.2802905\ttotal: 2m 19s\tremaining: 2m 21s\n",
      "495:\tlearn: 0.2801006\ttotal: 2m 19s\tremaining: 2m 21s\n",
      "496:\tlearn: 0.2799706\ttotal: 2m 19s\tremaining: 2m 21s\n",
      "497:\tlearn: 0.2797314\ttotal: 2m 19s\tremaining: 2m 21s\n",
      "498:\tlearn: 0.2796663\ttotal: 2m 20s\tremaining: 2m 20s\n",
      "499:\tlearn: 0.2796045\ttotal: 2m 20s\tremaining: 2m 20s\n",
      "500:\tlearn: 0.2794674\ttotal: 2m 20s\tremaining: 2m 20s\n",
      "501:\tlearn: 0.2793786\ttotal: 2m 20s\tremaining: 2m 19s\n",
      "502:\tlearn: 0.2792186\ttotal: 2m 21s\tremaining: 2m 19s\n",
      "503:\tlearn: 0.2790669\ttotal: 2m 21s\tremaining: 2m 19s\n",
      "504:\tlearn: 0.2789926\ttotal: 2m 21s\tremaining: 2m 19s\n",
      "505:\tlearn: 0.2788316\ttotal: 2m 22s\tremaining: 2m 18s\n",
      "506:\tlearn: 0.2786323\ttotal: 2m 22s\tremaining: 2m 18s\n",
      "507:\tlearn: 0.2782343\ttotal: 2m 22s\tremaining: 2m 18s\n",
      "508:\tlearn: 0.2780946\ttotal: 2m 22s\tremaining: 2m 17s\n",
      "509:\tlearn: 0.2778853\ttotal: 2m 23s\tremaining: 2m 17s\n",
      "510:\tlearn: 0.2778089\ttotal: 2m 23s\tremaining: 2m 17s\n",
      "511:\tlearn: 0.2776299\ttotal: 2m 23s\tremaining: 2m 17s\n",
      "512:\tlearn: 0.2774601\ttotal: 2m 24s\tremaining: 2m 16s\n",
      "513:\tlearn: 0.2771840\ttotal: 2m 24s\tremaining: 2m 16s\n",
      "514:\tlearn: 0.2770740\ttotal: 2m 24s\tremaining: 2m 16s\n",
      "515:\tlearn: 0.2767852\ttotal: 2m 24s\tremaining: 2m 15s\n",
      "516:\tlearn: 0.2763727\ttotal: 2m 25s\tremaining: 2m 15s\n",
      "517:\tlearn: 0.2761620\ttotal: 2m 25s\tremaining: 2m 15s\n",
      "518:\tlearn: 0.2759530\ttotal: 2m 25s\tremaining: 2m 15s\n",
      "519:\tlearn: 0.2758783\ttotal: 2m 26s\tremaining: 2m 14s\n",
      "520:\tlearn: 0.2757686\ttotal: 2m 26s\tremaining: 2m 14s\n",
      "521:\tlearn: 0.2756430\ttotal: 2m 26s\tremaining: 2m 14s\n",
      "522:\tlearn: 0.2754196\ttotal: 2m 26s\tremaining: 2m 13s\n",
      "523:\tlearn: 0.2752828\ttotal: 2m 27s\tremaining: 2m 13s\n",
      "524:\tlearn: 0.2751827\ttotal: 2m 27s\tremaining: 2m 13s\n",
      "525:\tlearn: 0.2750612\ttotal: 2m 27s\tremaining: 2m 13s\n",
      "526:\tlearn: 0.2748025\ttotal: 2m 27s\tremaining: 2m 12s\n",
      "527:\tlearn: 0.2746268\ttotal: 2m 28s\tremaining: 2m 12s\n",
      "528:\tlearn: 0.2745449\ttotal: 2m 28s\tremaining: 2m 12s\n",
      "529:\tlearn: 0.2743130\ttotal: 2m 28s\tremaining: 2m 11s\n",
      "530:\tlearn: 0.2742504\ttotal: 2m 29s\tremaining: 2m 11s\n",
      "531:\tlearn: 0.2740672\ttotal: 2m 29s\tremaining: 2m 11s\n",
      "532:\tlearn: 0.2738324\ttotal: 2m 29s\tremaining: 2m 11s\n",
      "533:\tlearn: 0.2737204\ttotal: 2m 29s\tremaining: 2m 10s\n",
      "534:\tlearn: 0.2733171\ttotal: 2m 30s\tremaining: 2m 10s\n",
      "535:\tlearn: 0.2729824\ttotal: 2m 30s\tremaining: 2m 10s\n",
      "536:\tlearn: 0.2726236\ttotal: 2m 30s\tremaining: 2m 9s\n",
      "537:\tlearn: 0.2725677\ttotal: 2m 31s\tremaining: 2m 9s\n",
      "538:\tlearn: 0.2724355\ttotal: 2m 31s\tremaining: 2m 9s\n",
      "539:\tlearn: 0.2721271\ttotal: 2m 31s\tremaining: 2m 9s\n",
      "540:\tlearn: 0.2719129\ttotal: 2m 31s\tremaining: 2m 8s\n",
      "541:\tlearn: 0.2716541\ttotal: 2m 32s\tremaining: 2m 8s\n",
      "542:\tlearn: 0.2714644\ttotal: 2m 32s\tremaining: 2m 8s\n",
      "543:\tlearn: 0.2711799\ttotal: 2m 32s\tremaining: 2m 8s\n",
      "544:\tlearn: 0.2709872\ttotal: 2m 33s\tremaining: 2m 7s\n",
      "545:\tlearn: 0.2708104\ttotal: 2m 33s\tremaining: 2m 7s\n",
      "546:\tlearn: 0.2706727\ttotal: 2m 33s\tremaining: 2m 7s\n",
      "547:\tlearn: 0.2705237\ttotal: 2m 33s\tremaining: 2m 6s\n",
      "548:\tlearn: 0.2703942\ttotal: 2m 34s\tremaining: 2m 6s\n",
      "549:\tlearn: 0.2702007\ttotal: 2m 34s\tremaining: 2m 6s\n",
      "550:\tlearn: 0.2699721\ttotal: 2m 34s\tremaining: 2m 6s\n",
      "551:\tlearn: 0.2697361\ttotal: 2m 35s\tremaining: 2m 5s\n",
      "552:\tlearn: 0.2696175\ttotal: 2m 35s\tremaining: 2m 5s\n",
      "553:\tlearn: 0.2694628\ttotal: 2m 35s\tremaining: 2m 5s\n",
      "554:\tlearn: 0.2692573\ttotal: 2m 35s\tremaining: 2m 4s\n",
      "555:\tlearn: 0.2691430\ttotal: 2m 36s\tremaining: 2m 4s\n",
      "556:\tlearn: 0.2689134\ttotal: 2m 36s\tremaining: 2m 4s\n",
      "557:\tlearn: 0.2685936\ttotal: 2m 36s\tremaining: 2m 4s\n",
      "558:\tlearn: 0.2683426\ttotal: 2m 37s\tremaining: 2m 3s\n",
      "559:\tlearn: 0.2679711\ttotal: 2m 37s\tremaining: 2m 3s\n",
      "560:\tlearn: 0.2678856\ttotal: 2m 37s\tremaining: 2m 3s\n",
      "561:\tlearn: 0.2677458\ttotal: 2m 37s\tremaining: 2m 3s\n",
      "562:\tlearn: 0.2675849\ttotal: 2m 38s\tremaining: 2m 2s\n",
      "563:\tlearn: 0.2673895\ttotal: 2m 38s\tremaining: 2m 2s\n",
      "564:\tlearn: 0.2672360\ttotal: 2m 38s\tremaining: 2m 2s\n",
      "565:\tlearn: 0.2671065\ttotal: 2m 38s\tremaining: 2m 1s\n",
      "566:\tlearn: 0.2669640\ttotal: 2m 39s\tremaining: 2m 1s\n",
      "567:\tlearn: 0.2668571\ttotal: 2m 39s\tremaining: 2m 1s\n",
      "568:\tlearn: 0.2666660\ttotal: 2m 39s\tremaining: 2m 1s\n",
      "569:\tlearn: 0.2664615\ttotal: 2m 40s\tremaining: 2m\n",
      "570:\tlearn: 0.2663490\ttotal: 2m 40s\tremaining: 2m\n",
      "571:\tlearn: 0.2660743\ttotal: 2m 40s\tremaining: 2m\n",
      "572:\tlearn: 0.2659744\ttotal: 2m 40s\tremaining: 1m 59s\n",
      "573:\tlearn: 0.2658260\ttotal: 2m 41s\tremaining: 1m 59s\n",
      "574:\tlearn: 0.2655513\ttotal: 2m 41s\tremaining: 1m 59s\n",
      "575:\tlearn: 0.2653490\ttotal: 2m 41s\tremaining: 1m 59s\n",
      "576:\tlearn: 0.2652484\ttotal: 2m 42s\tremaining: 1m 58s\n",
      "577:\tlearn: 0.2650450\ttotal: 2m 42s\tremaining: 1m 58s\n",
      "578:\tlearn: 0.2648178\ttotal: 2m 42s\tremaining: 1m 58s\n",
      "579:\tlearn: 0.2646663\ttotal: 2m 42s\tremaining: 1m 57s\n",
      "580:\tlearn: 0.2645546\ttotal: 2m 43s\tremaining: 1m 57s\n",
      "581:\tlearn: 0.2643373\ttotal: 2m 43s\tremaining: 1m 57s\n",
      "582:\tlearn: 0.2642132\ttotal: 2m 43s\tremaining: 1m 57s\n",
      "583:\tlearn: 0.2639548\ttotal: 2m 43s\tremaining: 1m 56s\n",
      "584:\tlearn: 0.2637585\ttotal: 2m 44s\tremaining: 1m 56s\n",
      "585:\tlearn: 0.2635544\ttotal: 2m 44s\tremaining: 1m 56s\n",
      "586:\tlearn: 0.2634279\ttotal: 2m 44s\tremaining: 1m 55s\n",
      "587:\tlearn: 0.2630183\ttotal: 2m 45s\tremaining: 1m 55s\n",
      "588:\tlearn: 0.2629119\ttotal: 2m 45s\tremaining: 1m 55s\n",
      "589:\tlearn: 0.2627289\ttotal: 2m 45s\tremaining: 1m 55s\n",
      "590:\tlearn: 0.2626173\ttotal: 2m 45s\tremaining: 1m 54s\n",
      "591:\tlearn: 0.2624726\ttotal: 2m 46s\tremaining: 1m 54s\n",
      "592:\tlearn: 0.2622017\ttotal: 2m 46s\tremaining: 1m 54s\n",
      "593:\tlearn: 0.2620447\ttotal: 2m 46s\tremaining: 1m 54s\n",
      "594:\tlearn: 0.2618280\ttotal: 2m 47s\tremaining: 1m 53s\n",
      "595:\tlearn: 0.2616252\ttotal: 2m 47s\tremaining: 1m 53s\n",
      "596:\tlearn: 0.2613258\ttotal: 2m 47s\tremaining: 1m 53s\n",
      "597:\tlearn: 0.2611304\ttotal: 2m 47s\tremaining: 1m 52s\n",
      "598:\tlearn: 0.2608693\ttotal: 2m 48s\tremaining: 1m 52s\n",
      "599:\tlearn: 0.2606731\ttotal: 2m 48s\tremaining: 1m 52s\n",
      "600:\tlearn: 0.2605845\ttotal: 2m 48s\tremaining: 1m 52s\n",
      "601:\tlearn: 0.2603506\ttotal: 2m 49s\tremaining: 1m 51s\n",
      "602:\tlearn: 0.2600448\ttotal: 2m 49s\tremaining: 1m 51s\n",
      "603:\tlearn: 0.2599200\ttotal: 2m 49s\tremaining: 1m 51s\n",
      "604:\tlearn: 0.2597414\ttotal: 2m 49s\tremaining: 1m 50s\n",
      "605:\tlearn: 0.2595162\ttotal: 2m 50s\tremaining: 1m 50s\n",
      "606:\tlearn: 0.2594320\ttotal: 2m 50s\tremaining: 1m 50s\n",
      "607:\tlearn: 0.2593025\ttotal: 2m 50s\tremaining: 1m 50s\n",
      "608:\tlearn: 0.2589983\ttotal: 2m 51s\tremaining: 1m 49s\n",
      "609:\tlearn: 0.2587685\ttotal: 2m 51s\tremaining: 1m 49s\n",
      "610:\tlearn: 0.2586913\ttotal: 2m 51s\tremaining: 1m 49s\n",
      "611:\tlearn: 0.2584920\ttotal: 2m 51s\tremaining: 1m 48s\n",
      "612:\tlearn: 0.2584018\ttotal: 2m 52s\tremaining: 1m 48s\n",
      "613:\tlearn: 0.2581819\ttotal: 2m 52s\tremaining: 1m 48s\n",
      "614:\tlearn: 0.2580167\ttotal: 2m 52s\tremaining: 1m 48s\n",
      "615:\tlearn: 0.2578023\ttotal: 2m 53s\tremaining: 1m 47s\n",
      "616:\tlearn: 0.2577122\ttotal: 2m 53s\tremaining: 1m 47s\n",
      "617:\tlearn: 0.2575671\ttotal: 2m 53s\tremaining: 1m 47s\n",
      "618:\tlearn: 0.2572538\ttotal: 2m 53s\tremaining: 1m 47s\n",
      "619:\tlearn: 0.2571801\ttotal: 2m 54s\tremaining: 1m 46s\n",
      "620:\tlearn: 0.2571059\ttotal: 2m 54s\tremaining: 1m 46s\n",
      "621:\tlearn: 0.2569046\ttotal: 2m 54s\tremaining: 1m 46s\n",
      "622:\tlearn: 0.2567979\ttotal: 2m 54s\tremaining: 1m 45s\n",
      "623:\tlearn: 0.2566604\ttotal: 2m 55s\tremaining: 1m 45s\n",
      "624:\tlearn: 0.2565773\ttotal: 2m 55s\tremaining: 1m 45s\n",
      "625:\tlearn: 0.2564919\ttotal: 2m 55s\tremaining: 1m 45s\n",
      "626:\tlearn: 0.2562919\ttotal: 2m 56s\tremaining: 1m 44s\n",
      "627:\tlearn: 0.2561162\ttotal: 2m 56s\tremaining: 1m 44s\n",
      "628:\tlearn: 0.2559504\ttotal: 2m 56s\tremaining: 1m 44s\n",
      "629:\tlearn: 0.2557569\ttotal: 2m 56s\tremaining: 1m 43s\n",
      "630:\tlearn: 0.2556868\ttotal: 2m 57s\tremaining: 1m 43s\n",
      "631:\tlearn: 0.2555453\ttotal: 2m 57s\tremaining: 1m 43s\n",
      "632:\tlearn: 0.2552189\ttotal: 2m 57s\tremaining: 1m 43s\n",
      "633:\tlearn: 0.2549741\ttotal: 2m 58s\tremaining: 1m 42s\n",
      "634:\tlearn: 0.2549236\ttotal: 2m 58s\tremaining: 1m 42s\n",
      "635:\tlearn: 0.2547871\ttotal: 2m 58s\tremaining: 1m 42s\n",
      "636:\tlearn: 0.2544101\ttotal: 2m 58s\tremaining: 1m 41s\n",
      "637:\tlearn: 0.2541657\ttotal: 2m 59s\tremaining: 1m 41s\n",
      "638:\tlearn: 0.2539982\ttotal: 2m 59s\tremaining: 1m 41s\n",
      "639:\tlearn: 0.2539037\ttotal: 2m 59s\tremaining: 1m 41s\n",
      "640:\tlearn: 0.2537118\ttotal: 3m\tremaining: 1m 40s\n",
      "641:\tlearn: 0.2535091\ttotal: 3m\tremaining: 1m 40s\n",
      "642:\tlearn: 0.2533585\ttotal: 3m\tremaining: 1m 40s\n",
      "643:\tlearn: 0.2532587\ttotal: 3m\tremaining: 1m 40s\n",
      "644:\tlearn: 0.2531096\ttotal: 3m 1s\tremaining: 1m 39s\n",
      "645:\tlearn: 0.2529974\ttotal: 3m 1s\tremaining: 1m 39s\n",
      "646:\tlearn: 0.2528137\ttotal: 3m 1s\tremaining: 1m 39s\n",
      "647:\tlearn: 0.2526362\ttotal: 3m 2s\tremaining: 1m 38s\n",
      "648:\tlearn: 0.2524076\ttotal: 3m 2s\tremaining: 1m 38s\n",
      "649:\tlearn: 0.2521834\ttotal: 3m 2s\tremaining: 1m 38s\n",
      "650:\tlearn: 0.2519748\ttotal: 3m 2s\tremaining: 1m 38s\n",
      "651:\tlearn: 0.2518766\ttotal: 3m 3s\tremaining: 1m 37s\n",
      "652:\tlearn: 0.2517475\ttotal: 3m 3s\tremaining: 1m 37s\n",
      "653:\tlearn: 0.2516039\ttotal: 3m 3s\tremaining: 1m 37s\n",
      "654:\tlearn: 0.2514733\ttotal: 3m 4s\tremaining: 1m 36s\n",
      "655:\tlearn: 0.2513467\ttotal: 3m 4s\tremaining: 1m 36s\n",
      "656:\tlearn: 0.2510401\ttotal: 3m 4s\tremaining: 1m 36s\n",
      "657:\tlearn: 0.2508502\ttotal: 3m 4s\tremaining: 1m 36s\n",
      "658:\tlearn: 0.2507620\ttotal: 3m 5s\tremaining: 1m 35s\n",
      "659:\tlearn: 0.2506842\ttotal: 3m 5s\tremaining: 1m 35s\n",
      "660:\tlearn: 0.2505657\ttotal: 3m 5s\tremaining: 1m 35s\n",
      "661:\tlearn: 0.2504071\ttotal: 3m 6s\tremaining: 1m 34s\n",
      "662:\tlearn: 0.2502103\ttotal: 3m 6s\tremaining: 1m 34s\n",
      "663:\tlearn: 0.2501248\ttotal: 3m 6s\tremaining: 1m 34s\n",
      "664:\tlearn: 0.2500227\ttotal: 3m 6s\tremaining: 1m 34s\n",
      "665:\tlearn: 0.2499418\ttotal: 3m 7s\tremaining: 1m 33s\n",
      "666:\tlearn: 0.2498663\ttotal: 3m 7s\tremaining: 1m 33s\n",
      "667:\tlearn: 0.2496485\ttotal: 3m 7s\tremaining: 1m 33s\n",
      "668:\tlearn: 0.2494742\ttotal: 3m 7s\tremaining: 1m 33s\n",
      "669:\tlearn: 0.2494088\ttotal: 3m 8s\tremaining: 1m 32s\n",
      "670:\tlearn: 0.2491595\ttotal: 3m 8s\tremaining: 1m 32s\n",
      "671:\tlearn: 0.2489789\ttotal: 3m 8s\tremaining: 1m 32s\n",
      "672:\tlearn: 0.2488389\ttotal: 3m 9s\tremaining: 1m 31s\n",
      "673:\tlearn: 0.2486691\ttotal: 3m 9s\tremaining: 1m 31s\n",
      "674:\tlearn: 0.2484039\ttotal: 3m 9s\tremaining: 1m 31s\n",
      "675:\tlearn: 0.2482954\ttotal: 3m 9s\tremaining: 1m 31s\n",
      "676:\tlearn: 0.2481244\ttotal: 3m 10s\tremaining: 1m 30s\n",
      "677:\tlearn: 0.2479304\ttotal: 3m 10s\tremaining: 1m 30s\n",
      "678:\tlearn: 0.2477499\ttotal: 3m 10s\tremaining: 1m 30s\n",
      "679:\tlearn: 0.2477152\ttotal: 3m 11s\tremaining: 1m 29s\n",
      "680:\tlearn: 0.2476572\ttotal: 3m 11s\tremaining: 1m 29s\n",
      "681:\tlearn: 0.2474282\ttotal: 3m 11s\tremaining: 1m 29s\n",
      "682:\tlearn: 0.2473219\ttotal: 3m 11s\tremaining: 1m 29s\n",
      "683:\tlearn: 0.2471634\ttotal: 3m 12s\tremaining: 1m 28s\n",
      "684:\tlearn: 0.2469851\ttotal: 3m 12s\tremaining: 1m 28s\n",
      "685:\tlearn: 0.2467718\ttotal: 3m 12s\tremaining: 1m 28s\n",
      "686:\tlearn: 0.2466122\ttotal: 3m 13s\tremaining: 1m 27s\n",
      "687:\tlearn: 0.2465058\ttotal: 3m 13s\tremaining: 1m 27s\n",
      "688:\tlearn: 0.2463532\ttotal: 3m 13s\tremaining: 1m 27s\n",
      "689:\tlearn: 0.2461640\ttotal: 3m 13s\tremaining: 1m 27s\n",
      "690:\tlearn: 0.2460532\ttotal: 3m 14s\tremaining: 1m 26s\n",
      "691:\tlearn: 0.2459200\ttotal: 3m 14s\tremaining: 1m 26s\n",
      "692:\tlearn: 0.2458173\ttotal: 3m 14s\tremaining: 1m 26s\n",
      "693:\tlearn: 0.2456360\ttotal: 3m 15s\tremaining: 1m 25s\n",
      "694:\tlearn: 0.2453733\ttotal: 3m 15s\tremaining: 1m 25s\n",
      "695:\tlearn: 0.2452237\ttotal: 3m 15s\tremaining: 1m 25s\n",
      "696:\tlearn: 0.2450848\ttotal: 3m 15s\tremaining: 1m 25s\n",
      "697:\tlearn: 0.2450096\ttotal: 3m 16s\tremaining: 1m 24s\n",
      "698:\tlearn: 0.2447744\ttotal: 3m 16s\tremaining: 1m 24s\n",
      "699:\tlearn: 0.2446628\ttotal: 3m 16s\tremaining: 1m 24s\n",
      "700:\tlearn: 0.2445696\ttotal: 3m 16s\tremaining: 1m 24s\n",
      "701:\tlearn: 0.2444437\ttotal: 3m 17s\tremaining: 1m 23s\n",
      "702:\tlearn: 0.2442784\ttotal: 3m 17s\tremaining: 1m 23s\n",
      "703:\tlearn: 0.2442064\ttotal: 3m 17s\tremaining: 1m 23s\n",
      "704:\tlearn: 0.2440952\ttotal: 3m 18s\tremaining: 1m 22s\n",
      "705:\tlearn: 0.2439614\ttotal: 3m 18s\tremaining: 1m 22s\n",
      "706:\tlearn: 0.2438242\ttotal: 3m 18s\tremaining: 1m 22s\n",
      "707:\tlearn: 0.2436868\ttotal: 3m 18s\tremaining: 1m 22s\n",
      "708:\tlearn: 0.2435486\ttotal: 3m 19s\tremaining: 1m 21s\n",
      "709:\tlearn: 0.2433120\ttotal: 3m 19s\tremaining: 1m 21s\n",
      "710:\tlearn: 0.2432403\ttotal: 3m 19s\tremaining: 1m 21s\n",
      "711:\tlearn: 0.2431166\ttotal: 3m 20s\tremaining: 1m 20s\n",
      "712:\tlearn: 0.2430565\ttotal: 3m 20s\tremaining: 1m 20s\n",
      "713:\tlearn: 0.2429185\ttotal: 3m 20s\tremaining: 1m 20s\n",
      "714:\tlearn: 0.2427238\ttotal: 3m 20s\tremaining: 1m 20s\n",
      "715:\tlearn: 0.2424529\ttotal: 3m 21s\tremaining: 1m 19s\n",
      "716:\tlearn: 0.2421871\ttotal: 3m 21s\tremaining: 1m 19s\n",
      "717:\tlearn: 0.2420642\ttotal: 3m 21s\tremaining: 1m 19s\n",
      "718:\tlearn: 0.2419190\ttotal: 3m 22s\tremaining: 1m 18s\n",
      "719:\tlearn: 0.2416516\ttotal: 3m 22s\tremaining: 1m 18s\n",
      "720:\tlearn: 0.2414758\ttotal: 3m 22s\tremaining: 1m 18s\n",
      "721:\tlearn: 0.2413025\ttotal: 3m 22s\tremaining: 1m 18s\n",
      "722:\tlearn: 0.2411797\ttotal: 3m 23s\tremaining: 1m 17s\n",
      "723:\tlearn: 0.2410709\ttotal: 3m 23s\tremaining: 1m 17s\n",
      "724:\tlearn: 0.2408951\ttotal: 3m 23s\tremaining: 1m 17s\n",
      "725:\tlearn: 0.2406610\ttotal: 3m 24s\tremaining: 1m 16s\n",
      "726:\tlearn: 0.2404625\ttotal: 3m 24s\tremaining: 1m 16s\n",
      "727:\tlearn: 0.2402050\ttotal: 3m 24s\tremaining: 1m 16s\n",
      "728:\tlearn: 0.2400937\ttotal: 3m 24s\tremaining: 1m 16s\n",
      "729:\tlearn: 0.2399061\ttotal: 3m 25s\tremaining: 1m 15s\n",
      "730:\tlearn: 0.2397277\ttotal: 3m 25s\tremaining: 1m 15s\n",
      "731:\tlearn: 0.2395857\ttotal: 3m 25s\tremaining: 1m 15s\n",
      "732:\tlearn: 0.2393483\ttotal: 3m 26s\tremaining: 1m 15s\n",
      "733:\tlearn: 0.2392682\ttotal: 3m 26s\tremaining: 1m 14s\n",
      "734:\tlearn: 0.2391885\ttotal: 3m 26s\tremaining: 1m 14s\n",
      "735:\tlearn: 0.2390912\ttotal: 3m 26s\tremaining: 1m 14s\n",
      "736:\tlearn: 0.2387826\ttotal: 3m 27s\tremaining: 1m 13s\n",
      "737:\tlearn: 0.2386662\ttotal: 3m 27s\tremaining: 1m 13s\n",
      "738:\tlearn: 0.2386220\ttotal: 3m 27s\tremaining: 1m 13s\n",
      "739:\tlearn: 0.2384568\ttotal: 3m 27s\tremaining: 1m 13s\n",
      "740:\tlearn: 0.2383848\ttotal: 3m 28s\tremaining: 1m 12s\n",
      "741:\tlearn: 0.2380650\ttotal: 3m 28s\tremaining: 1m 12s\n",
      "742:\tlearn: 0.2379642\ttotal: 3m 28s\tremaining: 1m 12s\n",
      "743:\tlearn: 0.2378527\ttotal: 3m 29s\tremaining: 1m 11s\n",
      "744:\tlearn: 0.2378022\ttotal: 3m 29s\tremaining: 1m 11s\n",
      "745:\tlearn: 0.2376339\ttotal: 3m 29s\tremaining: 1m 11s\n",
      "746:\tlearn: 0.2375134\ttotal: 3m 29s\tremaining: 1m 11s\n",
      "747:\tlearn: 0.2373870\ttotal: 3m 30s\tremaining: 1m 10s\n",
      "748:\tlearn: 0.2372479\ttotal: 3m 30s\tremaining: 1m 10s\n",
      "749:\tlearn: 0.2370760\ttotal: 3m 30s\tremaining: 1m 10s\n",
      "750:\tlearn: 0.2370104\ttotal: 3m 31s\tremaining: 1m 9s\n",
      "751:\tlearn: 0.2369353\ttotal: 3m 31s\tremaining: 1m 9s\n",
      "752:\tlearn: 0.2368613\ttotal: 3m 31s\tremaining: 1m 9s\n",
      "753:\tlearn: 0.2367175\ttotal: 3m 31s\tremaining: 1m 9s\n",
      "754:\tlearn: 0.2365828\ttotal: 3m 32s\tremaining: 1m 8s\n",
      "755:\tlearn: 0.2365219\ttotal: 3m 32s\tremaining: 1m 8s\n",
      "756:\tlearn: 0.2364289\ttotal: 3m 32s\tremaining: 1m 8s\n",
      "757:\tlearn: 0.2363034\ttotal: 3m 33s\tremaining: 1m 8s\n",
      "758:\tlearn: 0.2361925\ttotal: 3m 33s\tremaining: 1m 7s\n",
      "759:\tlearn: 0.2361217\ttotal: 3m 33s\tremaining: 1m 7s\n",
      "760:\tlearn: 0.2360031\ttotal: 3m 33s\tremaining: 1m 7s\n",
      "761:\tlearn: 0.2358326\ttotal: 3m 34s\tremaining: 1m 6s\n",
      "762:\tlearn: 0.2355971\ttotal: 3m 34s\tremaining: 1m 6s\n",
      "763:\tlearn: 0.2354165\ttotal: 3m 34s\tremaining: 1m 6s\n",
      "764:\tlearn: 0.2352442\ttotal: 3m 35s\tremaining: 1m 6s\n",
      "765:\tlearn: 0.2350451\ttotal: 3m 35s\tremaining: 1m 5s\n",
      "766:\tlearn: 0.2348966\ttotal: 3m 35s\tremaining: 1m 5s\n",
      "767:\tlearn: 0.2347905\ttotal: 3m 35s\tremaining: 1m 5s\n",
      "768:\tlearn: 0.2347037\ttotal: 3m 36s\tremaining: 1m 4s\n",
      "769:\tlearn: 0.2346057\ttotal: 3m 36s\tremaining: 1m 4s\n",
      "770:\tlearn: 0.2345277\ttotal: 3m 36s\tremaining: 1m 4s\n",
      "771:\tlearn: 0.2344244\ttotal: 3m 37s\tremaining: 1m 4s\n",
      "772:\tlearn: 0.2343175\ttotal: 3m 37s\tremaining: 1m 3s\n",
      "773:\tlearn: 0.2342241\ttotal: 3m 37s\tremaining: 1m 3s\n",
      "774:\tlearn: 0.2341114\ttotal: 3m 37s\tremaining: 1m 3s\n",
      "775:\tlearn: 0.2340397\ttotal: 3m 38s\tremaining: 1m 2s\n",
      "776:\tlearn: 0.2338838\ttotal: 3m 38s\tremaining: 1m 2s\n",
      "777:\tlearn: 0.2337800\ttotal: 3m 38s\tremaining: 1m 2s\n",
      "778:\tlearn: 0.2336451\ttotal: 3m 38s\tremaining: 1m 2s\n",
      "779:\tlearn: 0.2335256\ttotal: 3m 39s\tremaining: 1m 1s\n",
      "780:\tlearn: 0.2333446\ttotal: 3m 39s\tremaining: 1m 1s\n",
      "781:\tlearn: 0.2332181\ttotal: 3m 39s\tremaining: 1m 1s\n",
      "782:\tlearn: 0.2330955\ttotal: 3m 40s\tremaining: 1m\n",
      "783:\tlearn: 0.2327409\ttotal: 3m 40s\tremaining: 1m\n",
      "784:\tlearn: 0.2326578\ttotal: 3m 40s\tremaining: 1m\n",
      "785:\tlearn: 0.2325618\ttotal: 3m 40s\tremaining: 1m\n",
      "786:\tlearn: 0.2323333\ttotal: 3m 41s\tremaining: 59.9s\n",
      "787:\tlearn: 0.2320143\ttotal: 3m 41s\tremaining: 59.6s\n",
      "788:\tlearn: 0.2319081\ttotal: 3m 41s\tremaining: 59.3s\n",
      "789:\tlearn: 0.2317405\ttotal: 3m 42s\tremaining: 59s\n",
      "790:\tlearn: 0.2316422\ttotal: 3m 42s\tremaining: 58.8s\n",
      "791:\tlearn: 0.2314691\ttotal: 3m 42s\tremaining: 58.5s\n",
      "792:\tlearn: 0.2313530\ttotal: 3m 42s\tremaining: 58.2s\n",
      "793:\tlearn: 0.2312303\ttotal: 3m 43s\tremaining: 57.9s\n",
      "794:\tlearn: 0.2310779\ttotal: 3m 43s\tremaining: 57.6s\n",
      "795:\tlearn: 0.2309600\ttotal: 3m 43s\tremaining: 57.3s\n",
      "796:\tlearn: 0.2307115\ttotal: 3m 44s\tremaining: 57.1s\n",
      "797:\tlearn: 0.2306424\ttotal: 3m 44s\tremaining: 56.8s\n",
      "798:\tlearn: 0.2305721\ttotal: 3m 44s\tremaining: 56.5s\n",
      "799:\tlearn: 0.2305222\ttotal: 3m 44s\tremaining: 56.2s\n",
      "800:\tlearn: 0.2303851\ttotal: 3m 45s\tremaining: 55.9s\n",
      "801:\tlearn: 0.2302438\ttotal: 3m 45s\tremaining: 55.7s\n",
      "802:\tlearn: 0.2299671\ttotal: 3m 45s\tremaining: 55.4s\n",
      "803:\tlearn: 0.2298529\ttotal: 3m 46s\tremaining: 55.1s\n",
      "804:\tlearn: 0.2297497\ttotal: 3m 46s\tremaining: 54.8s\n",
      "805:\tlearn: 0.2296498\ttotal: 3m 46s\tremaining: 54.6s\n",
      "806:\tlearn: 0.2294881\ttotal: 3m 46s\tremaining: 54.3s\n",
      "807:\tlearn: 0.2293692\ttotal: 3m 47s\tremaining: 54s\n",
      "808:\tlearn: 0.2292729\ttotal: 3m 47s\tremaining: 53.7s\n",
      "809:\tlearn: 0.2292160\ttotal: 3m 47s\tremaining: 53.4s\n",
      "810:\tlearn: 0.2290755\ttotal: 3m 48s\tremaining: 53.2s\n",
      "811:\tlearn: 0.2288965\ttotal: 3m 48s\tremaining: 52.9s\n",
      "812:\tlearn: 0.2288405\ttotal: 3m 48s\tremaining: 52.6s\n",
      "813:\tlearn: 0.2286098\ttotal: 3m 49s\tremaining: 52.3s\n",
      "814:\tlearn: 0.2284429\ttotal: 3m 49s\tremaining: 52.1s\n",
      "815:\tlearn: 0.2283338\ttotal: 3m 49s\tremaining: 51.8s\n",
      "816:\tlearn: 0.2282457\ttotal: 3m 49s\tremaining: 51.5s\n",
      "817:\tlearn: 0.2281404\ttotal: 3m 50s\tremaining: 51.2s\n",
      "818:\tlearn: 0.2280607\ttotal: 3m 50s\tremaining: 50.9s\n",
      "819:\tlearn: 0.2279054\ttotal: 3m 50s\tremaining: 50.7s\n",
      "820:\tlearn: 0.2278026\ttotal: 3m 51s\tremaining: 50.4s\n",
      "821:\tlearn: 0.2277323\ttotal: 3m 51s\tremaining: 50.1s\n",
      "822:\tlearn: 0.2275581\ttotal: 3m 51s\tremaining: 49.8s\n",
      "823:\tlearn: 0.2274744\ttotal: 3m 51s\tremaining: 49.5s\n",
      "824:\tlearn: 0.2273206\ttotal: 3m 52s\tremaining: 49.3s\n",
      "825:\tlearn: 0.2272005\ttotal: 3m 52s\tremaining: 49s\n",
      "826:\tlearn: 0.2270677\ttotal: 3m 52s\tremaining: 48.7s\n",
      "827:\tlearn: 0.2269777\ttotal: 3m 53s\tremaining: 48.4s\n",
      "828:\tlearn: 0.2268624\ttotal: 3m 53s\tremaining: 48.1s\n",
      "829:\tlearn: 0.2266265\ttotal: 3m 53s\tremaining: 47.9s\n",
      "830:\tlearn: 0.2265096\ttotal: 3m 53s\tremaining: 47.6s\n",
      "831:\tlearn: 0.2264033\ttotal: 3m 54s\tremaining: 47.3s\n",
      "832:\tlearn: 0.2261930\ttotal: 3m 54s\tremaining: 47s\n",
      "833:\tlearn: 0.2260547\ttotal: 3m 54s\tremaining: 46.7s\n",
      "834:\tlearn: 0.2259424\ttotal: 3m 55s\tremaining: 46.5s\n",
      "835:\tlearn: 0.2258228\ttotal: 3m 55s\tremaining: 46.2s\n",
      "836:\tlearn: 0.2256479\ttotal: 3m 55s\tremaining: 45.9s\n",
      "837:\tlearn: 0.2254737\ttotal: 3m 55s\tremaining: 45.6s\n",
      "838:\tlearn: 0.2253428\ttotal: 3m 56s\tremaining: 45.3s\n",
      "839:\tlearn: 0.2252775\ttotal: 3m 56s\tremaining: 45s\n",
      "840:\tlearn: 0.2251781\ttotal: 3m 56s\tremaining: 44.8s\n",
      "841:\tlearn: 0.2250889\ttotal: 3m 57s\tremaining: 44.5s\n",
      "842:\tlearn: 0.2250159\ttotal: 3m 57s\tremaining: 44.2s\n",
      "843:\tlearn: 0.2249121\ttotal: 3m 57s\tremaining: 43.9s\n",
      "844:\tlearn: 0.2248277\ttotal: 3m 57s\tremaining: 43.6s\n",
      "845:\tlearn: 0.2247103\ttotal: 3m 58s\tremaining: 43.4s\n",
      "846:\tlearn: 0.2246034\ttotal: 3m 58s\tremaining: 43.1s\n",
      "847:\tlearn: 0.2245262\ttotal: 3m 58s\tremaining: 42.8s\n",
      "848:\tlearn: 0.2244360\ttotal: 3m 59s\tremaining: 42.5s\n",
      "849:\tlearn: 0.2243746\ttotal: 3m 59s\tremaining: 42.2s\n",
      "850:\tlearn: 0.2243332\ttotal: 3m 59s\tremaining: 42s\n",
      "851:\tlearn: 0.2241459\ttotal: 3m 59s\tremaining: 41.7s\n",
      "852:\tlearn: 0.2239755\ttotal: 4m\tremaining: 41.4s\n",
      "853:\tlearn: 0.2239073\ttotal: 4m\tremaining: 41.1s\n",
      "854:\tlearn: 0.2237990\ttotal: 4m\tremaining: 40.8s\n",
      "855:\tlearn: 0.2236740\ttotal: 4m 1s\tremaining: 40.5s\n",
      "856:\tlearn: 0.2235756\ttotal: 4m 1s\tremaining: 40.3s\n",
      "857:\tlearn: 0.2232869\ttotal: 4m 1s\tremaining: 40s\n",
      "858:\tlearn: 0.2229796\ttotal: 4m 1s\tremaining: 39.7s\n",
      "859:\tlearn: 0.2228501\ttotal: 4m 2s\tremaining: 39.4s\n",
      "860:\tlearn: 0.2227013\ttotal: 4m 2s\tremaining: 39.1s\n",
      "861:\tlearn: 0.2226130\ttotal: 4m 2s\tremaining: 38.9s\n",
      "862:\tlearn: 0.2224944\ttotal: 4m 3s\tremaining: 38.6s\n",
      "863:\tlearn: 0.2222183\ttotal: 4m 3s\tremaining: 38.3s\n",
      "864:\tlearn: 0.2219655\ttotal: 4m 3s\tremaining: 38s\n",
      "865:\tlearn: 0.2219058\ttotal: 4m 3s\tremaining: 37.7s\n",
      "866:\tlearn: 0.2217749\ttotal: 4m 4s\tremaining: 37.5s\n",
      "867:\tlearn: 0.2215962\ttotal: 4m 4s\tremaining: 37.2s\n",
      "868:\tlearn: 0.2214542\ttotal: 4m 4s\tremaining: 36.9s\n",
      "869:\tlearn: 0.2212851\ttotal: 4m 4s\tremaining: 36.6s\n",
      "870:\tlearn: 0.2211278\ttotal: 4m 5s\tremaining: 36.3s\n",
      "871:\tlearn: 0.2209793\ttotal: 4m 5s\tremaining: 36s\n",
      "872:\tlearn: 0.2208713\ttotal: 4m 5s\tremaining: 35.8s\n",
      "873:\tlearn: 0.2207352\ttotal: 4m 6s\tremaining: 35.5s\n",
      "874:\tlearn: 0.2206006\ttotal: 4m 6s\tremaining: 35.2s\n",
      "875:\tlearn: 0.2204101\ttotal: 4m 6s\tremaining: 34.9s\n",
      "876:\tlearn: 0.2201506\ttotal: 4m 6s\tremaining: 34.6s\n",
      "877:\tlearn: 0.2201109\ttotal: 4m 7s\tremaining: 34.4s\n",
      "878:\tlearn: 0.2200017\ttotal: 4m 7s\tremaining: 34.1s\n",
      "879:\tlearn: 0.2199009\ttotal: 4m 7s\tremaining: 33.8s\n",
      "880:\tlearn: 0.2198130\ttotal: 4m 8s\tremaining: 33.5s\n",
      "881:\tlearn: 0.2197587\ttotal: 4m 8s\tremaining: 33.2s\n",
      "882:\tlearn: 0.2196484\ttotal: 4m 8s\tremaining: 33s\n",
      "883:\tlearn: 0.2194221\ttotal: 4m 8s\tremaining: 32.7s\n",
      "884:\tlearn: 0.2193260\ttotal: 4m 9s\tremaining: 32.4s\n",
      "885:\tlearn: 0.2191931\ttotal: 4m 9s\tremaining: 32.1s\n",
      "886:\tlearn: 0.2190584\ttotal: 4m 9s\tremaining: 31.8s\n",
      "887:\tlearn: 0.2189439\ttotal: 4m 10s\tremaining: 31.5s\n",
      "888:\tlearn: 0.2188319\ttotal: 4m 10s\tremaining: 31.3s\n",
      "889:\tlearn: 0.2186571\ttotal: 4m 10s\tremaining: 31s\n",
      "890:\tlearn: 0.2185654\ttotal: 4m 10s\tremaining: 30.7s\n",
      "891:\tlearn: 0.2183663\ttotal: 4m 11s\tremaining: 30.4s\n",
      "892:\tlearn: 0.2182800\ttotal: 4m 11s\tremaining: 30.1s\n",
      "893:\tlearn: 0.2182174\ttotal: 4m 11s\tremaining: 29.9s\n",
      "894:\tlearn: 0.2180688\ttotal: 4m 12s\tremaining: 29.6s\n",
      "895:\tlearn: 0.2179472\ttotal: 4m 12s\tremaining: 29.3s\n",
      "896:\tlearn: 0.2178386\ttotal: 4m 12s\tremaining: 29s\n",
      "897:\tlearn: 0.2177094\ttotal: 4m 12s\tremaining: 28.7s\n",
      "898:\tlearn: 0.2175961\ttotal: 4m 13s\tremaining: 28.4s\n",
      "899:\tlearn: 0.2174846\ttotal: 4m 13s\tremaining: 28.2s\n",
      "900:\tlearn: 0.2174139\ttotal: 4m 13s\tremaining: 27.9s\n",
      "901:\tlearn: 0.2173191\ttotal: 4m 14s\tremaining: 27.6s\n",
      "902:\tlearn: 0.2172787\ttotal: 4m 14s\tremaining: 27.3s\n",
      "903:\tlearn: 0.2172183\ttotal: 4m 14s\tremaining: 27s\n",
      "904:\tlearn: 0.2170949\ttotal: 4m 14s\tremaining: 26.8s\n",
      "905:\tlearn: 0.2169350\ttotal: 4m 15s\tremaining: 26.5s\n",
      "906:\tlearn: 0.2168583\ttotal: 4m 15s\tremaining: 26.2s\n",
      "907:\tlearn: 0.2166634\ttotal: 4m 15s\tremaining: 25.9s\n",
      "908:\tlearn: 0.2165299\ttotal: 4m 15s\tremaining: 25.6s\n",
      "909:\tlearn: 0.2164096\ttotal: 4m 16s\tremaining: 25.3s\n",
      "910:\tlearn: 0.2163308\ttotal: 4m 16s\tremaining: 25.1s\n",
      "911:\tlearn: 0.2162589\ttotal: 4m 16s\tremaining: 24.8s\n",
      "912:\tlearn: 0.2161893\ttotal: 4m 17s\tremaining: 24.5s\n",
      "913:\tlearn: 0.2161196\ttotal: 4m 17s\tremaining: 24.2s\n",
      "914:\tlearn: 0.2159852\ttotal: 4m 17s\tremaining: 23.9s\n",
      "915:\tlearn: 0.2159403\ttotal: 4m 17s\tremaining: 23.7s\n",
      "916:\tlearn: 0.2157829\ttotal: 4m 18s\tremaining: 23.4s\n",
      "917:\tlearn: 0.2156697\ttotal: 4m 18s\tremaining: 23.1s\n",
      "918:\tlearn: 0.2155122\ttotal: 4m 18s\tremaining: 22.8s\n",
      "919:\tlearn: 0.2153852\ttotal: 4m 19s\tremaining: 22.5s\n",
      "920:\tlearn: 0.2153368\ttotal: 4m 19s\tremaining: 22.3s\n",
      "921:\tlearn: 0.2152461\ttotal: 4m 19s\tremaining: 22s\n",
      "922:\tlearn: 0.2150961\ttotal: 4m 19s\tremaining: 21.7s\n",
      "923:\tlearn: 0.2149654\ttotal: 4m 20s\tremaining: 21.4s\n",
      "924:\tlearn: 0.2148258\ttotal: 4m 20s\tremaining: 21.1s\n",
      "925:\tlearn: 0.2147821\ttotal: 4m 20s\tremaining: 20.8s\n",
      "926:\tlearn: 0.2146308\ttotal: 4m 21s\tremaining: 20.6s\n",
      "927:\tlearn: 0.2144904\ttotal: 4m 21s\tremaining: 20.3s\n",
      "928:\tlearn: 0.2144115\ttotal: 4m 21s\tremaining: 20s\n",
      "929:\tlearn: 0.2142908\ttotal: 4m 21s\tremaining: 19.7s\n",
      "930:\tlearn: 0.2141976\ttotal: 4m 22s\tremaining: 19.4s\n",
      "931:\tlearn: 0.2140055\ttotal: 4m 22s\tremaining: 19.2s\n",
      "932:\tlearn: 0.2138522\ttotal: 4m 22s\tremaining: 18.9s\n",
      "933:\tlearn: 0.2137985\ttotal: 4m 23s\tremaining: 18.6s\n",
      "934:\tlearn: 0.2137480\ttotal: 4m 23s\tremaining: 18.3s\n",
      "935:\tlearn: 0.2135869\ttotal: 4m 23s\tremaining: 18s\n",
      "936:\tlearn: 0.2134858\ttotal: 4m 23s\tremaining: 17.7s\n",
      "937:\tlearn: 0.2132997\ttotal: 4m 24s\tremaining: 17.5s\n",
      "938:\tlearn: 0.2131411\ttotal: 4m 24s\tremaining: 17.2s\n",
      "939:\tlearn: 0.2129161\ttotal: 4m 24s\tremaining: 16.9s\n",
      "940:\tlearn: 0.2127309\ttotal: 4m 25s\tremaining: 16.6s\n",
      "941:\tlearn: 0.2126176\ttotal: 4m 25s\tremaining: 16.3s\n",
      "942:\tlearn: 0.2124594\ttotal: 4m 25s\tremaining: 16.1s\n",
      "943:\tlearn: 0.2123478\ttotal: 4m 25s\tremaining: 15.8s\n",
      "944:\tlearn: 0.2122759\ttotal: 4m 26s\tremaining: 15.5s\n",
      "945:\tlearn: 0.2121698\ttotal: 4m 26s\tremaining: 15.2s\n",
      "946:\tlearn: 0.2121223\ttotal: 4m 26s\tremaining: 14.9s\n",
      "947:\tlearn: 0.2120099\ttotal: 4m 27s\tremaining: 14.6s\n",
      "948:\tlearn: 0.2118503\ttotal: 4m 27s\tremaining: 14.4s\n",
      "949:\tlearn: 0.2117483\ttotal: 4m 27s\tremaining: 14.1s\n",
      "950:\tlearn: 0.2115745\ttotal: 4m 27s\tremaining: 13.8s\n",
      "951:\tlearn: 0.2114747\ttotal: 4m 28s\tremaining: 13.5s\n",
      "952:\tlearn: 0.2113714\ttotal: 4m 28s\tremaining: 13.2s\n",
      "953:\tlearn: 0.2112549\ttotal: 4m 28s\tremaining: 13s\n",
      "954:\tlearn: 0.2111566\ttotal: 4m 28s\tremaining: 12.7s\n",
      "955:\tlearn: 0.2110234\ttotal: 4m 29s\tremaining: 12.4s\n",
      "956:\tlearn: 0.2109433\ttotal: 4m 29s\tremaining: 12.1s\n",
      "957:\tlearn: 0.2108041\ttotal: 4m 29s\tremaining: 11.8s\n",
      "958:\tlearn: 0.2107019\ttotal: 4m 30s\tremaining: 11.5s\n",
      "959:\tlearn: 0.2105583\ttotal: 4m 30s\tremaining: 11.3s\n",
      "960:\tlearn: 0.2104504\ttotal: 4m 30s\tremaining: 11s\n",
      "961:\tlearn: 0.2103240\ttotal: 4m 30s\tremaining: 10.7s\n",
      "962:\tlearn: 0.2101326\ttotal: 4m 31s\tremaining: 10.4s\n",
      "963:\tlearn: 0.2100871\ttotal: 4m 31s\tremaining: 10.1s\n",
      "964:\tlearn: 0.2099488\ttotal: 4m 31s\tremaining: 9.86s\n",
      "965:\tlearn: 0.2098828\ttotal: 4m 32s\tremaining: 9.58s\n",
      "966:\tlearn: 0.2097682\ttotal: 4m 32s\tremaining: 9.29s\n",
      "967:\tlearn: 0.2096537\ttotal: 4m 32s\tremaining: 9.01s\n",
      "968:\tlearn: 0.2094935\ttotal: 4m 32s\tremaining: 8.73s\n",
      "969:\tlearn: 0.2094105\ttotal: 4m 33s\tremaining: 8.45s\n",
      "970:\tlearn: 0.2093653\ttotal: 4m 33s\tremaining: 8.17s\n",
      "971:\tlearn: 0.2092225\ttotal: 4m 33s\tremaining: 7.89s\n",
      "972:\tlearn: 0.2091375\ttotal: 4m 34s\tremaining: 7.6s\n",
      "973:\tlearn: 0.2090457\ttotal: 4m 34s\tremaining: 7.32s\n",
      "974:\tlearn: 0.2089427\ttotal: 4m 34s\tremaining: 7.04s\n",
      "975:\tlearn: 0.2086895\ttotal: 4m 34s\tremaining: 6.76s\n",
      "976:\tlearn: 0.2085089\ttotal: 4m 35s\tremaining: 6.48s\n",
      "977:\tlearn: 0.2084183\ttotal: 4m 35s\tremaining: 6.2s\n",
      "978:\tlearn: 0.2083801\ttotal: 4m 35s\tremaining: 5.91s\n",
      "979:\tlearn: 0.2083287\ttotal: 4m 36s\tremaining: 5.63s\n",
      "980:\tlearn: 0.2082081\ttotal: 4m 36s\tremaining: 5.35s\n",
      "981:\tlearn: 0.2081057\ttotal: 4m 36s\tremaining: 5.07s\n",
      "982:\tlearn: 0.2079523\ttotal: 4m 36s\tremaining: 4.79s\n",
      "983:\tlearn: 0.2078315\ttotal: 4m 37s\tremaining: 4.51s\n",
      "984:\tlearn: 0.2077507\ttotal: 4m 37s\tremaining: 4.22s\n",
      "985:\tlearn: 0.2076691\ttotal: 4m 37s\tremaining: 3.94s\n",
      "986:\tlearn: 0.2075041\ttotal: 4m 37s\tremaining: 3.66s\n",
      "987:\tlearn: 0.2073888\ttotal: 4m 38s\tremaining: 3.38s\n",
      "988:\tlearn: 0.2072339\ttotal: 4m 38s\tremaining: 3.1s\n",
      "989:\tlearn: 0.2070781\ttotal: 4m 38s\tremaining: 2.82s\n",
      "990:\tlearn: 0.2070019\ttotal: 4m 39s\tremaining: 2.54s\n",
      "991:\tlearn: 0.2069046\ttotal: 4m 39s\tremaining: 2.25s\n",
      "992:\tlearn: 0.2067729\ttotal: 4m 39s\tremaining: 1.97s\n",
      "993:\tlearn: 0.2066721\ttotal: 4m 40s\tremaining: 1.69s\n",
      "994:\tlearn: 0.2065421\ttotal: 4m 40s\tremaining: 1.41s\n",
      "995:\tlearn: 0.2064877\ttotal: 4m 40s\tremaining: 1.13s\n",
      "996:\tlearn: 0.2064520\ttotal: 4m 40s\tremaining: 845ms\n",
      "997:\tlearn: 0.2063399\ttotal: 4m 41s\tremaining: 563ms\n",
      "998:\tlearn: 0.2062770\ttotal: 4m 41s\tremaining: 282ms\n",
      "999:\tlearn: 0.2061672\ttotal: 4m 41s\tremaining: 0us\n"
     ]
    }
   ],
   "source": [
    "best_q = 0\n",
    "best_model_item = None\n",
    "for l_r, n_t in items:\n",
    "  catboost_model = CatBoostClassifier(learning_rate=l_r, num_trees=n_t)\n",
    "  catboost_model.fit(x_train_transformed, y_train)\n",
    "  ac = accuracy_score(y_test, catboost_model.predict(pca.transform(x_test)))\n",
    "  if ac > best_q:\n",
    "    best_q = ac\n",
    "    best_model_item = (l_r, n_t)"
   ]
  },
  {
   "cell_type": "code",
   "execution_count": 15,
   "metadata": {
    "id": "vYSKosTS6HOd"
   },
   "outputs": [],
   "source": [
    "clfs.append('Catboost')\n",
    "scores.append(best_q)"
   ]
  },
  {
   "cell_type": "code",
   "execution_count": 23,
   "metadata": {
    "id": "x-YFKanJfM9w"
   },
   "outputs": [],
   "source": [
    "num_samples = [60000, 11000, 11000, 60000]\n",
    "time = ['1min 40s', '1min 45s', '1min 54s', '4m 41s']\n",
    "names = ['classifier', 'accuracy', 'time', 'num_samples']"
   ]
  },
  {
   "cell_type": "code",
   "execution_count": 22,
   "metadata": {
    "id": "JcyVqQeSjl_f"
   },
   "outputs": [],
   "source": [
    "table = []\n",
    "for i in range(4):\n",
    "  table.append((clfs[i], scores[i], time[i], num_samples[i]))"
   ]
  },
  {
   "cell_type": "code",
   "execution_count": 25,
   "metadata": {
    "colab": {
     "base_uri": "https://localhost:8080/"
    },
    "id": "aWLAcCZOhDG4",
    "outputId": "efe7c9d3-ba50-426f-adb8-a71a9e11c90e"
   },
   "outputs": [
    {
     "name": "stdout",
     "output_type": "stream",
     "text": [
      "+------------------------------------------------+------------+----------+---------------+\n",
      "| classifier                                     |   accuracy | time     |   num_samples |\n",
      "+================================================+============+==========+===============+\n",
      "| Логистическая регрессия на случайных признаках |     0.86   | 1min 40s |         60000 |\n",
      "+------------------------------------------------+------------+----------+---------------+\n",
      "| Линейный SVM                                   |     0.7908 | 1min 45s |         11000 |\n",
      "+------------------------------------------------+------------+----------+---------------+\n",
      "| Ядровой SVM                                    |     0.8535 | 1min 54s |         11000 |\n",
      "+------------------------------------------------+------------+----------+---------------+\n",
      "| Catboost                                       |     0.8691 | 4m 41s   |         60000 |\n",
      "+------------------------------------------------+------------+----------+---------------+\n"
     ]
    }
   ],
   "source": [
    "from tabulate import tabulate\n",
    "print(tabulate(table, headers=names, tablefmt='grid'))"
   ]
  },
  {
   "cell_type": "markdown",
   "metadata": {
    "id": "vuANAZC1dSmH"
   },
   "source": [
    "###Время работы \n",
    "Ядровой и линеный SVM - методы слишком долгие, я тупо сидел больше часа или даже двух или даже трех часов, я не смог дождаться. поэтому сильно подрезал выборку. Они чересчур долгие.  Сatboost засчет оптимизации справляется\n",
    "относительно быстро.\n",
    "###Качество\n",
    "Очевидно, что линейный SVM - хуже всех отработал, так как выборка линейно неразделима, поэтому так и получилось, а ядровой SVM переходит в новое пространство с нелинейными признаками"
   ]
  },
  {
   "cell_type": "markdown",
   "metadata": {
    "id": "e6umjhWuK-hV"
   },
   "source": [
    "__Задание 3. (2 балла)__\n",
    "\n",
    "Проведите эксперименты:\n",
    "1. Помогает ли предварительное понижение размерности с помощью PCA? \n",
    "2. Как зависит итоговое качество от n_features? Выходит ли оно на плато при росте n_features?\n",
    "3. Важно ли, какую модель обучать — логистическую регрессию или SVM?"
   ]
  },
  {
   "cell_type": "code",
   "execution_count": 26,
   "metadata": {
    "id": "OxpZ2rsye_Zj"
   },
   "outputs": [],
   "source": [
    "clfs2 = []\n",
    "scrs2 = []"
   ]
  },
  {
   "cell_type": "code",
   "execution_count": 31,
   "metadata": {
    "colab": {
     "base_uri": "https://localhost:8080/"
    },
    "id": "xlB2dxozfJLl",
    "outputId": "5df03bc9-06ae-4247-e3ad-c36be7153513"
   },
   "outputs": [
    {
     "name": "stdout",
     "output_type": "stream",
     "text": [
      "CPU times: user 12.6 s, sys: 1.65 s, total: 14.3 s\n",
      "Wall time: 8.66 s\n"
     ]
    }
   ],
   "source": [
    "%%time\n",
    "clf_no_pca = RFFPipeline(use_PCA=False)\n",
    "clf_no_pca.fit(x_train, y_train)\n",
    "scrs2.append(accuracy_score(y_test, clf_no_pca.predict(x_test)))"
   ]
  },
  {
   "cell_type": "code",
   "execution_count": 39,
   "metadata": {
    "colab": {
     "base_uri": "https://localhost:8080/"
    },
    "id": "R9hWQqPztOz-",
    "outputId": "639bb00a-2ecb-4a06-b4f8-4098ef7dbea7"
   },
   "outputs": [
    {
     "name": "stdout",
     "output_type": "stream",
     "text": [
      "+-------------------------+------------+\n",
      "| classifier              |   accuracy |\n",
      "+=========================+============+\n",
      "| RFFPipeline with PCA    |     0.86   |\n",
      "+-------------------------+------------+\n",
      "| RFFPipeline without PCA |     0.1094 |\n",
      "+-------------------------+------------+\n"
     ]
    }
   ],
   "source": [
    "from tabulate import tabulate\n",
    "print(tabulate([\n",
    "                ('RFFPipeline with PCA', scores[0]),\n",
    "                ('RFFPipeline without PCA', scrs2[0])\n",
    "\n",
    "], headers=names, tablefmt='grid'))"
   ]
  },
  {
   "cell_type": "markdown",
   "metadata": {
    "id": "-Avwir_0f6ws"
   },
   "source": [
    "PCA помогает. Наш logreg переобучается без уменьшения размерности."
   ]
  },
  {
   "cell_type": "code",
   "execution_count": 32,
   "metadata": {
    "colab": {
     "base_uri": "https://localhost:8080/"
    },
    "id": "lOaYK7Bgbd-A",
    "outputId": "9b054ae5-492a-453f-e8cf-3f91ec37541a"
   },
   "outputs": [
    {
     "name": "stdout",
     "output_type": "stream",
     "text": [
      "CPU times: user 23min 39s, sys: 3min 1s, total: 26min 40s\n",
      "Wall time: 13min 57s\n"
     ]
    }
   ],
   "source": [
    "%%time\n",
    "n_f = []\n",
    "scrs_f = []\n",
    "for n_features in np.logspace(2, 4, num=15, base=10.0)[:13]:\n",
    "  clf = RFFPipeline(n_features=int(n_features))\n",
    "  clf.fit(x_train, y_train)\n",
    "  ac = accuracy_score(y_test, clf.predict(x_test))\n",
    "  n_f.append(n_features)\n",
    "  scrs_f.append(ac)"
   ]
  },
  {
   "cell_type": "code",
   "execution_count": 36,
   "metadata": {
    "colab": {
     "base_uri": "https://localhost:8080/",
     "height": 419
    },
    "id": "BgOGm7zbnBXD",
    "outputId": "f4b8a726-a898-45b4-e284-a60cdebd5b78"
   },
   "outputs": [
    {
     "data": {
      "image/png": "[encoded data removed]",
      "text/plain": [
       "<Figure size 864x432 with 1 Axes>"
      ]
     },
     "metadata": {
      "tags": []
     },
     "output_type": "display_data"
    }
   ],
   "source": [
    "plt.style.use('fivethirtyeight')\n",
    "plt.figure(figsize=(12, 6))\n",
    "plt.title('График зависимости accuracy от n_features')\n",
    "plt.plot(n_f, scrs_f, 'g-.')\n",
    "plt.show()"
   ]
  },
  {
   "cell_type": "markdown",
   "metadata": {
    "id": "QeXttOGbgHu6"
   },
   "source": [
    "На графике хорошо видно, что с ростом кол-ва признаков, увеличивается и качество. Я хотел больше признаков обработать, но по памяти коллаб не выдержил. Так качество не сильно изменяется после 1000, то можно сказать, что оно выходит на плато."
   ]
  },
  {
   "cell_type": "code",
   "execution_count": 33,
   "metadata": {
    "id": "1k7eUcsBmRrS"
   },
   "outputs": [],
   "source": [
    "scrs3=[]"
   ]
  },
  {
   "cell_type": "code",
   "execution_count": 34,
   "metadata": {
    "colab": {
     "base_uri": "https://localhost:8080/"
    },
    "id": "lhZVvUzIXbHl",
    "outputId": "64031967-341c-451a-dc85-380e2e4ebc3b"
   },
   "outputs": [
    {
     "name": "stdout",
     "output_type": "stream",
     "text": [
      "CPU times: user 22min 48s, sys: 3.32 s, total: 22min 51s\n",
      "Wall time: 22min 49s\n"
     ]
    }
   ],
   "source": [
    "%%time\n",
    "clf_SVM = RFFPipeline(classifier='SVM')\n",
    "clf_SVM.fit(x_train, y_train)\n",
    "scrs3.append(accuracy_score(y_test, clf_SVM.predict(x_test)))"
   ]
  },
  {
   "cell_type": "code",
   "execution_count": 42,
   "metadata": {
    "colab": {
     "base_uri": "https://localhost:8080/"
    },
    "id": "JlPuqUiet_h-",
    "outputId": "a5cda5f0-3b4d-42eb-ea4e-7de0ebd46914"
   },
   "outputs": [
    {
     "name": "stdout",
     "output_type": "stream",
     "text": [
      "+--------------------+------------+\n",
      "| classifier         |   accuracy |\n",
      "+====================+============+\n",
      "| RFFPipeline logreg |     0.86   |\n",
      "+--------------------+------------+\n",
      "| RFFPipeline SVM    |     0.8676 |\n",
      "+--------------------+------------+\n"
     ]
    }
   ],
   "source": [
    "from tabulate import tabulate\n",
    "print(tabulate([\n",
    "                ('RFFPipeline logreg', scores[0]),\n",
    "                ('RFFPipeline SVM', scrs3[0])\n",
    "\n",
    "], headers=names, tablefmt='grid'))"
   ]
  },
  {
   "cell_type": "markdown",
   "metadata": {
    "id": "Xcl-YoTbgsCR"
   },
   "source": [
    "Качество с SVM лучше, но незначительно. Logreg отработал хуже, так как он оценивает вероятность условного элемнта в какой-то окрестности, а когда мы переходим в признаковое пространство большей размерности, то кучность наших элементов уменьшается, они отдаляются, поэтому в опредленной окрестности группа элементов становится разряженнее и тяжелее становится оценить вероятность.\n",
    "\n",
    "НО ВРЕМЯ - 22 минуты SVM против 2 минут logreg, это, конечно, имеет большой вес и огромный плюс в копилку logreg. "
   ]
  },
  {
   "cell_type": "markdown",
   "metadata": {
    "id": "CJqXVuasK-hW"
   },
   "source": [
    "### Бонус"
   ]
  },
  {
   "cell_type": "markdown",
   "metadata": {
    "id": "QVDWHCdrK-hX"
   },
   "source": [
    "__Задание 4. (Максимум 2 балла)__\n",
    "\n",
    "Как вы, должно быть, помните с курса МО-1, многие алгоритмы машинного обучения работают лучше, если признаки данных некоррелированы. Оказывается, что для RFF существует модификация, позволяющая получать ортогональные случайные признаки (Orthogonal Random Features, ORF). Об этом методе можно прочитать в [статье](https://proceedings.neurips.cc/paper/2016/file/53adaf494dc89ef7196d73636eb2451b-Paper.pdf). Реализуйте класс для вычисления ORF по аналогии с основным заданием. Обратите внимание, что ваш класс должен уметь работать со случаем n_features > new_dim (в статье есть замечание на этот счет). Проведите эксперименты, сравнивающие RFF и ORF, сделайте выводы."
   ]
  },
  {
   "cell_type": "code",
   "execution_count": null,
   "metadata": {
    "id": "HSxvGI9iK-hX"
   },
   "outputs": [],
   "source": [
    "# Your code here: (￣▽￣)/♫•*¨*•.¸¸♪"
   ]
  },
  {
   "cell_type": "markdown",
   "metadata": {
    "id": "4pc7-1jmK-hY"
   },
   "source": [
    "__Задание 5. (Максимум 2 балла)__\n",
    "\n",
    "Поэкспериментируйте с функциями для вычисления новых случайных признаков. Не обязательно использовать косинус от скалярного произведения — можно брать знак от него, хэш и т.д. Придумайте побольше вариантов для генерации признаков и проверьте, не получается ли с их помощью добиваться более высокого качества. Также можете попробовать другой классификатор поверх случайных признаков, сравните результаты."
   ]
  },
  {
   "cell_type": "code",
   "execution_count": 4,
   "metadata": {
    "id": "dWj-O2vjK-hY"
   },
   "outputs": [],
   "source": [
    "class RFFPipeline_f(BaseEstimator, TransformerMixin):\n",
    "    def __init__(self, n_features=1000, new_dim=50, use_PCA=True, classifier='logreg', f=np.cos, clf=None):\n",
    "        self.n_features = n_features\n",
    "        self.use_pca = use_PCA\n",
    "        self.new_dim = new_dim\n",
    "        self.classifier = classifier\n",
    "        self.clf = clf\n",
    "        self.W = 0\n",
    "        self.b = 0\n",
    "        self.pca = 0\n",
    "        \n",
    "    def fit(self, X, y):\n",
    "        x_train = np.copy(X)\n",
    "        if self.use_pca:\n",
    "          self.pca = PCA(n_components=self.new_dim)\n",
    "          self.pca.fit(x_train)\n",
    "          x_train = self.pca.transform(x_train)\n",
    "        else:\n",
    "          self.new_dim = X.shape[1]\n",
    "        \n",
    "        \n",
    "        i_indexes = np.random.randint(0, x_train.shape[0], min(10**6, x_train.shape[0]))\n",
    "        j_indexes = np.random.randint(0, x_train.shape[0], min(10**6, x_train.shape[0]))\n",
    "        ind = i_indexes != j_indexes\n",
    "        i_indexes = i_indexes[ind]\n",
    "        j_indexes = j_indexes[ind]\n",
    "        \n",
    "        sigma = np.median(np.sum((x_train[i_indexes] - x_train[j_indexes])**2, axis=1))\n",
    "        self.W = np.random.normal(0, 1 / (sigma ** 0.5), (self.n_features, self.new_dim))\n",
    "        self.b = np.random.uniform(-np.pi, np.pi, self.n_features)\n",
    "        x_train = f((self.W @ x_train.T).T + self.b)\n",
    "        self.clf.fit(x_train, y)\n",
    "\n",
    "\n",
    "    def predict_proba(self, X):\n",
    "      x_test = np.copy(X)\n",
    "      if self.use_pca:\n",
    "        x_test = self.pca.transform(x_test)\n",
    "      x_test = np.cos((self.W @ x_test.T).T + self.b)     \n",
    "      return self.clf.predict_proba(x_test)\n",
    "\n",
    "        \n",
    "    def predict(self, X):\n",
    "      x_test = np.copy(X)\n",
    "      if self.use_pca:\n",
    "        x_test = self.pca.transform(x_test)\n",
    "      x_test = np.cos((self.W @ x_test.T).T + self.b)      \n",
    "      return self.clf.predict(x_test)"
   ]
  },
  {
   "cell_type": "code",
   "execution_count": 5,
   "metadata": {
    "id": "N9OxkQ9fqO3a"
   },
   "outputs": [],
   "source": [
    "#https://numpy.org/doc/stable/reference/routines.math.html\n",
    "\n",
    "def my_f(x):\n",
    "  return np.log1p(np.square(x))\n",
    "\n",
    "def my_f2(x):\n",
    "  return np.sinh(x / 10000)\n",
    "\n",
    "def my_f3(x):\n",
    "  return np.cosh(x / 1000)\n",
    "\n",
    "functions = [my_f, my_f2, my_f3, np.tanh, np.exp]"
   ]
  },
  {
   "cell_type": "code",
   "execution_count": 6,
   "metadata": {
    "id": "6WELwmi0-5F5"
   },
   "outputs": [],
   "source": [
    "scores_f=[]"
   ]
  },
  {
   "cell_type": "code",
   "execution_count": 9,
   "metadata": {
    "id": "IyktxwuH-Uol"
   },
   "outputs": [],
   "source": [
    "for f in functions:\n",
    "  clf = RFFPipeline_f(f=f, clf=LogisticRegression())\n",
    "  clf.fit(x_train, y_train)\n",
    "  ac = accuracy_score(y_test, clf.predict(x_test))\n",
    "  scores_f.append(ac)"
   ]
  },
  {
   "cell_type": "code",
   "execution_count": 10,
   "metadata": {
    "id": "A0NqNx1W_EMp"
   },
   "outputs": [],
   "source": [
    "names_func = ['np.log1p(np.square(x))', 'np.sinh(x / 10000)', 'np.cosh(x / 1000)', 'np_tanh(x)', 'np.exp(x)']"
   ]
  },
  {
   "cell_type": "code",
   "execution_count": 15,
   "metadata": {
    "id": "SYWIDdwFXgA7"
   },
   "outputs": [],
   "source": [
    "table = []\n",
    "for i in range(len(names_func)):\n",
    "  table.append((names_func[i], scores_f[i]))"
   ]
  },
  {
   "cell_type": "code",
   "execution_count": 16,
   "metadata": {
    "colab": {
     "base_uri": "https://localhost:8080/"
    },
    "id": "oZQPt6laXyXR",
    "outputId": "bf1d5968-fa19-4cc6-d54c-184f50e24654"
   },
   "outputs": [
    {
     "name": "stdout",
     "output_type": "stream",
     "text": [
      "+------------------------+-----------+\n",
      "| name_func              |   acuracy |\n",
      "+========================+===========+\n",
      "| np.log1p(np.square(x)) |    0.0006 |\n",
      "+------------------------+-----------+\n",
      "| np.sinh(x / 10000)     |    0.0978 |\n",
      "+------------------------+-----------+\n",
      "| np.cosh(x / 1000)      |    0.002  |\n",
      "+------------------------+-----------+\n",
      "| np_tanh(x)             |    0.1239 |\n",
      "+------------------------+-----------+\n",
      "| np.exp(x)              |    0.0023 |\n",
      "+------------------------+-----------+\n"
     ]
    }
   ],
   "source": [
    "print(tabulate(table, headers=['name_func', 'accuracy'], tablefmt='grid'))"
   ]
  },
  {
   "cell_type": "markdown",
   "metadata": {
    "id": "xNOmlm5KmdSo"
   },
   "source": [
    "Попробовал много функций начиная логарифмом от квадрата плюс один до гиперболического тангенса, получилось не очень. Везде качество сильно просело, функции из таблицы плохо приближают наше ядро)"
   ]
  },
  {
   "cell_type": "code",
   "execution_count": 17,
   "metadata": {
    "id": "TNFdf7Q4FTyt"
   },
   "outputs": [],
   "source": [
    "from sklearn.tree import DecisionTreeClassifier\n",
    "scores_m=[]"
   ]
  },
  {
   "cell_type": "code",
   "execution_count": 18,
   "metadata": {
    "id": "bqKWdkJnFXkv"
   },
   "outputs": [],
   "source": [
    "models = [DecisionTreeClassifier()]"
   ]
  },
  {
   "cell_type": "code",
   "execution_count": 19,
   "metadata": {
    "id": "ea_x4D_TCC1Q"
   },
   "outputs": [],
   "source": [
    "for m in models:\n",
    "  clf = RFFPipeline_f(clf=m)\n",
    "  clf.fit(x_train, y_train)\n",
    "  ac = accuracy_score(y_test, clf.predict(x_test))\n",
    "  scores_m.append(ac)"
   ]
  },
  {
   "cell_type": "code",
   "execution_count": 20,
   "metadata": {
    "colab": {
     "base_uri": "https://localhost:8080/"
    },
    "id": "hrj7v82vF3hN",
    "outputId": "54d19427-8049-40e4-b05c-916695464561"
   },
   "outputs": [
    {
     "name": "stdout",
     "output_type": "stream",
     "text": [
      "+------------------------+------------+\n",
      "| name_model             |   accuracy |\n",
      "+========================+============+\n",
      "| DecisionTreeClassifier |     0.1621 |\n",
      "+------------------------+------------+\n"
     ]
    }
   ],
   "source": [
    "print(tabulate([('DecisionTreeClassifier', scores_m[0])], headers=['name_model', 'accuracy'], tablefmt='grid'))"
   ]
  },
  {
   "cell_type": "markdown",
   "metadata": {
    "id": "Ro6DcLDqnA8W"
   },
   "source": [
    "Я пытался обучить разные бустинги, но ждал слишком долго. А точнее не дождался (около часа для обычного градиентного бустинга). Поэтому получилось лишь одно дерево обучить. Дерево быстро переобучилось, оно и логично в большом пространстве с нелинейными признаками эффект переобучения на дереве лишь усилился, поэтому и качество такое низкое."
   ]
  },
  {
   "cell_type": "code",
   "execution_count": null,
   "metadata": {
    "id": "z502TWyTnkdX"
   },
   "outputs": [],
   "source": []
  }
 ],
 "metadata": {
  "colab": {
   "collapsed_sections": [],
   "name": "homework-practice-08-random-features.ipynb",
   "provenance": []
  },
  "kernelspec": {
   "display_name": "Python 3",
   "language": "python",
   "name": "python3"
  },
  "language_info": {
   "codemirror_mode": {
    "name": "ipython",
    "version": 3
   },
   "file_extension": ".py",
   "mimetype": "text/x-python",
   "name": "python",
   "nbconvert_exporter": "python",
   "pygments_lexer": "ipython3",
   "version": "3.8.5"
  }
 },
 "nbformat": 4,
 "nbformat_minor": 1
}
