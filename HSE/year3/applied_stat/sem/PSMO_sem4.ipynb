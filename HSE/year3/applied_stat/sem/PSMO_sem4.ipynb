{
 "cells": [
  {
   "cell_type": "markdown",
   "metadata": {},
   "source": [
    "## Прикладная статистика в машинном обучении"
   ]
  },
  {
   "cell_type": "markdown",
   "metadata": {},
   "source": [
    "### Семинар 4: EM-алгоритм"
   ]
  },
  {
   "cell_type": "markdown",
   "metadata": {},
   "source": [
    "#### Постановка задачи."
   ]
  },
  {
   "cell_type": "markdown",
   "metadata": {},
   "source": [
    "Сначала вспомним постановку задачи. \n",
    "Как и в предыдущих задачах, мы хотим максимизировать логарифм функции правдоподобия $\\ell(x | \\theta)$, чтобы найти оценку вектора параметров $\\theta$. \n",
    "Однако бывает так, что эта функция имеет такой вид, что максимизировать сложно (например, если под логарифмом оказывается сумма). \n",
    "Идея EM-алгоритма состоит в том, чтобы ввести латентные переменные $z$ и использовать совместное распределение $p(X, Z)$ для нахождения $\\hat{\\theta}$."
   ]
  },
  {
   "cell_type": "markdown",
   "metadata": {},
   "source": [
    "#### EM-алгоритм в общем виде."
   ]
  },
  {
   "cell_type": "markdown",
   "metadata": {},
   "source": [
    ">  **Инициализация:** задать начальные условия на $\\theta_{old}$.\n",
    "\n",
    "> **E.1-шаг:** найти условное распределение латентных переменных $p(Z | X, \\theta_{old})$.\n",
    "\n",
    "> **E.2-шаг:** построить функцию $Q(\\theta, \\theta_{old}) = E_{Z | X, \\theta}(\\ell(x, z | \\theta) | x, \\theta_{old})$.\n",
    "\n",
    "> **M-шаг:** максимизировать $Q$ по $\\theta$.\n",
    "\n",
    "> Далее повторять E- и M-шаги до сходимости."
   ]
  },
  {
   "cell_type": "markdown",
   "metadata": {},
   "source": [
    "#### Обоснование EM-алгоритма."
   ]
  },
  {
   "cell_type": "markdown",
   "metadata": {},
   "source": [
    "Для обоснования ЕМ-алгоритма и понимания обозначений рассмотрим пример: \n",
    "\n",
    "Пусть $X_1, X_2, \\ldots, X_n$ $\\sim f(x, | \\theta)$, где $f$ -- какая-то функция плотности, $\\theta$ -- вектор неизвестных параметров этой плотности.\n",
    "\n",
    "Пусть латентные переменные принимают всего два значения: $Z \\in \\{0, 1\\}$ -- с вероятностями $P(Z = 0) = p_1$, $P(Z = 1) = 1-p_1$.\n",
    "\n",
    "Тогда $\\ell(x | \\theta) = \\sum_i \\ln f(x_i | \\theta)$.\n",
    "\n",
    "Заметим, что \n",
    "\n",
    "$$\n",
    "\\ell(x | \\theta) = \\sum_i \\ln f(x_i | \\theta) = \\sum_i \\sum_j P(Z = j)\\ln f(x_i | \\theta) = \n",
    "\\sum_i \\sum_j P(Z = j)\\ln \\dfrac{f(x_i, Z = j | \\theta)}{P(Z = j | x_i, \\theta)} = \n",
    "$$"
   ]
  },
  {
   "cell_type": "markdown",
   "metadata": {},
   "source": [
    "(чтобы понять последний переход, распишите знаменатель выражения под логарифмом по формуле условной вероятности)"
   ]
  },
  {
   "cell_type": "markdown",
   "metadata": {},
   "source": [
    "$$\n",
    "= \\sum_i \\sum_j P(Z = j)\\ln \\dfrac{f(x_i, Z = j | \\theta) P(Z = j)}{P(Z = j | x_i, \\theta)P(Z = j)} = \n",
    "$$\n",
    "\n",
    "$$\n",
    "= \\sum_i \\sum_j P(Z = j) \\ln \\dfrac{f(x_i, Z = j | \\theta)}{P(Z = j)} + \\sum_i \\sum_j P(Z = j) \\ln \\dfrac{P(Z = j)}{P(Z = j | x_i, \\theta)} =\n",
    "$$\n",
    "\n",
    "$$\n",
    "M(P(Z = j), \\theta) + D_{KL}[P(Z = j) || P(Z = j | x_i, \\theta)].\n",
    "$$"
   ]
  },
  {
   "cell_type": "markdown",
   "metadata": {},
   "source": [
    "Так как $D_{KL} \\ge 0$, то $M(P(Z = j), \\theta)$ является нижней оценкой на логарифм правдоподобия. Идея EM-алгоритма состоит в том, чтобы поочерёдно максимизировать $M(P(Z = j), \\theta)$ по $P(Z = j)$ (на E-шаге) и по $\\theta$ (на M-шаге)."
   ]
  },
  {
   "cell_type": "markdown",
   "metadata": {},
   "source": [
    "**E-шаг.**\n",
    "\n",
    "Максимизируем $M(P(Z = j), \\theta)$ по $P(Z = j)$.\n",
    "\n",
    "Так как $\\ell(x | \\theta)$ не зависит от $P(Z = j)$, то максимум $M(P(Z = j), \\theta)$ по $P(Z = j)$ будет достигнут, когда $D_{KL}$ минимальна. \n",
    "\n",
    "Минимальная $D_{KL}(A || B)$ равна 0, и это достигается, когда $A || B$. Из этого делаем вывод, что на E-шаге мы устанавливаем\n",
    "\n",
    "$$\n",
    "P(Z = j) := P(Z = j | x_i, \\theta^{old}).\n",
    "$$"
   ]
  },
  {
   "cell_type": "markdown",
   "metadata": {},
   "source": [
    "**M-шаг.**\n",
    "\n",
    "Максимизируем $M(P(Z = j), \\theta)$ по $\\theta$. Распишем $M$ ещё раз:\n",
    "\n",
    "$$\n",
    "M = \\sum_i \\sum_j P(Z = j) \\ln \\dfrac{f(x_i, Z = j | \\theta)}{P(Z = j)}\n",
    "$$\n"
   ]
  },
  {
   "cell_type": "markdown",
   "metadata": {},
   "source": [
    "Заметим, что знаменатель подлогарифмического выражения не зависит от $\\theta$. Выбросим его и заменим $P(Z = j)$ на результат, полученный нами на E-шаге:"
   ]
  },
  {
   "cell_type": "markdown",
   "metadata": {},
   "source": [
    "$$\n",
    "M = \\sum_i \\sum_j P(Z = j | x_i, \\theta^{old}) \\ln f(x_i, Z = j | \\theta) = \\sum_i E_{Z | x_i, \\theta_{old}}(\\ln f(x_i, Z = j | \\theta)) := Q(\\theta, \\theta^{old}).\n",
    "$$"
   ]
  },
  {
   "cell_type": "markdown",
   "metadata": {},
   "source": [
    "Далее мы максимизируем $Q$ по по $\\theta$, обновляем $\\theta$ на аргмаксимум $Q$, и возвращаемся к E-шагу."
   ]
  },
  {
   "cell_type": "markdown",
   "metadata": {},
   "source": [
    "#### Обозначения."
   ]
  },
  {
   "cell_type": "markdown",
   "metadata": {},
   "source": [
    "Теперь соотнесём обозначения из общей постановки EM-алгоритма с теми, что мы получили в примере."
   ]
  },
  {
   "cell_type": "markdown",
   "metadata": {},
   "source": [
    "$p(Z)$ -- это безусловное распределение $Z$. По сути, это массив размера $1\\times k$, где $k$ -- число значений $Z$.\n",
    "\n",
    "$p(Z | X, \\theta_{old})$ -- это условное распределение $Z$ при условии выборки. По сути, это массив размера $N\\times k$, где $N$ -- размер выборки, $k$ -- число значений $Z$. Каждая строчка есть вектор вероятностей того, что на данном наблюдении $Z$ равно соответсвующему значению.\n",
    "\n",
    "$E_{Z | X, \\theta}(\\cdot)$ -- это сумма матожиданий $\\sum_i E_{Z | x_i, \\theta}$ по всем наблюдениям выборки.\n",
    "\n",
    "$p(\\cdot)$ -- распределение того, что стоит в скобках. Эта функция может оказаться функцией вероятности или функцией плотности в зависимости от контекста."
   ]
  },
  {
   "cell_type": "markdown",
   "metadata": {},
   "source": [
    "---"
   ]
  },
  {
   "cell_type": "markdown",
   "metadata": {},
   "source": [
    "#### Пример с лекции: задача о кластеризации (разделение смеси распределений)."
   ]
  },
  {
   "cell_type": "code",
   "execution_count": 17,
   "metadata": {},
   "outputs": [],
   "source": [
    "import numpy as np\n",
    "import matplotlib.pyplot as plt\n",
    "import seaborn as sns\n",
    "sns.set()\n",
    "np.random.seed(123)"
   ]
  },
  {
   "cell_type": "markdown",
   "metadata": {},
   "source": [
    "Пример:"
   ]
  },
  {
   "cell_type": "code",
   "execution_count": 18,
   "metadata": {},
   "outputs": [
    {
     "data": {
      "text/plain": [
       "(array([1., 0., 0., 0., 0., 0., 0., 0., 0., 0., 0., 1., 0., 0., 0., 0., 0.,\n",
       "        0., 0., 0., 1., 1., 0., 2., 0., 0., 0., 1., 0., 0., 0., 2., 0., 0.,\n",
       "        0., 0., 2., 2., 2., 0., 1., 1., 3., 0., 1., 2., 4., 0., 2., 5., 4.,\n",
       "        3., 2., 2., 2., 2., 3., 6., 5., 1., 5., 1., 3., 2., 4., 0., 2., 2.,\n",
       "        2., 1., 0., 0., 1., 0., 0., 0., 1., 1., 0., 2., 2., 3., 0., 1., 0.,\n",
       "        0., 1., 0., 0., 1., 0., 0., 0., 0., 0., 0., 0., 0., 0., 1.]),\n",
       " array([3.19223625, 3.20680965, 3.22138304, 3.23595644, 3.25052984,\n",
       "        3.26510323, 3.27967663, 3.29425003, 3.30882343, 3.32339682,\n",
       "        3.33797022, 3.35254362, 3.36711702, 3.38169041, 3.39626381,\n",
       "        3.41083721, 3.42541061, 3.439984  , 3.4545574 , 3.4691308 ,\n",
       "        3.48370419, 3.49827759, 3.51285099, 3.52742439, 3.54199778,\n",
       "        3.55657118, 3.57114458, 3.58571798, 3.60029137, 3.61486477,\n",
       "        3.62943817, 3.64401157, 3.65858496, 3.67315836, 3.68773176,\n",
       "        3.70230515, 3.71687855, 3.73145195, 3.74602535, 3.76059874,\n",
       "        3.77517214, 3.78974554, 3.80431894, 3.81889233, 3.83346573,\n",
       "        3.84803913, 3.86261253, 3.87718592, 3.89175932, 3.90633272,\n",
       "        3.92090611, 3.93547951, 3.95005291, 3.96462631, 3.9791997 ,\n",
       "        3.9937731 , 4.0083465 , 4.0229199 , 4.03749329, 4.05206669,\n",
       "        4.06664009, 4.08121349, 4.09578688, 4.11036028, 4.12493368,\n",
       "        4.13950707, 4.15408047, 4.16865387, 4.18322727, 4.19780066,\n",
       "        4.21237406, 4.22694746, 4.24152086, 4.25609425, 4.27066765,\n",
       "        4.28524105, 4.29981445, 4.31438784, 4.32896124, 4.34353464,\n",
       "        4.35810804, 4.37268143, 4.38725483, 4.40182823, 4.41640162,\n",
       "        4.43097502, 4.44554842, 4.46012182, 4.47469521, 4.48926861,\n",
       "        4.50384201, 4.51841541, 4.5329888 , 4.5475622 , 4.5621356 ,\n",
       "        4.576709  , 4.59128239, 4.60585579, 4.62042919, 4.63500258,\n",
       "        4.64957598]),\n",
       " <BarContainer object of 100 artists>)"
      ]
     },
     "execution_count": 18,
     "metadata": {},
     "output_type": "execute_result"
    },
    {
     "data": {
      "image/png": "[encoded data removed]",
      "text/plain": [
       "<Figure size 432x288 with 1 Axes>"
      ]
     },
     "metadata": {},
     "output_type": "display_data"
    }
   ],
   "source": [
    "y1 = np.random.normal(0, 1, 100)\n",
    "y2 = np.random.normal(4, 0.25, 100)\n",
    "plt.hist(y1, alpha = 0.7, bins=100)\n",
    "plt.hist(y2, alpha = 0.7, bins=100)"
   ]
  },
  {
   "cell_type": "code",
   "execution_count": 19,
   "metadata": {},
   "outputs": [
    {
     "data": {
      "text/plain": [
       "(array([ 1.,  0.,  0.,  1.,  0.,  0.,  1.,  1.,  1.,  1.,  2.,  3.,  3.,\n",
       "         3.,  2.,  0.,  1.,  1.,  1.,  3.,  1.,  0.,  5.,  3.,  1.,  2.,\n",
       "         3.,  1.,  3.,  4.,  3.,  1.,  4.,  1.,  3.,  0.,  6.,  3.,  3.,\n",
       "         0.,  2.,  4.,  4.,  2.,  2.,  1.,  2.,  2.,  0.,  0.,  1.,  2.,\n",
       "         0.,  1.,  0.,  0.,  1.,  0.,  0.,  0.,  2.,  0.,  0.,  0.,  0.,\n",
       "         1.,  0.,  0.,  0.,  0.,  0.,  0.,  0.,  0.,  0.,  0.,  1.,  0.,\n",
       "         0.,  0.,  0.,  0.,  0.,  1.,  0.,  4.,  1.,  5., 11.,  7., 14.,\n",
       "        14.,  9.,  9.,  9.,  6.,  3.,  3.,  2.,  2.]),\n",
       " array([-2.15249344, -2.08582734, -2.01916124, -1.95249514, -1.88582903,\n",
       "        -1.81916293, -1.75249683, -1.68583072, -1.61916462, -1.55249852,\n",
       "        -1.48583242, -1.41916631, -1.35250021, -1.28583411, -1.21916801,\n",
       "        -1.1525019 , -1.0858358 , -1.0191697 , -0.95250359, -0.88583749,\n",
       "        -0.81917139, -0.75250529, -0.68583918, -0.61917308, -0.55250698,\n",
       "        -0.48584087, -0.41917477, -0.35250867, -0.28584257, -0.21917646,\n",
       "        -0.15251036, -0.08584426, -0.01917815,  0.04748795,  0.11415405,\n",
       "         0.18082015,  0.24748626,  0.31415236,  0.38081846,  0.44748456,\n",
       "         0.51415067,  0.58081677,  0.64748287,  0.71414898,  0.78081508,\n",
       "         0.84748118,  0.91414728,  0.98081339,  1.04747949,  1.11414559,\n",
       "         1.1808117 ,  1.2474778 ,  1.3141439 ,  1.38081   ,  1.44747611,\n",
       "         1.51414221,  1.58080831,  1.64747442,  1.71414052,  1.78080662,\n",
       "         1.84747272,  1.91413883,  1.98080493,  2.04747103,  2.11413713,\n",
       "         2.18080324,  2.24746934,  2.31413544,  2.38080155,  2.44746765,\n",
       "         2.51413375,  2.58079985,  2.64746596,  2.71413206,  2.78079816,\n",
       "         2.84746427,  2.91413037,  2.98079647,  3.04746257,  3.11412868,\n",
       "         3.18079478,  3.24746088,  3.31412698,  3.38079309,  3.44745919,\n",
       "         3.51412529,  3.5807914 ,  3.6474575 ,  3.7141236 ,  3.7807897 ,\n",
       "         3.84745581,  3.91412191,  3.98078801,  4.04745412,  4.11412022,\n",
       "         4.18078632,  4.24745242,  4.31411853,  4.38078463,  4.44745073,\n",
       "         4.51411684]),\n",
       " <BarContainer object of 100 artists>)"
      ]
     },
     "execution_count": 19,
     "metadata": {},
     "output_type": "execute_result"
    },
    {
     "data": {
      "image/png": "[encoded data removed]",
      "text/plain": [
       "<Figure size 432x288 with 1 Axes>"
      ]
     },
     "metadata": {},
     "output_type": "display_data"
    }
   ],
   "source": [
    "mix = np.hstack([np.random.normal(0, 1, 100), np.random.normal(4, 0.25, 100)])\n",
    "np.random.shuffle(mix)\n",
    "plt.hist(mix, bins=100)"
   ]
  },
  {
   "cell_type": "code",
   "execution_count": 20,
   "metadata": {},
   "outputs": [],
   "source": [
    "x = np.array([5, 6, 2, 1, 1, 3, 7, 10])"
   ]
  },
  {
   "cell_type": "markdown",
   "metadata": {},
   "source": [
    "**Постановка задачи.** \n",
    "\n",
    "Пусть мы точно знаем, что наблюдения принадлежат одному из двух кластеров. Пусть в первом кластере наблюдения берутся из нормального $\\mathcal{N}(\\mu_1, \\sigma_1^2)$ распределения, а во втором -- из нормального $\\mathcal{N}(\\mu_2, \\sigma_2^2)$ распределения. Предположим, что все наблюдения независимы, и вероятность того, что наблюдение относится к первому кластеру, равна $p_1$."
   ]
  },
  {
   "cell_type": "code",
   "execution_count": 21,
   "metadata": {},
   "outputs": [
    {
     "data": {
      "text/plain": [
       "array([ 1. ,  4.5, 10. ,  4.5,  0.5])"
      ]
     },
     "execution_count": 21,
     "metadata": {},
     "output_type": "execute_result"
    }
   ],
   "source": [
    "# Определите вектор параметров для данной задачи и задайте начальные условия\n",
    "# theta = (mu_1, sigma2_1, mu2, sigma2_2, p_1)\n",
    "# (воспользовались эвристикой)\n",
    "theta = np.array([np.min(x), (np.max(x) - np.min(x)) / 2, np.max(x), (np.max(x) - np.min(x)) / 2, 1/2])\n",
    "theta"
   ]
  },
  {
   "cell_type": "markdown",
   "metadata": {},
   "source": [
    "**Определение латентных переменных.**"
   ]
  },
  {
   "cell_type": "markdown",
   "metadata": {},
   "source": [
    "$z \\in \\{1, 2\\}$ -- номер кластера.\n",
    "\n",
    "Вспомним, что у нас есть обозначение $p_1 = P(z = 1)$ -- вероятность отнести наблюдение к первому кластеру."
   ]
  },
  {
   "cell_type": "markdown",
   "metadata": {},
   "source": [
    "**E.1-шаг.**"
   ]
  },
  {
   "cell_type": "markdown",
   "metadata": {},
   "source": [
    "Найти условное распределение латентных переменных $p(Z | X, \\theta_{old})$. Для данной задачи это означает, что мы должны получить массив $8\\times2$ (8 наблюдений, 2 значения $z$). Нам достаточно найти только один столбец массива -- этот столбец будет размера $8\\times1$ (то есть вероятность того, что $z = 1$) -- потому что второй столбец определяется однозначно как ($1 - $ первый столбец)."
   ]
  },
  {
   "cell_type": "markdown",
   "metadata": {},
   "source": [
    "По формуле условной вероятности:\n",
    "$$\n",
    "p(z | x, \\theta_{old}) = \\dfrac{p(z, x | \\theta_{old})}{p(x | \\theta_{old})}\n",
    "$$"
   ]
  },
  {
   "cell_type": "markdown",
   "metadata": {},
   "source": [
    "и\n",
    "$$\n",
    "p(x | z, \\theta_{old}) = \\dfrac{p(x, z | \\theta_{old})}{p(z)}\n",
    "$$"
   ]
  },
  {
   "cell_type": "markdown",
   "metadata": {},
   "source": [
    "Тогда\n",
    "$$\n",
    "P(z_i = 1 | x_i, \\theta_{old}) = \\dfrac{p(z_i = 1, x_i | \\theta_{old})}{f(x_i | \\theta_{old})}\n",
    "$$"
   ]
  },
  {
   "cell_type": "markdown",
   "metadata": {},
   "source": [
    "$$\n",
    "= \\dfrac{f(x_i | z_i = 1, \\theta_{old})p_1}{p_1f(x_i | z_i = 1, \\theta_{old}) + (1-p_1)f(x_i | z_i = 2, \\theta_{old})}\n",
    "$$"
   ]
  },
  {
   "cell_type": "code",
   "execution_count": 25,
   "metadata": {},
   "outputs": [],
   "source": [
    "# Задайте плотность x\n",
    "def f(x, mu, sigma2):\n",
    "    return 1 / np.sqrt(2 * np.pi * sigma2) * np.exp(-1/2 * 1/sigma2 * (x - mu)**2)"
   ]
  },
  {
   "cell_type": "code",
   "execution_count": 26,
   "metadata": {},
   "outputs": [],
   "source": [
    "# Рассчитайте распределение латентных переменных на наших данных\n",
    "p_z_1 = f(x, mu = theta[0], sigma2 = theta[1]) * theta[4] / (theta[4] * f(x, mu = theta[0], sigma2 = theta[1]) + \n",
    "                                                       (1-theta[4]) * f(x, mu = theta[2], sigma2 = theta[3]))"
   ]
  },
  {
   "cell_type": "code",
   "execution_count": 27,
   "metadata": {},
   "outputs": [
    {
     "data": {
      "text/plain": [
       "array([ 5,  6,  2,  1,  1,  3,  7, 10])"
      ]
     },
     "execution_count": 27,
     "metadata": {},
     "output_type": "execute_result"
    }
   ],
   "source": [
    "p_z_1\n",
    "x"
   ]
  },
  {
   "cell_type": "markdown",
   "metadata": {},
   "source": [
    "**E.2-шаг.**"
   ]
  },
  {
   "cell_type": "markdown",
   "metadata": {},
   "source": [
    "Постройте функцию $Q(\\theta, \\theta_{old}) = E_{Z | X, \\theta}(\\ell(x, z | \\theta) | x, \\theta_{old})$."
   ]
  },
  {
   "cell_type": "markdown",
   "metadata": {},
   "source": [
    "По формуле условной вероятности:\n",
    "$$\n",
    "p(x, z | \\theta) = p(x | \\theta, z) \\times p(z)\n",
    "$$"
   ]
  },
  {
   "cell_type": "markdown",
   "metadata": {},
   "source": [
    "$$\n",
    "Q(\\theta, \\theta_{old}) = \\sum_i P(z_i = 1 | x, \\theta_{old})[\\ln f(x_i | \\theta) + \\ln p_1] + (1 - P(z_i = 1 | x, \\theta_{old})[\\ln f(x_i | \\theta) + \\ln(1-p_1)].\n",
    "$$"
   ]
  },
  {
   "cell_type": "markdown",
   "metadata": {},
   "source": [
    "**M-шаг.**"
   ]
  },
  {
   "cell_type": "markdown",
   "metadata": {},
   "source": [
    "**M-шаг.**"
   ]
  },
  {
   "cell_type": "markdown",
   "metadata": {},
   "source": [
    "Выведите формулы для максимизации $Q$."
   ]
  },
  {
   "cell_type": "markdown",
   "metadata": {},
   "source": [
    "$$\n",
    "Q'_{\\mu_1} = \\sum_i P(z_i = 1 | x, \\theta_{old}) \\dfrac{(x_i - \\mu_1)}{\\sigma_1^2}\n",
    "$$"
   ]
  },
  {
   "cell_type": "markdown",
   "metadata": {},
   "source": [
    "$$\n",
    "\\mu_1^{new} = \\dfrac{\\sum_i P(z_i = 1 | x, \\theta_{old}) x_i}{\\sum_i P(z_i = 1 | x, \\theta_{old})}\n",
    "$$"
   ]
  },
  {
   "cell_type": "markdown",
   "metadata": {},
   "source": [
    "Аналогично,"
   ]
  },
  {
   "cell_type": "markdown",
   "metadata": {},
   "source": [
    "$$\n",
    "\\mu_2^{new} = \\dfrac{\\sum_i (1 - P(z_i = 1 | x, \\theta_{old})) x_i}{\\sum_i (1 - P(z_i = 1 | x, \\theta_{old}))}\n",
    "$$"
   ]
  },
  {
   "cell_type": "markdown",
   "metadata": {},
   "source": [
    "Далее:"
   ]
  },
  {
   "cell_type": "markdown",
   "metadata": {},
   "source": [
    "$$\n",
    "Q'_{\\sigma_1^2} = \\sum_i P(z_i = 1 | x, \\theta_{old}) (-\\dfrac{1}{2\\sigma^2_1} + \\dfrac{1}{2}\\dfrac{(x_i - \\mu)^2}{\\sigma_1^4})\n",
    "$$"
   ]
  },
  {
   "cell_type": "markdown",
   "metadata": {},
   "source": [
    "$$\n",
    "Q'_{\\sigma_1^2} = \\sum_i P(z_i = 1 | x, \\theta_{old}) (-\\dfrac{1}{2\\sigma^2_1} + \\dfrac{1}{2}\\dfrac{(x_i - \\mu)^2}{\\sigma_1^4})\n",
    "$$"
   ]
  },
  {
   "cell_type": "markdown",
   "metadata": {},
   "source": [
    "$$\n",
    "\\sigma_1^{2, new} = \\dfrac{\\sum_i (x_i - \\mu)^2 P(z_i = 1 | x, \\theta_{old})}{\\sum_i P(z_i = 1 | x, \\theta_{old})}\n",
    "$$"
   ]
  },
  {
   "cell_type": "markdown",
   "metadata": {},
   "source": [
    "Аналогично для $\\sigma_2^{2, new}$."
   ]
  },
  {
   "cell_type": "markdown",
   "metadata": {},
   "source": [
    "Далее:"
   ]
  },
  {
   "cell_type": "markdown",
   "metadata": {},
   "source": [
    "$$\n",
    "Q'_{p_1} = \\sum_i P(z_i = 1 | x, \\theta_{old}) \\dfrac{1}{p_1} - (1 - P(z_i = 1 | x, \\theta_{old})) \\dfrac{1}{1 - p_1}\n",
    "$$"
   ]
  },
  {
   "cell_type": "markdown",
   "metadata": {},
   "source": [
    "$$\n",
    "Q'_{p_1} = \\sum_i P(z_i = 1 | x, \\theta_{old}) \\dfrac{1}{p_1} - (1 - P(z_i = 1 | x, \\theta_{old})) \\dfrac{1}{1 - p_1}\n",
    "$$"
   ]
  },
  {
   "cell_type": "markdown",
   "metadata": {},
   "source": [
    "$$\n",
    "Q'_{p_1} = \\sum_i P(z_i = 1 | x, \\theta_{old}) \\dfrac{1}{p_1} - (1 - P(z_i = 1 | x, \\theta_{old})) \\dfrac{1}{1 - p_1}\n",
    "$$"
   ]
  },
  {
   "cell_type": "markdown",
   "metadata": {},
   "source": [
    "$$\n",
    "Q'_{p_1} = \\sum_i P(z_i = 1 | x, \\theta_{old}) \\dfrac{1}{p_1} - (1 - P(z_i = 1 | x, \\theta_{old})) \\dfrac{1}{1 - p_1}\n",
    "$$"
   ]
  },
  {
   "cell_type": "markdown",
   "metadata": {},
   "source": [
    "$$\n",
    "p_1^{new} = \\dfrac{\\sum_i P(z_i = 1 | x, \\theta_{old})}{n}\n",
    "$$"
   ]
  },
  {
   "cell_type": "code",
   "execution_count": 28,
   "metadata": {},
   "outputs": [],
   "source": [
    "# Реализуйте формулы для одного M-шага\n",
    "mu_1 = np.sum(p_z_1 * x) / np.sum(p_z_1)"
   ]
  },
  {
   "cell_type": "code",
   "execution_count": 29,
   "metadata": {},
   "outputs": [],
   "source": [
    "mu_2 = np.sum((1-p_z_1) * x) / np.sum(1-p_z_1)"
   ]
  },
  {
   "cell_type": "code",
   "execution_count": 30,
   "metadata": {},
   "outputs": [],
   "source": [
    "sigma2_1 = np.sum((x - mu_1) ** 2 * p_z_1)/ np.sum(p_z_1)"
   ]
  },
  {
   "cell_type": "code",
   "execution_count": 31,
   "metadata": {},
   "outputs": [],
   "source": [
    "sigma2_2 = np.sum((x - mu_2) ** 2 * (1 - p_z_1))/ np.sum(1 - p_z_1)"
   ]
  },
  {
   "cell_type": "code",
   "execution_count": 32,
   "metadata": {},
   "outputs": [],
   "source": [
    "p1 = np.sum(p_z_1) / len(x)"
   ]
  },
  {
   "cell_type": "code",
   "execution_count": 33,
   "metadata": {},
   "outputs": [],
   "source": [
    "theta_new = np.array([mu_1, sigma2_1, mu_2, sigma2_2, p1])"
   ]
  },
  {
   "cell_type": "code",
   "execution_count": 34,
   "metadata": {},
   "outputs": [
    {
     "data": {
      "text/plain": [
       "array([ 1. ,  4.5, 10. ,  4.5,  0.5])"
      ]
     },
     "execution_count": 34,
     "metadata": {},
     "output_type": "execute_result"
    }
   ],
   "source": [
    "theta"
   ]
  },
  {
   "cell_type": "code",
   "execution_count": 35,
   "metadata": {},
   "outputs": [
    {
     "data": {
      "text/plain": [
       "array([2.49618283, 2.74390095, 7.57355004, 3.36811658, 0.62996232])"
      ]
     },
     "execution_count": 35,
     "metadata": {},
     "output_type": "execute_result"
    }
   ],
   "source": [
    "theta_new"
   ]
  },
  {
   "cell_type": "markdown",
   "metadata": {},
   "source": [
    "**Сбор EM-алгоритма в функцию.**"
   ]
  },
  {
   "cell_type": "markdown",
   "metadata": {},
   "source": [
    "На каждом шаге будем дополнительно рассчитывать значение $Q$. Для этого определим дополнительные функции:"
   ]
  },
  {
   "cell_type": "code",
   "execution_count": 36,
   "metadata": {},
   "outputs": [],
   "source": [
    "# Логарифм функции плотности x\n",
    "def lnf(x, mu, sigma2):\n",
    "    return -1/2 * np.log(2 * np.pi * sigma2) - 1/2 * (x - mu) ** 2 / sigma2"
   ]
  },
  {
   "cell_type": "code",
   "execution_count": 44,
   "metadata": {},
   "outputs": [],
   "source": [
    "def Q_f(x, theta, p_z_1):\n",
    "    ell1 = lnf(x, theta[0], theta[1]) + np.log(theta[4])\n",
    "    ell2 = lnf(x, theta[2], theta[3]) + np.log(1 - theta[4])\n",
    "    print(ell1)\n",
    "    print(ell2)\n",
    "    return np.sum(p_z_1 * ell1 + (1 - p_z_1) * ell2)"
   ]
  },
  {
   "cell_type": "markdown",
   "metadata": {},
   "source": [
    "Запустим цикл:"
   ]
  },
  {
   "cell_type": "code",
   "execution_count": 45,
   "metadata": {},
   "outputs": [],
   "source": [
    "def EM(x, theta):\n",
    "    \n",
    "    Q_history = []\n",
    "    \n",
    "    for i in range(100):\n",
    "        \n",
    "        # E-step\n",
    "        p_z_1 = f(x, mu = theta[0], sigma2 = theta[1]) * theta[4] / (theta[4] * f(x, mu = theta[0], sigma2 = theta[1]) + \n",
    "                                                       (1-theta[4]) * f(x, mu = theta[2], sigma2 = theta[3]))\n",
    "        \n",
    "        Q_history.append(Q_f(x, theta, p_z_1))\n",
    "        \n",
    "        if i > 0:\n",
    "            if (Q_history[i] - Q_history[i-1])**2 < 1e-4:\n",
    "                break\n",
    "        \n",
    "        # M-step\n",
    "        mu_1 = np.sum(p_z_1 * x) / np.sum(p_z_1)\n",
    "        mu_2 = np.sum((1-p_z_1) * x) / np.sum(1-p_z_1)\n",
    "        sigma2_1 = np.sum((x - mu_1) ** 2 * p_z_1)/ np.sum(p_z_1)\n",
    "        sigma2_2 = np.sum((x - mu_2) ** 2 * (1-p_z_1))/ np.sum(1 - p_z_1)\n",
    "        p1 = np.sum(p_z_1) / len(x)\n",
    "        theta_new = np.array([mu_1, sigma2_1, mu_2, sigma2_2, p1])\n",
    "        \n",
    "        theta = theta_new\n",
    "    \n",
    "    return (theta, Q_history)"
   ]
  },
  {
   "cell_type": "code",
   "execution_count": 46,
   "metadata": {},
   "outputs": [
    {
     "name": "stdout",
     "output_type": "stream",
     "text": [
      "[-11.33360604 -18.01236562  -1.60944437  -1.80542949  -1.80542949\n",
      "  -3.13214542 -26.40981137 -61.91426567]\n",
      "[-2.52250717 -2.32610765 -4.29308925 -5.27707778 -5.27707778 -3.50599797\n",
      " -2.32660538 -3.50948207]\n",
      "[-11.38534564 -18.09345395  -1.61212657  -1.8047555   -1.8047555\n",
      "  -3.14468195 -26.52674656 -62.17773027]\n",
      "[-2.51953351 -2.32541681 -4.27842131 -5.25689648 -5.25689648 -3.49603576\n",
      " -2.32738973 -3.50984621]\n"
     ]
    }
   ],
   "source": [
    "theta, Q = EM(x, theta)"
   ]
  },
  {
   "cell_type": "code",
   "execution_count": 47,
   "metadata": {},
   "outputs": [
    {
     "data": {
      "text/plain": [
       "array([1.61165701, 0.57964821, 6.48993868, 5.09970904, 0.43354173])"
      ]
     },
     "execution_count": 47,
     "metadata": {},
     "output_type": "execute_result"
    }
   ],
   "source": [
    "theta"
   ]
  },
  {
   "cell_type": "code",
   "execution_count": 42,
   "metadata": {},
   "outputs": [
    {
     "data": {
      "text/plain": [
       "[-24.747440137139698,\n",
       " -21.067687179360867,\n",
       " -20.963201264803498,\n",
       " -20.742167854629315,\n",
       " -20.38937895155017,\n",
       " -19.87834123135289,\n",
       " -19.33472739697936,\n",
       " -19.170197957892725,\n",
       " -19.24171693918822,\n",
       " -19.314683776209936,\n",
       " -19.371566887934392,\n",
       " -19.41583426072262,\n",
       " -19.450848667173407,\n",
       " -19.479011369811907,\n",
       " -19.50200315419123,\n",
       " -19.521018928332065,\n",
       " -19.536925709437757,\n",
       " -19.550364980305154,\n",
       " -19.561819768722923,\n",
       " -19.57165954636698]"
      ]
     },
     "execution_count": 42,
     "metadata": {},
     "output_type": "execute_result"
    },
    {
     "data": {
      "image/png": "[encoded data removed]",
      "text/plain": [
       "<Figure size 432x288 with 1 Axes>"
      ]
     },
     "metadata": {},
     "output_type": "display_data"
    }
   ],
   "source": [
    "plt.plot(Q)\n",
    "Q"
   ]
  },
  {
   "cell_type": "markdown",
   "metadata": {},
   "source": [
    "Об объяснении такой динамики можно прочитать [здесь](https://stats.stackexchange.com/questions/341173/em-algorithm-seems-to-work-but-q-is-not-monotonic-possible-reasons)."
   ]
  },
  {
   "cell_type": "markdown",
   "metadata": {},
   "source": [
    "#### Тестирование EM-алгоритма на случайных данных."
   ]
  },
  {
   "cell_type": "code",
   "execution_count": 22,
   "metadata": {},
   "outputs": [
    {
     "data": {
      "text/plain": [
       "array([-3.56351666,  4.37320049,  5.18288431,  4.37320049,  0.5       ])"
      ]
     },
     "execution_count": 22,
     "metadata": {},
     "output_type": "execute_result"
    }
   ],
   "source": [
    "np.random.seed(1234)\n",
    "x1 = np.random.normal(0, 1, 100)\n",
    "x2 = np.random.normal(4, 0.5, 100)\n",
    "\n",
    "x = np.hstack((x1, x2))\n",
    "np.random.shuffle(x)\n",
    "\n",
    "theta = np.array([np.min(x), (np.max(x) - np.min(x)) / 2, np.max(x), (np.max(x) - np.min(x)) / 2, 1/2])\n",
    "theta"
   ]
  },
  {
   "cell_type": "code",
   "execution_count": 23,
   "metadata": {},
   "outputs": [],
   "source": [
    "theta, Q = EM(x, theta)"
   ]
  },
  {
   "cell_type": "code",
   "execution_count": 24,
   "metadata": {},
   "outputs": [
    {
     "data": {
      "text/plain": [
       "array([0.04256547, 1.01503608, 3.97557634, 0.24095056, 0.50103058])"
      ]
     },
     "execution_count": 24,
     "metadata": {},
     "output_type": "execute_result"
    }
   ],
   "source": [
    "theta"
   ]
  },
  {
   "cell_type": "code",
   "execution_count": 25,
   "metadata": {},
   "outputs": [
    {
     "data": {
      "text/plain": [
       "[<matplotlib.lines.Line2D at 0x7f744055e640>]"
      ]
     },
     "execution_count": 25,
     "metadata": {},
     "output_type": "execute_result"
    },
    {
     "data": {
      "image/png": "[encoded data removed]",
      "text/plain": [
       "<Figure size 432x288 with 1 Axes>"
      ]
     },
     "metadata": {},
     "output_type": "display_data"
    }
   ],
   "source": [
    "plt.plot(Q)"
   ]
  }
 ],
 "metadata": {
  "kernelspec": {
   "display_name": "Python 3",
   "language": "python",
   "name": "python3"
  },
  "language_info": {
   "codemirror_mode": {
    "name": "ipython",
    "version": 3
   },
   "file_extension": ".py",
   "mimetype": "text/x-python",
   "name": "python",
   "nbconvert_exporter": "python",
   "pygments_lexer": "ipython3",
   "version": "3.8.5"
  }
 },
 "nbformat": 4,
 "nbformat_minor": 4
}
