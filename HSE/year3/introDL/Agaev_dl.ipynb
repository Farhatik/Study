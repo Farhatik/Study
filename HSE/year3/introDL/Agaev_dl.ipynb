{
  "nbformat": 4,
  "nbformat_minor": 0,
  "metadata": {
    "accelerator": "GPU",
    "colab": {
      "name": "Agaev_dl.ipynb",
      "provenance": [],
      "collapsed_sections": []
    },
    "kernelspec": {
      "display_name": "Python 3",
      "language": "python",
      "name": "python3"
    },
    "language_info": {
      "codemirror_mode": {
        "name": "ipython",
        "version": 3
      },
      "file_extension": ".py",
      "mimetype": "text/x-python",
      "name": "python",
      "nbconvert_exporter": "python",
      "pygments_lexer": "ipython3",
      "version": "3.8.5"
    }
  },
  "cells": [
    {
      "cell_type": "markdown",
      "metadata": {
        "id": "MppAKucXkbLL"
      },
      "source": [
        "<a href=\"https://colab.research.google.com/github/HolyBayes/HSE_Intro2DL2021/blob/master/hometasks/assignment_1.ipynb\" target=\"_parent\"><img src=\"https://colab.research.google.com/assets/colab-badge.svg\" alt=\"Open In Colab\"/></a>"
      ]
    },
    {
      "cell_type": "markdown",
      "metadata": {
        "id": "CqWw3aP7wgOL"
      },
      "source": [
        "# 0. Подготовка данных (1 балл)\n",
        "\n",
        "Данные представляют собой набор первых 10 букв от A до J латинского алфавита (каждая буква - класс), написанных разными шрифтами. Ваша задача - написать классификатор для этих данных, определяющий буквы на изображении"
      ]
    },
    {
      "cell_type": "code",
      "metadata": {
        "colab": {
          "base_uri": "https://localhost:8080/"
        },
        "id": "7id2yGEAwgOS",
        "outputId": "f746ec90-1a2b-43ee-e5b5-64e194e23a2a"
      },
      "source": [
        "!wget http://yaroslavvb.com/upload/notMNIST/notMNIST_large.tar.gz\n",
        "!tar -xvf notMNIST_large.tar.gz >> /dev/null"
      ],
      "execution_count": 1,
      "outputs": [
        {
          "output_type": "stream",
          "text": [
            "--2021-02-02 23:12:32--  http://yaroslavvb.com/upload/notMNIST/notMNIST_large.tar.gz\n",
            "Resolving yaroslavvb.com (yaroslavvb.com)... 129.121.4.193\n",
            "Connecting to yaroslavvb.com (yaroslavvb.com)|129.121.4.193|:80... connected.\n",
            "HTTP request sent, awaiting response... 200 OK\n",
            "Length: 247336696 (236M) [application/x-gzip]\n",
            "Saving to: ‘notMNIST_large.tar.gz.5’\n",
            "\n",
            "notMNIST_large.tar. 100%[===================>] 235.88M  72.3MB/s    in 3.5s    \n",
            "\n",
            "2021-02-02 23:12:36 (67.1 MB/s) - ‘notMNIST_large.tar.gz.5’ saved [247336696/247336696]\n",
            "\n"
          ],
          "name": "stdout"
        }
      ]
    },
    {
      "cell_type": "code",
      "metadata": {
        "id": "tVhJaVMqDZwn"
      },
      "source": [
        "DATA_DIR = 'notMNIST_large/'"
      ],
      "execution_count": 2,
      "outputs": []
    },
    {
      "cell_type": "code",
      "metadata": {
        "id": "bf8Pgdia_bBH"
      },
      "source": [
        "from glob import glob\n",
        "from PIL import Image\n",
        "import os\n",
        "\n",
        "for img_path in glob(f'{DATA_DIR}/**/*.png'):\n",
        "  try:\n",
        "    img = Image.open(img_path)\n",
        "  except:\n",
        "    os.remove(img_path)"
      ],
      "execution_count": 3,
      "outputs": []
    },
    {
      "cell_type": "code",
      "metadata": {
        "colab": {
          "base_uri": "https://localhost:8080/",
          "height": 609
        },
        "id": "ECDy-LErwgOV",
        "outputId": "322bc0cc-37c3-4c02-8f21-d875415f6098"
      },
      "source": [
        "%matplotlib inline\n",
        "import matplotlib.pyplot as plt\n",
        "import cv2\n",
        "\n",
        "plt.figure(figsize=(17,10))\n",
        "letter = 'A'\n",
        "img = cv2.imread(os.path.join(DATA_DIR, letter, os.listdir(f'{DATA_DIR}/{letter}/')[0]))\n",
        "plt.imshow(img)"
      ],
      "execution_count": 4,
      "outputs": [
        {
          "output_type": "execute_result",
          "data": {
            "text/plain": [
              "<matplotlib.image.AxesImage at 0x7fdf89aa0d30>"
            ]
          },
          "metadata": {
            "tags": []
          },
          "execution_count": 4
        },
        {
          "output_type": "display_data",
          "data": {
            "image/png": "[encoded data removed]",
            "text/plain": [
              "<Figure size 1224x720 with 1 Axes>"
            ]
          },
          "metadata": {
            "tags": [],
            "needs_background": "light"
          }
        }
      ]
    },
    {
      "cell_type": "code",
      "metadata": {
        "id": "aW86XayR7m7E"
      },
      "source": [
        ""
      ],
      "execution_count": 4,
      "outputs": []
    },
    {
      "cell_type": "markdown",
      "metadata": {
        "id": "b-XmxjpiwgOV"
      },
      "source": [
        "# Модель (3 балла)"
      ]
    },
    {
      "cell_type": "code",
      "metadata": {
        "id": "hIWI5FDgwgOW"
      },
      "source": [
        "import os\n",
        "import keras\n",
        "from keras.models import Sequential\n",
        "from keras.preprocessing import image\n",
        "from keras.layers.core import Activation, Reshape, Dense, Flatten\n",
        "from keras.layers import Conv2D, MaxPool2D, InputLayer, BatchNormalization, Dropout, GlobalAveragePooling2D, GlobalMaxPool2D\n",
        "from keras.models import Model\n",
        "from keras.layers.advanced_activations import LeakyReLU\n",
        "\n",
        "n_classes = len(os.listdir(DATA_DIR))\n",
        "\n",
        "#https://www.youtube.com/watch?v=oOSXQP7C7ck\n",
        "#Индус, который помог сделать домашку)\n",
        "#на курсесе лаба - топчик\n",
        "\n",
        "\n",
        "model = Sequential()\n",
        "model.add(\n",
        "    Conv2D(\n",
        "        filters=8,\n",
        "        kernel_size=(3, 3), \n",
        "        padding=\"same\", \n",
        "        input_shape=(28, 28, 1))\n",
        "    )\n",
        "\n",
        "model.add(LeakyReLU(0.15))\n",
        "#***\n",
        "\n",
        "model.add(\n",
        "    MaxPool2D(\n",
        "        pool_size=(2, 2))\n",
        "    )\n",
        "model.add(Dropout(0.4))  \n",
        "#***\n",
        "\n",
        "model.add(\n",
        "    MaxPool2D(\n",
        "        pool_size=(2, 2))\n",
        "    )\n",
        "model.add(LeakyReLU(0.17))   \n",
        "#***\n",
        "\n",
        "model.add(\n",
        "    Conv2D(\n",
        "        filters=32, \n",
        "        kernel_size=(3, 3),\n",
        "        padding=\"same\"\n",
        "        )\n",
        "    )\n",
        "model.add(LeakyReLU(0.15))\n",
        "#***\n",
        "                                 \n",
        "model.add(\n",
        "    Conv2D(\n",
        "        filters=64, \n",
        "        kernel_size=(3, 3), \n",
        "        padding=\"same\")\n",
        ")              \n",
        "model.add(LeakyReLU(0.12))\n",
        "#***\n",
        "\n",
        "model.add(\n",
        "    MaxPool2D(\n",
        "        pool_size=(2, 2))\n",
        "    )\n",
        "model.add(LeakyReLU(0.17))\n",
        "#***\n",
        "\n",
        "model.add(\n",
        "    Conv2D(\n",
        "        filters=32, \n",
        "        kernel_size=(3, 3), \n",
        "        padding=\"same\"))\n",
        "model.add(LeakyReLU(0.3))\n",
        "\n",
        "\n",
        "model.add(\n",
        "    MaxPool2D(\n",
        "        pool_size=(2, 2))\n",
        "    )\n",
        "\n",
        "model.add(Conv2D(filters=64, \n",
        "                 kernel_size=(3, 3), \n",
        "                 padding=\"same\"))\n",
        "model.add(LeakyReLU(0.1))\n",
        "\n",
        "model.add(Flatten())\n",
        "model.add(Dense(4096))\n",
        "model.add(LeakyReLU(0.27))    \n",
        "\n",
        "\n",
        "\n",
        "#########################################  ИТОГ ВЫВОД                           \n",
        "model.add(Dense(n_classes))\n",
        "model.add(Activation(\"softmax\"))"
      ],
      "execution_count": 5,
      "outputs": []
    },
    {
      "cell_type": "code",
      "metadata": {
        "id": "umqGbJQ3c4z2"
      },
      "source": [
        ""
      ],
      "execution_count": 5,
      "outputs": []
    },
    {
      "cell_type": "markdown",
      "metadata": {
        "id": "Gjeg3rwEHCJp"
      },
      "source": [
        "# Аугментация данных (3 балла)\n",
        "\n",
        "train/val split должен быть 9/1 !"
      ]
    },
    {
      "cell_type": "code",
      "metadata": {
        "colab": {
          "base_uri": "https://localhost:8080/"
        },
        "id": "MgXqwmWpwgOW",
        "outputId": "80bca717-e344-435c-99b1-072a5f9b3574"
      },
      "source": [
        "from keras.preprocessing.image import ImageDataGenerator\n",
        "# Подсказка: train/val split удобно делать вот так https://stackoverflow.com/questions/53037510/can-flow-from-directory-get-train-and-validation-data-from-the-same-directory-in (самый залайканый ответ)\n",
        "\n",
        "\"\"\" Data generators initialization: for train and validation sets \"\"\"\n",
        "train_datagen = ImageDataGenerator(\n",
        "    rescale=1./255,\n",
        "    width_shift_range=0.07,\n",
        "    validation_split=0.1\n",
        "    )\n",
        "\n",
        "train_generator = train_datagen.flow_from_directory(\n",
        "    DATA_DIR, \n",
        "    target_size=(28, 28), \n",
        "    color_mode='grayscale', \n",
        "    subset='training', \n",
        "    seed=55\n",
        "    )\n",
        "\n",
        "valid_datagen =  ImageDataGenerator(\n",
        "    validation_split=0.1\n",
        "    )\n",
        "\n",
        "valid_generator = valid_datagen.flow_from_directory(\n",
        "    DATA_DIR, \n",
        "    target_size=(28, 28), \n",
        "    color_mode='grayscale', \n",
        "    subset='validation', \n",
        "    seed=55\n",
        "    )"
      ],
      "execution_count": 6,
      "outputs": [
        {
          "output_type": "stream",
          "text": [
            "Found 476205 images belonging to 10 classes.\n",
            "Found 52909 images belonging to 10 classes.\n"
          ],
          "name": "stdout"
        }
      ]
    },
    {
      "cell_type": "code",
      "metadata": {
        "id": "UbIhuNzByRwT",
        "colab": {
          "base_uri": "https://localhost:8080/"
        },
        "outputId": "ccd9ee51-da43-4b6c-8845-5ef5a7631024"
      },
      "source": [
        "model.summary()"
      ],
      "execution_count": 7,
      "outputs": [
        {
          "output_type": "stream",
          "text": [
            "Model: \"sequential\"\n",
            "_________________________________________________________________\n",
            "Layer (type)                 Output Shape              Param #   \n",
            "=================================================================\n",
            "conv2d (Conv2D)              (None, 28, 28, 8)         80        \n",
            "_________________________________________________________________\n",
            "leaky_re_lu (LeakyReLU)      (None, 28, 28, 8)         0         \n",
            "_________________________________________________________________\n",
            "max_pooling2d (MaxPooling2D) (None, 14, 14, 8)         0         \n",
            "_________________________________________________________________\n",
            "dropout (Dropout)            (None, 14, 14, 8)         0         \n",
            "_________________________________________________________________\n",
            "max_pooling2d_1 (MaxPooling2 (None, 7, 7, 8)           0         \n",
            "_________________________________________________________________\n",
            "leaky_re_lu_1 (LeakyReLU)    (None, 7, 7, 8)           0         \n",
            "_________________________________________________________________\n",
            "conv2d_1 (Conv2D)            (None, 7, 7, 32)          2336      \n",
            "_________________________________________________________________\n",
            "leaky_re_lu_2 (LeakyReLU)    (None, 7, 7, 32)          0         \n",
            "_________________________________________________________________\n",
            "conv2d_2 (Conv2D)            (None, 7, 7, 64)          18496     \n",
            "_________________________________________________________________\n",
            "leaky_re_lu_3 (LeakyReLU)    (None, 7, 7, 64)          0         \n",
            "_________________________________________________________________\n",
            "max_pooling2d_2 (MaxPooling2 (None, 3, 3, 64)          0         \n",
            "_________________________________________________________________\n",
            "leaky_re_lu_4 (LeakyReLU)    (None, 3, 3, 64)          0         \n",
            "_________________________________________________________________\n",
            "conv2d_3 (Conv2D)            (None, 3, 3, 32)          18464     \n",
            "_________________________________________________________________\n",
            "leaky_re_lu_5 (LeakyReLU)    (None, 3, 3, 32)          0         \n",
            "_________________________________________________________________\n",
            "max_pooling2d_3 (MaxPooling2 (None, 1, 1, 32)          0         \n",
            "_________________________________________________________________\n",
            "conv2d_4 (Conv2D)            (None, 1, 1, 64)          18496     \n",
            "_________________________________________________________________\n",
            "leaky_re_lu_6 (LeakyReLU)    (None, 1, 1, 64)          0         \n",
            "_________________________________________________________________\n",
            "flatten (Flatten)            (None, 64)                0         \n",
            "_________________________________________________________________\n",
            "dense (Dense)                (None, 4096)              266240    \n",
            "_________________________________________________________________\n",
            "leaky_re_lu_7 (LeakyReLU)    (None, 4096)              0         \n",
            "_________________________________________________________________\n",
            "dense_1 (Dense)              (None, 10)                40970     \n",
            "_________________________________________________________________\n",
            "activation (Activation)      (None, 10)                0         \n",
            "=================================================================\n",
            "Total params: 365,082\n",
            "Trainable params: 365,082\n",
            "Non-trainable params: 0\n",
            "_________________________________________________________________\n"
          ],
          "name": "stdout"
        }
      ]
    },
    {
      "cell_type": "markdown",
      "metadata": {
        "id": "24VNfcMWHaKJ"
      },
      "source": [
        "# Обучение модели\n",
        "\n",
        "val_accuracy > 0.85 - 1 балл\n",
        "\n",
        "val_accuracy > 0.88 - 2 балла\n",
        "\n",
        "val_accuracy > 0.91 - 3 балла\n",
        "\n",
        "val_accuracy > 0.92 - 4 балла\n",
        "\n",
        "\n",
        "**Максимальный суммарный балл** - 11\n",
        "\n",
        "**Финальная оценка**: min(суммарный балл, 10)\n"
      ]
    },
    {
      "cell_type": "code",
      "metadata": {
        "colab": {
          "base_uri": "https://localhost:8080/"
        },
        "id": "JeANKvriwgOX",
        "outputId": "3c52c9c7-4376-4b65-c7f1-cef33a04aeb4"
      },
      "source": [
        "from keras.callbacks import EarlyStopping, ModelCheckpoint\n",
        "\n",
        "step_size_train = (train_generator.n // train_generator.batch_size)\n",
        "step_size_valid = (valid_generator.n // valid_generator.batch_size)\n",
        "\n",
        "model.compile(loss='categorical_crossentropy', optimizer=keras.optimizers.Adamax(lr=1e-3), metrics=['accuracy'])\n",
        "\n",
        "history = model.fit_generator(\n",
        "    train_generator,\n",
        "    steps_per_epoch=step_size_train,\n",
        "    epochs=4,\n",
        "    validation_data=valid_generator,\n",
        "    validation_steps=step_size_valid,\n",
        ")"
      ],
      "execution_count": 8,
      "outputs": [
        {
          "output_type": "stream",
          "text": [
            "Epoch 1/4\n"
          ],
          "name": "stdout"
        },
        {
          "output_type": "stream",
          "text": [
            "/usr/local/lib/python3.6/dist-packages/tensorflow/python/keras/engine/training.py:1844: UserWarning: `Model.fit_generator` is deprecated and will be removed in a future version. Please use `Model.fit`, which supports generators.\n",
            "  warnings.warn('`Model.fit_generator` is deprecated and '\n"
          ],
          "name": "stderr"
        },
        {
          "output_type": "stream",
          "text": [
            "14881/14881 [==============================] - 228s 15ms/step - loss: 0.5811 - accuracy: 0.8225 - val_loss: 13.8407 - val_accuracy: 0.9107\n",
            "Epoch 2/4\n",
            "14881/14881 [==============================] - 225s 15ms/step - loss: 0.3496 - accuracy: 0.8916 - val_loss: 15.5684 - val_accuracy: 0.9142\n",
            "Epoch 3/4\n",
            "14881/14881 [==============================] - 227s 15ms/step - loss: 0.3215 - accuracy: 0.8999 - val_loss: 14.6225 - val_accuracy: 0.9168\n",
            "Epoch 4/4\n",
            "14881/14881 [==============================] - 228s 15ms/step - loss: 0.3042 - accuracy: 0.9049 - val_loss: 14.9349 - val_accuracy: 0.9200\n"
          ],
          "name": "stdout"
        }
      ]
    },
    {
      "cell_type": "code",
      "metadata": {
        "id": "oBJRKRHEzT-h"
      },
      "source": [
        "\n",
        "\n"
      ],
      "execution_count": 8,
      "outputs": []
    },
    {
      "cell_type": "code",
      "metadata": {
        "id": "uykdRFnsuezz"
      },
      "source": [
        ""
      ],
      "execution_count": 8,
      "outputs": []
    }
  ]
}