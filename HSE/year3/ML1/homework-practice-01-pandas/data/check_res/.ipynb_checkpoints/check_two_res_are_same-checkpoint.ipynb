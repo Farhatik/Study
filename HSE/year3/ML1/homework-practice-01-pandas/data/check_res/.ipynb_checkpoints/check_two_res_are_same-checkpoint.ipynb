{
 "cells": [
  {
   "cell_type": "code",
   "execution_count": 6,
   "metadata": {},
   "outputs": [],
   "source": [
    "import pandas as pd\n",
    "\n",
    "df = pd.read_excel('../res_fall_first_wave.xlsx')\n",
    "df.fillna('-', inplace = True)\n",
    "df.to_excel('res333.xlsx', index = None)\n",
    "def compare_files(file_1: str, file_2: str) -> None:\n",
    "    counter = 0\n",
    "    \"\"\"\n",
    "    Считаю, что в обоих файлах есть столбцы 'ID', 'course1', 'course2'.\n",
    "    Проверяю, что все студенты записаны на одинаковые курсы и что нет дубликатов студентов в обеих таблицах.\n",
    "    \"\"\"\n",
    "    try:\n",
    "        results_1, results_2 = pd.read_excel(file_1), pd.read_excel(file_2)\n",
    "    except FileNotFoundError:\n",
    "        print('За дурака меня не держи, давай валидный файл.')\n",
    "        return\n",
    "        \n",
    "    if results_1.shape != results_2.shape:\n",
    "        print('Размеры таблиц не сходятся:')\n",
    "        print(f\"\\tРазмер '{file_1}': {results_1.shape},\\n\\tРазмер '{file_2}': {results_2.shape}.\")\n",
    "        return\n",
    "\n",
    "    students_count = results_1.shape[0]\n",
    "\n",
    "    results_1.sort_values('ID', inplace=True)\n",
    "    results_2.sort_values('ID', inplace=True)\n",
    "    \n",
    "    unique_students_1, unique_students_2 = results_1['ID'].unique(), results_2['ID'].unique()\n",
    "\n",
    "    if unique_students_1.size != students_count:\n",
    "        print(f\"В файле '{file_1}' есть дубликаты студентов.\")\n",
    "        return\n",
    "    if unique_students_2.size != students_count:\n",
    "        print(f\"В файле '{file_2}' есть дубликаты студентов.\")\n",
    "        return\n",
    "\n",
    "    if list(unique_students_1) != list(unique_students_2):\n",
    "        print('Списки студентов в файлах не сходится.')\n",
    "        return\n",
    "\n",
    "    courses_1, courses_2 = results_1.values, results_2.values\n",
    "\n",
    "    any_errors = False\n",
    "    for index in range(students_count):\n",
    "        course_list_1, course_list_2 = courses_1[index], courses_2[index]\n",
    "\n",
    "        if (course_list_1[1] == course_list_2[1] and course_list_1[2] == course_list_2[2]) or \\\n",
    "            (course_list_1[1] == course_list_2[2] and course_list_1[2] == course_list_2[1]):\n",
    "            continue\n",
    "\n",
    "        any_errors = True\n",
    "        print(f\"У студента '{course_list_1[0]}' курсы:\\n\"\n",
    "              f\"\\tв таблице '{file_1}': ['{course_list_1[1]}', '{course_list_1[2]}'],\\n\"\n",
    "              f\"\\tв таблице '{file_2}': ['{course_list_2[1]}', '{course_list_2[2]}'].\"\n",
    "        )\n",
    "        counter += 1\n",
    "\n",
    "    if not any_errors:\n",
    "        print('Всё сошлось.')\n",
    "    return counter"
   ]
  },
  {
   "cell_type": "code",
   "execution_count": 8,
   "metadata": {
    "scrolled": false
   },
   "outputs": [
    {
     "name": "stdout",
     "output_type": "stream",
     "text": [
      "У студента '42df9e301b39e4295fe849aa2abdfc7c' курсы:\n",
      "\tв таблице './res_spring.xlsx': ['Численные методы', '-'],\n",
      "\tв таблице '../res_spring.xlsx': ['Промышленное программирование на языке Java', '-'].\n",
      "У студента '5daee1bd98559bb2c52373e416942225' курсы:\n",
      "\tв таблице './res_spring.xlsx': ['Анализ данных в бизнесе', '-'],\n",
      "\tв таблице '../res_spring.xlsx': ['Дополнительные главы прикладной статистики', '-'].\n",
      "У студента 'abceddfa2fc4eae8cff4a4e712abb3fb' курсы:\n",
      "\tв таблице './res_spring.xlsx': ['Промышленное программирование на языке Java', '-'],\n",
      "\tв таблице '../res_spring.xlsx': ['Дополнительные главы прикладной статистики', '-'].\n",
      "У студента 'f0f6f3881894172a0f04e79b554b49e6' курсы:\n",
      "\tв таблице './res_spring.xlsx': ['Численные методы', '-'],\n",
      "\tв таблице '../res_spring.xlsx': ['Дополнительные главы прикладной статистики', '-'].\n"
     ]
    },
    {
     "data": {
      "text/plain": [
       "4"
      ]
     },
     "execution_count": 8,
     "metadata": {},
     "output_type": "execute_result"
    }
   ],
   "source": [
    "compare_files('./res_spring.xlsx', '../res_spring.xlsx')"
   ]
  },
  {
   "cell_type": "code",
   "execution_count": 4,
   "metadata": {},
   "outputs": [],
   "source": [
    "df_res = pd.read_excel('res_fall.xlsx')\n",
    "df_res.sort_values('ID', inplace = True)"
   ]
  },
  {
   "cell_type": "code",
   "execution_count": 24,
   "metadata": {},
   "outputs": [],
   "source": [
    "pd.options.display.max_rows = 999"
   ]
  },
  {
   "cell_type": "code",
   "execution_count": null,
   "metadata": {},
   "outputs": [],
   "source": []
  }
 ],
 "metadata": {
  "kernelspec": {
   "display_name": "Python 3",
   "language": "python",
   "name": "python3"
  },
  "language_info": {
   "codemirror_mode": {
    "name": "ipython",
    "version": 3
   },
   "file_extension": ".py",
   "mimetype": "text/x-python",
   "name": "python",
   "nbconvert_exporter": "python",
   "pygments_lexer": "ipython3",
   "version": "3.7.6"
  }
 },
 "nbformat": 4,
 "nbformat_minor": 4
}
