{
 "cells": [
  {
   "cell_type": "code",
   "execution_count": null,
   "metadata": {},
   "outputs": [],
   "source": [
    "from telegram import Update\n",
    "from telegram import KeyboardButton\n",
    "from telegram import ReplyKeyboardMarkup\n",
    "from telegram.ext import Updater\n",
    "from telegram.ext import CallbackContext\n",
    "from telegram.ext import Filters\n",
    "from telegram.ext import MessageHandler\n",
    "\n",
    "button_help = 'Починить бота!'\n",
    "\n",
    "def message_handler(udpate: Update, context: CallbackContext):\n",
    "    reply_markup = ReplyKeyboardMarkup(\n",
    "        keyboard=[\n",
    "            [\n",
    "                KeyboardButton(text=button_help),\n",
    "            ],\n",
    "        ],\n",
    "        resize_keyboard=True,\n",
    "    )\n",
    "\n",
    "    udpate.message.reply_text(\n",
    "        text='Бот в разработке',\n",
    "        reply_markup=reply_markup,\n",
    "    )\n",
    "\n",
    "\n",
    "def main():\n",
    "    updater = Updater(\n",
    "        token='1529712763:AAF-v-gV_ul1oyTOcfu4HsVjKhDfoulmY-s',\n",
    "        use_context=True\n",
    "    )\n",
    "    updater.dispatcher.add_handler(\n",
    "        MessageHandler(\n",
    "            filters=Filters.all,\n",
    "            callback=message_handler\n",
    "        )\n",
    "    )\n",
    "\n",
    "    updater.start_polling()\n",
    "    updater.idle()\n",
    "\n",
    "\n",
    "if __name__ == '__main__':\n",
    "    main()\n",
    "\n",
    "\n",
    "\n",
    "\n"
   ]
  },
  {
   "cell_type": "code",
   "execution_count": null,
   "metadata": {},
   "outputs": [],
   "source": []
  }
 ],
 "metadata": {
  "kernelspec": {
   "display_name": "Python 3",
   "language": "python",
   "name": "python3"
  },
  "language_info": {
   "codemirror_mode": {
    "name": "ipython",
    "version": 3
   },
   "file_extension": ".py",
   "mimetype": "text/x-python",
   "name": "python",
   "nbconvert_exporter": "python",
   "pygments_lexer": "ipython3",
   "version": "3.8.5"
  }
 },
 "nbformat": 4,
 "nbformat_minor": 4
}
