{
 "cells": [
  {
   "cell_type": "code",
   "execution_count": 1,
   "metadata": {},
   "outputs": [],
   "source": [
    "import pandas as pd"
   ]
  },
  {
   "cell_type": "code",
   "execution_count": 2,
   "metadata": {},
   "outputs": [
    {
     "name": "stdout",
     "output_type": "stream",
     "text": [
      "STORE_LOCATION.csv               sample_submission.csv\r\n",
      "Untitled.ipynb                   test.csv\r\n",
      "demand-forecasting-in-retail.zip train.csv\r\n"
     ]
    }
   ],
   "source": [
    "!ls"
   ]
  },
  {
   "cell_type": "code",
   "execution_count": 8,
   "metadata": {},
   "outputs": [],
   "source": [
    "df = pd.read_csv('train.csv').drop(columns=['Unnamed: 0'])"
   ]
  },
  {
   "cell_type": "code",
   "execution_count": 10,
   "metadata": {},
   "outputs": [],
   "source": [
    "df1 = pd.read_csv('test.csv')"
   ]
  },
  {
   "cell_type": "code",
   "execution_count": 30,
   "metadata": {},
   "outputs": [
    {
     "data": {
      "text/plain": [
       "product_rk              0\n",
       "store_location_rk       0\n",
       "period_start_dt         0\n",
       "demand               1200\n",
       "PROMO1_FLAG           185\n",
       "PROMO2_FLAG           185\n",
       "PRICE_REGULAR        1127\n",
       "PRICE_AFTER_DISC     1132\n",
       "NUM_CONSULTANT        185\n",
       "AUTORIZATION_FLAG     185\n",
       "dtype: int64"
      ]
     },
     "execution_count": 30,
     "metadata": {},
     "output_type": "execute_result"
    }
   ],
   "source": [
    "df.isna().sum()"
   ]
  },
  {
   "cell_type": "code",
   "execution_count": 23,
   "metadata": {},
   "outputs": [
    {
     "data": {
      "text/plain": [
       "array(['2016-12-19', '2016-12-26', '2017-01-02', '2017-01-09',\n",
       "       '2017-01-16', '2017-01-23', '2017-01-30', '2017-02-06',\n",
       "       '2017-02-13', '2017-02-20', '2017-02-27', '2017-03-06',\n",
       "       '2017-03-13', '2017-03-20', '2017-03-27', '2017-04-03',\n",
       "       '2017-04-10', '2017-04-17', '2017-04-24', '2017-05-01',\n",
       "       '2017-05-08', '2017-05-15', '2017-05-22', '2017-05-29',\n",
       "       '2017-06-05', '2017-06-12', '2017-06-19', '2017-06-26',\n",
       "       '2017-07-03', '2017-07-10', '2017-07-17', '2017-07-24',\n",
       "       '2017-07-31', '2017-08-07', '2017-08-14', '2017-08-21',\n",
       "       '2017-08-28', '2017-09-04', '2017-09-11', '2017-09-18',\n",
       "       '2017-09-25', '2017-10-02', '2017-10-09', '2017-10-16',\n",
       "       '2017-10-23', '2017-10-30', '2017-11-06', '2017-11-13',\n",
       "       '2017-11-20', '2017-11-27', '2017-12-04', '2017-12-11',\n",
       "       '2017-12-18', '2017-12-25', '2018-01-01', '2018-01-08',\n",
       "       '2018-01-15', '2018-01-22', '2018-01-29', '2018-02-05',\n",
       "       '2018-02-12', '2018-02-19', '2018-02-26', '2018-03-05',\n",
       "       '2018-03-12', '2018-03-19', '2018-03-26', '2018-04-02',\n",
       "       '2018-04-09', '2018-04-16', '2018-04-23', '2018-04-30',\n",
       "       '2018-05-07', '2018-05-14', '2018-05-21', '2018-05-28',\n",
       "       '2018-06-04', '2018-06-11', '2018-06-18', '2018-06-25',\n",
       "       '2018-07-02', '2018-07-09', '2018-07-16', '2018-07-23',\n",
       "       '2018-07-30', '2018-08-06', '2018-08-13', '2018-08-20',\n",
       "       '2018-08-27', '2018-09-03', '2018-09-10', '2018-09-17',\n",
       "       '2018-09-24', '2018-10-01', '2018-10-08', '2018-10-15',\n",
       "       '2018-10-22', '2018-10-29', '2018-11-05', '2018-11-12',\n",
       "       '2018-11-19', '2018-11-26', '2018-12-03', '2018-12-10',\n",
       "       '2018-12-17', '2018-12-24', '2018-12-31', '2019-01-07',\n",
       "       '2019-01-14', '2019-01-21', '2019-01-28', '2019-02-04',\n",
       "       '2019-02-11', '2019-02-18', '2019-02-25', '2019-03-04',\n",
       "       '2019-03-11', '2019-03-18', '2019-03-25', '2019-04-01',\n",
       "       '2019-04-08', '2019-04-15', '2019-04-22', '2019-04-29',\n",
       "       '2019-05-06', '2019-05-13', '2019-05-20', '2019-05-27',\n",
       "       '2019-06-03', '2019-06-10', '2019-06-17', '2019-06-24',\n",
       "       '2019-07-01', '2019-07-08', '2019-07-15', '2019-07-22',\n",
       "       '2019-07-29', '2019-08-05', '2019-08-12', '2019-08-19',\n",
       "       '2019-08-26', '2019-09-02', '2019-09-09', '2019-09-16',\n",
       "       '2019-09-23', '2019-09-30', '2019-10-07', '2019-10-14',\n",
       "       '2019-10-21', '2019-10-28', '2019-11-04', '2019-11-11',\n",
       "       '2019-11-18', '2019-11-25', '2019-12-02', '2019-12-09',\n",
       "       '2019-12-16', '2019-12-23', '2019-12-30'], dtype=object)"
      ]
     },
     "execution_count": 23,
     "metadata": {},
     "output_type": "execute_result"
    }
   ],
   "source": [
    "df.product_rk.unique()\n",
    "df.store_location_rk.unique()\n",
    "df.period_start_dt.unique()"
   ]
  },
  {
   "cell_type": "code",
   "execution_count": 25,
   "metadata": {},
   "outputs": [
    {
     "data": {
      "text/plain": [
       "array(['02.12.2019', '09.12.2019', '16.12.2019', '23.12.2019',\n",
       "       '30.12.2019', '06.01.2020'], dtype=object)"
      ]
     },
     "execution_count": 25,
     "metadata": {},
     "output_type": "execute_result"
    }
   ],
   "source": [
    "df1.period_start_dt.unique()"
   ]
  },
  {
   "cell_type": "code",
   "execution_count": 28,
   "metadata": {},
   "outputs": [
    {
     "data": {
      "text/plain": [
       "array([  908,   909,   910, ..., 35545, 35546, 35547])"
      ]
     },
     "execution_count": 28,
     "metadata": {},
     "output_type": "execute_result"
    }
   ],
   "source": [
    "df1.id.unique()"
   ]
  },
  {
   "cell_type": "code",
   "execution_count": 33,
   "metadata": {},
   "outputs": [
    {
     "data": {
      "text/plain": [
       "array(['02.12.2019', '09.12.2019', '16.12.2019', '23.12.2019',\n",
       "       '30.12.2019', '06.01.2020'], dtype=object)"
      ]
     },
     "execution_count": 33,
     "metadata": {},
     "output_type": "execute_result"
    }
   ],
   "source": [
    "df1.period_start_dt.unique()"
   ]
  },
  {
   "cell_type": "code",
   "execution_count": null,
   "metadata": {},
   "outputs": [],
   "source": []
  }
 ],
 "metadata": {
  "kernelspec": {
   "display_name": "Python 3",
   "language": "python",
   "name": "python3"
  },
  "language_info": {
   "codemirror_mode": {
    "name": "ipython",
    "version": 3
   },
   "file_extension": ".py",
   "mimetype": "text/x-python",
   "name": "python",
   "nbconvert_exporter": "python",
   "pygments_lexer": "ipython3",
   "version": "3.8.5"
  }
 },
 "nbformat": 4,
 "nbformat_minor": 4
}
