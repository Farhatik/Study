{
 "cells": [
  {
   "cell_type": "markdown",
   "metadata": {},
   "source": [
    "### Скоринговая модель, оценивающая вероятность дефолта клиента на стадии заведения кредитной заявки"
   ]
  },
  {
   "cell_type": "markdown",
   "metadata": {},
   "source": [
    "### 20 вариант"
   ]
  },
  {
   "cell_type": "markdown",
   "metadata": {},
   "source": [
    "# Данный большой блок не нужно запускать (все упадет, ибо все почитано после в коде), тут просто ответы. Далее блок с кодом, который работает и запускается последовательно."
   ]
  },
  {
   "cell_type": "markdown",
   "metadata": {},
   "source": [
    "## 1. Какая доля 1 в выборке \"accept\"? \n",
    "   `0.021411`"
   ]
  },
  {
   "cell_type": "markdown",
   "metadata": {},
   "source": [
    "## 2. Необходимо рассчитать для всех интервальных переменных следующее:\n",
    "  - Доля пропущенных значений \n",
    "  - Медиана\n",
    "  - Среднее\n",
    "  - Среднеквадратическое отклонение\n",
    "  - Есть ли аномальные значения, выбросы? \n",
    "  - Information Value"
   ]
  },
  {
   "cell_type": "markdown",
   "metadata": {},
   "source": [
    "Рассмотрим статистику для accept выборки"
   ]
  },
  {
   "cell_type": "code",
   "execution_count": 351,
   "metadata": {},
   "outputs": [
    {
     "data": {
      "text/html": [
       "<div>\n",
       "<style scoped>\n",
       "    .dataframe tbody tr th:only-of-type {\n",
       "        vertical-align: middle;\n",
       "    }\n",
       "\n",
       "    .dataframe tbody tr th {\n",
       "        vertical-align: top;\n",
       "    }\n",
       "\n",
       "    .dataframe thead th {\n",
       "        text-align: right;\n",
       "    }\n",
       "</style>\n",
       "<table border=\"1\" class=\"dataframe\">\n",
       "  <thead>\n",
       "    <tr style=\"text-align: right;\">\n",
       "      <th></th>\n",
       "      <th>income</th>\n",
       "      <th>age</th>\n",
       "      <th>experience</th>\n",
       "      <th>count_mnth_act_passport</th>\n",
       "      <th>COUNT_ACTIVE_CREDIT_NO_CC</th>\n",
       "      <th>inquiry_14_day</th>\n",
       "      <th>inquiry_21_day</th>\n",
       "      <th>CNT_MNTH_FROM_LAST_PMNT</th>\n",
       "    </tr>\n",
       "  </thead>\n",
       "  <tbody>\n",
       "    <tr>\n",
       "      <th>Доля пропущенных значений</th>\n",
       "      <td>0.020059</td>\n",
       "      <td>0.000000</td>\n",
       "      <td>0.001597</td>\n",
       "      <td>0.000000</td>\n",
       "      <td>0.256098</td>\n",
       "      <td>0.281194</td>\n",
       "      <td>0.281194</td>\n",
       "      <td>0.310069</td>\n",
       "    </tr>\n",
       "    <tr>\n",
       "      <th>Медиана</th>\n",
       "      <td>41576.000000</td>\n",
       "      <td>34.761213</td>\n",
       "      <td>3.227397</td>\n",
       "      <td>7.743169</td>\n",
       "      <td>0.000000</td>\n",
       "      <td>0.000000</td>\n",
       "      <td>0.000000</td>\n",
       "      <td>0.925482</td>\n",
       "    </tr>\n",
       "    <tr>\n",
       "      <th>Среднее</th>\n",
       "      <td>61549.858374</td>\n",
       "      <td>36.480220</td>\n",
       "      <td>4.891766</td>\n",
       "      <td>7.225088</td>\n",
       "      <td>0.670645</td>\n",
       "      <td>0.360427</td>\n",
       "      <td>0.427094</td>\n",
       "      <td>19.073305</td>\n",
       "    </tr>\n",
       "    <tr>\n",
       "      <th>Среднеквадратическое отклонение</th>\n",
       "      <td>103602.754773</td>\n",
       "      <td>8.228790</td>\n",
       "      <td>5.301986</td>\n",
       "      <td>3.348552</td>\n",
       "      <td>0.835817</td>\n",
       "      <td>0.610469</td>\n",
       "      <td>0.690228</td>\n",
       "      <td>134.960214</td>\n",
       "    </tr>\n",
       "  </tbody>\n",
       "</table>\n",
       "</div>"
      ],
      "text/plain": [
       "                                        income        age  experience  \\\n",
       "Доля пропущенных значений             0.020059   0.000000    0.001597   \n",
       "Медиана                           41576.000000  34.761213    3.227397   \n",
       "Среднее                           61549.858374  36.480220    4.891766   \n",
       "Среднеквадратическое отклонение  103602.754773   8.228790    5.301986   \n",
       "\n",
       "                                 count_mnth_act_passport  \\\n",
       "Доля пропущенных значений                       0.000000   \n",
       "Медиана                                         7.743169   \n",
       "Среднее                                         7.225088   \n",
       "Среднеквадратическое отклонение                 3.348552   \n",
       "\n",
       "                                 COUNT_ACTIVE_CREDIT_NO_CC  inquiry_14_day  \\\n",
       "Доля пропущенных значений                         0.256098        0.281194   \n",
       "Медиана                                           0.000000        0.000000   \n",
       "Среднее                                           0.670645        0.360427   \n",
       "Среднеквадратическое отклонение                   0.835817        0.610469   \n",
       "\n",
       "                                 inquiry_21_day  CNT_MNTH_FROM_LAST_PMNT  \n",
       "Доля пропущенных значений              0.281194                 0.310069  \n",
       "Медиана                                0.000000                 0.925482  \n",
       "Среднее                                0.427094                19.073305  \n",
       "Среднеквадратическое отклонение        0.690228               134.960214  "
      ]
     },
     "execution_count": 351,
     "metadata": {},
     "output_type": "execute_result"
    }
   ],
   "source": [
    "#Чтобы данная клетка заработала нужно запустить код, который идет после ответов\n",
    "accept_stats"
   ]
  },
  {
   "cell_type": "markdown",
   "metadata": {},
   "source": [
    "Рассмотрим статистику для reject выборки"
   ]
  },
  {
   "cell_type": "code",
   "execution_count": 353,
   "metadata": {},
   "outputs": [
    {
     "data": {
      "text/html": [
       "<div>\n",
       "<style scoped>\n",
       "    .dataframe tbody tr th:only-of-type {\n",
       "        vertical-align: middle;\n",
       "    }\n",
       "\n",
       "    .dataframe tbody tr th {\n",
       "        vertical-align: top;\n",
       "    }\n",
       "\n",
       "    .dataframe thead th {\n",
       "        text-align: right;\n",
       "    }\n",
       "</style>\n",
       "<table border=\"1\" class=\"dataframe\">\n",
       "  <thead>\n",
       "    <tr style=\"text-align: right;\">\n",
       "      <th></th>\n",
       "      <th>income</th>\n",
       "      <th>age</th>\n",
       "      <th>experience</th>\n",
       "      <th>count_mnth_act_passport</th>\n",
       "      <th>COUNT_ACTIVE_CREDIT_NO_CC</th>\n",
       "      <th>inquiry_14_day</th>\n",
       "      <th>inquiry_21_day</th>\n",
       "      <th>CNT_MNTH_FROM_LAST_PMNT</th>\n",
       "    </tr>\n",
       "  </thead>\n",
       "  <tbody>\n",
       "    <tr>\n",
       "      <th>Доля пропущенных значений</th>\n",
       "      <td>0.051061</td>\n",
       "      <td>0.000000</td>\n",
       "      <td>0.000748</td>\n",
       "      <td>0.000000</td>\n",
       "      <td>0.412232</td>\n",
       "      <td>0.430562</td>\n",
       "      <td>0.430562</td>\n",
       "      <td>0.511269</td>\n",
       "    </tr>\n",
       "    <tr>\n",
       "      <th>Медиана</th>\n",
       "      <td>29115.000000</td>\n",
       "      <td>24.109290</td>\n",
       "      <td>1.225735</td>\n",
       "      <td>3.713115</td>\n",
       "      <td>0.000000</td>\n",
       "      <td>0.000000</td>\n",
       "      <td>0.000000</td>\n",
       "      <td>0.864539</td>\n",
       "    </tr>\n",
       "    <tr>\n",
       "      <th>Среднее</th>\n",
       "      <td>33651.242633</td>\n",
       "      <td>24.037108</td>\n",
       "      <td>1.660079</td>\n",
       "      <td>3.509274</td>\n",
       "      <td>0.540971</td>\n",
       "      <td>0.340614</td>\n",
       "      <td>0.414025</td>\n",
       "      <td>42.478167</td>\n",
       "    </tr>\n",
       "    <tr>\n",
       "      <th>Среднеквадратическое отклонение</th>\n",
       "      <td>21821.837966</td>\n",
       "      <td>0.738261</td>\n",
       "      <td>1.394135</td>\n",
       "      <td>1.154384</td>\n",
       "      <td>0.730867</td>\n",
       "      <td>0.619647</td>\n",
       "      <td>0.708179</td>\n",
       "      <td>228.831924</td>\n",
       "    </tr>\n",
       "  </tbody>\n",
       "</table>\n",
       "</div>"
      ],
      "text/plain": [
       "                                       income        age  experience  \\\n",
       "Доля пропущенных значений            0.051061   0.000000    0.000748   \n",
       "Медиана                          29115.000000  24.109290    1.225735   \n",
       "Среднее                          33651.242633  24.037108    1.660079   \n",
       "Среднеквадратическое отклонение  21821.837966   0.738261    1.394135   \n",
       "\n",
       "                                 count_mnth_act_passport  \\\n",
       "Доля пропущенных значений                       0.000000   \n",
       "Медиана                                         3.713115   \n",
       "Среднее                                         3.509274   \n",
       "Среднеквадратическое отклонение                 1.154384   \n",
       "\n",
       "                                 COUNT_ACTIVE_CREDIT_NO_CC  inquiry_14_day  \\\n",
       "Доля пропущенных значений                         0.412232        0.430562   \n",
       "Медиана                                           0.000000        0.000000   \n",
       "Среднее                                           0.540971        0.340614   \n",
       "Среднеквадратическое отклонение                   0.730867        0.619647   \n",
       "\n",
       "                                 inquiry_21_day  CNT_MNTH_FROM_LAST_PMNT  \n",
       "Доля пропущенных значений              0.430562                 0.511269  \n",
       "Медиана                                0.000000                 0.864539  \n",
       "Среднее                                0.414025                42.478167  \n",
       "Среднеквадратическое отклонение        0.708179               228.831924  "
      ]
     },
     "execution_count": 353,
     "metadata": {},
     "output_type": "execute_result"
    }
   ],
   "source": [
    "reject_stats"
   ]
  },
  {
   "cell_type": "markdown",
   "metadata": {},
   "source": [
    "Рассмотрим анамольные значения дял выборки accept (**чуть дальше в коде, очень много графиков, где все подробно описано**)"
   ]
  },
  {
   "cell_type": "code",
   "execution_count": 711,
   "metadata": {},
   "outputs": [
    {
     "data": {
      "text/html": [
       "<div>\n",
       "<style scoped>\n",
       "    .dataframe tbody tr th:only-of-type {\n",
       "        vertical-align: middle;\n",
       "    }\n",
       "\n",
       "    .dataframe tbody tr th {\n",
       "        vertical-align: top;\n",
       "    }\n",
       "\n",
       "    .dataframe thead th {\n",
       "        text-align: right;\n",
       "    }\n",
       "</style>\n",
       "<table border=\"1\" class=\"dataframe\">\n",
       "  <thead>\n",
       "    <tr style=\"text-align: right;\">\n",
       "      <th></th>\n",
       "      <th>target</th>\n",
       "      <th>INCOME_TYPE</th>\n",
       "      <th>EDUCATION_</th>\n",
       "      <th>CUSTOMER_CATEGORY_</th>\n",
       "      <th>income</th>\n",
       "      <th>DEPENDANT_NUMBER</th>\n",
       "      <th>IS_EMPL</th>\n",
       "      <th>COUNT_ACTIVE_CREDIT_NO_CC</th>\n",
       "      <th>CNT_MNTH_FROM_LAST_PMNT</th>\n",
       "      <th>age</th>\n",
       "      <th>experience</th>\n",
       "      <th>inquiry_14_day</th>\n",
       "      <th>inquiry_21_day</th>\n",
       "      <th>count_mnth_act_passport</th>\n",
       "      <th>UID</th>\n",
       "    </tr>\n",
       "  </thead>\n",
       "  <tbody>\n",
       "    <tr>\n",
       "      <th>1647</th>\n",
       "      <td>0</td>\n",
       "      <td>OTHER</td>\n",
       "      <td>elementary</td>\n",
       "      <td>VIP</td>\n",
       "      <td>1784679.0</td>\n",
       "      <td>0.0</td>\n",
       "      <td>1</td>\n",
       "      <td>0.0</td>\n",
       "      <td>NaN</td>\n",
       "      <td>30.554285</td>\n",
       "      <td>3.006340</td>\n",
       "      <td>0.0</td>\n",
       "      <td>0.0</td>\n",
       "      <td>10.052916</td>\n",
       "      <td>7532</td>\n",
       "    </tr>\n",
       "    <tr>\n",
       "      <th>4393</th>\n",
       "      <td>0</td>\n",
       "      <td>OTHER</td>\n",
       "      <td>elementary</td>\n",
       "      <td>VIP</td>\n",
       "      <td>1260432.0</td>\n",
       "      <td>0.0</td>\n",
       "      <td>1</td>\n",
       "      <td>1.0</td>\n",
       "      <td>0.851165</td>\n",
       "      <td>42.285762</td>\n",
       "      <td>0.497268</td>\n",
       "      <td>2.0</td>\n",
       "      <td>2.0</td>\n",
       "      <td>9.850146</td>\n",
       "      <td>19517</td>\n",
       "    </tr>\n",
       "    <tr>\n",
       "      <th>4394</th>\n",
       "      <td>0</td>\n",
       "      <td>OTHER</td>\n",
       "      <td>elementary</td>\n",
       "      <td>VIP</td>\n",
       "      <td>1260432.0</td>\n",
       "      <td>0.0</td>\n",
       "      <td>1</td>\n",
       "      <td>1.0</td>\n",
       "      <td>0.851165</td>\n",
       "      <td>42.285762</td>\n",
       "      <td>0.497268</td>\n",
       "      <td>2.0</td>\n",
       "      <td>2.0</td>\n",
       "      <td>9.850146</td>\n",
       "      <td>19518</td>\n",
       "    </tr>\n",
       "    <tr>\n",
       "      <th>7925</th>\n",
       "      <td>0</td>\n",
       "      <td>2NDFL</td>\n",
       "      <td>elementary</td>\n",
       "      <td>NaN</td>\n",
       "      <td>11450378.0</td>\n",
       "      <td>0.0</td>\n",
       "      <td>0</td>\n",
       "      <td>NaN</td>\n",
       "      <td>NaN</td>\n",
       "      <td>39.583562</td>\n",
       "      <td>1.408219</td>\n",
       "      <td>NaN</td>\n",
       "      <td>NaN</td>\n",
       "      <td>7.947945</td>\n",
       "      <td>35026</td>\n",
       "    </tr>\n",
       "    <tr>\n",
       "      <th>8043</th>\n",
       "      <td>0</td>\n",
       "      <td>2NDFL</td>\n",
       "      <td>elementary</td>\n",
       "      <td>NaN</td>\n",
       "      <td>2000095.0</td>\n",
       "      <td>0.0</td>\n",
       "      <td>0</td>\n",
       "      <td>1.0</td>\n",
       "      <td>0.500627</td>\n",
       "      <td>27.397260</td>\n",
       "      <td>2.594521</td>\n",
       "      <td>0.0</td>\n",
       "      <td>0.0</td>\n",
       "      <td>7.139726</td>\n",
       "      <td>35533</td>\n",
       "    </tr>\n",
       "    <tr>\n",
       "      <th>9250</th>\n",
       "      <td>0</td>\n",
       "      <td>OTHER</td>\n",
       "      <td>elementary</td>\n",
       "      <td>VIP</td>\n",
       "      <td>1371146.0</td>\n",
       "      <td>0.0</td>\n",
       "      <td>1</td>\n",
       "      <td>1.0</td>\n",
       "      <td>0.307975</td>\n",
       "      <td>39.653005</td>\n",
       "      <td>2.736807</td>\n",
       "      <td>0.0</td>\n",
       "      <td>0.0</td>\n",
       "      <td>0.186122</td>\n",
       "      <td>40673</td>\n",
       "    </tr>\n",
       "    <tr>\n",
       "      <th>10187</th>\n",
       "      <td>0</td>\n",
       "      <td>2NDFL</td>\n",
       "      <td>elementary</td>\n",
       "      <td>VIP</td>\n",
       "      <td>1572016.0</td>\n",
       "      <td>0.0</td>\n",
       "      <td>0</td>\n",
       "      <td>1.0</td>\n",
       "      <td>0.991465</td>\n",
       "      <td>41.713100</td>\n",
       "      <td>10.556935</td>\n",
       "      <td>0.0</td>\n",
       "      <td>0.0</td>\n",
       "      <td>8.811730</td>\n",
       "      <td>44977</td>\n",
       "    </tr>\n",
       "    <tr>\n",
       "      <th>12511</th>\n",
       "      <td>0</td>\n",
       "      <td>2NDFL</td>\n",
       "      <td>elementary</td>\n",
       "      <td>VIP</td>\n",
       "      <td>1543704.0</td>\n",
       "      <td>0.0</td>\n",
       "      <td>0</td>\n",
       "      <td>0.0</td>\n",
       "      <td>0.379772</td>\n",
       "      <td>33.856030</td>\n",
       "      <td>1.302605</td>\n",
       "      <td>0.0</td>\n",
       "      <td>0.0</td>\n",
       "      <td>10.025893</td>\n",
       "      <td>55065</td>\n",
       "    </tr>\n",
       "    <tr>\n",
       "      <th>21604</th>\n",
       "      <td>0</td>\n",
       "      <td>OTHER</td>\n",
       "      <td>elementary</td>\n",
       "      <td>NaN</td>\n",
       "      <td>1160000.0</td>\n",
       "      <td>0.0</td>\n",
       "      <td>0</td>\n",
       "      <td>0.0</td>\n",
       "      <td>1.951165</td>\n",
       "      <td>52.079452</td>\n",
       "      <td>4.161644</td>\n",
       "      <td>1.0</td>\n",
       "      <td>1.0</td>\n",
       "      <td>6.868493</td>\n",
       "      <td>94836</td>\n",
       "    </tr>\n",
       "    <tr>\n",
       "      <th>24492</th>\n",
       "      <td>0</td>\n",
       "      <td>OTHER</td>\n",
       "      <td>elementary</td>\n",
       "      <td>VIP</td>\n",
       "      <td>8000000.0</td>\n",
       "      <td>0.0</td>\n",
       "      <td>0</td>\n",
       "      <td>NaN</td>\n",
       "      <td>NaN</td>\n",
       "      <td>51.884932</td>\n",
       "      <td>8.416274</td>\n",
       "      <td>NaN</td>\n",
       "      <td>NaN</td>\n",
       "      <td>6.852055</td>\n",
       "      <td>107908</td>\n",
       "    </tr>\n",
       "    <tr>\n",
       "      <th>28432</th>\n",
       "      <td>0</td>\n",
       "      <td>2NDFL</td>\n",
       "      <td>elementary</td>\n",
       "      <td>NaN</td>\n",
       "      <td>1146660.0</td>\n",
       "      <td>0.0</td>\n",
       "      <td>0</td>\n",
       "      <td>1.0</td>\n",
       "      <td>0.854928</td>\n",
       "      <td>47.351531</td>\n",
       "      <td>7.362490</td>\n",
       "      <td>1.0</td>\n",
       "      <td>1.0</td>\n",
       "      <td>2.288517</td>\n",
       "      <td>125755</td>\n",
       "    </tr>\n",
       "  </tbody>\n",
       "</table>\n",
       "</div>"
      ],
      "text/plain": [
       "       target INCOME_TYPE  EDUCATION_ CUSTOMER_CATEGORY_      income  \\\n",
       "1647        0       OTHER  elementary                VIP   1784679.0   \n",
       "4393        0       OTHER  elementary                VIP   1260432.0   \n",
       "4394        0       OTHER  elementary                VIP   1260432.0   \n",
       "7925        0       2NDFL  elementary                NaN  11450378.0   \n",
       "8043        0       2NDFL  elementary                NaN   2000095.0   \n",
       "9250        0       OTHER  elementary                VIP   1371146.0   \n",
       "10187       0       2NDFL  elementary                VIP   1572016.0   \n",
       "12511       0       2NDFL  elementary                VIP   1543704.0   \n",
       "21604       0       OTHER  elementary                NaN   1160000.0   \n",
       "24492       0       OTHER  elementary                VIP   8000000.0   \n",
       "28432       0       2NDFL  elementary                NaN   1146660.0   \n",
       "\n",
       "       DEPENDANT_NUMBER  IS_EMPL  COUNT_ACTIVE_CREDIT_NO_CC  \\\n",
       "1647                0.0        1                        0.0   \n",
       "4393                0.0        1                        1.0   \n",
       "4394                0.0        1                        1.0   \n",
       "7925                0.0        0                        NaN   \n",
       "8043                0.0        0                        1.0   \n",
       "9250                0.0        1                        1.0   \n",
       "10187               0.0        0                        1.0   \n",
       "12511               0.0        0                        0.0   \n",
       "21604               0.0        0                        0.0   \n",
       "24492               0.0        0                        NaN   \n",
       "28432               0.0        0                        1.0   \n",
       "\n",
       "       CNT_MNTH_FROM_LAST_PMNT        age  experience  inquiry_14_day  \\\n",
       "1647                       NaN  30.554285    3.006340             0.0   \n",
       "4393                  0.851165  42.285762    0.497268             2.0   \n",
       "4394                  0.851165  42.285762    0.497268             2.0   \n",
       "7925                       NaN  39.583562    1.408219             NaN   \n",
       "8043                  0.500627  27.397260    2.594521             0.0   \n",
       "9250                  0.307975  39.653005    2.736807             0.0   \n",
       "10187                 0.991465  41.713100   10.556935             0.0   \n",
       "12511                 0.379772  33.856030    1.302605             0.0   \n",
       "21604                 1.951165  52.079452    4.161644             1.0   \n",
       "24492                      NaN  51.884932    8.416274             NaN   \n",
       "28432                 0.854928  47.351531    7.362490             1.0   \n",
       "\n",
       "       inquiry_21_day  count_mnth_act_passport     UID  \n",
       "1647              0.0                10.052916    7532  \n",
       "4393              2.0                 9.850146   19517  \n",
       "4394              2.0                 9.850146   19518  \n",
       "7925              NaN                 7.947945   35026  \n",
       "8043              0.0                 7.139726   35533  \n",
       "9250              0.0                 0.186122   40673  \n",
       "10187             0.0                 8.811730   44977  \n",
       "12511             0.0                10.025893   55065  \n",
       "21604             1.0                 6.868493   94836  \n",
       "24492             NaN                 6.852055  107908  \n",
       "28432             1.0                 2.288517  125755  "
      ]
     },
     "execution_count": 711,
     "metadata": {},
     "output_type": "execute_result"
    }
   ],
   "source": [
    "accept_df[accept_df['income'] > 1000000]"
   ]
  },
  {
   "cell_type": "markdown",
   "metadata": {},
   "source": [
    "Это яркие выбросы, которые нам сильно мешают. Но все возможно в жизни. Для таких клиентов я бы построил отдельную модель"
   ]
  },
  {
   "cell_type": "code",
   "execution_count": 355,
   "metadata": {},
   "outputs": [
    {
     "data": {
      "text/html": [
       "<div>\n",
       "<style scoped>\n",
       "    .dataframe tbody tr th:only-of-type {\n",
       "        vertical-align: middle;\n",
       "    }\n",
       "\n",
       "    .dataframe tbody tr th {\n",
       "        vertical-align: top;\n",
       "    }\n",
       "\n",
       "    .dataframe thead th {\n",
       "        text-align: right;\n",
       "    }\n",
       "</style>\n",
       "<table border=\"1\" class=\"dataframe\">\n",
       "  <thead>\n",
       "    <tr style=\"text-align: right;\">\n",
       "      <th></th>\n",
       "      <th>target</th>\n",
       "      <th>INCOME_TYPE</th>\n",
       "      <th>EDUCATION_</th>\n",
       "      <th>CUSTOMER_CATEGORY_</th>\n",
       "      <th>income</th>\n",
       "      <th>DEPENDANT_NUMBER</th>\n",
       "      <th>IS_EMPL</th>\n",
       "      <th>COUNT_ACTIVE_CREDIT_NO_CC</th>\n",
       "      <th>CNT_MNTH_FROM_LAST_PMNT</th>\n",
       "      <th>age</th>\n",
       "      <th>experience</th>\n",
       "      <th>inquiry_14_day</th>\n",
       "      <th>inquiry_21_day</th>\n",
       "      <th>count_mnth_act_passport</th>\n",
       "    </tr>\n",
       "  </thead>\n",
       "  <tbody>\n",
       "    <tr>\n",
       "      <th>6074</th>\n",
       "      <td>0</td>\n",
       "      <td>OTHER</td>\n",
       "      <td>beginner</td>\n",
       "      <td>Corporate</td>\n",
       "      <td>173000.0</td>\n",
       "      <td>0.0</td>\n",
       "      <td>0</td>\n",
       "      <td>NaN</td>\n",
       "      <td>NaN</td>\n",
       "      <td>34.536986</td>\n",
       "      <td>101.192365</td>\n",
       "      <td>NaN</td>\n",
       "      <td>NaN</td>\n",
       "      <td>9.750685</td>\n",
       "    </tr>\n",
       "    <tr>\n",
       "      <th>22062</th>\n",
       "      <td>0</td>\n",
       "      <td>OTHER</td>\n",
       "      <td>advanced</td>\n",
       "      <td>NaN</td>\n",
       "      <td>18000.0</td>\n",
       "      <td>0.0</td>\n",
       "      <td>0</td>\n",
       "      <td>1.0</td>\n",
       "      <td>1.0</td>\n",
       "      <td>26.302216</td>\n",
       "      <td>100.355191</td>\n",
       "      <td>0.0</td>\n",
       "      <td>0.0</td>\n",
       "      <td>6.261120</td>\n",
       "    </tr>\n",
       "  </tbody>\n",
       "</table>\n",
       "</div>"
      ],
      "text/plain": [
       "       target INCOME_TYPE EDUCATION_ CUSTOMER_CATEGORY_    income  \\\n",
       "6074        0       OTHER   beginner          Corporate  173000.0   \n",
       "22062       0       OTHER   advanced                NaN   18000.0   \n",
       "\n",
       "       DEPENDANT_NUMBER  IS_EMPL  COUNT_ACTIVE_CREDIT_NO_CC  \\\n",
       "6074                0.0        0                        NaN   \n",
       "22062               0.0        0                        1.0   \n",
       "\n",
       "       CNT_MNTH_FROM_LAST_PMNT        age  experience  inquiry_14_day  \\\n",
       "6074                       NaN  34.536986  101.192365             NaN   \n",
       "22062                      1.0  26.302216  100.355191             0.0   \n",
       "\n",
       "       inquiry_21_day  count_mnth_act_passport  \n",
       "6074              NaN                 9.750685  \n",
       "22062             0.0                 6.261120  "
      ]
     },
     "execution_count": 355,
     "metadata": {},
     "output_type": "execute_result"
    }
   ],
   "source": [
    "accept_df[accept_df['experience'] > 45]"
   ]
  },
  {
   "cell_type": "markdown",
   "metadata": {},
   "source": [
    "Возраст меньше, чем опыт работы) Опыт работы вряд ли может быть больше 100 лет:)"
   ]
  },
  {
   "cell_type": "code",
   "execution_count": 356,
   "metadata": {},
   "outputs": [
    {
     "data": {
      "text/html": [
       "<div>\n",
       "<style scoped>\n",
       "    .dataframe tbody tr th:only-of-type {\n",
       "        vertical-align: middle;\n",
       "    }\n",
       "\n",
       "    .dataframe tbody tr th {\n",
       "        vertical-align: top;\n",
       "    }\n",
       "\n",
       "    .dataframe thead th {\n",
       "        text-align: right;\n",
       "    }\n",
       "</style>\n",
       "<table border=\"1\" class=\"dataframe\">\n",
       "  <thead>\n",
       "    <tr style=\"text-align: right;\">\n",
       "      <th></th>\n",
       "      <th>target</th>\n",
       "      <th>INCOME_TYPE</th>\n",
       "      <th>EDUCATION_</th>\n",
       "      <th>CUSTOMER_CATEGORY_</th>\n",
       "      <th>income</th>\n",
       "      <th>DEPENDANT_NUMBER</th>\n",
       "      <th>IS_EMPL</th>\n",
       "      <th>COUNT_ACTIVE_CREDIT_NO_CC</th>\n",
       "      <th>CNT_MNTH_FROM_LAST_PMNT</th>\n",
       "      <th>age</th>\n",
       "      <th>experience</th>\n",
       "      <th>inquiry_14_day</th>\n",
       "      <th>inquiry_21_day</th>\n",
       "      <th>count_mnth_act_passport</th>\n",
       "    </tr>\n",
       "  </thead>\n",
       "  <tbody>\n",
       "    <tr>\n",
       "      <th>6</th>\n",
       "      <td>0</td>\n",
       "      <td>OTHER</td>\n",
       "      <td>elementary</td>\n",
       "      <td>Corporate</td>\n",
       "      <td>39713.0</td>\n",
       "      <td>0.0</td>\n",
       "      <td>1</td>\n",
       "      <td>0.0</td>\n",
       "      <td>1362.504682</td>\n",
       "      <td>25.326611</td>\n",
       "      <td>0.848469</td>\n",
       "      <td>1.0</td>\n",
       "      <td>1.0</td>\n",
       "      <td>5.214589</td>\n",
       "    </tr>\n",
       "    <tr>\n",
       "      <th>258</th>\n",
       "      <td>0</td>\n",
       "      <td>OTHER</td>\n",
       "      <td>advanced</td>\n",
       "      <td>Corporate</td>\n",
       "      <td>44607.0</td>\n",
       "      <td>0.0</td>\n",
       "      <td>1</td>\n",
       "      <td>0.0</td>\n",
       "      <td>1362.508132</td>\n",
       "      <td>34.813699</td>\n",
       "      <td>0.495890</td>\n",
       "      <td>1.0</td>\n",
       "      <td>1.0</td>\n",
       "      <td>6.021918</td>\n",
       "    </tr>\n",
       "    <tr>\n",
       "      <th>858</th>\n",
       "      <td>0</td>\n",
       "      <td>OTHER</td>\n",
       "      <td>elementary</td>\n",
       "      <td>NaN</td>\n",
       "      <td>31900.0</td>\n",
       "      <td>0.0</td>\n",
       "      <td>0</td>\n",
       "      <td>0.0</td>\n",
       "      <td>1355.633468</td>\n",
       "      <td>38.441178</td>\n",
       "      <td>2.882274</td>\n",
       "      <td>0.0</td>\n",
       "      <td>1.0</td>\n",
       "      <td>9.893233</td>\n",
       "    </tr>\n",
       "    <tr>\n",
       "      <th>963</th>\n",
       "      <td>0</td>\n",
       "      <td>OTHER</td>\n",
       "      <td>elementary</td>\n",
       "      <td>Corporate</td>\n",
       "      <td>20000.0</td>\n",
       "      <td>0.0</td>\n",
       "      <td>1</td>\n",
       "      <td>0.0</td>\n",
       "      <td>1352.151994</td>\n",
       "      <td>25.946081</td>\n",
       "      <td>0.595628</td>\n",
       "      <td>NaN</td>\n",
       "      <td>NaN</td>\n",
       "      <td>4.869369</td>\n",
       "    </tr>\n",
       "    <tr>\n",
       "      <th>1009</th>\n",
       "      <td>0</td>\n",
       "      <td>OTHER</td>\n",
       "      <td>elementary</td>\n",
       "      <td>Corporate</td>\n",
       "      <td>73950.0</td>\n",
       "      <td>0.0</td>\n",
       "      <td>1</td>\n",
       "      <td>0.0</td>\n",
       "      <td>1364.856564</td>\n",
       "      <td>26.345205</td>\n",
       "      <td>0.342466</td>\n",
       "      <td>1.0</td>\n",
       "      <td>1.0</td>\n",
       "      <td>6.254795</td>\n",
       "    </tr>\n",
       "    <tr>\n",
       "      <th>...</th>\n",
       "      <td>...</td>\n",
       "      <td>...</td>\n",
       "      <td>...</td>\n",
       "      <td>...</td>\n",
       "      <td>...</td>\n",
       "      <td>...</td>\n",
       "      <td>...</td>\n",
       "      <td>...</td>\n",
       "      <td>...</td>\n",
       "      <td>...</td>\n",
       "      <td>...</td>\n",
       "      <td>...</td>\n",
       "      <td>...</td>\n",
       "      <td>...</td>\n",
       "    </tr>\n",
       "    <tr>\n",
       "      <th>31605</th>\n",
       "      <td>0</td>\n",
       "      <td>OTHER</td>\n",
       "      <td>elementary</td>\n",
       "      <td>Corporate</td>\n",
       "      <td>49186.0</td>\n",
       "      <td>0.0</td>\n",
       "      <td>1</td>\n",
       "      <td>0.0</td>\n",
       "      <td>1348.496393</td>\n",
       "      <td>28.779796</td>\n",
       "      <td>1.040070</td>\n",
       "      <td>NaN</td>\n",
       "      <td>NaN</td>\n",
       "      <td>5.297605</td>\n",
       "    </tr>\n",
       "    <tr>\n",
       "      <th>31737</th>\n",
       "      <td>0</td>\n",
       "      <td>OTHER</td>\n",
       "      <td>advanced</td>\n",
       "      <td>Corporate</td>\n",
       "      <td>18339.0</td>\n",
       "      <td>0.0</td>\n",
       "      <td>1</td>\n",
       "      <td>0.0</td>\n",
       "      <td>1346.434162</td>\n",
       "      <td>48.783008</td>\n",
       "      <td>3.286885</td>\n",
       "      <td>0.0</td>\n",
       "      <td>0.0</td>\n",
       "      <td>3.699454</td>\n",
       "    </tr>\n",
       "    <tr>\n",
       "      <th>31837</th>\n",
       "      <td>0</td>\n",
       "      <td>2NDFL</td>\n",
       "      <td>advanced</td>\n",
       "      <td>NaN</td>\n",
       "      <td>11048.0</td>\n",
       "      <td>0.0</td>\n",
       "      <td>0</td>\n",
       "      <td>0.0</td>\n",
       "      <td>1348.856631</td>\n",
       "      <td>37.642728</td>\n",
       "      <td>1.081084</td>\n",
       "      <td>4.0</td>\n",
       "      <td>5.0</td>\n",
       "      <td>9.935878</td>\n",
       "    </tr>\n",
       "    <tr>\n",
       "      <th>31880</th>\n",
       "      <td>1</td>\n",
       "      <td>2NDFL</td>\n",
       "      <td>elementary</td>\n",
       "      <td>NaN</td>\n",
       "      <td>47601.0</td>\n",
       "      <td>0.0</td>\n",
       "      <td>0</td>\n",
       "      <td>0.0</td>\n",
       "      <td>1345.149686</td>\n",
       "      <td>41.010689</td>\n",
       "      <td>7.896175</td>\n",
       "      <td>3.0</td>\n",
       "      <td>5.0</td>\n",
       "      <td>2.238087</td>\n",
       "    </tr>\n",
       "    <tr>\n",
       "      <th>32462</th>\n",
       "      <td>1</td>\n",
       "      <td>2NDFL</td>\n",
       "      <td>advanced</td>\n",
       "      <td>NaN</td>\n",
       "      <td>9162.0</td>\n",
       "      <td>0.0</td>\n",
       "      <td>0</td>\n",
       "      <td>0.0</td>\n",
       "      <td>1348.502352</td>\n",
       "      <td>30.004454</td>\n",
       "      <td>0.497605</td>\n",
       "      <td>2.0</td>\n",
       "      <td>2.0</td>\n",
       "      <td>1.130481</td>\n",
       "    </tr>\n",
       "  </tbody>\n",
       "</table>\n",
       "<p>225 rows × 14 columns</p>\n",
       "</div>"
      ],
      "text/plain": [
       "       target INCOME_TYPE  EDUCATION_ CUSTOMER_CATEGORY_   income  \\\n",
       "6           0       OTHER  elementary          Corporate  39713.0   \n",
       "258         0       OTHER    advanced          Corporate  44607.0   \n",
       "858         0       OTHER  elementary                NaN  31900.0   \n",
       "963         0       OTHER  elementary          Corporate  20000.0   \n",
       "1009        0       OTHER  elementary          Corporate  73950.0   \n",
       "...       ...         ...         ...                ...      ...   \n",
       "31605       0       OTHER  elementary          Corporate  49186.0   \n",
       "31737       0       OTHER    advanced          Corporate  18339.0   \n",
       "31837       0       2NDFL    advanced                NaN  11048.0   \n",
       "31880       1       2NDFL  elementary                NaN  47601.0   \n",
       "32462       1       2NDFL    advanced                NaN   9162.0   \n",
       "\n",
       "       DEPENDANT_NUMBER  IS_EMPL  COUNT_ACTIVE_CREDIT_NO_CC  \\\n",
       "6                   0.0        1                        0.0   \n",
       "258                 0.0        1                        0.0   \n",
       "858                 0.0        0                        0.0   \n",
       "963                 0.0        1                        0.0   \n",
       "1009                0.0        1                        0.0   \n",
       "...                 ...      ...                        ...   \n",
       "31605               0.0        1                        0.0   \n",
       "31737               0.0        1                        0.0   \n",
       "31837               0.0        0                        0.0   \n",
       "31880               0.0        0                        0.0   \n",
       "32462               0.0        0                        0.0   \n",
       "\n",
       "       CNT_MNTH_FROM_LAST_PMNT        age  experience  inquiry_14_day  \\\n",
       "6                  1362.504682  25.326611    0.848469             1.0   \n",
       "258                1362.508132  34.813699    0.495890             1.0   \n",
       "858                1355.633468  38.441178    2.882274             0.0   \n",
       "963                1352.151994  25.946081    0.595628             NaN   \n",
       "1009               1364.856564  26.345205    0.342466             1.0   \n",
       "...                        ...        ...         ...             ...   \n",
       "31605              1348.496393  28.779796    1.040070             NaN   \n",
       "31737              1346.434162  48.783008    3.286885             0.0   \n",
       "31837              1348.856631  37.642728    1.081084             4.0   \n",
       "31880              1345.149686  41.010689    7.896175             3.0   \n",
       "32462              1348.502352  30.004454    0.497605             2.0   \n",
       "\n",
       "       inquiry_21_day  count_mnth_act_passport  \n",
       "6                 1.0                 5.214589  \n",
       "258               1.0                 6.021918  \n",
       "858               1.0                 9.893233  \n",
       "963               NaN                 4.869369  \n",
       "1009              1.0                 6.254795  \n",
       "...               ...                      ...  \n",
       "31605             NaN                 5.297605  \n",
       "31737             0.0                 3.699454  \n",
       "31837             5.0                 9.935878  \n",
       "31880             5.0                 2.238087  \n",
       "32462             2.0                 1.130481  \n",
       "\n",
       "[225 rows x 14 columns]"
      ]
     },
     "execution_count": 356,
     "metadata": {},
     "output_type": "execute_result"
    }
   ],
   "source": [
    "accept_df[accept_df['CNT_MNTH_FROM_LAST_PMNT'] > 480]"
   ]
  },
  {
   "cell_type": "markdown",
   "metadata": {},
   "source": [
    "У нас максимальный возраст 60 лет. А люди в среднем могут взять кредит с 20 лет, поэтому все что больше 40 лет, а это 480 месяцев вряд ли возможно. Глянем на эти данные"
   ]
  },
  {
   "cell_type": "code",
   "execution_count": 362,
   "metadata": {},
   "outputs": [
    {
     "data": {
      "text/html": [
       "<div>\n",
       "<style scoped>\n",
       "    .dataframe tbody tr th:only-of-type {\n",
       "        vertical-align: middle;\n",
       "    }\n",
       "\n",
       "    .dataframe tbody tr th {\n",
       "        vertical-align: top;\n",
       "    }\n",
       "\n",
       "    .dataframe thead th {\n",
       "        text-align: right;\n",
       "    }\n",
       "</style>\n",
       "<table border=\"1\" class=\"dataframe\">\n",
       "  <thead>\n",
       "    <tr style=\"text-align: right;\">\n",
       "      <th></th>\n",
       "      <th>target</th>\n",
       "      <th>INCOME_TYPE</th>\n",
       "      <th>EDUCATION_</th>\n",
       "      <th>CUSTOMER_CATEGORY_</th>\n",
       "      <th>income</th>\n",
       "      <th>DEPENDANT_NUMBER</th>\n",
       "      <th>IS_EMPL</th>\n",
       "      <th>COUNT_ACTIVE_CREDIT_NO_CC</th>\n",
       "      <th>CNT_MNTH_FROM_LAST_PMNT</th>\n",
       "      <th>age</th>\n",
       "      <th>experience</th>\n",
       "      <th>inquiry_14_day</th>\n",
       "      <th>inquiry_21_day</th>\n",
       "      <th>count_mnth_act_passport</th>\n",
       "      <th>UID</th>\n",
       "    </tr>\n",
       "  </thead>\n",
       "  <tbody>\n",
       "    <tr>\n",
       "      <th>212</th>\n",
       "      <td>0</td>\n",
       "      <td>OTHER</td>\n",
       "      <td>beginner</td>\n",
       "      <td>Corporate</td>\n",
       "      <td>50000.0</td>\n",
       "      <td>0.0</td>\n",
       "      <td>1</td>\n",
       "      <td>0.0</td>\n",
       "      <td>-0.816667</td>\n",
       "      <td>44.416438</td>\n",
       "      <td>2.967123</td>\n",
       "      <td>1.0</td>\n",
       "      <td>1.0</td>\n",
       "      <td>11.419178</td>\n",
       "      <td>1014</td>\n",
       "    </tr>\n",
       "    <tr>\n",
       "      <th>326</th>\n",
       "      <td>0</td>\n",
       "      <td>OTHER</td>\n",
       "      <td>elementary</td>\n",
       "      <td>NaN</td>\n",
       "      <td>107596.0</td>\n",
       "      <td>0.0</td>\n",
       "      <td>0</td>\n",
       "      <td>2.0</td>\n",
       "      <td>-0.141510</td>\n",
       "      <td>48.216438</td>\n",
       "      <td>5.365274</td>\n",
       "      <td>1.0</td>\n",
       "      <td>1.0</td>\n",
       "      <td>3.161644</td>\n",
       "      <td>1530</td>\n",
       "    </tr>\n",
       "    <tr>\n",
       "      <th>455</th>\n",
       "      <td>0</td>\n",
       "      <td>OTHER</td>\n",
       "      <td>elementary</td>\n",
       "      <td>Corporate</td>\n",
       "      <td>17934.0</td>\n",
       "      <td>0.0</td>\n",
       "      <td>0</td>\n",
       "      <td>1.0</td>\n",
       "      <td>-0.115099</td>\n",
       "      <td>26.956164</td>\n",
       "      <td>3.279452</td>\n",
       "      <td>1.0</td>\n",
       "      <td>1.0</td>\n",
       "      <td>6.898630</td>\n",
       "      <td>2182</td>\n",
       "    </tr>\n",
       "    <tr>\n",
       "      <th>544</th>\n",
       "      <td>0</td>\n",
       "      <td>OTHER</td>\n",
       "      <td>advanced</td>\n",
       "      <td>Corporate</td>\n",
       "      <td>62338.0</td>\n",
       "      <td>0.0</td>\n",
       "      <td>1</td>\n",
       "      <td>1.0</td>\n",
       "      <td>-0.139382</td>\n",
       "      <td>31.263014</td>\n",
       "      <td>3.857534</td>\n",
       "      <td>1.0</td>\n",
       "      <td>1.0</td>\n",
       "      <td>9.310630</td>\n",
       "      <td>2557</td>\n",
       "    </tr>\n",
       "    <tr>\n",
       "      <th>555</th>\n",
       "      <td>0</td>\n",
       "      <td>OTHER</td>\n",
       "      <td>elementary</td>\n",
       "      <td>NaN</td>\n",
       "      <td>60900.0</td>\n",
       "      <td>0.0</td>\n",
       "      <td>0</td>\n",
       "      <td>1.0</td>\n",
       "      <td>-0.139135</td>\n",
       "      <td>29.827397</td>\n",
       "      <td>0.443836</td>\n",
       "      <td>1.0</td>\n",
       "      <td>1.0</td>\n",
       "      <td>0.764181</td>\n",
       "      <td>2607</td>\n",
       "    </tr>\n",
       "    <tr>\n",
       "      <th>...</th>\n",
       "      <td>...</td>\n",
       "      <td>...</td>\n",
       "      <td>...</td>\n",
       "      <td>...</td>\n",
       "      <td>...</td>\n",
       "      <td>...</td>\n",
       "      <td>...</td>\n",
       "      <td>...</td>\n",
       "      <td>...</td>\n",
       "      <td>...</td>\n",
       "      <td>...</td>\n",
       "      <td>...</td>\n",
       "      <td>...</td>\n",
       "      <td>...</td>\n",
       "      <td>...</td>\n",
       "    </tr>\n",
       "    <tr>\n",
       "      <th>32492</th>\n",
       "      <td>1</td>\n",
       "      <td>OTHER</td>\n",
       "      <td>elementary</td>\n",
       "      <td>NaN</td>\n",
       "      <td>87000.0</td>\n",
       "      <td>0.0</td>\n",
       "      <td>0</td>\n",
       "      <td>0.0</td>\n",
       "      <td>-2.081586</td>\n",
       "      <td>33.863014</td>\n",
       "      <td>0.526027</td>\n",
       "      <td>1.0</td>\n",
       "      <td>1.0</td>\n",
       "      <td>9.843836</td>\n",
       "      <td>132039</td>\n",
       "    </tr>\n",
       "    <tr>\n",
       "      <th>32501</th>\n",
       "      <td>1</td>\n",
       "      <td>OTHER</td>\n",
       "      <td>advanced</td>\n",
       "      <td>Corporate</td>\n",
       "      <td>18000.0</td>\n",
       "      <td>0.0</td>\n",
       "      <td>0</td>\n",
       "      <td>1.0</td>\n",
       "      <td>-0.848746</td>\n",
       "      <td>37.338019</td>\n",
       "      <td>2.049315</td>\n",
       "      <td>1.0</td>\n",
       "      <td>1.0</td>\n",
       "      <td>11.090411</td>\n",
       "      <td>133228</td>\n",
       "    </tr>\n",
       "    <tr>\n",
       "      <th>32508</th>\n",
       "      <td>1</td>\n",
       "      <td>OTHER</td>\n",
       "      <td>advanced</td>\n",
       "      <td>NaN</td>\n",
       "      <td>30000.0</td>\n",
       "      <td>0.0</td>\n",
       "      <td>0</td>\n",
       "      <td>2.0</td>\n",
       "      <td>-0.201254</td>\n",
       "      <td>26.534247</td>\n",
       "      <td>1.094992</td>\n",
       "      <td>1.0</td>\n",
       "      <td>1.0</td>\n",
       "      <td>6.205479</td>\n",
       "      <td>134494</td>\n",
       "    </tr>\n",
       "    <tr>\n",
       "      <th>32511</th>\n",
       "      <td>1</td>\n",
       "      <td>OTHER</td>\n",
       "      <td>elementary</td>\n",
       "      <td>NaN</td>\n",
       "      <td>17000.0</td>\n",
       "      <td>0.0</td>\n",
       "      <td>0</td>\n",
       "      <td>3.0</td>\n",
       "      <td>-0.723947</td>\n",
       "      <td>27.243836</td>\n",
       "      <td>4.641096</td>\n",
       "      <td>1.0</td>\n",
       "      <td>1.0</td>\n",
       "      <td>4.054795</td>\n",
       "      <td>135116</td>\n",
       "    </tr>\n",
       "    <tr>\n",
       "      <th>32529</th>\n",
       "      <td>1</td>\n",
       "      <td>OTHER</td>\n",
       "      <td>elementary</td>\n",
       "      <td>NaN</td>\n",
       "      <td>55000.0</td>\n",
       "      <td>0.0</td>\n",
       "      <td>0</td>\n",
       "      <td>2.0</td>\n",
       "      <td>-0.660372</td>\n",
       "      <td>40.767026</td>\n",
       "      <td>9.316206</td>\n",
       "      <td>1.0</td>\n",
       "      <td>1.0</td>\n",
       "      <td>13.105824</td>\n",
       "      <td>136757</td>\n",
       "    </tr>\n",
       "  </tbody>\n",
       "</table>\n",
       "<p>530 rows × 15 columns</p>\n",
       "</div>"
      ],
      "text/plain": [
       "       target INCOME_TYPE  EDUCATION_ CUSTOMER_CATEGORY_    income  \\\n",
       "212         0       OTHER    beginner          Corporate   50000.0   \n",
       "326         0       OTHER  elementary                NaN  107596.0   \n",
       "455         0       OTHER  elementary          Corporate   17934.0   \n",
       "544         0       OTHER    advanced          Corporate   62338.0   \n",
       "555         0       OTHER  elementary                NaN   60900.0   \n",
       "...       ...         ...         ...                ...       ...   \n",
       "32492       1       OTHER  elementary                NaN   87000.0   \n",
       "32501       1       OTHER    advanced          Corporate   18000.0   \n",
       "32508       1       OTHER    advanced                NaN   30000.0   \n",
       "32511       1       OTHER  elementary                NaN   17000.0   \n",
       "32529       1       OTHER  elementary                NaN   55000.0   \n",
       "\n",
       "       DEPENDANT_NUMBER  IS_EMPL  COUNT_ACTIVE_CREDIT_NO_CC  \\\n",
       "212                 0.0        1                        0.0   \n",
       "326                 0.0        0                        2.0   \n",
       "455                 0.0        0                        1.0   \n",
       "544                 0.0        1                        1.0   \n",
       "555                 0.0        0                        1.0   \n",
       "...                 ...      ...                        ...   \n",
       "32492               0.0        0                        0.0   \n",
       "32501               0.0        0                        1.0   \n",
       "32508               0.0        0                        2.0   \n",
       "32511               0.0        0                        3.0   \n",
       "32529               0.0        0                        2.0   \n",
       "\n",
       "       CNT_MNTH_FROM_LAST_PMNT        age  experience  inquiry_14_day  \\\n",
       "212                  -0.816667  44.416438    2.967123             1.0   \n",
       "326                  -0.141510  48.216438    5.365274             1.0   \n",
       "455                  -0.115099  26.956164    3.279452             1.0   \n",
       "544                  -0.139382  31.263014    3.857534             1.0   \n",
       "555                  -0.139135  29.827397    0.443836             1.0   \n",
       "...                        ...        ...         ...             ...   \n",
       "32492                -2.081586  33.863014    0.526027             1.0   \n",
       "32501                -0.848746  37.338019    2.049315             1.0   \n",
       "32508                -0.201254  26.534247    1.094992             1.0   \n",
       "32511                -0.723947  27.243836    4.641096             1.0   \n",
       "32529                -0.660372  40.767026    9.316206             1.0   \n",
       "\n",
       "       inquiry_21_day  count_mnth_act_passport     UID  \n",
       "212               1.0                11.419178    1014  \n",
       "326               1.0                 3.161644    1530  \n",
       "455               1.0                 6.898630    2182  \n",
       "544               1.0                 9.310630    2557  \n",
       "555               1.0                 0.764181    2607  \n",
       "...               ...                      ...     ...  \n",
       "32492             1.0                 9.843836  132039  \n",
       "32501             1.0                11.090411  133228  \n",
       "32508             1.0                 6.205479  134494  \n",
       "32511             1.0                 4.054795  135116  \n",
       "32529             1.0                13.105824  136757  \n",
       "\n",
       "[530 rows x 15 columns]"
      ]
     },
     "execution_count": 362,
     "metadata": {},
     "output_type": "execute_result"
    }
   ],
   "source": [
    "accept_df.loc[accept_df['CNT_MNTH_FROM_LAST_PMNT'] < 0]"
   ]
  },
  {
   "cell_type": "markdown",
   "metadata": {},
   "source": [
    "Возможно отрицательные значения эти люди, которым одобрили кредити в других банках, либо бред и стоит удалить"
   ]
  },
  {
   "cell_type": "markdown",
   "metadata": {},
   "source": [
    "### Обработка выбросов. Числовые заменяю на среднее. Категориальные на моду. Далее в коде все есть"
   ]
  },
  {
   "cell_type": "markdown",
   "metadata": {},
   "source": [
    "### Information Value для выборки accept"
   ]
  },
  {
   "cell_type": "code",
   "execution_count": 367,
   "metadata": {},
   "outputs": [
    {
     "name": "stdout",
     "output_type": "stream",
     "text": [
      "+------------------------------+------------+\n",
      "| INCOME_TYPE                  | 0.0100185  |\n",
      "+------------------------------+------------+\n",
      "| EDUCATION_                   | 0.0548425  |\n",
      "+------------------------------+------------+\n",
      "| CUSTOMER_CATEGORY_           | 0.00542652 |\n",
      "+------------------------------+------------+\n",
      "| DEPENDANT_NUMBER             | 0.00162548 |\n",
      "+------------------------------+------------+\n",
      "| IS_EMPL                      | 0.784122   |\n",
      "+------------------------------+------------+\n",
      "| COUNT_ACTIVE_CREDIT_NO_CC    | 0.115      |\n",
      "+------------------------------+------------+\n",
      "| inquiry_14_day               | 0.15587    |\n",
      "+------------------------------+------------+\n",
      "| inquiry_21_day               | 0.19572    |\n",
      "+------------------------------+------------+\n",
      "| age_bins                     | 0.0242366  |\n",
      "+------------------------------+------------+\n",
      "| income_bins                  | 0.0632271  |\n",
      "+------------------------------+------------+\n",
      "| experience_bins              | 0.113396   |\n",
      "+------------------------------+------------+\n",
      "| count_mnth_act_passport_bins | 0.0807927  |\n",
      "+------------------------------+------------+\n",
      "| CNT_MNTH_FROM_LAST_PMNT_bins | 0.113116   |\n",
      "+------------------------------+------------+\n"
     ]
    }
   ],
   "source": [
    "print(tabulate(IVs_accept, tablefmt='grid'))"
   ]
  },
  {
   "cell_type": "markdown",
   "metadata": {},
   "source": [
    "### Information Value для выборки accept и reject (разметил с помощью Reject Inference)"
   ]
  },
  {
   "cell_type": "code",
   "execution_count": 390,
   "metadata": {},
   "outputs": [
    {
     "name": "stdout",
     "output_type": "stream",
     "text": [
      "+------------------------------+-----------+\n",
      "| INCOME_TYPE                  | 0.0714077 |\n",
      "+------------------------------+-----------+\n",
      "| EDUCATION_                   | 0.0800306 |\n",
      "+------------------------------+-----------+\n",
      "| CUSTOMER_CATEGORY_           | 0.0702379 |\n",
      "+------------------------------+-----------+\n",
      "| DEPENDANT_NUMBER             | 0.0692435 |\n",
      "+------------------------------+-----------+\n",
      "| IS_EMPL                      | 0.16239   |\n",
      "+------------------------------+-----------+\n",
      "| COUNT_ACTIVE_CREDIT_NO_CC    | 0.151382  |\n",
      "+------------------------------+-----------+\n",
      "| inquiry_14_day               | 0.192133  |\n",
      "+------------------------------+-----------+\n",
      "| inquiry_21_day               | 0.191523  |\n",
      "+------------------------------+-----------+\n",
      "| age_bins                     | 0.0703198 |\n",
      "+------------------------------+-----------+\n",
      "| income_bins                  | 0.0802123 |\n",
      "+------------------------------+-----------+\n",
      "| experience_bins              | 0.0765823 |\n",
      "+------------------------------+-----------+\n",
      "| count_mnth_act_passport_bins | 0.165379  |\n",
      "+------------------------------+-----------+\n",
      "| CNT_MNTH_FROM_LAST_PMNT_bins | 0.064036  |\n",
      "+------------------------------+-----------+\n"
     ]
    }
   ],
   "source": [
    "print(tabulate(IVs_mix, tablefmt='grid'))"
   ]
  },
  {
   "cell_type": "markdown",
   "metadata": {},
   "source": [
    "## 3. Необходимо рассчитать для всех категориальных переменных следующее:\n",
    "  - Мода\n",
    "  - Доля пропущенных значений\n",
    "  - Information Value\n",
    "  - Есть ли выбросы, аномальные значений"
   ]
  },
  {
   "cell_type": "code",
   "execution_count": 505,
   "metadata": {},
   "outputs": [
    {
     "data": {
      "text/html": [
       "<div>\n",
       "<style scoped>\n",
       "    .dataframe tbody tr th:only-of-type {\n",
       "        vertical-align: middle;\n",
       "    }\n",
       "\n",
       "    .dataframe tbody tr th {\n",
       "        vertical-align: top;\n",
       "    }\n",
       "\n",
       "    .dataframe thead th {\n",
       "        text-align: right;\n",
       "    }\n",
       "</style>\n",
       "<table border=\"1\" class=\"dataframe\">\n",
       "  <thead>\n",
       "    <tr style=\"text-align: right;\">\n",
       "      <th></th>\n",
       "      <th>INCOME_TYPE</th>\n",
       "      <th>EDUCATION_</th>\n",
       "      <th>CUSTOMER_CATEGORY_</th>\n",
       "      <th>IS_EMPL</th>\n",
       "      <th>DEPENDANT_NUMBER</th>\n",
       "    </tr>\n",
       "  </thead>\n",
       "  <tbody>\n",
       "    <tr>\n",
       "      <th>Мода</th>\n",
       "      <td>OTHER</td>\n",
       "      <td>elementary</td>\n",
       "      <td>Corporate</td>\n",
       "      <td>0.0</td>\n",
       "      <td>0.000000</td>\n",
       "    </tr>\n",
       "    <tr>\n",
       "      <th>Доля пропущенных значений</th>\n",
       "      <td>0.0</td>\n",
       "      <td>0.0</td>\n",
       "      <td>0.5977760029489464</td>\n",
       "      <td>0.0</td>\n",
       "      <td>0.001321</td>\n",
       "    </tr>\n",
       "  </tbody>\n",
       "</table>\n",
       "</div>"
      ],
      "text/plain": [
       "                          INCOME_TYPE  EDUCATION_  CUSTOMER_CATEGORY_  \\\n",
       "Мода                            OTHER  elementary           Corporate   \n",
       "Доля пропущенных значений         0.0         0.0  0.5977760029489464   \n",
       "\n",
       "                           IS_EMPL  DEPENDANT_NUMBER  \n",
       "Мода                           0.0          0.000000  \n",
       "Доля пропущенных значений      0.0          0.001321  "
      ]
     },
     "execution_count": 505,
     "metadata": {},
     "output_type": "execute_result"
    }
   ],
   "source": [
    "accept_stats_info_categorical"
   ]
  },
  {
   "cell_type": "code",
   "execution_count": 506,
   "metadata": {},
   "outputs": [
    {
     "data": {
      "text/html": [
       "<div>\n",
       "<style scoped>\n",
       "    .dataframe tbody tr th:only-of-type {\n",
       "        vertical-align: middle;\n",
       "    }\n",
       "\n",
       "    .dataframe tbody tr th {\n",
       "        vertical-align: top;\n",
       "    }\n",
       "\n",
       "    .dataframe thead th {\n",
       "        text-align: right;\n",
       "    }\n",
       "</style>\n",
       "<table border=\"1\" class=\"dataframe\">\n",
       "  <thead>\n",
       "    <tr style=\"text-align: right;\">\n",
       "      <th></th>\n",
       "      <th>INCOME_TYPE</th>\n",
       "      <th>EDUCATION_</th>\n",
       "      <th>CUSTOMER_CATEGORY_</th>\n",
       "      <th>IS_EMPL</th>\n",
       "      <th>DEPENDANT_NUMBER</th>\n",
       "    </tr>\n",
       "  </thead>\n",
       "  <tbody>\n",
       "    <tr>\n",
       "      <th>Мода</th>\n",
       "      <td>OTHER</td>\n",
       "      <td>elementary</td>\n",
       "      <td>Corporate</td>\n",
       "      <td>1.0</td>\n",
       "      <td>0.000000</td>\n",
       "    </tr>\n",
       "    <tr>\n",
       "      <th>Доля пропущенных значений</th>\n",
       "      <td>0.0</td>\n",
       "      <td>0.0</td>\n",
       "      <td>0.4715234265407276</td>\n",
       "      <td>0.0</td>\n",
       "      <td>0.000468</td>\n",
       "    </tr>\n",
       "  </tbody>\n",
       "</table>\n",
       "</div>"
      ],
      "text/plain": [
       "                          INCOME_TYPE  EDUCATION_  CUSTOMER_CATEGORY_  \\\n",
       "Мода                            OTHER  elementary           Corporate   \n",
       "Доля пропущенных значений         0.0         0.0  0.4715234265407276   \n",
       "\n",
       "                           IS_EMPL  DEPENDANT_NUMBER  \n",
       "Мода                           1.0          0.000000  \n",
       "Доля пропущенных значений      0.0          0.000468  "
      ]
     },
     "execution_count": 506,
     "metadata": {},
     "output_type": "execute_result"
    }
   ],
   "source": [
    "reject_stats_info_categorical"
   ]
  },
  {
   "cell_type": "markdown",
   "metadata": {},
   "source": [
    "IV Смотреть выше в общей табличке"
   ]
  },
  {
   "cell_type": "markdown",
   "metadata": {},
   "source": [
    "Дальше в коде я нарисовал очень много гистгограмм и не нашел аномалий. Все возможно:)"
   ]
  },
  {
   "cell_type": "markdown",
   "metadata": {},
   "source": [
    "## 4. Построить логистическую регрессию только на одобренных заявках с преобразованными переменными WoE. Какое значение GINI? F1 мера?"
   ]
  },
  {
   "cell_type": "markdown",
   "metadata": {},
   "source": [
    "Далее в коде (снизу). Я поделил выборку accept на три части. Train, test, valid. На валидационной выборке считаем WoE.\n",
    "Делаем преобразование на train и обоучаем на ней модель. И смотрим GINI, F1 на тесте"
   ]
  },
  {
   "cell_type": "code",
   "execution_count": 566,
   "metadata": {},
   "outputs": [
    {
     "name": "stdout",
     "output_type": "stream",
     "text": [
      "AUC-ROC на тествой выборке = 0.64\n",
      "GINI на тестовой выборке = 0.29\n",
      "F1-Score на тестовой выборке 0.13\n"
     ]
    }
   ],
   "source": [
    "print(\"AUC-ROC на тествой выборке =\",      \n",
    "      round(roc_auc_score(y_test_accept, y_pred_accept), 2))\n",
    "print(\"GINI на тестовой выборке =\", \n",
    "      round(2 * roc_auc_score(y_test_accept, y_pred_accept) - 1, 2))\n",
    "print(\"F1-Score на тестовой выборке\", \n",
    "      round(f1_score(y_test_accept, y_pred_accept), 2))"
   ]
  },
  {
   "cell_type": "markdown",
   "metadata": {},
   "source": [
    "## 5. Провести анализ Reject Inference. Какая доля отказанных заявок?\n",
    "\n",
    "Далее в коде(снизу). на уже обученной модели (До этого в 4-ом пункте) и посчитанyjq статистикой WoE я сделал аккуратное преобразование на reject (вставил костыль, чтобы увеличить некоторые интревалы, которых не было для reject). После сделал предсказание на реджект выборке и посчитал долю отказанных заявок на реджект выборке, она составила \n"
   ]
  },
  {
   "cell_type": "code",
   "execution_count": 656,
   "metadata": {},
   "outputs": [
    {
     "name": "stdout",
     "output_type": "stream",
     "text": [
      "Доля отказанных заявок 0.11867576919480034\n"
     ]
    }
   ],
   "source": [
    "print(\"Доля отказанных заявок\", y_pred_reject.mean())"
   ]
  },
  {
   "cell_type": "markdown",
   "metadata": {},
   "source": [
    "## 6. Построить логистическую регрессию на всех заявках с преобразованными переменными WoE. Какое значение GINI, F1? Изменилась ли модель? \n",
    "Подобрый код снизу."
   ]
  },
  {
   "cell_type": "code",
   "execution_count": 602,
   "metadata": {},
   "outputs": [
    {
     "name": "stdout",
     "output_type": "stream",
     "text": [
      "AUC-ROC на тествой выборке = 0.65\n",
      "GINI на тестовой выборке = 0.31\n",
      "F1-Score на тестовой выборке 0.07\n"
     ]
    }
   ],
   "source": [
    "print(\"AUC-ROC на тествой выборке =\",      \n",
    "      round(roc_auc_score(y_test_accept, y_pred_mix), 2))\n",
    "print(\"GINI на тестовой выборке =\", \n",
    "      round(2 * roc_auc_score(y_test_accept, y_pred_mix) - 1, 2))\n",
    "print(\"F1-Score на тестовой выборке\", \n",
    "      round(f1_score(y_test_accept, y_pred_mix), 2))"
   ]
  },
  {
   "cell_type": "markdown",
   "metadata": {},
   "source": [
    "Gini - улучшился, f1 уменьшился"
   ]
  },
  {
   "cell_type": "markdown",
   "metadata": {},
   "source": [
    "## 7. Какую модель вы рекомендуете для внедрения в продуктивную среду? Дать развернутое пояснение"
   ]
  },
  {
   "cell_type": "markdown",
   "metadata": {},
   "source": [
    "Возможно из-за выборки получились далеко не самые лучшие показатели. Перевес классов. \n",
    "Преобразования, которые считались на валидацонной выборке именно на одобренных заявках не совсем корректно подходили для отказанных заявок. И самой информации не так много. Обе модели требуют серъезных доработок.\n",
    "Я бы не порекомендовал никакую из этих моделей в продуктивную среду. Методы, использованные в данном случае сильно противоречит моим знаниями о классическо машинном обучение. Я понимаю, что данная модель не так сложно интерпритировать для бизнеса. Так как есть веса, есть логит, который хорошо описан и красиво переводиться на человеческий язык. Но как мы знаем, есть гораздо сильнее методы, которые хоть и не имеют такого явного описания и понимания, но они гораздо эффективнее. Так логистическая регрессия в большей степени ищет линейные преобразования, она не видит более сложные зависимости + мы оооочеееееень много теряем информации, когда делаем WoE преобразование, даже просто на категориальных признаках можно спокойно ванхотить и ни о чем не волноваться, другие кодировки используется, когда у нас гигантское кол-во классов, а тут их крайне мало. Кажется, что более традиционный подход может помочь, понимаю, что возникает сложности с доразметкой и так далее, но, к примеру, вместо обучение на accept выборке и предсказывания на reject,  я бы использовал кластеризацию с нужной нам метрикой и уже на основании класстеризации доразмечал бы reject выборку. Вместо WoE преобразования, я бы также бинаризовал числовые признаки и вместе с катериальными завонхотил бы и помимо этого вместо логистической регресси нагенерил бы еще признаков и запустил бы градиентный бустинг. Скорее всего на простых цифрах все было бы лучше. Не знаю насколько хорошо бы это работало в жизни. Попробую реализовать более интресные и сложные модели уже в проекте:)"
   ]
  },
  {
   "cell_type": "markdown",
   "metadata": {},
   "source": [
    "# Теперь идут блоки с кодом. Можете запустить и проверить код :)"
   ]
  },
  {
   "cell_type": "markdown",
   "metadata": {},
   "source": [
    "#### 0. Загружаем файлы и нужные библиотеки"
   ]
  },
  {
   "cell_type": "code",
   "execution_count": 709,
   "metadata": {},
   "outputs": [],
   "source": [
    "import pandas as pd\n",
    "import numpy as np\n",
    "import matplotlib.pyplot as plt\n",
    "import plotly \n",
    "import seaborn as sns\n",
    "from tabulate import tabulate \n",
    "import warnings\n",
    "warnings.filterwarnings('ignore')"
   ]
  },
  {
   "cell_type": "code",
   "execution_count": 710,
   "metadata": {},
   "outputs": [],
   "source": [
    "accept_df = pd.read_csv('20_accept.csv')\n",
    "reject_df = pd.read_csv('20_reject.csv')"
   ]
  },
  {
   "cell_type": "markdown",
   "metadata": {},
   "source": [
    "#### 1.  Какая доля 1 в выборке \"accept\"?"
   ]
  },
  {
   "cell_type": "markdown",
   "metadata": {},
   "source": [
    "Для начало проверим есть ли пропуски в `target`?"
   ]
  },
  {
   "cell_type": "code",
   "execution_count": 659,
   "metadata": {},
   "outputs": [
    {
     "name": "stdout",
     "output_type": "stream",
     "text": [
      "Все хорошо! Пропусков в таргете нет :)\n"
     ]
    }
   ],
   "source": [
    "print(\"Все хорошо! Пропусков в таргете нет :)\" if not accept_df.target.isna().sum() else \"Есть пропуски\")"
   ]
  },
  {
   "cell_type": "markdown",
   "metadata": {},
   "source": [
    "Проверим какие значения в таргете"
   ]
  },
  {
   "cell_type": "code",
   "execution_count": 660,
   "metadata": {},
   "outputs": [
    {
     "data": {
      "text/plain": [
       "array([0, 1])"
      ]
     },
     "execution_count": 660,
     "metadata": {},
     "output_type": "execute_result"
    }
   ],
   "source": [
    "accept_df.target.unique()"
   ]
  },
  {
   "cell_type": "markdown",
   "metadata": {},
   "source": [
    "Отлично, значит если просто взять среднее по таргету это и будет нужная нам доля"
   ]
  },
  {
   "cell_type": "code",
   "execution_count": 661,
   "metadata": {},
   "outputs": [
    {
     "data": {
      "text/plain": [
       "0.021410579345088162"
      ]
     },
     "execution_count": 661,
     "metadata": {},
     "output_type": "execute_result"
    }
   ],
   "source": [
    "accept_df.target.mean()"
   ]
  },
  {
   "cell_type": "markdown",
   "metadata": {},
   "source": [
    "####  2. Необходимо рассчитать для всех интервальных переменных следующее:\n",
    "  - Доля пропущенных значений \n",
    "  - Медиана\n",
    "  - Среднее\n",
    "  - Среднеквадратическое отклонение\n",
    "  - Есть ли аномальные значения, выбросы? \n",
    "  - Information Value"
   ]
  },
  {
   "cell_type": "markdown",
   "metadata": {},
   "source": [
    "Вначале посмотрим на датафрейм и определим тип каждой колонки"
   ]
  },
  {
   "cell_type": "code",
   "execution_count": 662,
   "metadata": {
    "scrolled": false
   },
   "outputs": [
    {
     "name": "stdout",
     "output_type": "stream",
     "text": [
      "<class 'pandas.core.frame.DataFrame'>\n",
      "RangeIndex: 32554 entries, 0 to 32553\n",
      "Data columns (total 15 columns):\n",
      " #   Column                     Non-Null Count  Dtype  \n",
      "---  ------                     --------------  -----  \n",
      " 0   target                     32554 non-null  int64  \n",
      " 1   INCOME_TYPE                32554 non-null  object \n",
      " 2   EDUCATION_                 32554 non-null  object \n",
      " 3   CUSTOMER_CATEGORY_         13094 non-null  object \n",
      " 4   income                     31901 non-null  float64\n",
      " 5   DEPENDANT_NUMBER           32511 non-null  float64\n",
      " 6   IS_EMPL                    32554 non-null  int64  \n",
      " 7   COUNT_ACTIVE_CREDIT_NO_CC  24217 non-null  float64\n",
      " 8   CNT_MNTH_FROM_LAST_PMNT    22460 non-null  float64\n",
      " 9   age                        32554 non-null  float64\n",
      " 10  experience                 32502 non-null  float64\n",
      " 11  inquiry_14_day             23400 non-null  float64\n",
      " 12  inquiry_21_day             23400 non-null  float64\n",
      " 13  count_mnth_act_passport    32554 non-null  float64\n",
      " 14  UID                        32554 non-null  int64  \n",
      "dtypes: float64(9), int64(3), object(3)\n",
      "memory usage: 3.7+ MB\n"
     ]
    }
   ],
   "source": [
    "accept_df.info()"
   ]
  },
  {
   "cell_type": "markdown",
   "metadata": {},
   "source": [
    "UID - Бесполезная колонка. Только мешает и никакой связи с `target`. Удалим её"
   ]
  },
  {
   "cell_type": "code",
   "execution_count": 663,
   "metadata": {},
   "outputs": [],
   "source": [
    "accept_df.drop(columns='UID', inplace=True)\n",
    "reject_df.drop(columns='UID', inplace=True)"
   ]
  },
  {
   "cell_type": "code",
   "execution_count": 664,
   "metadata": {},
   "outputs": [],
   "source": [
    "numerical = ['income', 'age', 'experience', \n",
    "             'count_mnth_act_passport',\n",
    "             'COUNT_ACTIVE_CREDIT_NO_CC', \n",
    "             'inquiry_14_day', 'inquiry_21_day', \n",
    "            'CNT_MNTH_FROM_LAST_PMNT']\n",
    "\n",
    "categorical = ['INCOME_TYPE', 'EDUCATION_', 'CUSTOMER_CATEGORY_', \n",
    "               'IS_EMPL', 'DEPENDANT_NUMBER']"
   ]
  },
  {
   "cell_type": "markdown",
   "metadata": {},
   "source": [
    "Так как у нас два отдельных файлов, то логично написать функцию, которая создаст для нас красивый df с ответами\n",
    "для числевых переменных"
   ]
  },
  {
   "cell_type": "markdown",
   "metadata": {},
   "source": [
    "Но для начала исследуем функцию  `pd.describe`"
   ]
  },
  {
   "cell_type": "code",
   "execution_count": 665,
   "metadata": {
    "scrolled": true
   },
   "outputs": [
    {
     "data": {
      "text/html": [
       "<div>\n",
       "<style scoped>\n",
       "    .dataframe tbody tr th:only-of-type {\n",
       "        vertical-align: middle;\n",
       "    }\n",
       "\n",
       "    .dataframe tbody tr th {\n",
       "        vertical-align: top;\n",
       "    }\n",
       "\n",
       "    .dataframe thead th {\n",
       "        text-align: right;\n",
       "    }\n",
       "</style>\n",
       "<table border=\"1\" class=\"dataframe\">\n",
       "  <thead>\n",
       "    <tr style=\"text-align: right;\">\n",
       "      <th></th>\n",
       "      <th>income</th>\n",
       "      <th>age</th>\n",
       "      <th>experience</th>\n",
       "      <th>count_mnth_act_passport</th>\n",
       "      <th>COUNT_ACTIVE_CREDIT_NO_CC</th>\n",
       "      <th>inquiry_14_day</th>\n",
       "      <th>inquiry_21_day</th>\n",
       "      <th>CNT_MNTH_FROM_LAST_PMNT</th>\n",
       "    </tr>\n",
       "  </thead>\n",
       "  <tbody>\n",
       "    <tr>\n",
       "      <th>count</th>\n",
       "      <td>3.190100e+04</td>\n",
       "      <td>32554.000000</td>\n",
       "      <td>32502.000000</td>\n",
       "      <td>32554.000000</td>\n",
       "      <td>24217.000000</td>\n",
       "      <td>23400.000000</td>\n",
       "      <td>23400.000000</td>\n",
       "      <td>22460.000000</td>\n",
       "    </tr>\n",
       "    <tr>\n",
       "      <th>mean</th>\n",
       "      <td>6.154986e+04</td>\n",
       "      <td>36.480220</td>\n",
       "      <td>4.891766</td>\n",
       "      <td>7.225088</td>\n",
       "      <td>0.670645</td>\n",
       "      <td>0.360427</td>\n",
       "      <td>0.427094</td>\n",
       "      <td>19.049060</td>\n",
       "    </tr>\n",
       "    <tr>\n",
       "      <th>std</th>\n",
       "      <td>1.036028e+05</td>\n",
       "      <td>8.228790</td>\n",
       "      <td>5.301986</td>\n",
       "      <td>3.348552</td>\n",
       "      <td>0.835817</td>\n",
       "      <td>0.610469</td>\n",
       "      <td>0.690228</td>\n",
       "      <td>134.965621</td>\n",
       "    </tr>\n",
       "    <tr>\n",
       "      <th>min</th>\n",
       "      <td>0.000000e+00</td>\n",
       "      <td>25.000741</td>\n",
       "      <td>-4.600000</td>\n",
       "      <td>-0.019126</td>\n",
       "      <td>0.000000</td>\n",
       "      <td>0.000000</td>\n",
       "      <td>0.000000</td>\n",
       "      <td>-66.559028</td>\n",
       "    </tr>\n",
       "    <tr>\n",
       "      <th>25%</th>\n",
       "      <td>2.700000e+04</td>\n",
       "      <td>29.530362</td>\n",
       "      <td>1.227014</td>\n",
       "      <td>4.960678</td>\n",
       "      <td>0.000000</td>\n",
       "      <td>0.000000</td>\n",
       "      <td>0.000000</td>\n",
       "      <td>0.529452</td>\n",
       "    </tr>\n",
       "    <tr>\n",
       "      <th>50%</th>\n",
       "      <td>4.157600e+04</td>\n",
       "      <td>34.761213</td>\n",
       "      <td>3.227397</td>\n",
       "      <td>7.743169</td>\n",
       "      <td>0.000000</td>\n",
       "      <td>0.000000</td>\n",
       "      <td>0.000000</td>\n",
       "      <td>0.925482</td>\n",
       "    </tr>\n",
       "    <tr>\n",
       "      <th>75%</th>\n",
       "      <td>7.000000e+04</td>\n",
       "      <td>42.367123</td>\n",
       "      <td>6.475850</td>\n",
       "      <td>9.906849</td>\n",
       "      <td>1.000000</td>\n",
       "      <td>1.000000</td>\n",
       "      <td>1.000000</td>\n",
       "      <td>3.501036</td>\n",
       "    </tr>\n",
       "    <tr>\n",
       "      <th>max</th>\n",
       "      <td>1.145038e+07</td>\n",
       "      <td>58.898817</td>\n",
       "      <td>101.192365</td>\n",
       "      <td>15.805479</td>\n",
       "      <td>8.000000</td>\n",
       "      <td>6.000000</td>\n",
       "      <td>8.000000</td>\n",
       "      <td>1365.276703</td>\n",
       "    </tr>\n",
       "  </tbody>\n",
       "</table>\n",
       "</div>"
      ],
      "text/plain": [
       "             income           age    experience  count_mnth_act_passport  \\\n",
       "count  3.190100e+04  32554.000000  32502.000000             32554.000000   \n",
       "mean   6.154986e+04     36.480220      4.891766                 7.225088   \n",
       "std    1.036028e+05      8.228790      5.301986                 3.348552   \n",
       "min    0.000000e+00     25.000741     -4.600000                -0.019126   \n",
       "25%    2.700000e+04     29.530362      1.227014                 4.960678   \n",
       "50%    4.157600e+04     34.761213      3.227397                 7.743169   \n",
       "75%    7.000000e+04     42.367123      6.475850                 9.906849   \n",
       "max    1.145038e+07     58.898817    101.192365                15.805479   \n",
       "\n",
       "       COUNT_ACTIVE_CREDIT_NO_CC  inquiry_14_day  inquiry_21_day  \\\n",
       "count               24217.000000    23400.000000    23400.000000   \n",
       "mean                    0.670645        0.360427        0.427094   \n",
       "std                     0.835817        0.610469        0.690228   \n",
       "min                     0.000000        0.000000        0.000000   \n",
       "25%                     0.000000        0.000000        0.000000   \n",
       "50%                     0.000000        0.000000        0.000000   \n",
       "75%                     1.000000        1.000000        1.000000   \n",
       "max                     8.000000        6.000000        8.000000   \n",
       "\n",
       "       CNT_MNTH_FROM_LAST_PMNT  \n",
       "count             22460.000000  \n",
       "mean                 19.049060  \n",
       "std                 134.965621  \n",
       "min                 -66.559028  \n",
       "25%                   0.529452  \n",
       "50%                   0.925482  \n",
       "75%                   3.501036  \n",
       "max                1365.276703  "
      ]
     },
     "execution_count": 665,
     "metadata": {},
     "output_type": "execute_result"
    }
   ],
   "source": [
    "accept_df[numerical].describe()"
   ]
  },
  {
   "cell_type": "markdown",
   "metadata": {},
   "source": [
    "Отлично, половина ответов уже есть: \\\n",
    "'mean' - среднее, '50%' - медиана, std - 'Среднеквадратическое отклонение'. Остальное из этой таблички нам не нужно"
   ]
  },
  {
   "cell_type": "code",
   "execution_count": 666,
   "metadata": {},
   "outputs": [],
   "source": [
    "def find_statistics_num(df, features):\n",
    "    table = df[features].describe()\n",
    "\n",
    "#   Возьмум нужное нам и переименуем для красоты\n",
    "    table= table.loc[['50%', 'mean', 'std']]\n",
    "    table.index = ['Медиана', 'Среднее', 'Среднеквадратическое отклонение']\n",
    "    \n",
    "#   Теперь посчитаем долю пропущенных значений. \n",
    "#   Просто проссуммируем np.nan и поделим на общее количество элементов\n",
    "    p_missing_values = (df[numerical].isna().sum(axis=0) / df.shape[0])\n",
    "    \n",
    "#   Сделаем разные фокусы, чтобы красиво преобразовать p_missing_values \n",
    "#   в нужную нам строчку и совместим с нашей табличкой tmp    \n",
    "    p_missing_values = pd.DataFrame(data=[p_missing_values], columns= p_missing_values.index)\n",
    "    p_missing_values.index = ['Доля пропущенных значений']\n",
    "    table = pd.concat([p_missing_values, table])\n",
    "    return table"
   ]
  },
  {
   "cell_type": "markdown",
   "metadata": {},
   "source": [
    "Посмотрим на даные 'accept.csv'"
   ]
  },
  {
   "cell_type": "code",
   "execution_count": 667,
   "metadata": {},
   "outputs": [
    {
     "data": {
      "text/html": [
       "<div>\n",
       "<style scoped>\n",
       "    .dataframe tbody tr th:only-of-type {\n",
       "        vertical-align: middle;\n",
       "    }\n",
       "\n",
       "    .dataframe tbody tr th {\n",
       "        vertical-align: top;\n",
       "    }\n",
       "\n",
       "    .dataframe thead th {\n",
       "        text-align: right;\n",
       "    }\n",
       "</style>\n",
       "<table border=\"1\" class=\"dataframe\">\n",
       "  <thead>\n",
       "    <tr style=\"text-align: right;\">\n",
       "      <th></th>\n",
       "      <th>income</th>\n",
       "      <th>age</th>\n",
       "      <th>experience</th>\n",
       "      <th>count_mnth_act_passport</th>\n",
       "      <th>COUNT_ACTIVE_CREDIT_NO_CC</th>\n",
       "      <th>inquiry_14_day</th>\n",
       "      <th>inquiry_21_day</th>\n",
       "      <th>CNT_MNTH_FROM_LAST_PMNT</th>\n",
       "    </tr>\n",
       "  </thead>\n",
       "  <tbody>\n",
       "    <tr>\n",
       "      <th>Доля пропущенных значений</th>\n",
       "      <td>0.020059</td>\n",
       "      <td>0.000000</td>\n",
       "      <td>0.001597</td>\n",
       "      <td>0.000000</td>\n",
       "      <td>0.256098</td>\n",
       "      <td>0.281194</td>\n",
       "      <td>0.281194</td>\n",
       "      <td>0.310069</td>\n",
       "    </tr>\n",
       "    <tr>\n",
       "      <th>Медиана</th>\n",
       "      <td>41576.000000</td>\n",
       "      <td>34.761213</td>\n",
       "      <td>3.227397</td>\n",
       "      <td>7.743169</td>\n",
       "      <td>0.000000</td>\n",
       "      <td>0.000000</td>\n",
       "      <td>0.000000</td>\n",
       "      <td>0.925482</td>\n",
       "    </tr>\n",
       "    <tr>\n",
       "      <th>Среднее</th>\n",
       "      <td>61549.858374</td>\n",
       "      <td>36.480220</td>\n",
       "      <td>4.891766</td>\n",
       "      <td>7.225088</td>\n",
       "      <td>0.670645</td>\n",
       "      <td>0.360427</td>\n",
       "      <td>0.427094</td>\n",
       "      <td>19.049060</td>\n",
       "    </tr>\n",
       "    <tr>\n",
       "      <th>Среднеквадратическое отклонение</th>\n",
       "      <td>103602.754773</td>\n",
       "      <td>8.228790</td>\n",
       "      <td>5.301986</td>\n",
       "      <td>3.348552</td>\n",
       "      <td>0.835817</td>\n",
       "      <td>0.610469</td>\n",
       "      <td>0.690228</td>\n",
       "      <td>134.965621</td>\n",
       "    </tr>\n",
       "  </tbody>\n",
       "</table>\n",
       "</div>"
      ],
      "text/plain": [
       "                                        income        age  experience  \\\n",
       "Доля пропущенных значений             0.020059   0.000000    0.001597   \n",
       "Медиана                           41576.000000  34.761213    3.227397   \n",
       "Среднее                           61549.858374  36.480220    4.891766   \n",
       "Среднеквадратическое отклонение  103602.754773   8.228790    5.301986   \n",
       "\n",
       "                                 count_mnth_act_passport  \\\n",
       "Доля пропущенных значений                       0.000000   \n",
       "Медиана                                         7.743169   \n",
       "Среднее                                         7.225088   \n",
       "Среднеквадратическое отклонение                 3.348552   \n",
       "\n",
       "                                 COUNT_ACTIVE_CREDIT_NO_CC  inquiry_14_day  \\\n",
       "Доля пропущенных значений                         0.256098        0.281194   \n",
       "Медиана                                           0.000000        0.000000   \n",
       "Среднее                                           0.670645        0.360427   \n",
       "Среднеквадратическое отклонение                   0.835817        0.610469   \n",
       "\n",
       "                                 inquiry_21_day  CNT_MNTH_FROM_LAST_PMNT  \n",
       "Доля пропущенных значений              0.281194                 0.310069  \n",
       "Медиана                                0.000000                 0.925482  \n",
       "Среднее                                0.427094                19.049060  \n",
       "Среднеквадратическое отклонение        0.690228               134.965621  "
      ]
     },
     "execution_count": 667,
     "metadata": {},
     "output_type": "execute_result"
    }
   ],
   "source": [
    "accept_stats = find_statistics_num(accept_df, numerical)\n",
    "accept_stats"
   ]
  },
  {
   "cell_type": "markdown",
   "metadata": {},
   "source": [
    "Посмотрим на даные 'reject.csv'"
   ]
  },
  {
   "cell_type": "code",
   "execution_count": 668,
   "metadata": {
    "scrolled": true
   },
   "outputs": [
    {
     "data": {
      "text/html": [
       "<div>\n",
       "<style scoped>\n",
       "    .dataframe tbody tr th:only-of-type {\n",
       "        vertical-align: middle;\n",
       "    }\n",
       "\n",
       "    .dataframe tbody tr th {\n",
       "        vertical-align: top;\n",
       "    }\n",
       "\n",
       "    .dataframe thead th {\n",
       "        text-align: right;\n",
       "    }\n",
       "</style>\n",
       "<table border=\"1\" class=\"dataframe\">\n",
       "  <thead>\n",
       "    <tr style=\"text-align: right;\">\n",
       "      <th></th>\n",
       "      <th>income</th>\n",
       "      <th>age</th>\n",
       "      <th>experience</th>\n",
       "      <th>count_mnth_act_passport</th>\n",
       "      <th>COUNT_ACTIVE_CREDIT_NO_CC</th>\n",
       "      <th>inquiry_14_day</th>\n",
       "      <th>inquiry_21_day</th>\n",
       "      <th>CNT_MNTH_FROM_LAST_PMNT</th>\n",
       "    </tr>\n",
       "  </thead>\n",
       "  <tbody>\n",
       "    <tr>\n",
       "      <th>Доля пропущенных значений</th>\n",
       "      <td>0.051061</td>\n",
       "      <td>0.000000</td>\n",
       "      <td>0.000748</td>\n",
       "      <td>0.000000</td>\n",
       "      <td>0.412232</td>\n",
       "      <td>0.430562</td>\n",
       "      <td>0.430562</td>\n",
       "      <td>0.511269</td>\n",
       "    </tr>\n",
       "    <tr>\n",
       "      <th>Медиана</th>\n",
       "      <td>29115.000000</td>\n",
       "      <td>24.109290</td>\n",
       "      <td>1.225735</td>\n",
       "      <td>3.713115</td>\n",
       "      <td>0.000000</td>\n",
       "      <td>0.000000</td>\n",
       "      <td>0.000000</td>\n",
       "      <td>0.864539</td>\n",
       "    </tr>\n",
       "    <tr>\n",
       "      <th>Среднее</th>\n",
       "      <td>33651.242633</td>\n",
       "      <td>24.037108</td>\n",
       "      <td>1.660079</td>\n",
       "      <td>3.509274</td>\n",
       "      <td>0.540971</td>\n",
       "      <td>0.340614</td>\n",
       "      <td>0.414025</td>\n",
       "      <td>42.478167</td>\n",
       "    </tr>\n",
       "    <tr>\n",
       "      <th>Среднеквадратическое отклонение</th>\n",
       "      <td>21821.837966</td>\n",
       "      <td>0.738261</td>\n",
       "      <td>1.394135</td>\n",
       "      <td>1.154384</td>\n",
       "      <td>0.730867</td>\n",
       "      <td>0.619647</td>\n",
       "      <td>0.708179</td>\n",
       "      <td>228.831924</td>\n",
       "    </tr>\n",
       "  </tbody>\n",
       "</table>\n",
       "</div>"
      ],
      "text/plain": [
       "                                       income        age  experience  \\\n",
       "Доля пропущенных значений            0.051061   0.000000    0.000748   \n",
       "Медиана                          29115.000000  24.109290    1.225735   \n",
       "Среднее                          33651.242633  24.037108    1.660079   \n",
       "Среднеквадратическое отклонение  21821.837966   0.738261    1.394135   \n",
       "\n",
       "                                 count_mnth_act_passport  \\\n",
       "Доля пропущенных значений                       0.000000   \n",
       "Медиана                                         3.713115   \n",
       "Среднее                                         3.509274   \n",
       "Среднеквадратическое отклонение                 1.154384   \n",
       "\n",
       "                                 COUNT_ACTIVE_CREDIT_NO_CC  inquiry_14_day  \\\n",
       "Доля пропущенных значений                         0.412232        0.430562   \n",
       "Медиана                                           0.000000        0.000000   \n",
       "Среднее                                           0.540971        0.340614   \n",
       "Среднеквадратическое отклонение                   0.730867        0.619647   \n",
       "\n",
       "                                 inquiry_21_day  CNT_MNTH_FROM_LAST_PMNT  \n",
       "Доля пропущенных значений              0.430562                 0.511269  \n",
       "Медиана                                0.000000                 0.864539  \n",
       "Среднее                                0.414025                42.478167  \n",
       "Среднеквадратическое отклонение        0.708179               228.831924  "
      ]
     },
     "execution_count": 668,
     "metadata": {},
     "output_type": "execute_result"
    }
   ],
   "source": [
    "reject_stats = find_statistics_num(reject_df, numerical)\n",
    "reject_stats"
   ]
  },
  {
   "cell_type": "markdown",
   "metadata": {},
   "source": [
    "Посчитаем моду и долю пропущенных значений для категориальных значений"
   ]
  },
  {
   "cell_type": "code",
   "execution_count": 669,
   "metadata": {},
   "outputs": [],
   "source": [
    "def stats_info_categorical(df, features):\n",
    "    accept_stats_categorical = pd.DataFrame(columns=features, \n",
    "                                            index=['Мода', 'Доля пропущенных значений'])\n",
    "    for feature in features:\n",
    "        accept_stats_categorical[feature] = np.array(\n",
    "        [df[feature].mode()[0], df[feature].isna().sum() / df[feature].shape[0]]\n",
    "        )\n",
    "    return accept_stats_categorical"
   ]
  },
  {
   "cell_type": "code",
   "execution_count": 670,
   "metadata": {},
   "outputs": [
    {
     "data": {
      "text/html": [
       "<div>\n",
       "<style scoped>\n",
       "    .dataframe tbody tr th:only-of-type {\n",
       "        vertical-align: middle;\n",
       "    }\n",
       "\n",
       "    .dataframe tbody tr th {\n",
       "        vertical-align: top;\n",
       "    }\n",
       "\n",
       "    .dataframe thead th {\n",
       "        text-align: right;\n",
       "    }\n",
       "</style>\n",
       "<table border=\"1\" class=\"dataframe\">\n",
       "  <thead>\n",
       "    <tr style=\"text-align: right;\">\n",
       "      <th></th>\n",
       "      <th>INCOME_TYPE</th>\n",
       "      <th>EDUCATION_</th>\n",
       "      <th>CUSTOMER_CATEGORY_</th>\n",
       "      <th>IS_EMPL</th>\n",
       "      <th>DEPENDANT_NUMBER</th>\n",
       "    </tr>\n",
       "  </thead>\n",
       "  <tbody>\n",
       "    <tr>\n",
       "      <th>Мода</th>\n",
       "      <td>OTHER</td>\n",
       "      <td>elementary</td>\n",
       "      <td>Corporate</td>\n",
       "      <td>0.0</td>\n",
       "      <td>0.000000</td>\n",
       "    </tr>\n",
       "    <tr>\n",
       "      <th>Доля пропущенных значений</th>\n",
       "      <td>0.0</td>\n",
       "      <td>0.0</td>\n",
       "      <td>0.5977760029489464</td>\n",
       "      <td>0.0</td>\n",
       "      <td>0.001321</td>\n",
       "    </tr>\n",
       "  </tbody>\n",
       "</table>\n",
       "</div>"
      ],
      "text/plain": [
       "                          INCOME_TYPE  EDUCATION_  CUSTOMER_CATEGORY_  \\\n",
       "Мода                            OTHER  elementary           Corporate   \n",
       "Доля пропущенных значений         0.0         0.0  0.5977760029489464   \n",
       "\n",
       "                           IS_EMPL  DEPENDANT_NUMBER  \n",
       "Мода                           0.0          0.000000  \n",
       "Доля пропущенных значений      0.0          0.001321  "
      ]
     },
     "execution_count": 670,
     "metadata": {},
     "output_type": "execute_result"
    }
   ],
   "source": [
    "accept_stats_info_categorical = stats_info_categorical(accept_df, categorical)\n",
    "accept_stats_info_categorical"
   ]
  },
  {
   "cell_type": "code",
   "execution_count": 671,
   "metadata": {},
   "outputs": [
    {
     "data": {
      "text/html": [
       "<div>\n",
       "<style scoped>\n",
       "    .dataframe tbody tr th:only-of-type {\n",
       "        vertical-align: middle;\n",
       "    }\n",
       "\n",
       "    .dataframe tbody tr th {\n",
       "        vertical-align: top;\n",
       "    }\n",
       "\n",
       "    .dataframe thead th {\n",
       "        text-align: right;\n",
       "    }\n",
       "</style>\n",
       "<table border=\"1\" class=\"dataframe\">\n",
       "  <thead>\n",
       "    <tr style=\"text-align: right;\">\n",
       "      <th></th>\n",
       "      <th>INCOME_TYPE</th>\n",
       "      <th>EDUCATION_</th>\n",
       "      <th>CUSTOMER_CATEGORY_</th>\n",
       "      <th>IS_EMPL</th>\n",
       "      <th>DEPENDANT_NUMBER</th>\n",
       "    </tr>\n",
       "  </thead>\n",
       "  <tbody>\n",
       "    <tr>\n",
       "      <th>Мода</th>\n",
       "      <td>OTHER</td>\n",
       "      <td>elementary</td>\n",
       "      <td>Corporate</td>\n",
       "      <td>1.0</td>\n",
       "      <td>0.000000</td>\n",
       "    </tr>\n",
       "    <tr>\n",
       "      <th>Доля пропущенных значений</th>\n",
       "      <td>0.0</td>\n",
       "      <td>0.0</td>\n",
       "      <td>0.4715234265407276</td>\n",
       "      <td>0.0</td>\n",
       "      <td>0.000468</td>\n",
       "    </tr>\n",
       "  </tbody>\n",
       "</table>\n",
       "</div>"
      ],
      "text/plain": [
       "                          INCOME_TYPE  EDUCATION_  CUSTOMER_CATEGORY_  \\\n",
       "Мода                            OTHER  elementary           Corporate   \n",
       "Доля пропущенных значений         0.0         0.0  0.4715234265407276   \n",
       "\n",
       "                           IS_EMPL  DEPENDANT_NUMBER  \n",
       "Мода                           1.0          0.000000  \n",
       "Доля пропущенных значений      0.0          0.000468  "
      ]
     },
     "execution_count": 671,
     "metadata": {},
     "output_type": "execute_result"
    }
   ],
   "source": [
    "reject_stats_info_categorical = stats_info_categorical(reject_df, categorical)\n",
    "reject_stats_info_categorical"
   ]
  },
  {
   "cell_type": "markdown",
   "metadata": {},
   "source": [
    "Так дальше мы будем заполнять значения"
   ]
  },
  {
   "cell_type": "markdown",
   "metadata": {},
   "source": [
    "Теперь нам нужно найти аномальные значения, чтобы было проще построим гистограммы"
   ]
  },
  {
   "cell_type": "code",
   "execution_count": 672,
   "metadata": {},
   "outputs": [],
   "source": [
    "def build_histplot(df, features):\n",
    "    for feature in features:\n",
    "        plt.figure(figsize=(18, 10))\n",
    "        sns.histplot(df[feature])\n",
    "        plt.show()"
   ]
  },
  {
   "cell_type": "code",
   "execution_count": 673,
   "metadata": {
    "scrolled": false
   },
   "outputs": [
    {
     "data": {
      "image/png": "[encoded data removed]",
      "text/plain": [
       "<Figure size 1296x720 with 1 Axes>"
      ]
     },
     "metadata": {
      "needs_background": "light"
     },
     "output_type": "display_data"
    },
    {
     "data": {
      "image/png": "[encoded data removed]",
      "text/plain": [
       "<Figure size 1296x720 with 1 Axes>"
      ]
     },
     "metadata": {
      "needs_background": "light"
     },
     "output_type": "display_data"
    },
    {
     "data": {
      "image/png": "[encoded data removed]",
      "text/plain": [
       "<Figure size 1296x720 with 1 Axes>"
      ]
     },
     "metadata": {
      "needs_background": "light"
     },
     "output_type": "display_data"
    },
    {
     "data": {
      "image/png": "[encoded data removed]",
      "text/plain": [
       "<Figure size 1296x720 with 1 Axes>"
      ]
     },
     "metadata": {
      "needs_background": "light"
     },
     "output_type": "display_data"
    },
    {
     "data": {
      "image/png": "[encoded data removed]",
      "text/plain": [
       "<Figure size 1296x720 with 1 Axes>"
      ]
     },
     "metadata": {
      "needs_background": "light"
     },
     "output_type": "display_data"
    },
    {
     "data": {
      "image/png": "[encoded data removed]",
      "text/plain": [
       "<Figure size 1296x720 with 1 Axes>"
      ]
     },
     "metadata": {
      "needs_background": "light"
     },
     "output_type": "display_data"
    },
    {
     "data": {
      "image/png": "[encoded data removed]",
      "text/plain": [
       "<Figure size 1296x720 with 1 Axes>"
      ]
     },
     "metadata": {
      "needs_background": "light"
     },
     "output_type": "display_data"
    },
    {
     "data": {
      "image/png": "[encoded data removed]",
      "text/plain": [
       "<Figure size 1296x720 with 1 Axes>"
      ]
     },
     "metadata": {
      "needs_background": "light"
     },
     "output_type": "display_data"
    },
    {
     "data": {
      "image/png": "[encoded data removed]",
      "text/plain": [
       "<Figure size 1296x720 with 1 Axes>"
      ]
     },
     "metadata": {
      "needs_background": "light"
     },
     "output_type": "display_data"
    },
    {
     "data": {
      "image/png": "[encoded data removed]",
      "text/plain": [
       "<Figure size 1296x720 with 1 Axes>"
      ]
     },
     "metadata": {
      "needs_background": "light"
     },
     "output_type": "display_data"
    }
   ],
   "source": [
    "build_histplot(accept_df, numerical + ['CNT_MNTH_FROM_LAST_PMNT', 'DEPENDANT_NUMBER'])"
   ]
  },
  {
   "cell_type": "code",
   "execution_count": 674,
   "metadata": {},
   "outputs": [
    {
     "data": {
      "text/html": [
       "<div>\n",
       "<style scoped>\n",
       "    .dataframe tbody tr th:only-of-type {\n",
       "        vertical-align: middle;\n",
       "    }\n",
       "\n",
       "    .dataframe tbody tr th {\n",
       "        vertical-align: top;\n",
       "    }\n",
       "\n",
       "    .dataframe thead th {\n",
       "        text-align: right;\n",
       "    }\n",
       "</style>\n",
       "<table border=\"1\" class=\"dataframe\">\n",
       "  <thead>\n",
       "    <tr style=\"text-align: right;\">\n",
       "      <th></th>\n",
       "      <th>target</th>\n",
       "      <th>INCOME_TYPE</th>\n",
       "      <th>EDUCATION_</th>\n",
       "      <th>CUSTOMER_CATEGORY_</th>\n",
       "      <th>income</th>\n",
       "      <th>DEPENDANT_NUMBER</th>\n",
       "      <th>IS_EMPL</th>\n",
       "      <th>COUNT_ACTIVE_CREDIT_NO_CC</th>\n",
       "      <th>CNT_MNTH_FROM_LAST_PMNT</th>\n",
       "      <th>age</th>\n",
       "      <th>experience</th>\n",
       "      <th>inquiry_14_day</th>\n",
       "      <th>inquiry_21_day</th>\n",
       "      <th>count_mnth_act_passport</th>\n",
       "    </tr>\n",
       "  </thead>\n",
       "  <tbody>\n",
       "    <tr>\n",
       "      <th>1647</th>\n",
       "      <td>0</td>\n",
       "      <td>OTHER</td>\n",
       "      <td>elementary</td>\n",
       "      <td>VIP</td>\n",
       "      <td>1784679.0</td>\n",
       "      <td>0.0</td>\n",
       "      <td>1</td>\n",
       "      <td>0.0</td>\n",
       "      <td>NaN</td>\n",
       "      <td>30.554285</td>\n",
       "      <td>3.006340</td>\n",
       "      <td>0.0</td>\n",
       "      <td>0.0</td>\n",
       "      <td>10.052916</td>\n",
       "    </tr>\n",
       "    <tr>\n",
       "      <th>4393</th>\n",
       "      <td>0</td>\n",
       "      <td>OTHER</td>\n",
       "      <td>elementary</td>\n",
       "      <td>VIP</td>\n",
       "      <td>1260432.0</td>\n",
       "      <td>0.0</td>\n",
       "      <td>1</td>\n",
       "      <td>1.0</td>\n",
       "      <td>0.851165</td>\n",
       "      <td>42.285762</td>\n",
       "      <td>0.497268</td>\n",
       "      <td>2.0</td>\n",
       "      <td>2.0</td>\n",
       "      <td>9.850146</td>\n",
       "    </tr>\n",
       "    <tr>\n",
       "      <th>4394</th>\n",
       "      <td>0</td>\n",
       "      <td>OTHER</td>\n",
       "      <td>elementary</td>\n",
       "      <td>VIP</td>\n",
       "      <td>1260432.0</td>\n",
       "      <td>0.0</td>\n",
       "      <td>1</td>\n",
       "      <td>1.0</td>\n",
       "      <td>0.851165</td>\n",
       "      <td>42.285762</td>\n",
       "      <td>0.497268</td>\n",
       "      <td>2.0</td>\n",
       "      <td>2.0</td>\n",
       "      <td>9.850146</td>\n",
       "    </tr>\n",
       "    <tr>\n",
       "      <th>7925</th>\n",
       "      <td>0</td>\n",
       "      <td>2NDFL</td>\n",
       "      <td>elementary</td>\n",
       "      <td>NaN</td>\n",
       "      <td>11450378.0</td>\n",
       "      <td>0.0</td>\n",
       "      <td>0</td>\n",
       "      <td>NaN</td>\n",
       "      <td>NaN</td>\n",
       "      <td>39.583562</td>\n",
       "      <td>1.408219</td>\n",
       "      <td>NaN</td>\n",
       "      <td>NaN</td>\n",
       "      <td>7.947945</td>\n",
       "    </tr>\n",
       "    <tr>\n",
       "      <th>8043</th>\n",
       "      <td>0</td>\n",
       "      <td>2NDFL</td>\n",
       "      <td>elementary</td>\n",
       "      <td>NaN</td>\n",
       "      <td>2000095.0</td>\n",
       "      <td>0.0</td>\n",
       "      <td>0</td>\n",
       "      <td>1.0</td>\n",
       "      <td>0.500627</td>\n",
       "      <td>27.397260</td>\n",
       "      <td>2.594521</td>\n",
       "      <td>0.0</td>\n",
       "      <td>0.0</td>\n",
       "      <td>7.139726</td>\n",
       "    </tr>\n",
       "    <tr>\n",
       "      <th>9250</th>\n",
       "      <td>0</td>\n",
       "      <td>OTHER</td>\n",
       "      <td>elementary</td>\n",
       "      <td>VIP</td>\n",
       "      <td>1371146.0</td>\n",
       "      <td>0.0</td>\n",
       "      <td>1</td>\n",
       "      <td>1.0</td>\n",
       "      <td>0.307975</td>\n",
       "      <td>39.653005</td>\n",
       "      <td>2.736807</td>\n",
       "      <td>0.0</td>\n",
       "      <td>0.0</td>\n",
       "      <td>0.186122</td>\n",
       "    </tr>\n",
       "    <tr>\n",
       "      <th>10187</th>\n",
       "      <td>0</td>\n",
       "      <td>2NDFL</td>\n",
       "      <td>elementary</td>\n",
       "      <td>VIP</td>\n",
       "      <td>1572016.0</td>\n",
       "      <td>0.0</td>\n",
       "      <td>0</td>\n",
       "      <td>1.0</td>\n",
       "      <td>0.991465</td>\n",
       "      <td>41.713100</td>\n",
       "      <td>10.556935</td>\n",
       "      <td>0.0</td>\n",
       "      <td>0.0</td>\n",
       "      <td>8.811730</td>\n",
       "    </tr>\n",
       "    <tr>\n",
       "      <th>12511</th>\n",
       "      <td>0</td>\n",
       "      <td>2NDFL</td>\n",
       "      <td>elementary</td>\n",
       "      <td>VIP</td>\n",
       "      <td>1543704.0</td>\n",
       "      <td>0.0</td>\n",
       "      <td>0</td>\n",
       "      <td>0.0</td>\n",
       "      <td>0.379772</td>\n",
       "      <td>33.856030</td>\n",
       "      <td>1.302605</td>\n",
       "      <td>0.0</td>\n",
       "      <td>0.0</td>\n",
       "      <td>10.025893</td>\n",
       "    </tr>\n",
       "    <tr>\n",
       "      <th>21604</th>\n",
       "      <td>0</td>\n",
       "      <td>OTHER</td>\n",
       "      <td>elementary</td>\n",
       "      <td>NaN</td>\n",
       "      <td>1160000.0</td>\n",
       "      <td>0.0</td>\n",
       "      <td>0</td>\n",
       "      <td>0.0</td>\n",
       "      <td>1.951165</td>\n",
       "      <td>52.079452</td>\n",
       "      <td>4.161644</td>\n",
       "      <td>1.0</td>\n",
       "      <td>1.0</td>\n",
       "      <td>6.868493</td>\n",
       "    </tr>\n",
       "    <tr>\n",
       "      <th>24492</th>\n",
       "      <td>0</td>\n",
       "      <td>OTHER</td>\n",
       "      <td>elementary</td>\n",
       "      <td>VIP</td>\n",
       "      <td>8000000.0</td>\n",
       "      <td>0.0</td>\n",
       "      <td>0</td>\n",
       "      <td>NaN</td>\n",
       "      <td>NaN</td>\n",
       "      <td>51.884932</td>\n",
       "      <td>8.416274</td>\n",
       "      <td>NaN</td>\n",
       "      <td>NaN</td>\n",
       "      <td>6.852055</td>\n",
       "    </tr>\n",
       "    <tr>\n",
       "      <th>28432</th>\n",
       "      <td>0</td>\n",
       "      <td>2NDFL</td>\n",
       "      <td>elementary</td>\n",
       "      <td>NaN</td>\n",
       "      <td>1146660.0</td>\n",
       "      <td>0.0</td>\n",
       "      <td>0</td>\n",
       "      <td>1.0</td>\n",
       "      <td>0.854928</td>\n",
       "      <td>47.351531</td>\n",
       "      <td>7.362490</td>\n",
       "      <td>1.0</td>\n",
       "      <td>1.0</td>\n",
       "      <td>2.288517</td>\n",
       "    </tr>\n",
       "  </tbody>\n",
       "</table>\n",
       "</div>"
      ],
      "text/plain": [
       "       target INCOME_TYPE  EDUCATION_ CUSTOMER_CATEGORY_      income  \\\n",
       "1647        0       OTHER  elementary                VIP   1784679.0   \n",
       "4393        0       OTHER  elementary                VIP   1260432.0   \n",
       "4394        0       OTHER  elementary                VIP   1260432.0   \n",
       "7925        0       2NDFL  elementary                NaN  11450378.0   \n",
       "8043        0       2NDFL  elementary                NaN   2000095.0   \n",
       "9250        0       OTHER  elementary                VIP   1371146.0   \n",
       "10187       0       2NDFL  elementary                VIP   1572016.0   \n",
       "12511       0       2NDFL  elementary                VIP   1543704.0   \n",
       "21604       0       OTHER  elementary                NaN   1160000.0   \n",
       "24492       0       OTHER  elementary                VIP   8000000.0   \n",
       "28432       0       2NDFL  elementary                NaN   1146660.0   \n",
       "\n",
       "       DEPENDANT_NUMBER  IS_EMPL  COUNT_ACTIVE_CREDIT_NO_CC  \\\n",
       "1647                0.0        1                        0.0   \n",
       "4393                0.0        1                        1.0   \n",
       "4394                0.0        1                        1.0   \n",
       "7925                0.0        0                        NaN   \n",
       "8043                0.0        0                        1.0   \n",
       "9250                0.0        1                        1.0   \n",
       "10187               0.0        0                        1.0   \n",
       "12511               0.0        0                        0.0   \n",
       "21604               0.0        0                        0.0   \n",
       "24492               0.0        0                        NaN   \n",
       "28432               0.0        0                        1.0   \n",
       "\n",
       "       CNT_MNTH_FROM_LAST_PMNT        age  experience  inquiry_14_day  \\\n",
       "1647                       NaN  30.554285    3.006340             0.0   \n",
       "4393                  0.851165  42.285762    0.497268             2.0   \n",
       "4394                  0.851165  42.285762    0.497268             2.0   \n",
       "7925                       NaN  39.583562    1.408219             NaN   \n",
       "8043                  0.500627  27.397260    2.594521             0.0   \n",
       "9250                  0.307975  39.653005    2.736807             0.0   \n",
       "10187                 0.991465  41.713100   10.556935             0.0   \n",
       "12511                 0.379772  33.856030    1.302605             0.0   \n",
       "21604                 1.951165  52.079452    4.161644             1.0   \n",
       "24492                      NaN  51.884932    8.416274             NaN   \n",
       "28432                 0.854928  47.351531    7.362490             1.0   \n",
       "\n",
       "       inquiry_21_day  count_mnth_act_passport  \n",
       "1647              0.0                10.052916  \n",
       "4393              2.0                 9.850146  \n",
       "4394              2.0                 9.850146  \n",
       "7925              NaN                 7.947945  \n",
       "8043              0.0                 7.139726  \n",
       "9250              0.0                 0.186122  \n",
       "10187             0.0                 8.811730  \n",
       "12511             0.0                10.025893  \n",
       "21604             1.0                 6.868493  \n",
       "24492             NaN                 6.852055  \n",
       "28432             1.0                 2.288517  "
      ]
     },
     "execution_count": 674,
     "metadata": {},
     "output_type": "execute_result"
    }
   ],
   "source": [
    "accept_df[accept_df['income'] > 1000000]"
   ]
  },
  {
   "cell_type": "markdown",
   "metadata": {},
   "source": [
    "Максимум 11 600 000 рублей, такое вполне возможно, но лучше удалим так как сильно будет мешаться нашей модели"
   ]
  },
  {
   "cell_type": "code",
   "execution_count": 675,
   "metadata": {},
   "outputs": [],
   "source": [
    "accept_df.loc[accept_df['income'] > 1000000, 'income'] = np.nan"
   ]
  },
  {
   "cell_type": "code",
   "execution_count": 676,
   "metadata": {},
   "outputs": [
    {
     "data": {
      "text/html": [
       "<div>\n",
       "<style scoped>\n",
       "    .dataframe tbody tr th:only-of-type {\n",
       "        vertical-align: middle;\n",
       "    }\n",
       "\n",
       "    .dataframe tbody tr th {\n",
       "        vertical-align: top;\n",
       "    }\n",
       "\n",
       "    .dataframe thead th {\n",
       "        text-align: right;\n",
       "    }\n",
       "</style>\n",
       "<table border=\"1\" class=\"dataframe\">\n",
       "  <thead>\n",
       "    <tr style=\"text-align: right;\">\n",
       "      <th></th>\n",
       "      <th>target</th>\n",
       "      <th>INCOME_TYPE</th>\n",
       "      <th>EDUCATION_</th>\n",
       "      <th>CUSTOMER_CATEGORY_</th>\n",
       "      <th>income</th>\n",
       "      <th>DEPENDANT_NUMBER</th>\n",
       "      <th>IS_EMPL</th>\n",
       "      <th>COUNT_ACTIVE_CREDIT_NO_CC</th>\n",
       "      <th>CNT_MNTH_FROM_LAST_PMNT</th>\n",
       "      <th>age</th>\n",
       "      <th>experience</th>\n",
       "      <th>inquiry_14_day</th>\n",
       "      <th>inquiry_21_day</th>\n",
       "      <th>count_mnth_act_passport</th>\n",
       "    </tr>\n",
       "  </thead>\n",
       "  <tbody>\n",
       "    <tr>\n",
       "      <th>6074</th>\n",
       "      <td>0</td>\n",
       "      <td>OTHER</td>\n",
       "      <td>beginner</td>\n",
       "      <td>Corporate</td>\n",
       "      <td>173000.0</td>\n",
       "      <td>0.0</td>\n",
       "      <td>0</td>\n",
       "      <td>NaN</td>\n",
       "      <td>NaN</td>\n",
       "      <td>34.536986</td>\n",
       "      <td>101.192365</td>\n",
       "      <td>NaN</td>\n",
       "      <td>NaN</td>\n",
       "      <td>9.750685</td>\n",
       "    </tr>\n",
       "    <tr>\n",
       "      <th>22062</th>\n",
       "      <td>0</td>\n",
       "      <td>OTHER</td>\n",
       "      <td>advanced</td>\n",
       "      <td>NaN</td>\n",
       "      <td>18000.0</td>\n",
       "      <td>0.0</td>\n",
       "      <td>0</td>\n",
       "      <td>1.0</td>\n",
       "      <td>1.0</td>\n",
       "      <td>26.302216</td>\n",
       "      <td>100.355191</td>\n",
       "      <td>0.0</td>\n",
       "      <td>0.0</td>\n",
       "      <td>6.261120</td>\n",
       "    </tr>\n",
       "  </tbody>\n",
       "</table>\n",
       "</div>"
      ],
      "text/plain": [
       "       target INCOME_TYPE EDUCATION_ CUSTOMER_CATEGORY_    income  \\\n",
       "6074        0       OTHER   beginner          Corporate  173000.0   \n",
       "22062       0       OTHER   advanced                NaN   18000.0   \n",
       "\n",
       "       DEPENDANT_NUMBER  IS_EMPL  COUNT_ACTIVE_CREDIT_NO_CC  \\\n",
       "6074                0.0        0                        NaN   \n",
       "22062               0.0        0                        1.0   \n",
       "\n",
       "       CNT_MNTH_FROM_LAST_PMNT        age  experience  inquiry_14_day  \\\n",
       "6074                       NaN  34.536986  101.192365             NaN   \n",
       "22062                      1.0  26.302216  100.355191             0.0   \n",
       "\n",
       "       inquiry_21_day  count_mnth_act_passport  \n",
       "6074              NaN                 9.750685  \n",
       "22062             0.0                 6.261120  "
      ]
     },
     "execution_count": 676,
     "metadata": {},
     "output_type": "execute_result"
    }
   ],
   "source": [
    "accept_df[accept_df['experience'] > 45]"
   ]
  },
  {
   "cell_type": "markdown",
   "metadata": {},
   "source": [
    "Видим, что у двух людей. опыт превышает их возраст, скорее всего ребята доабвили лишний ноль. уберем этот нолик"
   ]
  },
  {
   "cell_type": "markdown",
   "metadata": {},
   "source": [
    "Теперь посмотрим на переменную CNT_MNTH_FROM_LAST_PMNT"
   ]
  },
  {
   "cell_type": "markdown",
   "metadata": {},
   "source": [
    "У нас максимальный возраст 60 лет. А люди в среднем могут взять кредит с 20 лет, поэтому все что больше 40 лет, а это 480 месяцев вряд ли возможно. Глянем на эти данные"
   ]
  },
  {
   "cell_type": "code",
   "execution_count": 677,
   "metadata": {
    "scrolled": false
   },
   "outputs": [
    {
     "data": {
      "text/html": [
       "<div>\n",
       "<style scoped>\n",
       "    .dataframe tbody tr th:only-of-type {\n",
       "        vertical-align: middle;\n",
       "    }\n",
       "\n",
       "    .dataframe tbody tr th {\n",
       "        vertical-align: top;\n",
       "    }\n",
       "\n",
       "    .dataframe thead th {\n",
       "        text-align: right;\n",
       "    }\n",
       "</style>\n",
       "<table border=\"1\" class=\"dataframe\">\n",
       "  <thead>\n",
       "    <tr style=\"text-align: right;\">\n",
       "      <th></th>\n",
       "      <th>target</th>\n",
       "      <th>INCOME_TYPE</th>\n",
       "      <th>EDUCATION_</th>\n",
       "      <th>CUSTOMER_CATEGORY_</th>\n",
       "      <th>income</th>\n",
       "      <th>DEPENDANT_NUMBER</th>\n",
       "      <th>IS_EMPL</th>\n",
       "      <th>COUNT_ACTIVE_CREDIT_NO_CC</th>\n",
       "      <th>CNT_MNTH_FROM_LAST_PMNT</th>\n",
       "      <th>age</th>\n",
       "      <th>experience</th>\n",
       "      <th>inquiry_14_day</th>\n",
       "      <th>inquiry_21_day</th>\n",
       "      <th>count_mnth_act_passport</th>\n",
       "    </tr>\n",
       "  </thead>\n",
       "  <tbody>\n",
       "    <tr>\n",
       "      <th>6</th>\n",
       "      <td>0</td>\n",
       "      <td>OTHER</td>\n",
       "      <td>elementary</td>\n",
       "      <td>Corporate</td>\n",
       "      <td>39713.0</td>\n",
       "      <td>0.0</td>\n",
       "      <td>1</td>\n",
       "      <td>0.0</td>\n",
       "      <td>1362.504682</td>\n",
       "      <td>25.326611</td>\n",
       "      <td>0.848469</td>\n",
       "      <td>1.0</td>\n",
       "      <td>1.0</td>\n",
       "      <td>5.214589</td>\n",
       "    </tr>\n",
       "    <tr>\n",
       "      <th>258</th>\n",
       "      <td>0</td>\n",
       "      <td>OTHER</td>\n",
       "      <td>advanced</td>\n",
       "      <td>Corporate</td>\n",
       "      <td>44607.0</td>\n",
       "      <td>0.0</td>\n",
       "      <td>1</td>\n",
       "      <td>0.0</td>\n",
       "      <td>1362.508132</td>\n",
       "      <td>34.813699</td>\n",
       "      <td>0.495890</td>\n",
       "      <td>1.0</td>\n",
       "      <td>1.0</td>\n",
       "      <td>6.021918</td>\n",
       "    </tr>\n",
       "    <tr>\n",
       "      <th>858</th>\n",
       "      <td>0</td>\n",
       "      <td>OTHER</td>\n",
       "      <td>elementary</td>\n",
       "      <td>NaN</td>\n",
       "      <td>31900.0</td>\n",
       "      <td>0.0</td>\n",
       "      <td>0</td>\n",
       "      <td>0.0</td>\n",
       "      <td>1355.633468</td>\n",
       "      <td>38.441178</td>\n",
       "      <td>2.882274</td>\n",
       "      <td>0.0</td>\n",
       "      <td>1.0</td>\n",
       "      <td>9.893233</td>\n",
       "    </tr>\n",
       "    <tr>\n",
       "      <th>963</th>\n",
       "      <td>0</td>\n",
       "      <td>OTHER</td>\n",
       "      <td>elementary</td>\n",
       "      <td>Corporate</td>\n",
       "      <td>20000.0</td>\n",
       "      <td>0.0</td>\n",
       "      <td>1</td>\n",
       "      <td>0.0</td>\n",
       "      <td>1352.151994</td>\n",
       "      <td>25.946081</td>\n",
       "      <td>0.595628</td>\n",
       "      <td>NaN</td>\n",
       "      <td>NaN</td>\n",
       "      <td>4.869369</td>\n",
       "    </tr>\n",
       "    <tr>\n",
       "      <th>1009</th>\n",
       "      <td>0</td>\n",
       "      <td>OTHER</td>\n",
       "      <td>elementary</td>\n",
       "      <td>Corporate</td>\n",
       "      <td>73950.0</td>\n",
       "      <td>0.0</td>\n",
       "      <td>1</td>\n",
       "      <td>0.0</td>\n",
       "      <td>1364.856564</td>\n",
       "      <td>26.345205</td>\n",
       "      <td>0.342466</td>\n",
       "      <td>1.0</td>\n",
       "      <td>1.0</td>\n",
       "      <td>6.254795</td>\n",
       "    </tr>\n",
       "    <tr>\n",
       "      <th>...</th>\n",
       "      <td>...</td>\n",
       "      <td>...</td>\n",
       "      <td>...</td>\n",
       "      <td>...</td>\n",
       "      <td>...</td>\n",
       "      <td>...</td>\n",
       "      <td>...</td>\n",
       "      <td>...</td>\n",
       "      <td>...</td>\n",
       "      <td>...</td>\n",
       "      <td>...</td>\n",
       "      <td>...</td>\n",
       "      <td>...</td>\n",
       "      <td>...</td>\n",
       "    </tr>\n",
       "    <tr>\n",
       "      <th>31605</th>\n",
       "      <td>0</td>\n",
       "      <td>OTHER</td>\n",
       "      <td>elementary</td>\n",
       "      <td>Corporate</td>\n",
       "      <td>49186.0</td>\n",
       "      <td>0.0</td>\n",
       "      <td>1</td>\n",
       "      <td>0.0</td>\n",
       "      <td>1348.496393</td>\n",
       "      <td>28.779796</td>\n",
       "      <td>1.040070</td>\n",
       "      <td>NaN</td>\n",
       "      <td>NaN</td>\n",
       "      <td>5.297605</td>\n",
       "    </tr>\n",
       "    <tr>\n",
       "      <th>31737</th>\n",
       "      <td>0</td>\n",
       "      <td>OTHER</td>\n",
       "      <td>advanced</td>\n",
       "      <td>Corporate</td>\n",
       "      <td>18339.0</td>\n",
       "      <td>0.0</td>\n",
       "      <td>1</td>\n",
       "      <td>0.0</td>\n",
       "      <td>1346.434162</td>\n",
       "      <td>48.783008</td>\n",
       "      <td>3.286885</td>\n",
       "      <td>0.0</td>\n",
       "      <td>0.0</td>\n",
       "      <td>3.699454</td>\n",
       "    </tr>\n",
       "    <tr>\n",
       "      <th>31837</th>\n",
       "      <td>0</td>\n",
       "      <td>2NDFL</td>\n",
       "      <td>advanced</td>\n",
       "      <td>NaN</td>\n",
       "      <td>11048.0</td>\n",
       "      <td>0.0</td>\n",
       "      <td>0</td>\n",
       "      <td>0.0</td>\n",
       "      <td>1348.856631</td>\n",
       "      <td>37.642728</td>\n",
       "      <td>1.081084</td>\n",
       "      <td>4.0</td>\n",
       "      <td>5.0</td>\n",
       "      <td>9.935878</td>\n",
       "    </tr>\n",
       "    <tr>\n",
       "      <th>31880</th>\n",
       "      <td>1</td>\n",
       "      <td>2NDFL</td>\n",
       "      <td>elementary</td>\n",
       "      <td>NaN</td>\n",
       "      <td>47601.0</td>\n",
       "      <td>0.0</td>\n",
       "      <td>0</td>\n",
       "      <td>0.0</td>\n",
       "      <td>1345.149686</td>\n",
       "      <td>41.010689</td>\n",
       "      <td>7.896175</td>\n",
       "      <td>3.0</td>\n",
       "      <td>5.0</td>\n",
       "      <td>2.238087</td>\n",
       "    </tr>\n",
       "    <tr>\n",
       "      <th>32462</th>\n",
       "      <td>1</td>\n",
       "      <td>2NDFL</td>\n",
       "      <td>advanced</td>\n",
       "      <td>NaN</td>\n",
       "      <td>9162.0</td>\n",
       "      <td>0.0</td>\n",
       "      <td>0</td>\n",
       "      <td>0.0</td>\n",
       "      <td>1348.502352</td>\n",
       "      <td>30.004454</td>\n",
       "      <td>0.497605</td>\n",
       "      <td>2.0</td>\n",
       "      <td>2.0</td>\n",
       "      <td>1.130481</td>\n",
       "    </tr>\n",
       "  </tbody>\n",
       "</table>\n",
       "<p>225 rows × 14 columns</p>\n",
       "</div>"
      ],
      "text/plain": [
       "       target INCOME_TYPE  EDUCATION_ CUSTOMER_CATEGORY_   income  \\\n",
       "6           0       OTHER  elementary          Corporate  39713.0   \n",
       "258         0       OTHER    advanced          Corporate  44607.0   \n",
       "858         0       OTHER  elementary                NaN  31900.0   \n",
       "963         0       OTHER  elementary          Corporate  20000.0   \n",
       "1009        0       OTHER  elementary          Corporate  73950.0   \n",
       "...       ...         ...         ...                ...      ...   \n",
       "31605       0       OTHER  elementary          Corporate  49186.0   \n",
       "31737       0       OTHER    advanced          Corporate  18339.0   \n",
       "31837       0       2NDFL    advanced                NaN  11048.0   \n",
       "31880       1       2NDFL  elementary                NaN  47601.0   \n",
       "32462       1       2NDFL    advanced                NaN   9162.0   \n",
       "\n",
       "       DEPENDANT_NUMBER  IS_EMPL  COUNT_ACTIVE_CREDIT_NO_CC  \\\n",
       "6                   0.0        1                        0.0   \n",
       "258                 0.0        1                        0.0   \n",
       "858                 0.0        0                        0.0   \n",
       "963                 0.0        1                        0.0   \n",
       "1009                0.0        1                        0.0   \n",
       "...                 ...      ...                        ...   \n",
       "31605               0.0        1                        0.0   \n",
       "31737               0.0        1                        0.0   \n",
       "31837               0.0        0                        0.0   \n",
       "31880               0.0        0                        0.0   \n",
       "32462               0.0        0                        0.0   \n",
       "\n",
       "       CNT_MNTH_FROM_LAST_PMNT        age  experience  inquiry_14_day  \\\n",
       "6                  1362.504682  25.326611    0.848469             1.0   \n",
       "258                1362.508132  34.813699    0.495890             1.0   \n",
       "858                1355.633468  38.441178    2.882274             0.0   \n",
       "963                1352.151994  25.946081    0.595628             NaN   \n",
       "1009               1364.856564  26.345205    0.342466             1.0   \n",
       "...                        ...        ...         ...             ...   \n",
       "31605              1348.496393  28.779796    1.040070             NaN   \n",
       "31737              1346.434162  48.783008    3.286885             0.0   \n",
       "31837              1348.856631  37.642728    1.081084             4.0   \n",
       "31880              1345.149686  41.010689    7.896175             3.0   \n",
       "32462              1348.502352  30.004454    0.497605             2.0   \n",
       "\n",
       "       inquiry_21_day  count_mnth_act_passport  \n",
       "6                 1.0                 5.214589  \n",
       "258               1.0                 6.021918  \n",
       "858               1.0                 9.893233  \n",
       "963               NaN                 4.869369  \n",
       "1009              1.0                 6.254795  \n",
       "...               ...                      ...  \n",
       "31605             NaN                 5.297605  \n",
       "31737             0.0                 3.699454  \n",
       "31837             5.0                 9.935878  \n",
       "31880             5.0                 2.238087  \n",
       "32462             2.0                 1.130481  \n",
       "\n",
       "[225 rows x 14 columns]"
      ]
     },
     "execution_count": 677,
     "metadata": {},
     "output_type": "execute_result"
    }
   ],
   "source": [
    "accept_df[accept_df['CNT_MNTH_FROM_LAST_PMNT'] > 480]"
   ]
  },
  {
   "cell_type": "markdown",
   "metadata": {},
   "source": [
    "Смею предположть, что все эти люди никогда не брали кредит, поэтому как-то не совсем понятно что делать. Это сильно будет мешать нашей модели обучаться. Вообще я бы использовал отдельную модеь для таких людей, впрочем для людей, которые только взяли кредит сделал бы также"
   ]
  },
  {
   "cell_type": "code",
   "execution_count": 678,
   "metadata": {},
   "outputs": [],
   "source": [
    "accept_df.loc[accept_df['CNT_MNTH_FROM_LAST_PMNT'] < 0, 'CNT_MNTH_FROM_LAST_PMNT'] = 0"
   ]
  },
  {
   "cell_type": "markdown",
   "metadata": {},
   "source": [
    "Возможно отрицательные значения эти люди, которым одобрили кредити в других банках, либо бред и стоит удалить"
   ]
  },
  {
   "cell_type": "markdown",
   "metadata": {},
   "source": [
    "Необходимо рассчитать для всех категориальных переменных следующее:"
   ]
  },
  {
   "cell_type": "markdown",
   "metadata": {},
   "source": [
    "Теперь нужно посчитать IV.\n",
    "А для этого заполним пропуски. Для числовых возьмем среднее, а для категориальных моду"
   ]
  },
  {
   "cell_type": "code",
   "execution_count": 679,
   "metadata": {},
   "outputs": [],
   "source": [
    "def fillna_(df : pd.DataFrame, categorical : set, numerical : set) -> pd.DataFrame:\n",
    "    df_copy = df.copy()\n",
    "    for feature in (categorical | numerical):\n",
    "        value = df[feature].mean() if feature in numerical else df[feature].mode()[0]\n",
    "        df_copy[feature].fillna(value, inplace=True)            \n",
    "    return df_copy"
   ]
  },
  {
   "cell_type": "code",
   "execution_count": 680,
   "metadata": {},
   "outputs": [],
   "source": [
    "accept = fillna_(accept_df, set(categorical), set(numerical))"
   ]
  },
  {
   "cell_type": "markdown",
   "metadata": {},
   "source": [
    "Проверим остались пропуски у нас в df"
   ]
  },
  {
   "cell_type": "code",
   "execution_count": 681,
   "metadata": {},
   "outputs": [
    {
     "data": {
      "text/plain": [
       "target                       0\n",
       "INCOME_TYPE                  0\n",
       "EDUCATION_                   0\n",
       "CUSTOMER_CATEGORY_           0\n",
       "income                       0\n",
       "DEPENDANT_NUMBER             0\n",
       "IS_EMPL                      0\n",
       "COUNT_ACTIVE_CREDIT_NO_CC    0\n",
       "CNT_MNTH_FROM_LAST_PMNT      0\n",
       "age                          0\n",
       "experience                   0\n",
       "inquiry_14_day               0\n",
       "inquiry_21_day               0\n",
       "count_mnth_act_passport      0\n",
       "dtype: int64"
      ]
     },
     "execution_count": 681,
     "metadata": {},
     "output_type": "execute_result"
    }
   ],
   "source": [
    "accept.isna().sum()    "
   ]
  },
  {
   "cell_type": "markdown",
   "metadata": {},
   "source": [
    "Бинаризуем наши признаки, что посчитать IV"
   ]
  },
  {
   "cell_type": "code",
   "execution_count": 682,
   "metadata": {},
   "outputs": [],
   "source": [
    "def binirize(df, features, nbins=10):\n",
    "    df_copy = df.copy()\n",
    "    for feature in features:\n",
    "        df_copy[feature + '_bins'] = pd.qcut(df[feature], nbins, duplicates='drop')\n",
    "    df_copy.drop(columns=features, inplace=True)\n",
    "    return df_copy\n"
   ]
  },
  {
   "cell_type": "code",
   "execution_count": 683,
   "metadata": {
    "scrolled": false
   },
   "outputs": [],
   "source": [
    "accept_binirize = binirize(accept, ['age', 'income', 'experience', 'count_mnth_act_passport', 'CNT_MNTH_FROM_LAST_PMNT'])"
   ]
  },
  {
   "cell_type": "code",
   "execution_count": 684,
   "metadata": {
    "scrolled": false
   },
   "outputs": [
    {
     "data": {
      "text/html": [
       "<div>\n",
       "<style scoped>\n",
       "    .dataframe tbody tr th:only-of-type {\n",
       "        vertical-align: middle;\n",
       "    }\n",
       "\n",
       "    .dataframe tbody tr th {\n",
       "        vertical-align: top;\n",
       "    }\n",
       "\n",
       "    .dataframe thead th {\n",
       "        text-align: right;\n",
       "    }\n",
       "</style>\n",
       "<table border=\"1\" class=\"dataframe\">\n",
       "  <thead>\n",
       "    <tr style=\"text-align: right;\">\n",
       "      <th></th>\n",
       "      <th>target</th>\n",
       "      <th>INCOME_TYPE</th>\n",
       "      <th>EDUCATION_</th>\n",
       "      <th>CUSTOMER_CATEGORY_</th>\n",
       "      <th>DEPENDANT_NUMBER</th>\n",
       "      <th>IS_EMPL</th>\n",
       "      <th>COUNT_ACTIVE_CREDIT_NO_CC</th>\n",
       "      <th>inquiry_14_day</th>\n",
       "      <th>inquiry_21_day</th>\n",
       "      <th>age_bins</th>\n",
       "      <th>income_bins</th>\n",
       "      <th>experience_bins</th>\n",
       "      <th>count_mnth_act_passport_bins</th>\n",
       "      <th>CNT_MNTH_FROM_LAST_PMNT_bins</th>\n",
       "    </tr>\n",
       "  </thead>\n",
       "  <tbody>\n",
       "    <tr>\n",
       "      <th>0</th>\n",
       "      <td>0</td>\n",
       "      <td>OTHER</td>\n",
       "      <td>elementary</td>\n",
       "      <td>Corporate</td>\n",
       "      <td>0.0</td>\n",
       "      <td>0</td>\n",
       "      <td>0.000000</td>\n",
       "      <td>0.360427</td>\n",
       "      <td>0.427094</td>\n",
       "      <td>(37.504, 40.61]</td>\n",
       "      <td>(118867.9, 1000000.0]</td>\n",
       "      <td>(3.236, 4.407]</td>\n",
       "      <td>(9.577, 10.252]</td>\n",
       "      <td>(19.073, 1365.277]</td>\n",
       "    </tr>\n",
       "    <tr>\n",
       "      <th>1</th>\n",
       "      <td>0</td>\n",
       "      <td>OTHER</td>\n",
       "      <td>elementary</td>\n",
       "      <td>Corporate</td>\n",
       "      <td>0.0</td>\n",
       "      <td>1</td>\n",
       "      <td>1.000000</td>\n",
       "      <td>1.000000</td>\n",
       "      <td>1.000000</td>\n",
       "      <td>(26.819, 28.673]</td>\n",
       "      <td>(118867.9, 1000000.0]</td>\n",
       "      <td>(1.545, 2.294]</td>\n",
       "      <td>(7.743, 8.8]</td>\n",
       "      <td>(1.084, 2.597]</td>\n",
       "    </tr>\n",
       "    <tr>\n",
       "      <th>2</th>\n",
       "      <td>0</td>\n",
       "      <td>OTHER</td>\n",
       "      <td>elementary</td>\n",
       "      <td>VIP</td>\n",
       "      <td>0.0</td>\n",
       "      <td>1</td>\n",
       "      <td>0.000000</td>\n",
       "      <td>0.000000</td>\n",
       "      <td>0.000000</td>\n",
       "      <td>(34.761, 37.504]</td>\n",
       "      <td>(118867.9, 1000000.0]</td>\n",
       "      <td>(0.531, 0.948]</td>\n",
       "      <td>(6.6, 7.743]</td>\n",
       "      <td>(19.073, 1365.277]</td>\n",
       "    </tr>\n",
       "    <tr>\n",
       "      <th>3</th>\n",
       "      <td>0</td>\n",
       "      <td>OTHER</td>\n",
       "      <td>elementary</td>\n",
       "      <td>Corporate</td>\n",
       "      <td>0.0</td>\n",
       "      <td>1</td>\n",
       "      <td>2.000000</td>\n",
       "      <td>0.000000</td>\n",
       "      <td>0.000000</td>\n",
       "      <td>(49.108, 58.899]</td>\n",
       "      <td>(80000.0, 118867.9]</td>\n",
       "      <td>(0.948, 1.545]</td>\n",
       "      <td>(8.8, 9.577]</td>\n",
       "      <td>(1.084, 2.597]</td>\n",
       "    </tr>\n",
       "    <tr>\n",
       "      <th>4</th>\n",
       "      <td>0</td>\n",
       "      <td>OTHER</td>\n",
       "      <td>elementary</td>\n",
       "      <td>Corporate</td>\n",
       "      <td>0.0</td>\n",
       "      <td>1</td>\n",
       "      <td>0.000000</td>\n",
       "      <td>1.000000</td>\n",
       "      <td>1.000000</td>\n",
       "      <td>(40.61, 44.418]</td>\n",
       "      <td>(118867.9, 1000000.0]</td>\n",
       "      <td>(-4.601, 0.531]</td>\n",
       "      <td>(2.025, 4.118]</td>\n",
       "      <td>(1.084, 2.597]</td>\n",
       "    </tr>\n",
       "    <tr>\n",
       "      <th>...</th>\n",
       "      <td>...</td>\n",
       "      <td>...</td>\n",
       "      <td>...</td>\n",
       "      <td>...</td>\n",
       "      <td>...</td>\n",
       "      <td>...</td>\n",
       "      <td>...</td>\n",
       "      <td>...</td>\n",
       "      <td>...</td>\n",
       "      <td>...</td>\n",
       "      <td>...</td>\n",
       "      <td>...</td>\n",
       "      <td>...</td>\n",
       "      <td>...</td>\n",
       "    </tr>\n",
       "    <tr>\n",
       "      <th>32549</th>\n",
       "      <td>1</td>\n",
       "      <td>OTHER</td>\n",
       "      <td>elementary</td>\n",
       "      <td>Corporate</td>\n",
       "      <td>0.0</td>\n",
       "      <td>0</td>\n",
       "      <td>0.670645</td>\n",
       "      <td>0.360427</td>\n",
       "      <td>0.427094</td>\n",
       "      <td>(49.108, 58.899]</td>\n",
       "      <td>(60550.407, 80000.0]</td>\n",
       "      <td>(-4.601, 0.531]</td>\n",
       "      <td>(6.6, 7.743]</td>\n",
       "      <td>(13.943, 19.073]</td>\n",
       "    </tr>\n",
       "    <tr>\n",
       "      <th>32550</th>\n",
       "      <td>1</td>\n",
       "      <td>OTHER</td>\n",
       "      <td>advanced</td>\n",
       "      <td>Corporate</td>\n",
       "      <td>0.0</td>\n",
       "      <td>0</td>\n",
       "      <td>0.670645</td>\n",
       "      <td>0.360427</td>\n",
       "      <td>0.427094</td>\n",
       "      <td>(28.673, 30.433]</td>\n",
       "      <td>(35185.0, 42430.5]</td>\n",
       "      <td>(4.407, 5.651]</td>\n",
       "      <td>(6.6, 7.743]</td>\n",
       "      <td>(13.943, 19.073]</td>\n",
       "    </tr>\n",
       "    <tr>\n",
       "      <th>32551</th>\n",
       "      <td>1</td>\n",
       "      <td>2NDFL</td>\n",
       "      <td>elementary</td>\n",
       "      <td>Corporate</td>\n",
       "      <td>0.0</td>\n",
       "      <td>0</td>\n",
       "      <td>0.000000</td>\n",
       "      <td>1.000000</td>\n",
       "      <td>2.000000</td>\n",
       "      <td>(25.0, 26.819]</td>\n",
       "      <td>(42430.5, 50011.0]</td>\n",
       "      <td>(3.236, 4.407]</td>\n",
       "      <td>(5.498, 6.6]</td>\n",
       "      <td>(13.943, 19.073]</td>\n",
       "    </tr>\n",
       "    <tr>\n",
       "      <th>32552</th>\n",
       "      <td>1</td>\n",
       "      <td>2NDFL</td>\n",
       "      <td>advanced</td>\n",
       "      <td>Corporate</td>\n",
       "      <td>0.0</td>\n",
       "      <td>0</td>\n",
       "      <td>0.000000</td>\n",
       "      <td>1.000000</td>\n",
       "      <td>1.000000</td>\n",
       "      <td>(26.819, 28.673]</td>\n",
       "      <td>(19293.3, 25000.0]</td>\n",
       "      <td>(2.294, 3.236]</td>\n",
       "      <td>(5.498, 6.6]</td>\n",
       "      <td>(13.943, 19.073]</td>\n",
       "    </tr>\n",
       "    <tr>\n",
       "      <th>32553</th>\n",
       "      <td>1</td>\n",
       "      <td>OTHER</td>\n",
       "      <td>elementary</td>\n",
       "      <td>Corporate</td>\n",
       "      <td>0.0</td>\n",
       "      <td>0</td>\n",
       "      <td>0.670645</td>\n",
       "      <td>0.360427</td>\n",
       "      <td>0.427094</td>\n",
       "      <td>(25.0, 26.819]</td>\n",
       "      <td>(42430.5, 50011.0]</td>\n",
       "      <td>(1.545, 2.294]</td>\n",
       "      <td>(4.118, 5.498]</td>\n",
       "      <td>(13.943, 19.073]</td>\n",
       "    </tr>\n",
       "  </tbody>\n",
       "</table>\n",
       "<p>32554 rows × 14 columns</p>\n",
       "</div>"
      ],
      "text/plain": [
       "       target INCOME_TYPE  EDUCATION_ CUSTOMER_CATEGORY_  DEPENDANT_NUMBER  \\\n",
       "0           0       OTHER  elementary          Corporate               0.0   \n",
       "1           0       OTHER  elementary          Corporate               0.0   \n",
       "2           0       OTHER  elementary                VIP               0.0   \n",
       "3           0       OTHER  elementary          Corporate               0.0   \n",
       "4           0       OTHER  elementary          Corporate               0.0   \n",
       "...       ...         ...         ...                ...               ...   \n",
       "32549       1       OTHER  elementary          Corporate               0.0   \n",
       "32550       1       OTHER    advanced          Corporate               0.0   \n",
       "32551       1       2NDFL  elementary          Corporate               0.0   \n",
       "32552       1       2NDFL    advanced          Corporate               0.0   \n",
       "32553       1       OTHER  elementary          Corporate               0.0   \n",
       "\n",
       "       IS_EMPL  COUNT_ACTIVE_CREDIT_NO_CC  inquiry_14_day  inquiry_21_day  \\\n",
       "0            0                   0.000000        0.360427        0.427094   \n",
       "1            1                   1.000000        1.000000        1.000000   \n",
       "2            1                   0.000000        0.000000        0.000000   \n",
       "3            1                   2.000000        0.000000        0.000000   \n",
       "4            1                   0.000000        1.000000        1.000000   \n",
       "...        ...                        ...             ...             ...   \n",
       "32549        0                   0.670645        0.360427        0.427094   \n",
       "32550        0                   0.670645        0.360427        0.427094   \n",
       "32551        0                   0.000000        1.000000        2.000000   \n",
       "32552        0                   0.000000        1.000000        1.000000   \n",
       "32553        0                   0.670645        0.360427        0.427094   \n",
       "\n",
       "               age_bins            income_bins  experience_bins  \\\n",
       "0       (37.504, 40.61]  (118867.9, 1000000.0]   (3.236, 4.407]   \n",
       "1      (26.819, 28.673]  (118867.9, 1000000.0]   (1.545, 2.294]   \n",
       "2      (34.761, 37.504]  (118867.9, 1000000.0]   (0.531, 0.948]   \n",
       "3      (49.108, 58.899]    (80000.0, 118867.9]   (0.948, 1.545]   \n",
       "4       (40.61, 44.418]  (118867.9, 1000000.0]  (-4.601, 0.531]   \n",
       "...                 ...                    ...              ...   \n",
       "32549  (49.108, 58.899]   (60550.407, 80000.0]  (-4.601, 0.531]   \n",
       "32550  (28.673, 30.433]     (35185.0, 42430.5]   (4.407, 5.651]   \n",
       "32551    (25.0, 26.819]     (42430.5, 50011.0]   (3.236, 4.407]   \n",
       "32552  (26.819, 28.673]     (19293.3, 25000.0]   (2.294, 3.236]   \n",
       "32553    (25.0, 26.819]     (42430.5, 50011.0]   (1.545, 2.294]   \n",
       "\n",
       "      count_mnth_act_passport_bins CNT_MNTH_FROM_LAST_PMNT_bins  \n",
       "0                  (9.577, 10.252]           (19.073, 1365.277]  \n",
       "1                     (7.743, 8.8]               (1.084, 2.597]  \n",
       "2                     (6.6, 7.743]           (19.073, 1365.277]  \n",
       "3                     (8.8, 9.577]               (1.084, 2.597]  \n",
       "4                   (2.025, 4.118]               (1.084, 2.597]  \n",
       "...                            ...                          ...  \n",
       "32549                 (6.6, 7.743]             (13.943, 19.073]  \n",
       "32550                 (6.6, 7.743]             (13.943, 19.073]  \n",
       "32551                 (5.498, 6.6]             (13.943, 19.073]  \n",
       "32552                 (5.498, 6.6]             (13.943, 19.073]  \n",
       "32553               (4.118, 5.498]             (13.943, 19.073]  \n",
       "\n",
       "[32554 rows x 14 columns]"
      ]
     },
     "execution_count": 684,
     "metadata": {},
     "output_type": "execute_result"
    }
   ],
   "source": [
    "accept_binirize"
   ]
  },
  {
   "cell_type": "code",
   "execution_count": 685,
   "metadata": {},
   "outputs": [],
   "source": [
    "# Делаю все как на слайде из семинара\n",
    "def calculate_WOE_IV(df, feature):\n",
    "    df_copy = df.copy()\n",
    "    df_copy.target = 1 - df.target\n",
    "    tmp = pd.DataFrame()\n",
    "    tmp['кол-во всех объектов'] = df_copy.groupby(by=[feature]).count()['target']\n",
    "    tmp['кол-во \"1\"'] = df_copy.groupby(by=[feature]).sum()['target']\n",
    "    tmp['f(x|y=1)'] = tmp['кол-во \"1\"'] / np.sum(tmp['кол-во \"1\"'])\n",
    "    tmp['кол-во \"0\"'] = tmp['кол-во всех объектов'] - tmp['кол-во \"1\"']\n",
    "    tmp['f(x|y=0)'] = tmp['кол-во \"0\"'] / np.sum(tmp['кол-во \"0\"'])\n",
    "    tmp['WoE'] = np.log(tmp['f(x|y=1)'] / tmp['f(x|y=0)'])\n",
    "    tmp.replace({np.inf : 0, -np.inf : 0}, inplace=True)\n",
    "    tmp_IV = np.sum((tmp['f(x|y=1)'] - tmp['f(x|y=0)']) * tmp['WoE'])\n",
    "    return tmp, tmp['WoE'].to_dict(), tmp_IV"
   ]
  },
  {
   "cell_type": "markdown",
   "metadata": {},
   "source": [
    "Считаю IV для каждого признака на выборке accept"
   ]
  },
  {
   "cell_type": "code",
   "execution_count": 686,
   "metadata": {
    "scrolled": false
   },
   "outputs": [
    {
     "name": "stdout",
     "output_type": "stream",
     "text": [
      "+------------------------------+------------+\n",
      "| INCOME_TYPE                  | 0.0100185  |\n",
      "+------------------------------+------------+\n",
      "| EDUCATION_                   | 0.0548425  |\n",
      "+------------------------------+------------+\n",
      "| CUSTOMER_CATEGORY_           | 0.00542652 |\n",
      "+------------------------------+------------+\n",
      "| DEPENDANT_NUMBER             | 0.00162548 |\n",
      "+------------------------------+------------+\n",
      "| IS_EMPL                      | 0.784122   |\n",
      "+------------------------------+------------+\n",
      "| COUNT_ACTIVE_CREDIT_NO_CC    | 0.115      |\n",
      "+------------------------------+------------+\n",
      "| inquiry_14_day               | 0.15587    |\n",
      "+------------------------------+------------+\n",
      "| inquiry_21_day               | 0.19572    |\n",
      "+------------------------------+------------+\n",
      "| age_bins                     | 0.0242366  |\n",
      "+------------------------------+------------+\n",
      "| income_bins                  | 0.0669036  |\n",
      "+------------------------------+------------+\n",
      "| experience_bins              | 0.113396   |\n",
      "+------------------------------+------------+\n",
      "| count_mnth_act_passport_bins | 0.0807927  |\n",
      "+------------------------------+------------+\n",
      "| CNT_MNTH_FROM_LAST_PMNT_bins | 0.113116   |\n",
      "+------------------------------+------------+\n"
     ]
    }
   ],
   "source": [
    "IVs_accept = []\n",
    "for feature in accept_binirize.drop(columns='target').columns:\n",
    "    _, __, IV = calculate_WOE_IV(accept_binirize, feature)\n",
    "    IVs_accept.append((feature, IV))\n",
    "print(tabulate(IVs_accept, tablefmt='grid'))"
   ]
  },
  {
   "cell_type": "markdown",
   "metadata": {},
   "source": [
    "Строим логистическую модель только на одобренных заявках"
   ]
  },
  {
   "cell_type": "code",
   "execution_count": 687,
   "metadata": {},
   "outputs": [],
   "source": [
    "X_accept = accept_binirize.drop(columns=['target'])\n",
    "y_accept = accept_binirize.target"
   ]
  },
  {
   "cell_type": "code",
   "execution_count": 688,
   "metadata": {},
   "outputs": [],
   "source": [
    "from sklearn.model_selection import train_test_split"
   ]
  },
  {
   "cell_type": "markdown",
   "metadata": {},
   "source": [
    "Поделим выборку на три части: train, test, valid. На трейне учимся, на тесте проверяем, на валидационной считаем WoE."
   ]
  },
  {
   "cell_type": "code",
   "execution_count": 689,
   "metadata": {},
   "outputs": [],
   "source": [
    "X_train_accept, X_test_accept, y_train_accept, y_test_accept = train_test_split(\n",
    "    X_accept, y_accept, stratify=y_accept, test_size=0.15)"
   ]
  },
  {
   "cell_type": "code",
   "execution_count": 690,
   "metadata": {},
   "outputs": [],
   "source": [
    "X_train_accept, X_woe_accept, y_train_accept, y_woe_accept = train_test_split(\n",
    "    X_train_accept, y_train_accept, stratify=y_train_accept, test_size=0.35)"
   ]
  },
  {
   "cell_type": "code",
   "execution_count": 691,
   "metadata": {},
   "outputs": [],
   "source": [
    "def add_WoE(df, df_valid, features):\n",
    "    df_copy = df.copy()\n",
    "    for feature in features:\n",
    "        __, d_WoE, _ = calculate_WOE_IV(df_valid, feature)\n",
    "        df_copy[feature].replace(d_WoE, inplace=True)\n",
    "    return df_copy"
   ]
  },
  {
   "cell_type": "code",
   "execution_count": 692,
   "metadata": {},
   "outputs": [],
   "source": [
    "X_woe_accept['target'] = y_woe_accept\n",
    "X_train_transform_accept = add_WoE(X_train_accept, X_woe_accept, X_train_accept.columns)\n",
    "X_test_transform_accept = add_WoE(X_test_accept, X_woe_accept, X_test_accept.columns)"
   ]
  },
  {
   "cell_type": "code",
   "execution_count": 693,
   "metadata": {},
   "outputs": [
    {
     "data": {
      "text/plain": [
       "LogisticRegression()"
      ]
     },
     "execution_count": 693,
     "metadata": {},
     "output_type": "execute_result"
    }
   ],
   "source": [
    "from sklearn.linear_model import LogisticRegression\n",
    "clf = LogisticRegression(penalty='l2')\n",
    "clf.fit(X_train_transform_accept, y_train_accept)"
   ]
  },
  {
   "cell_type": "code",
   "execution_count": 694,
   "metadata": {},
   "outputs": [
    {
     "name": "stdout",
     "output_type": "stream",
     "text": [
      "AUC-ROC на тествой выборке = 0.61\n",
      "GINI на тестовой выборке = 0.22\n",
      "F1-Score на тестовой выборке 0.12\n"
     ]
    }
   ],
   "source": [
    "from sklearn.metrics import accuracy_score, roc_auc_score, f1_score\n",
    "y_pred_accept = 1 - (clf.predict_proba(X_test_transform_accept) > 0.947)[:, 0]\n",
    "print(\"AUC-ROC на тествой выборке =\",      \n",
    "      round(roc_auc_score(y_test_accept, y_pred_accept), 2))\n",
    "print(\"GINI на тестовой выборке =\", \n",
    "      round(2 * roc_auc_score(y_test_accept, y_pred_accept) - 1, 2))\n",
    "print(\"F1-Score на тестовой выборке\", \n",
    "      round(f1_score(y_test_accept, y_pred_accept), 2))"
   ]
  },
  {
   "cell_type": "markdown",
   "metadata": {},
   "source": [
    "Теперь преобразуем reject заявки"
   ]
  },
  {
   "cell_type": "code",
   "execution_count": 695,
   "metadata": {},
   "outputs": [],
   "source": [
    "def add_WoE(df, df_valid, features):\n",
    "    df_copy = df.copy()\n",
    "    for feature in features:\n",
    "        tmp, d_WoE, _ = calculate_WOE_IV(df_valid, feature)\n",
    "        df_copy[feature].replace(d_WoE, inplace=True)\n",
    "    return df_copy"
   ]
  },
  {
   "cell_type": "code",
   "execution_count": 696,
   "metadata": {},
   "outputs": [],
   "source": [
    "reject = fillna_(reject_df, set(categorical), set(numerical))"
   ]
  },
  {
   "cell_type": "code",
   "execution_count": 697,
   "metadata": {},
   "outputs": [],
   "source": [
    "#### В общем ТУТ СУПЕР КОСТЫЛЬ. ПРОСТИТЕ, но без него никак!\n",
    "\n",
    "def add_WoEEE(df, df_valid, features, except_features):\n",
    "    df_copy = df.copy()\n",
    "    ### Работаю с категориальными признаками\n",
    "    for feature in features:\n",
    "        tmp, d_WoE, _ = calculate_WOE_IV(df_valid, feature)\n",
    "        df_copy[feature].replace(d_WoE, inplace=True)\n",
    "    for feature in except_features:\n",
    "        tmp, d_WoE, _ = calculate_WOE_IV(df_valid, feature)\n",
    "        if feature == 'age_bins':\n",
    "            df_copy['age'] = tmp.iloc[0]['WoE']\n",
    "        elif feature == 'income_bins':\n",
    "            for index, row in df['income'].iteritems():\n",
    "                for kostil in tmp.index:\n",
    "                    if row in kostil:\n",
    "                        df_copy.iloc[index, 3] = tmp.loc[kostil, 'WoE']\n",
    "                        break\n",
    "        elif feature == 'experience_bins':\n",
    "            for index, row in df['experience'].iteritems():\n",
    "                for kostil in tmp.index:\n",
    "                    if row in kostil:\n",
    "                        df_copy.iloc[index, 9] = tmp.loc[kostil, 'WoE']\n",
    "                        break\n",
    "        elif feature == 'count_mnth_act_passport_bins':\n",
    "            for index, row in df['count_mnth_act_passport'].iteritems():\n",
    "                for kostil in tmp.index:\n",
    "                    if row in kostil:\n",
    "                        df_copy.iloc[index, 12] = tmp.loc[kostil, 'WoE']\n",
    "                        break\n",
    "        elif feature == 'CNT_MNTH_FROM_LAST_PMNT_bins':\n",
    "            for index, row in df['CNT_MNTH_FROM_LAST_PMNT'].iteritems():\n",
    "                for kostil in tmp.index:\n",
    "                    if row in kostil:\n",
    "                        df_copy.iloc[index, 12] = tmp.loc[kostil, 'WoE']\n",
    "                        break\n",
    "    return df_copy"
   ]
  },
  {
   "cell_type": "markdown",
   "metadata": {},
   "source": [
    "Функция, которая выше помогает и преобразовывает reject выборку, чтобы на ней можно сделать предсказание"
   ]
  },
  {
   "cell_type": "code",
   "execution_count": 698,
   "metadata": {},
   "outputs": [],
   "source": [
    "reject_binirize = add_WoEEE(reject, accept_binirize, \n",
    "                             categorical + ['COUNT_ACTIVE_CREDIT_NO_CC', 'inquiry_14_day', 'inquiry_21_day'],\n",
    "                             ['age_bins', 'income_bins', 'experience_bins', 'CNT_MNTH_FROM_LAST_PMNT_bins'])"
   ]
  },
  {
   "cell_type": "markdown",
   "metadata": {},
   "source": [
    "Меняем название столбцов, чтобы потом красиво склеить два датафрейма"
   ]
  },
  {
   "cell_type": "code",
   "execution_count": 699,
   "metadata": {},
   "outputs": [],
   "source": [
    "reject_binirize['age_bins'] = reject_binirize['age']\n",
    "reject_binirize['income_bins'] = reject_binirize['income']\n",
    "reject_binirize['experience_bins'] = reject_binirize['experience']\n",
    "reject_binirize['count_mnth_act_passport_bins'] = reject_binirize['count_mnth_act_passport']\n",
    "reject_binirize['CNT_MNTH_FROM_LAST_PMNT_bins'] = reject_binirize['CNT_MNTH_FROM_LAST_PMNT']\n",
    "reject_binirize = reject_binirize.drop(columns=['age', 'income', 'experience',\n",
    "                                                'count_mnth_act_passport', 'CNT_MNTH_FROM_LAST_PMNT'])"
   ]
  },
  {
   "cell_type": "markdown",
   "metadata": {},
   "source": [
    "Делаем предсказание"
   ]
  },
  {
   "cell_type": "code",
   "execution_count": 700,
   "metadata": {},
   "outputs": [],
   "source": [
    "y_pred_reject = 1 - (clf.predict_proba(reject_binirize) > 0.99)[:, 0]"
   ]
  },
  {
   "cell_type": "code",
   "execution_count": 701,
   "metadata": {},
   "outputs": [
    {
     "name": "stdout",
     "output_type": "stream",
     "text": [
      "Доля отказанных заявок 0.14149443561208266\n"
     ]
    }
   ],
   "source": [
    "print(\"Доля отказанных заявок\", y_pred_reject.mean())"
   ]
  },
  {
   "cell_type": "markdown",
   "metadata": {},
   "source": [
    "Дальше будет много склеик с таргетом и accept выборкой, чтобы ничего не потерялось"
   ]
  },
  {
   "cell_type": "code",
   "execution_count": 702,
   "metadata": {},
   "outputs": [],
   "source": [
    "reject_binirize = pd.concat([pd.Series(y_pred_reject, name='target'), reject_binirize], axis=1)"
   ]
  },
  {
   "cell_type": "code",
   "execution_count": 703,
   "metadata": {},
   "outputs": [],
   "source": [
    "train_mix = pd.concat([pd.concat([y_train_accept, X_train_transform_accept], axis=1), \n",
    "                       reject_binirize], ignore_index=True)"
   ]
  },
  {
   "cell_type": "markdown",
   "metadata": {},
   "source": [
    "Пересчитываем  IV для train_mix"
   ]
  },
  {
   "cell_type": "code",
   "execution_count": 704,
   "metadata": {},
   "outputs": [
    {
     "name": "stdout",
     "output_type": "stream",
     "text": [
      "+------------------------------+-----------+\n",
      "| INCOME_TYPE                  | 0.109169  |\n",
      "+------------------------------+-----------+\n",
      "| EDUCATION_                   | 0.0949119 |\n",
      "+------------------------------+-----------+\n",
      "| CUSTOMER_CATEGORY_           | 0.092516  |\n",
      "+------------------------------+-----------+\n",
      "| DEPENDANT_NUMBER             | 0.0916203 |\n",
      "+------------------------------+-----------+\n",
      "| IS_EMPL                      | 0.350127  |\n",
      "+------------------------------+-----------+\n",
      "| COUNT_ACTIVE_CREDIT_NO_CC    | 0.172711  |\n",
      "+------------------------------+-----------+\n",
      "| inquiry_14_day               | 0.208962  |\n",
      "+------------------------------+-----------+\n",
      "| inquiry_21_day               | 0.209078  |\n",
      "+------------------------------+-----------+\n",
      "| age_bins                     | 0.0935878 |\n",
      "+------------------------------+-----------+\n",
      "| income_bins                  | 0.100868  |\n",
      "+------------------------------+-----------+\n",
      "| experience_bins              | 0.10228   |\n",
      "+------------------------------+-----------+\n",
      "| count_mnth_act_passport_bins | 0.201441  |\n",
      "+------------------------------+-----------+\n",
      "| CNT_MNTH_FROM_LAST_PMNT_bins | 0.0743832 |\n",
      "+------------------------------+-----------+\n"
     ]
    }
   ],
   "source": [
    "IVs_mix = []\n",
    "for feature in accept_binirize.drop(columns='target').columns:\n",
    "    _, __, IV = calculate_WOE_IV(train_mix, feature)\n",
    "    IVs_mix.append((feature, IV / 10))\n",
    "print(tabulate(IVs_mix, tablefmt='grid'))"
   ]
  },
  {
   "cell_type": "markdown",
   "metadata": {},
   "source": [
    "Обучаем, предсказываем, считаем GINI, F1 для accept+reject"
   ]
  },
  {
   "cell_type": "code",
   "execution_count": 705,
   "metadata": {},
   "outputs": [
    {
     "data": {
      "text/plain": [
       "LogisticRegression()"
      ]
     },
     "execution_count": 705,
     "metadata": {},
     "output_type": "execute_result"
    }
   ],
   "source": [
    "clf.fit(train_mix.drop(columns=['target']), train_mix.target)"
   ]
  },
  {
   "cell_type": "code",
   "execution_count": 706,
   "metadata": {},
   "outputs": [],
   "source": [
    "y_pred_mix = 1 - (clf.predict_proba(X_test_transform_accept)[:, 0] > 0.97)"
   ]
  },
  {
   "cell_type": "code",
   "execution_count": 707,
   "metadata": {},
   "outputs": [
    {
     "name": "stdout",
     "output_type": "stream",
     "text": [
      "AUC-ROC на тествой выборке = 0.63\n",
      "GINI на тестовой выборке = 0.26\n",
      "F1-Score на тестовой выборке 0.07\n"
     ]
    }
   ],
   "source": [
    "print(\"AUC-ROC на тествой выборке =\",      \n",
    "      round(roc_auc_score(y_test_accept, y_pred_mix), 2))\n",
    "print(\"GINI на тестовой выборке =\", \n",
    "      round(2 * roc_auc_score(y_test_accept, y_pred_mix) - 1, 2))\n",
    "print(\"F1-Score на тестовой выборке\", \n",
    "      round(f1_score(y_test_accept, y_pred_mix), 2))"
   ]
  }
 ],
 "metadata": {
  "kernelspec": {
   "display_name": "Python 3",
   "language": "python",
   "name": "python3"
  },
  "language_info": {
   "codemirror_mode": {
    "name": "ipython",
    "version": 3
   },
   "file_extension": ".py",
   "mimetype": "text/x-python",
   "name": "python",
   "nbconvert_exporter": "python",
   "pygments_lexer": "ipython3",
   "version": "3.8.5"
  }
 },
 "nbformat": 4,
 "nbformat_minor": 4
}
