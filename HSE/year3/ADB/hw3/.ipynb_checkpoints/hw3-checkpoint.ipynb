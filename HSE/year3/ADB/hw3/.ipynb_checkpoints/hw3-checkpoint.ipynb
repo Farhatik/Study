{
 "cells": [
  {
   "cell_type": "code",
   "execution_count": 1,
   "metadata": {},
   "outputs": [],
   "source": [
    "import pandas as pd\n",
    "import numpy as np\n",
    "import matplotlib.pyplot as plt\n",
    "import plotly \n",
    "import seaborn as sns\n",
    "from tabulate import tabulate "
   ]
  },
  {
   "cell_type": "code",
   "execution_count": null,
   "metadata": {},
   "outputs": [],
   "source": []
  },
  {
   "cell_type": "markdown",
   "metadata": {},
   "source": [
    "Считаем файлы в датафреймы"
   ]
  },
  {
   "cell_type": "code",
   "execution_count": 2,
   "metadata": {},
   "outputs": [],
   "source": [
    "accept_df = pd.read_csv('20_accept.csv')\n",
    "reject_df = pd.read_csv('20_reject.csv')"
   ]
  },
  {
   "cell_type": "markdown",
   "metadata": {},
   "source": [
    "Проверим есть ли пропуски в целевой переменной"
   ]
  },
  {
   "cell_type": "code",
   "execution_count": 43,
   "metadata": {},
   "outputs": [
    {
     "name": "stdout",
     "output_type": "stream",
     "text": [
      "Все хорошо! Пропусков в таргете нет )\n"
     ]
    }
   ],
   "source": [
    "print(\"Все хорошо! Пропусков в таргете нет )\" if not accept_df.target.isna().sum() else \"Есть пропуски\")"
   ]
  },
  {
   "cell_type": "code",
   "execution_count": 44,
   "metadata": {},
   "outputs": [
    {
     "name": "stdout",
     "output_type": "stream",
     "text": [
      "<class 'pandas.core.frame.DataFrame'>\n",
      "RangeIndex: 32554 entries, 0 to 32553\n",
      "Data columns (total 15 columns):\n",
      " #   Column                     Non-Null Count  Dtype  \n",
      "---  ------                     --------------  -----  \n",
      " 0   target                     32554 non-null  int64  \n",
      " 1   INCOME_TYPE                32554 non-null  object \n",
      " 2   EDUCATION_                 32554 non-null  object \n",
      " 3   CUSTOMER_CATEGORY_         13094 non-null  object \n",
      " 4   income                     31901 non-null  float64\n",
      " 5   DEPENDANT_NUMBER           32511 non-null  float64\n",
      " 6   IS_EMPL                    32554 non-null  int64  \n",
      " 7   COUNT_ACTIVE_CREDIT_NO_CC  24217 non-null  float64\n",
      " 8   CNT_MNTH_FROM_LAST_PMNT    22460 non-null  float64\n",
      " 9   age                        32554 non-null  float64\n",
      " 10  experience                 32502 non-null  float64\n",
      " 11  inquiry_14_day             23400 non-null  float64\n",
      " 12  inquiry_21_day             23400 non-null  float64\n",
      " 13  count_mnth_act_passport    32554 non-null  float64\n",
      " 14  UID                        32554 non-null  int64  \n",
      "dtypes: float64(9), int64(3), object(3)\n",
      "memory usage: 3.7+ MB\n"
     ]
    }
   ],
   "source": [
    "accept_df.info()"
   ]
  },
  {
   "cell_type": "code",
   "execution_count": null,
   "metadata": {},
   "outputs": [],
   "source": []
  },
  {
   "cell_type": "code",
   "execution_count": 45,
   "metadata": {},
   "outputs": [
    {
     "name": "stdout",
     "output_type": "stream",
     "text": [
      "<class 'pandas.core.frame.DataFrame'>\n",
      "RangeIndex: 32554 entries, 0 to 32553\n",
      "Columns: 15 entries, target to UID\n",
      "dtypes: float64(9), int64(3), object(3)\n",
      "memory usage: 3.7+ MB\n"
     ]
    }
   ],
   "source": [
    "accept_df.info(verbose=False)"
   ]
  },
  {
   "cell_type": "code",
   "execution_count": 46,
   "metadata": {},
   "outputs": [
    {
     "data": {
      "text/html": [
       "<div>\n",
       "<style scoped>\n",
       "    .dataframe tbody tr th:only-of-type {\n",
       "        vertical-align: middle;\n",
       "    }\n",
       "\n",
       "    .dataframe tbody tr th {\n",
       "        vertical-align: top;\n",
       "    }\n",
       "\n",
       "    .dataframe thead th {\n",
       "        text-align: right;\n",
       "    }\n",
       "</style>\n",
       "<table border=\"1\" class=\"dataframe\">\n",
       "  <thead>\n",
       "    <tr style=\"text-align: right;\">\n",
       "      <th></th>\n",
       "      <th>target</th>\n",
       "      <th>income</th>\n",
       "      <th>DEPENDANT_NUMBER</th>\n",
       "      <th>IS_EMPL</th>\n",
       "      <th>COUNT_ACTIVE_CREDIT_NO_CC</th>\n",
       "      <th>CNT_MNTH_FROM_LAST_PMNT</th>\n",
       "      <th>age</th>\n",
       "      <th>experience</th>\n",
       "      <th>inquiry_14_day</th>\n",
       "      <th>inquiry_21_day</th>\n",
       "      <th>count_mnth_act_passport</th>\n",
       "      <th>UID</th>\n",
       "    </tr>\n",
       "  </thead>\n",
       "  <tbody>\n",
       "    <tr>\n",
       "      <th>count</th>\n",
       "      <td>32554.000000</td>\n",
       "      <td>3.190100e+04</td>\n",
       "      <td>32511.000000</td>\n",
       "      <td>32554.000000</td>\n",
       "      <td>24217.000000</td>\n",
       "      <td>22460.000000</td>\n",
       "      <td>32554.000000</td>\n",
       "      <td>32502.000000</td>\n",
       "      <td>23400.000000</td>\n",
       "      <td>23400.000000</td>\n",
       "      <td>32554.000000</td>\n",
       "      <td>32554.000000</td>\n",
       "    </tr>\n",
       "    <tr>\n",
       "      <th>mean</th>\n",
       "      <td>0.021411</td>\n",
       "      <td>6.154986e+04</td>\n",
       "      <td>0.007505</td>\n",
       "      <td>0.389752</td>\n",
       "      <td>0.670645</td>\n",
       "      <td>19.049060</td>\n",
       "      <td>36.480220</td>\n",
       "      <td>4.891766</td>\n",
       "      <td>0.360427</td>\n",
       "      <td>0.427094</td>\n",
       "      <td>7.225088</td>\n",
       "      <td>70383.331449</td>\n",
       "    </tr>\n",
       "    <tr>\n",
       "      <th>std</th>\n",
       "      <td>0.144751</td>\n",
       "      <td>1.036028e+05</td>\n",
       "      <td>0.108138</td>\n",
       "      <td>0.487702</td>\n",
       "      <td>0.835817</td>\n",
       "      <td>134.965621</td>\n",
       "      <td>8.228790</td>\n",
       "      <td>5.301986</td>\n",
       "      <td>0.610469</td>\n",
       "      <td>0.690228</td>\n",
       "      <td>3.348552</td>\n",
       "      <td>40590.154092</td>\n",
       "    </tr>\n",
       "    <tr>\n",
       "      <th>min</th>\n",
       "      <td>0.000000</td>\n",
       "      <td>0.000000e+00</td>\n",
       "      <td>0.000000</td>\n",
       "      <td>0.000000</td>\n",
       "      <td>0.000000</td>\n",
       "      <td>-66.559028</td>\n",
       "      <td>25.000741</td>\n",
       "      <td>-4.600000</td>\n",
       "      <td>0.000000</td>\n",
       "      <td>0.000000</td>\n",
       "      <td>-0.019126</td>\n",
       "      <td>7.000000</td>\n",
       "    </tr>\n",
       "    <tr>\n",
       "      <th>25%</th>\n",
       "      <td>0.000000</td>\n",
       "      <td>2.700000e+04</td>\n",
       "      <td>0.000000</td>\n",
       "      <td>0.000000</td>\n",
       "      <td>0.000000</td>\n",
       "      <td>0.529452</td>\n",
       "      <td>29.530362</td>\n",
       "      <td>1.227014</td>\n",
       "      <td>0.000000</td>\n",
       "      <td>0.000000</td>\n",
       "      <td>4.960678</td>\n",
       "      <td>35324.000000</td>\n",
       "    </tr>\n",
       "    <tr>\n",
       "      <th>50%</th>\n",
       "      <td>0.000000</td>\n",
       "      <td>4.157600e+04</td>\n",
       "      <td>0.000000</td>\n",
       "      <td>0.000000</td>\n",
       "      <td>0.000000</td>\n",
       "      <td>0.925482</td>\n",
       "      <td>34.761213</td>\n",
       "      <td>3.227397</td>\n",
       "      <td>0.000000</td>\n",
       "      <td>0.000000</td>\n",
       "      <td>7.743169</td>\n",
       "      <td>70243.000000</td>\n",
       "    </tr>\n",
       "    <tr>\n",
       "      <th>75%</th>\n",
       "      <td>0.000000</td>\n",
       "      <td>7.000000e+04</td>\n",
       "      <td>0.000000</td>\n",
       "      <td>1.000000</td>\n",
       "      <td>1.000000</td>\n",
       "      <td>3.501036</td>\n",
       "      <td>42.367123</td>\n",
       "      <td>6.475850</td>\n",
       "      <td>1.000000</td>\n",
       "      <td>1.000000</td>\n",
       "      <td>9.906849</td>\n",
       "      <td>105382.250000</td>\n",
       "    </tr>\n",
       "    <tr>\n",
       "      <th>max</th>\n",
       "      <td>1.000000</td>\n",
       "      <td>1.145038e+07</td>\n",
       "      <td>4.000000</td>\n",
       "      <td>1.000000</td>\n",
       "      <td>8.000000</td>\n",
       "      <td>1365.276703</td>\n",
       "      <td>58.898817</td>\n",
       "      <td>101.192365</td>\n",
       "      <td>6.000000</td>\n",
       "      <td>8.000000</td>\n",
       "      <td>15.805479</td>\n",
       "      <td>140904.000000</td>\n",
       "    </tr>\n",
       "  </tbody>\n",
       "</table>\n",
       "</div>"
      ],
      "text/plain": [
       "             target        income  DEPENDANT_NUMBER       IS_EMPL  \\\n",
       "count  32554.000000  3.190100e+04      32511.000000  32554.000000   \n",
       "mean       0.021411  6.154986e+04          0.007505      0.389752   \n",
       "std        0.144751  1.036028e+05          0.108138      0.487702   \n",
       "min        0.000000  0.000000e+00          0.000000      0.000000   \n",
       "25%        0.000000  2.700000e+04          0.000000      0.000000   \n",
       "50%        0.000000  4.157600e+04          0.000000      0.000000   \n",
       "75%        0.000000  7.000000e+04          0.000000      1.000000   \n",
       "max        1.000000  1.145038e+07          4.000000      1.000000   \n",
       "\n",
       "       COUNT_ACTIVE_CREDIT_NO_CC  CNT_MNTH_FROM_LAST_PMNT           age  \\\n",
       "count               24217.000000             22460.000000  32554.000000   \n",
       "mean                    0.670645                19.049060     36.480220   \n",
       "std                     0.835817               134.965621      8.228790   \n",
       "min                     0.000000               -66.559028     25.000741   \n",
       "25%                     0.000000                 0.529452     29.530362   \n",
       "50%                     0.000000                 0.925482     34.761213   \n",
       "75%                     1.000000                 3.501036     42.367123   \n",
       "max                     8.000000              1365.276703     58.898817   \n",
       "\n",
       "         experience  inquiry_14_day  inquiry_21_day  count_mnth_act_passport  \\\n",
       "count  32502.000000    23400.000000    23400.000000             32554.000000   \n",
       "mean       4.891766        0.360427        0.427094                 7.225088   \n",
       "std        5.301986        0.610469        0.690228                 3.348552   \n",
       "min       -4.600000        0.000000        0.000000                -0.019126   \n",
       "25%        1.227014        0.000000        0.000000                 4.960678   \n",
       "50%        3.227397        0.000000        0.000000                 7.743169   \n",
       "75%        6.475850        1.000000        1.000000                 9.906849   \n",
       "max      101.192365        6.000000        8.000000                15.805479   \n",
       "\n",
       "                 UID  \n",
       "count   32554.000000  \n",
       "mean    70383.331449  \n",
       "std     40590.154092  \n",
       "min         7.000000  \n",
       "25%     35324.000000  \n",
       "50%     70243.000000  \n",
       "75%    105382.250000  \n",
       "max    140904.000000  "
      ]
     },
     "execution_count": 46,
     "metadata": {},
     "output_type": "execute_result"
    }
   ],
   "source": [
    "accept_df.describe()"
   ]
  },
  {
   "cell_type": "code",
   "execution_count": null,
   "metadata": {},
   "outputs": [],
   "source": []
  },
  {
   "cell_type": "code",
   "execution_count": 48,
   "metadata": {},
   "outputs": [
    {
     "data": {
      "text/plain": [
       "target                       0.000000\n",
       "INCOME_TYPE                  0.000000\n",
       "EDUCATION_                   0.000000\n",
       "CUSTOMER_CATEGORY_           0.597776\n",
       "income                       0.020059\n",
       "DEPENDANT_NUMBER             0.001321\n",
       "IS_EMPL                      0.000000\n",
       "COUNT_ACTIVE_CREDIT_NO_CC    0.256098\n",
       "CNT_MNTH_FROM_LAST_PMNT      0.310069\n",
       "age                          0.000000\n",
       "experience                   0.001597\n",
       "inquiry_14_day               0.281194\n",
       "inquiry_21_day               0.281194\n",
       "count_mnth_act_passport      0.000000\n",
       "UID                          0.000000\n",
       "dtype: float64"
      ]
     },
     "execution_count": 48,
     "metadata": {},
     "output_type": "execute_result"
    }
   ],
   "source": [
    "accept_df.isna().sum(axis=0) / accept_df.shape[0]"
   ]
  },
  {
   "cell_type": "code",
   "execution_count": 49,
   "metadata": {},
   "outputs": [
    {
     "data": {
      "text/plain": [
       "array(['OTHER', '2NDFL'], dtype=object)"
      ]
     },
     "execution_count": 49,
     "metadata": {},
     "output_type": "execute_result"
    }
   ],
   "source": [
    "accept_df.INCOME_TYPE.unique()"
   ]
  },
  {
   "cell_type": "code",
   "execution_count": 50,
   "metadata": {},
   "outputs": [
    {
     "name": "stdout",
     "output_type": "stream",
     "text": [
      "[0 1]\n",
      "['OTHER' '2NDFL']\n",
      "['elementary' 'high' 'advanced' 'beginner']\n",
      "[nan 'Corporate' 'VIP']\n",
      "[140000. 119510. 146841. ...  23586.  49296.  23273.]\n",
      "[ 0.  1.  2.  3.  4. nan]\n",
      "[0 1]\n",
      "[ 0.  1.  2. nan  6.  3.  5.  4.  7.  8.]\n",
      "[34.21854839  1.115569   30.53091398 ...  3.82251344  0.17556004\n",
      "  0.9875448 ]\n",
      "[38.49710308 28.19178082 36.53107268 ... 29.71658058 25.79583053\n",
      " 25.03440377]\n",
      "[4.06010929 2.03287671 0.57764803 ... 5.36315592 2.53134217 1.82070514]\n",
      "[nan  1.  0.  2.  5.  3.  4.  6.]\n",
      "[nan  1.  0.  2.  3.  5.  4.  7.  6.  8.]\n",
      "[10.05600719  8.10958904  7.73770492 ...  5.76021409  6.59435586\n",
      "  5.01522569]\n",
      "[     7     11     17 ... 140245 140396 140674]\n"
     ]
    }
   ],
   "source": [
    "for col in accept_df:\n",
    "    print(accept_df[col].unique())"
   ]
  },
  {
   "cell_type": "code",
   "execution_count": 51,
   "metadata": {},
   "outputs": [
    {
     "data": {
      "image/png": "[encoded data removed]",
      "text/plain": [
       "<Figure size 1296x720 with 1 Axes>"
      ]
     },
     "metadata": {
      "needs_background": "light"
     },
     "output_type": "display_data"
    }
   ],
   "source": [
    "plt.figure(figsize=(18, 10))\n",
    "sns.histplot(accept_df.income)\n",
    "plt.show()"
   ]
  },
  {
   "cell_type": "code",
   "execution_count": 52,
   "metadata": {},
   "outputs": [
    {
     "data": {
      "image/png": "[encoded data removed]",
      "text/plain": [
       "<Figure size 432x288 with 1 Axes>"
      ]
     },
     "metadata": {
      "needs_background": "light"
     },
     "output_type": "display_data"
    },
    {
     "data": {
      "image/png": "[encoded data removed]",
      "text/plain": [
       "<Figure size 432x288 with 1 Axes>"
      ]
     },
     "metadata": {
      "needs_background": "light"
     },
     "output_type": "display_data"
    },
    {
     "data": {
      "image/png": "[encoded data removed]",
      "text/plain": [
       "<Figure size 432x288 with 1 Axes>"
      ]
     },
     "metadata": {
      "needs_background": "light"
     },
     "output_type": "display_data"
    },
    {
     "data": {
      "image/png": "[encoded data removed]",
      "text/plain": [
       "<Figure size 432x288 with 1 Axes>"
      ]
     },
     "metadata": {
      "needs_background": "light"
     },
     "output_type": "display_data"
    },
    {
     "data": {
      "image/png": "[encoded data removed]",
      "text/plain": [
       "<Figure size 432x288 with 1 Axes>"
      ]
     },
     "metadata": {
      "needs_background": "light"
     },
     "output_type": "display_data"
    },
    {
     "data": {
      "image/png": "[encoded data removed]",
      "text/plain": [
       "<Figure size 432x288 with 1 Axes>"
      ]
     },
     "metadata": {
      "needs_background": "light"
     },
     "output_type": "display_data"
    }
   ],
   "source": [
    "numerical = ['COUNT_ACTIVE_CREDIT_NO_CC', 'count_mnth_act_passport', 'DEPENDANT_NUMBER',\n",
    "             'experience',\n",
    "            'inquiry_14_day', 'inquiry_21_day']\n",
    "for cat in numerical:\n",
    "    sns.histplot(accept_df[cat])\n",
    "    plt.show()"
   ]
  },
  {
   "cell_type": "code",
   "execution_count": 53,
   "metadata": {},
   "outputs": [
    {
     "data": {
      "text/plain": [
       "Index(['target', 'INCOME_TYPE', 'EDUCATION_', 'CUSTOMER_CATEGORY_', 'income',\n",
       "       'DEPENDANT_NUMBER', 'IS_EMPL', 'COUNT_ACTIVE_CREDIT_NO_CC',\n",
       "       'CNT_MNTH_FROM_LAST_PMNT', 'age', 'experience', 'inquiry_14_day',\n",
       "       'inquiry_21_day', 'count_mnth_act_passport', 'UID'],\n",
       "      dtype='object')"
      ]
     },
     "execution_count": 53,
     "metadata": {},
     "output_type": "execute_result"
    }
   ],
   "source": [
    "accept_df.columns"
   ]
  },
  {
   "cell_type": "code",
   "execution_count": 54,
   "metadata": {},
   "outputs": [
    {
     "data": {
      "text/html": [
       "<div>\n",
       "<style scoped>\n",
       "    .dataframe tbody tr th:only-of-type {\n",
       "        vertical-align: middle;\n",
       "    }\n",
       "\n",
       "    .dataframe tbody tr th {\n",
       "        vertical-align: top;\n",
       "    }\n",
       "\n",
       "    .dataframe thead th {\n",
       "        text-align: right;\n",
       "    }\n",
       "</style>\n",
       "<table border=\"1\" class=\"dataframe\">\n",
       "  <thead>\n",
       "    <tr style=\"text-align: right;\">\n",
       "      <th></th>\n",
       "      <th>target</th>\n",
       "      <th>INCOME_TYPE</th>\n",
       "      <th>CUSTOMER_CATEGORY_</th>\n",
       "      <th>income</th>\n",
       "      <th>DEPENDANT_NUMBER</th>\n",
       "      <th>IS_EMPL</th>\n",
       "      <th>COUNT_ACTIVE_CREDIT_NO_CC</th>\n",
       "      <th>CNT_MNTH_FROM_LAST_PMNT</th>\n",
       "      <th>age</th>\n",
       "      <th>experience</th>\n",
       "      <th>inquiry_14_day</th>\n",
       "      <th>inquiry_21_day</th>\n",
       "      <th>count_mnth_act_passport</th>\n",
       "      <th>UID</th>\n",
       "    </tr>\n",
       "    <tr>\n",
       "      <th>EDUCATION_</th>\n",
       "      <th></th>\n",
       "      <th></th>\n",
       "      <th></th>\n",
       "      <th></th>\n",
       "      <th></th>\n",
       "      <th></th>\n",
       "      <th></th>\n",
       "      <th></th>\n",
       "      <th></th>\n",
       "      <th></th>\n",
       "      <th></th>\n",
       "      <th></th>\n",
       "      <th></th>\n",
       "      <th></th>\n",
       "    </tr>\n",
       "  </thead>\n",
       "  <tbody>\n",
       "    <tr>\n",
       "      <th>advanced</th>\n",
       "      <td>8433</td>\n",
       "      <td>8433</td>\n",
       "      <td>3543</td>\n",
       "      <td>8370</td>\n",
       "      <td>8407</td>\n",
       "      <td>8433</td>\n",
       "      <td>6222</td>\n",
       "      <td>5688</td>\n",
       "      <td>8433</td>\n",
       "      <td>8408</td>\n",
       "      <td>5973</td>\n",
       "      <td>5973</td>\n",
       "      <td>8433</td>\n",
       "      <td>8433</td>\n",
       "    </tr>\n",
       "    <tr>\n",
       "      <th>beginner</th>\n",
       "      <td>1534</td>\n",
       "      <td>1534</td>\n",
       "      <td>554</td>\n",
       "      <td>1421</td>\n",
       "      <td>1529</td>\n",
       "      <td>1534</td>\n",
       "      <td>1217</td>\n",
       "      <td>1160</td>\n",
       "      <td>1534</td>\n",
       "      <td>1529</td>\n",
       "      <td>1183</td>\n",
       "      <td>1183</td>\n",
       "      <td>1534</td>\n",
       "      <td>1534</td>\n",
       "    </tr>\n",
       "    <tr>\n",
       "      <th>elementary</th>\n",
       "      <td>21380</td>\n",
       "      <td>21380</td>\n",
       "      <td>8466</td>\n",
       "      <td>20909</td>\n",
       "      <td>21368</td>\n",
       "      <td>21380</td>\n",
       "      <td>15858</td>\n",
       "      <td>14782</td>\n",
       "      <td>21380</td>\n",
       "      <td>21358</td>\n",
       "      <td>15354</td>\n",
       "      <td>15354</td>\n",
       "      <td>21380</td>\n",
       "      <td>21380</td>\n",
       "    </tr>\n",
       "    <tr>\n",
       "      <th>high</th>\n",
       "      <td>1207</td>\n",
       "      <td>1207</td>\n",
       "      <td>531</td>\n",
       "      <td>1201</td>\n",
       "      <td>1207</td>\n",
       "      <td>1207</td>\n",
       "      <td>920</td>\n",
       "      <td>830</td>\n",
       "      <td>1207</td>\n",
       "      <td>1207</td>\n",
       "      <td>890</td>\n",
       "      <td>890</td>\n",
       "      <td>1207</td>\n",
       "      <td>1207</td>\n",
       "    </tr>\n",
       "  </tbody>\n",
       "</table>\n",
       "</div>"
      ],
      "text/plain": [
       "            target  INCOME_TYPE  CUSTOMER_CATEGORY_  income  DEPENDANT_NUMBER  \\\n",
       "EDUCATION_                                                                      \n",
       "advanced      8433         8433                3543    8370              8407   \n",
       "beginner      1534         1534                 554    1421              1529   \n",
       "elementary   21380        21380                8466   20909             21368   \n",
       "high          1207         1207                 531    1201              1207   \n",
       "\n",
       "            IS_EMPL  COUNT_ACTIVE_CREDIT_NO_CC  CNT_MNTH_FROM_LAST_PMNT  \\\n",
       "EDUCATION_                                                                \n",
       "advanced       8433                       6222                     5688   \n",
       "beginner       1534                       1217                     1160   \n",
       "elementary    21380                      15858                    14782   \n",
       "high           1207                        920                      830   \n",
       "\n",
       "              age  experience  inquiry_14_day  inquiry_21_day  \\\n",
       "EDUCATION_                                                      \n",
       "advanced     8433        8408            5973            5973   \n",
       "beginner     1534        1529            1183            1183   \n",
       "elementary  21380       21358           15354           15354   \n",
       "high         1207        1207             890             890   \n",
       "\n",
       "            count_mnth_act_passport    UID  \n",
       "EDUCATION_                                  \n",
       "advanced                       8433   8433  \n",
       "beginner                       1534   1534  \n",
       "elementary                    21380  21380  \n",
       "high                           1207   1207  "
      ]
     },
     "execution_count": 54,
     "metadata": {},
     "output_type": "execute_result"
    }
   ],
   "source": [
    "accept_df.groupby(by=['EDUCATION_']).count()"
   ]
  },
  {
   "cell_type": "code",
   "execution_count": 55,
   "metadata": {},
   "outputs": [
    {
     "data": {
      "text/html": [
       "<div>\n",
       "<style scoped>\n",
       "    .dataframe tbody tr th:only-of-type {\n",
       "        vertical-align: middle;\n",
       "    }\n",
       "\n",
       "    .dataframe tbody tr th {\n",
       "        vertical-align: top;\n",
       "    }\n",
       "\n",
       "    .dataframe thead th {\n",
       "        text-align: right;\n",
       "    }\n",
       "</style>\n",
       "<table border=\"1\" class=\"dataframe\">\n",
       "  <thead>\n",
       "    <tr style=\"text-align: right;\">\n",
       "      <th></th>\n",
       "      <th>target</th>\n",
       "      <th>INCOME_TYPE</th>\n",
       "      <th>EDUCATION_</th>\n",
       "      <th>income</th>\n",
       "      <th>DEPENDANT_NUMBER</th>\n",
       "      <th>IS_EMPL</th>\n",
       "      <th>COUNT_ACTIVE_CREDIT_NO_CC</th>\n",
       "      <th>CNT_MNTH_FROM_LAST_PMNT</th>\n",
       "      <th>age</th>\n",
       "      <th>experience</th>\n",
       "      <th>inquiry_14_day</th>\n",
       "      <th>inquiry_21_day</th>\n",
       "      <th>count_mnth_act_passport</th>\n",
       "      <th>UID</th>\n",
       "    </tr>\n",
       "    <tr>\n",
       "      <th>CUSTOMER_CATEGORY_</th>\n",
       "      <th></th>\n",
       "      <th></th>\n",
       "      <th></th>\n",
       "      <th></th>\n",
       "      <th></th>\n",
       "      <th></th>\n",
       "      <th></th>\n",
       "      <th></th>\n",
       "      <th></th>\n",
       "      <th></th>\n",
       "      <th></th>\n",
       "      <th></th>\n",
       "      <th></th>\n",
       "      <th></th>\n",
       "    </tr>\n",
       "  </thead>\n",
       "  <tbody>\n",
       "    <tr>\n",
       "      <th>Corporate</th>\n",
       "      <td>12689</td>\n",
       "      <td>12689</td>\n",
       "      <td>12689</td>\n",
       "      <td>12674</td>\n",
       "      <td>12685</td>\n",
       "      <td>12689</td>\n",
       "      <td>9302</td>\n",
       "      <td>8425</td>\n",
       "      <td>12689</td>\n",
       "      <td>12686</td>\n",
       "      <td>8933</td>\n",
       "      <td>8933</td>\n",
       "      <td>12689</td>\n",
       "      <td>12689</td>\n",
       "    </tr>\n",
       "    <tr>\n",
       "      <th>VIP</th>\n",
       "      <td>405</td>\n",
       "      <td>405</td>\n",
       "      <td>405</td>\n",
       "      <td>401</td>\n",
       "      <td>405</td>\n",
       "      <td>405</td>\n",
       "      <td>360</td>\n",
       "      <td>352</td>\n",
       "      <td>405</td>\n",
       "      <td>405</td>\n",
       "      <td>355</td>\n",
       "      <td>355</td>\n",
       "      <td>405</td>\n",
       "      <td>405</td>\n",
       "    </tr>\n",
       "  </tbody>\n",
       "</table>\n",
       "</div>"
      ],
      "text/plain": [
       "                    target  INCOME_TYPE  EDUCATION_  income  DEPENDANT_NUMBER  \\\n",
       "CUSTOMER_CATEGORY_                                                              \n",
       "Corporate            12689        12689       12689   12674             12685   \n",
       "VIP                    405          405         405     401               405   \n",
       "\n",
       "                    IS_EMPL  COUNT_ACTIVE_CREDIT_NO_CC  \\\n",
       "CUSTOMER_CATEGORY_                                       \n",
       "Corporate             12689                       9302   \n",
       "VIP                     405                        360   \n",
       "\n",
       "                    CNT_MNTH_FROM_LAST_PMNT    age  experience  \\\n",
       "CUSTOMER_CATEGORY_                                               \n",
       "Corporate                              8425  12689       12686   \n",
       "VIP                                     352    405         405   \n",
       "\n",
       "                    inquiry_14_day  inquiry_21_day  count_mnth_act_passport  \\\n",
       "CUSTOMER_CATEGORY_                                                            \n",
       "Corporate                     8933            8933                    12689   \n",
       "VIP                            355             355                      405   \n",
       "\n",
       "                      UID  \n",
       "CUSTOMER_CATEGORY_         \n",
       "Corporate           12689  \n",
       "VIP                   405  "
      ]
     },
     "execution_count": 55,
     "metadata": {},
     "output_type": "execute_result"
    }
   ],
   "source": [
    "accept_df.groupby(by=['CUSTOMER_CATEGORY_']).count()"
   ]
  },
  {
   "cell_type": "code",
   "execution_count": 56,
   "metadata": {},
   "outputs": [
    {
     "data": {
      "text/html": [
       "<div>\n",
       "<style scoped>\n",
       "    .dataframe tbody tr th:only-of-type {\n",
       "        vertical-align: middle;\n",
       "    }\n",
       "\n",
       "    .dataframe tbody tr th {\n",
       "        vertical-align: top;\n",
       "    }\n",
       "\n",
       "    .dataframe thead th {\n",
       "        text-align: right;\n",
       "    }\n",
       "</style>\n",
       "<table border=\"1\" class=\"dataframe\">\n",
       "  <thead>\n",
       "    <tr style=\"text-align: right;\">\n",
       "      <th></th>\n",
       "      <th>target</th>\n",
       "      <th>EDUCATION_</th>\n",
       "      <th>CUSTOMER_CATEGORY_</th>\n",
       "      <th>income</th>\n",
       "      <th>DEPENDANT_NUMBER</th>\n",
       "      <th>IS_EMPL</th>\n",
       "      <th>COUNT_ACTIVE_CREDIT_NO_CC</th>\n",
       "      <th>CNT_MNTH_FROM_LAST_PMNT</th>\n",
       "      <th>age</th>\n",
       "      <th>experience</th>\n",
       "      <th>inquiry_14_day</th>\n",
       "      <th>inquiry_21_day</th>\n",
       "      <th>count_mnth_act_passport</th>\n",
       "      <th>UID</th>\n",
       "    </tr>\n",
       "    <tr>\n",
       "      <th>INCOME_TYPE</th>\n",
       "      <th></th>\n",
       "      <th></th>\n",
       "      <th></th>\n",
       "      <th></th>\n",
       "      <th></th>\n",
       "      <th></th>\n",
       "      <th></th>\n",
       "      <th></th>\n",
       "      <th></th>\n",
       "      <th></th>\n",
       "      <th></th>\n",
       "      <th></th>\n",
       "      <th></th>\n",
       "      <th></th>\n",
       "    </tr>\n",
       "  </thead>\n",
       "  <tbody>\n",
       "    <tr>\n",
       "      <th>2NDFL</th>\n",
       "      <td>10669</td>\n",
       "      <td>10669</td>\n",
       "      <td>700</td>\n",
       "      <td>10038</td>\n",
       "      <td>10639</td>\n",
       "      <td>10669</td>\n",
       "      <td>7499</td>\n",
       "      <td>6853</td>\n",
       "      <td>10669</td>\n",
       "      <td>10633</td>\n",
       "      <td>7215</td>\n",
       "      <td>7215</td>\n",
       "      <td>10669</td>\n",
       "      <td>10669</td>\n",
       "    </tr>\n",
       "    <tr>\n",
       "      <th>OTHER</th>\n",
       "      <td>21885</td>\n",
       "      <td>21885</td>\n",
       "      <td>12394</td>\n",
       "      <td>21863</td>\n",
       "      <td>21872</td>\n",
       "      <td>21885</td>\n",
       "      <td>16718</td>\n",
       "      <td>15607</td>\n",
       "      <td>21885</td>\n",
       "      <td>21869</td>\n",
       "      <td>16185</td>\n",
       "      <td>16185</td>\n",
       "      <td>21885</td>\n",
       "      <td>21885</td>\n",
       "    </tr>\n",
       "  </tbody>\n",
       "</table>\n",
       "</div>"
      ],
      "text/plain": [
       "             target  EDUCATION_  CUSTOMER_CATEGORY_  income  DEPENDANT_NUMBER  \\\n",
       "INCOME_TYPE                                                                     \n",
       "2NDFL         10669       10669                 700   10038             10639   \n",
       "OTHER         21885       21885               12394   21863             21872   \n",
       "\n",
       "             IS_EMPL  COUNT_ACTIVE_CREDIT_NO_CC  CNT_MNTH_FROM_LAST_PMNT  \\\n",
       "INCOME_TYPE                                                                \n",
       "2NDFL          10669                       7499                     6853   \n",
       "OTHER          21885                      16718                    15607   \n",
       "\n",
       "               age  experience  inquiry_14_day  inquiry_21_day  \\\n",
       "INCOME_TYPE                                                      \n",
       "2NDFL        10669       10633            7215            7215   \n",
       "OTHER        21885       21869           16185           16185   \n",
       "\n",
       "             count_mnth_act_passport    UID  \n",
       "INCOME_TYPE                                  \n",
       "2NDFL                          10669  10669  \n",
       "OTHER                          21885  21885  "
      ]
     },
     "execution_count": 56,
     "metadata": {},
     "output_type": "execute_result"
    }
   ],
   "source": [
    "accept_df.groupby(by=['INCOME_TYPE']).count()"
   ]
  },
  {
   "cell_type": "code",
   "execution_count": 90,
   "metadata": {},
   "outputs": [],
   "source": [
    "numerical = set(['COUNT_ACTIVE_CREDIT_NO_CC', 'count_mnth_act_passport', \n",
    "             'DEPENDANT_NUMBER', 'experience',\n",
    "            'inquiry_14_day', 'inquiry_21_day', 'income', 'CNT_MNTH_FROM_LAST_PMNT'])\n",
    "\n",
    "categorical = set(['EDUCATION_', 'CUSTOMER_CATEGORY_', 'INCOME_TYPE'])"
   ]
  },
  {
   "cell_type": "code",
   "execution_count": 102,
   "metadata": {},
   "outputs": [],
   "source": [
    "def fillna_(df : pd.DataFrame, categorical : set, numerical : set) -> pd.DataFrame:\n",
    "    df_copy = df.copy()\n",
    "    for feature in (categorical | numerical):\n",
    "        value = df[feature].mean() if feature in numerical else df[feature].mode()[0]\n",
    "        df_copy[feature].fillna(value, inplace=True)            \n",
    "    return df_copy"
   ]
  },
  {
   "cell_type": "code",
   "execution_count": 103,
   "metadata": {
    "scrolled": true
   },
   "outputs": [
    {
     "data": {
      "text/plain": [
       "{'CNT_MNTH_FROM_LAST_PMNT',\n",
       " 'COUNT_ACTIVE_CREDIT_NO_CC',\n",
       " 'CUSTOMER_CATEGORY_',\n",
       " 'DEPENDANT_NUMBER',\n",
       " 'EDUCATION_',\n",
       " 'INCOME_TYPE',\n",
       " 'count_mnth_act_passport',\n",
       " 'experience',\n",
       " 'income',\n",
       " 'inquiry_14_day',\n",
       " 'inquiry_21_day'}"
      ]
     },
     "execution_count": 103,
     "metadata": {},
     "output_type": "execute_result"
    }
   ],
   "source": [
    "numerical | categorical"
   ]
  },
  {
   "cell_type": "code",
   "execution_count": 111,
   "metadata": {},
   "outputs": [],
   "source": [
    "accept = fillna_(accept_df, categorical, numerical)"
   ]
  },
  {
   "cell_type": "code",
   "execution_count": 112,
   "metadata": {},
   "outputs": [
    {
     "data": {
      "text/plain": [
       "target                           0\n",
       "INCOME_TYPE                      0\n",
       "EDUCATION_                       0\n",
       "CUSTOMER_CATEGORY_           19460\n",
       "income                         653\n",
       "DEPENDANT_NUMBER                43\n",
       "IS_EMPL                          0\n",
       "COUNT_ACTIVE_CREDIT_NO_CC     8337\n",
       "CNT_MNTH_FROM_LAST_PMNT      10094\n",
       "age                              0\n",
       "experience                      52\n",
       "inquiry_14_day                9154\n",
       "inquiry_21_day                9154\n",
       "count_mnth_act_passport          0\n",
       "UID                              0\n",
       "dtype: int64"
      ]
     },
     "execution_count": 112,
     "metadata": {},
     "output_type": "execute_result"
    }
   ],
   "source": [
    "accept_df.isna().sum()"
   ]
  },
  {
   "cell_type": "code",
   "execution_count": 113,
   "metadata": {},
   "outputs": [
    {
     "data": {
      "text/plain": [
       "'Corporate'"
      ]
     },
     "execution_count": 113,
     "metadata": {},
     "output_type": "execute_result"
    }
   ],
   "source": [
    "accept_df['CUSTOMER_CATEGORY_'].mode()[0]"
   ]
  },
  {
   "cell_type": "code",
   "execution_count": 114,
   "metadata": {},
   "outputs": [
    {
     "data": {
      "text/html": [
       "<div>\n",
       "<style scoped>\n",
       "    .dataframe tbody tr th:only-of-type {\n",
       "        vertical-align: middle;\n",
       "    }\n",
       "\n",
       "    .dataframe tbody tr th {\n",
       "        vertical-align: top;\n",
       "    }\n",
       "\n",
       "    .dataframe thead th {\n",
       "        text-align: right;\n",
       "    }\n",
       "</style>\n",
       "<table border=\"1\" class=\"dataframe\">\n",
       "  <thead>\n",
       "    <tr style=\"text-align: right;\">\n",
       "      <th></th>\n",
       "      <th>target</th>\n",
       "      <th>INCOME_TYPE</th>\n",
       "      <th>EDUCATION_</th>\n",
       "      <th>CUSTOMER_CATEGORY_</th>\n",
       "      <th>income</th>\n",
       "      <th>DEPENDANT_NUMBER</th>\n",
       "      <th>IS_EMPL</th>\n",
       "      <th>COUNT_ACTIVE_CREDIT_NO_CC</th>\n",
       "      <th>CNT_MNTH_FROM_LAST_PMNT</th>\n",
       "      <th>age</th>\n",
       "      <th>experience</th>\n",
       "      <th>inquiry_14_day</th>\n",
       "      <th>inquiry_21_day</th>\n",
       "      <th>count_mnth_act_passport</th>\n",
       "      <th>UID</th>\n",
       "    </tr>\n",
       "  </thead>\n",
       "  <tbody>\n",
       "    <tr>\n",
       "      <th>0</th>\n",
       "      <td>0</td>\n",
       "      <td>OTHER</td>\n",
       "      <td>elementary</td>\n",
       "      <td>Corporate</td>\n",
       "      <td>140000.0</td>\n",
       "      <td>0.0</td>\n",
       "      <td>0</td>\n",
       "      <td>0.000000</td>\n",
       "      <td>34.218548</td>\n",
       "      <td>38.497103</td>\n",
       "      <td>4.060109</td>\n",
       "      <td>0.360427</td>\n",
       "      <td>0.427094</td>\n",
       "      <td>10.056007</td>\n",
       "      <td>7</td>\n",
       "    </tr>\n",
       "    <tr>\n",
       "      <th>1</th>\n",
       "      <td>0</td>\n",
       "      <td>OTHER</td>\n",
       "      <td>elementary</td>\n",
       "      <td>Corporate</td>\n",
       "      <td>119510.0</td>\n",
       "      <td>0.0</td>\n",
       "      <td>1</td>\n",
       "      <td>1.000000</td>\n",
       "      <td>1.115569</td>\n",
       "      <td>28.191781</td>\n",
       "      <td>2.032877</td>\n",
       "      <td>1.000000</td>\n",
       "      <td>1.000000</td>\n",
       "      <td>8.109589</td>\n",
       "      <td>11</td>\n",
       "    </tr>\n",
       "    <tr>\n",
       "      <th>2</th>\n",
       "      <td>0</td>\n",
       "      <td>OTHER</td>\n",
       "      <td>elementary</td>\n",
       "      <td>VIP</td>\n",
       "      <td>146841.0</td>\n",
       "      <td>0.0</td>\n",
       "      <td>1</td>\n",
       "      <td>0.000000</td>\n",
       "      <td>30.530914</td>\n",
       "      <td>36.531073</td>\n",
       "      <td>0.577648</td>\n",
       "      <td>0.000000</td>\n",
       "      <td>0.000000</td>\n",
       "      <td>7.737705</td>\n",
       "      <td>17</td>\n",
       "    </tr>\n",
       "    <tr>\n",
       "      <th>3</th>\n",
       "      <td>0</td>\n",
       "      <td>OTHER</td>\n",
       "      <td>elementary</td>\n",
       "      <td>Corporate</td>\n",
       "      <td>102915.0</td>\n",
       "      <td>0.0</td>\n",
       "      <td>1</td>\n",
       "      <td>2.000000</td>\n",
       "      <td>1.174485</td>\n",
       "      <td>54.064219</td>\n",
       "      <td>1.458739</td>\n",
       "      <td>0.000000</td>\n",
       "      <td>0.000000</td>\n",
       "      <td>8.888876</td>\n",
       "      <td>21</td>\n",
       "    </tr>\n",
       "    <tr>\n",
       "      <th>4</th>\n",
       "      <td>0</td>\n",
       "      <td>OTHER</td>\n",
       "      <td>elementary</td>\n",
       "      <td>Corporate</td>\n",
       "      <td>183461.0</td>\n",
       "      <td>0.0</td>\n",
       "      <td>1</td>\n",
       "      <td>0.000000</td>\n",
       "      <td>1.186985</td>\n",
       "      <td>44.063014</td>\n",
       "      <td>0.512194</td>\n",
       "      <td>1.000000</td>\n",
       "      <td>1.000000</td>\n",
       "      <td>2.649315</td>\n",
       "      <td>24</td>\n",
       "    </tr>\n",
       "    <tr>\n",
       "      <th>...</th>\n",
       "      <td>...</td>\n",
       "      <td>...</td>\n",
       "      <td>...</td>\n",
       "      <td>...</td>\n",
       "      <td>...</td>\n",
       "      <td>...</td>\n",
       "      <td>...</td>\n",
       "      <td>...</td>\n",
       "      <td>...</td>\n",
       "      <td>...</td>\n",
       "      <td>...</td>\n",
       "      <td>...</td>\n",
       "      <td>...</td>\n",
       "      <td>...</td>\n",
       "      <td>...</td>\n",
       "    </tr>\n",
       "    <tr>\n",
       "      <th>32549</th>\n",
       "      <td>1</td>\n",
       "      <td>OTHER</td>\n",
       "      <td>elementary</td>\n",
       "      <td>Corporate</td>\n",
       "      <td>78000.0</td>\n",
       "      <td>0.0</td>\n",
       "      <td>0</td>\n",
       "      <td>0.670645</td>\n",
       "      <td>19.049060</td>\n",
       "      <td>54.251037</td>\n",
       "      <td>0.371585</td>\n",
       "      <td>0.360427</td>\n",
       "      <td>0.427094</td>\n",
       "      <td>6.749667</td>\n",
       "      <td>140104</td>\n",
       "    </tr>\n",
       "    <tr>\n",
       "      <th>32550</th>\n",
       "      <td>1</td>\n",
       "      <td>OTHER</td>\n",
       "      <td>advanced</td>\n",
       "      <td>Corporate</td>\n",
       "      <td>40000.0</td>\n",
       "      <td>0.0</td>\n",
       "      <td>0</td>\n",
       "      <td>0.670645</td>\n",
       "      <td>19.049060</td>\n",
       "      <td>29.716581</td>\n",
       "      <td>5.363156</td>\n",
       "      <td>0.360427</td>\n",
       "      <td>0.427094</td>\n",
       "      <td>6.935759</td>\n",
       "      <td>140165</td>\n",
       "    </tr>\n",
       "    <tr>\n",
       "      <th>32551</th>\n",
       "      <td>1</td>\n",
       "      <td>2NDFL</td>\n",
       "      <td>elementary</td>\n",
       "      <td>Corporate</td>\n",
       "      <td>49296.0</td>\n",
       "      <td>0.0</td>\n",
       "      <td>0</td>\n",
       "      <td>0.000000</td>\n",
       "      <td>19.049060</td>\n",
       "      <td>25.795831</td>\n",
       "      <td>4.139344</td>\n",
       "      <td>1.000000</td>\n",
       "      <td>2.000000</td>\n",
       "      <td>5.760214</td>\n",
       "      <td>140245</td>\n",
       "    </tr>\n",
       "    <tr>\n",
       "      <th>32552</th>\n",
       "      <td>1</td>\n",
       "      <td>2NDFL</td>\n",
       "      <td>advanced</td>\n",
       "      <td>Corporate</td>\n",
       "      <td>23273.0</td>\n",
       "      <td>0.0</td>\n",
       "      <td>0</td>\n",
       "      <td>0.000000</td>\n",
       "      <td>19.049060</td>\n",
       "      <td>27.453552</td>\n",
       "      <td>2.531342</td>\n",
       "      <td>1.000000</td>\n",
       "      <td>1.000000</td>\n",
       "      <td>6.594356</td>\n",
       "      <td>140396</td>\n",
       "    </tr>\n",
       "    <tr>\n",
       "      <th>32553</th>\n",
       "      <td>1</td>\n",
       "      <td>OTHER</td>\n",
       "      <td>elementary</td>\n",
       "      <td>Corporate</td>\n",
       "      <td>50000.0</td>\n",
       "      <td>0.0</td>\n",
       "      <td>0</td>\n",
       "      <td>0.670645</td>\n",
       "      <td>19.049060</td>\n",
       "      <td>25.034404</td>\n",
       "      <td>1.820705</td>\n",
       "      <td>0.360427</td>\n",
       "      <td>0.427094</td>\n",
       "      <td>5.015226</td>\n",
       "      <td>140674</td>\n",
       "    </tr>\n",
       "  </tbody>\n",
       "</table>\n",
       "<p>32554 rows × 15 columns</p>\n",
       "</div>"
      ],
      "text/plain": [
       "       target INCOME_TYPE  EDUCATION_ CUSTOMER_CATEGORY_    income  \\\n",
       "0           0       OTHER  elementary          Corporate  140000.0   \n",
       "1           0       OTHER  elementary          Corporate  119510.0   \n",
       "2           0       OTHER  elementary                VIP  146841.0   \n",
       "3           0       OTHER  elementary          Corporate  102915.0   \n",
       "4           0       OTHER  elementary          Corporate  183461.0   \n",
       "...       ...         ...         ...                ...       ...   \n",
       "32549       1       OTHER  elementary          Corporate   78000.0   \n",
       "32550       1       OTHER    advanced          Corporate   40000.0   \n",
       "32551       1       2NDFL  elementary          Corporate   49296.0   \n",
       "32552       1       2NDFL    advanced          Corporate   23273.0   \n",
       "32553       1       OTHER  elementary          Corporate   50000.0   \n",
       "\n",
       "       DEPENDANT_NUMBER  IS_EMPL  COUNT_ACTIVE_CREDIT_NO_CC  \\\n",
       "0                   0.0        0                   0.000000   \n",
       "1                   0.0        1                   1.000000   \n",
       "2                   0.0        1                   0.000000   \n",
       "3                   0.0        1                   2.000000   \n",
       "4                   0.0        1                   0.000000   \n",
       "...                 ...      ...                        ...   \n",
       "32549               0.0        0                   0.670645   \n",
       "32550               0.0        0                   0.670645   \n",
       "32551               0.0        0                   0.000000   \n",
       "32552               0.0        0                   0.000000   \n",
       "32553               0.0        0                   0.670645   \n",
       "\n",
       "       CNT_MNTH_FROM_LAST_PMNT        age  experience  inquiry_14_day  \\\n",
       "0                    34.218548  38.497103    4.060109        0.360427   \n",
       "1                     1.115569  28.191781    2.032877        1.000000   \n",
       "2                    30.530914  36.531073    0.577648        0.000000   \n",
       "3                     1.174485  54.064219    1.458739        0.000000   \n",
       "4                     1.186985  44.063014    0.512194        1.000000   \n",
       "...                        ...        ...         ...             ...   \n",
       "32549                19.049060  54.251037    0.371585        0.360427   \n",
       "32550                19.049060  29.716581    5.363156        0.360427   \n",
       "32551                19.049060  25.795831    4.139344        1.000000   \n",
       "32552                19.049060  27.453552    2.531342        1.000000   \n",
       "32553                19.049060  25.034404    1.820705        0.360427   \n",
       "\n",
       "       inquiry_21_day  count_mnth_act_passport     UID  \n",
       "0            0.427094                10.056007       7  \n",
       "1            1.000000                 8.109589      11  \n",
       "2            0.000000                 7.737705      17  \n",
       "3            0.000000                 8.888876      21  \n",
       "4            1.000000                 2.649315      24  \n",
       "...               ...                      ...     ...  \n",
       "32549        0.427094                 6.749667  140104  \n",
       "32550        0.427094                 6.935759  140165  \n",
       "32551        2.000000                 5.760214  140245  \n",
       "32552        1.000000                 6.594356  140396  \n",
       "32553        0.427094                 5.015226  140674  \n",
       "\n",
       "[32554 rows x 15 columns]"
      ]
     },
     "execution_count": 114,
     "metadata": {},
     "output_type": "execute_result"
    }
   ],
   "source": [
    "accept"
   ]
  },
  {
   "cell_type": "code",
   "execution_count": null,
   "metadata": {},
   "outputs": [],
   "source": []
  },
  {
   "cell_type": "code",
   "execution_count": null,
   "metadata": {},
   "outputs": [],
   "source": []
  },
  {
   "cell_type": "code",
   "execution_count": null,
   "metadata": {},
   "outputs": [],
   "source": []
  }
 ],
 "metadata": {
  "kernelspec": {
   "display_name": "Python 3",
   "language": "python",
   "name": "python3"
  },
  "language_info": {
   "codemirror_mode": {
    "name": "ipython",
    "version": 3
   },
   "file_extension": ".py",
   "mimetype": "text/x-python",
   "name": "python",
   "nbconvert_exporter": "python",
   "pygments_lexer": "ipython3",
   "version": "3.8.5"
  }
 },
 "nbformat": 4,
 "nbformat_minor": 4
}
