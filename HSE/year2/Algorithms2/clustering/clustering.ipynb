{
 "cells": [
  {
   "cell_type": "code",
   "execution_count": 16,
   "metadata": {
    "colab": {
     "base_uri": "https://localhost:8080/",
     "height": 34
    },
    "colab_type": "code",
    "id": "ow0-x_7_WTS4",
    "outputId": "b00e29fb-6a03-446e-ce6a-97b1641af73e"
   },
   "outputs": [
    {
     "name": "stdout",
     "output_type": "stream",
     "text": [
      "Mounted at /content/drive\n"
     ]
    }
   ],
   "source": [
    "from google.colab import drive\n",
    "drive.mount('/content/drive')"
   ]
  },
  {
   "cell_type": "code",
   "execution_count": 0,
   "metadata": {
    "colab": {},
    "colab_type": "code",
    "id": "BcJKpvSEX7RS"
   },
   "outputs": [],
   "source": [
    "import time\n",
    "from math import sqrt"
   ]
  },
  {
   "cell_type": "code",
   "execution_count": 0,
   "metadata": {
    "colab": {},
    "colab_type": "code",
    "id": "eNo6NgT0ZLRu"
   },
   "outputs": [],
   "source": [
    "class DisjointSetUnion:\n",
    "    def __init__(self, size):\n",
    "        self.parent_ = list(range(size))\n",
    "        self.ranks_ = [0] * size\n",
    "\n",
    "    def find(self, node):\n",
    "        if self.parent_[node] != node:\n",
    "            self.parent_[node] = self.find(self.parent_[node])\n",
    "        return self.parent_[node]\n",
    "\n",
    "    def union_sets(self, first, second):\n",
    "        f_root = self.find(first)\n",
    "        s_root = self.find(second)\n",
    "        if f_root == s_root:\n",
    "            return False\n",
    "        if self.ranks_[f_root] < self.ranks_[s_root]:\n",
    "            self.parent_[f_root] = s_root\n",
    "        elif self.ranks_[f_root] > self.ranks_[s_root]:\n",
    "            self.parent_[s_root] = f_root\n",
    "        else:\n",
    "            self.parent_[s_root] = f_root\n",
    "            self.ranks_[f_root] += 1\n",
    "        return True\n",
    "\n",
    "    def result(self):\n",
    "        return list(map(self.find, self.parent_))"
   ]
  },
  {
   "cell_type": "code",
   "execution_count": 0,
   "metadata": {
    "colab": {},
    "colab_type": "code",
    "id": "ROtGSqO0vE2g"
   },
   "outputs": [],
   "source": [
    "def distance_1(title1, title2, num_of_words):\n",
    "    # simple vec distance\n",
    "    id1 = 0\n",
    "    id2 = 0\n",
    "    vec = []\n",
    "    while id1 < len(title1) and id2 < len(title2):\n",
    "        x = y = 0\n",
    "        word1 = title1[id1][0]\n",
    "        word2 = title2[id2][0]\n",
    "        if word1 <= word2:\n",
    "            x = title1[id1][1]\n",
    "            id1 += 1\n",
    "        if word1 >= word2:\n",
    "            y = title2[id2][1]\n",
    "            id2 += 1\n",
    "        vec.append(abs(x - y))\n",
    "    while id1 < len(title1):\n",
    "        vec.append(title1[id1][1])\n",
    "        id1 += 1\n",
    "    while id2 < len(title2):\n",
    "        vec.append(title2[id2][1])\n",
    "        id2 += 1\n",
    "    return sqrt(sum(map(lambda x: x * x, vec)))"
   ]
  },
  {
   "cell_type": "code",
   "execution_count": 0,
   "metadata": {
    "colab": {},
    "colab_type": "code",
    "id": "qkpuoRPGZNWX"
   },
   "outputs": [],
   "source": [
    "def distance_2(title1, title2, num_of_words):\n",
    "    # manhattan vec distance\n",
    "    id1 = 0\n",
    "    id2 = 0\n",
    "    vec = []\n",
    "    while id1 < len(title1) and id2 < len(title2):\n",
    "        x = y = 0\n",
    "        word1 = title1[id1][0]\n",
    "        word2 = title2[id2][0]\n",
    "        if word1 <= word2:\n",
    "            x = title1[id1][1]\n",
    "            id1 += 1\n",
    "        if word1 >= word2:\n",
    "            y = title2[id2][1]\n",
    "            id2 += 1\n",
    "        vec.append(abs(x - y))\n",
    "    while id1 < len(title1):\n",
    "        vec.append(title1[id1][1])\n",
    "        id1 += 1\n",
    "    while id2 < len(title2):\n",
    "        vec.append(title2[id2][1])\n",
    "        id2 += 1\n",
    "    return sum(vec)"
   ]
  },
  {
   "cell_type": "code",
   "execution_count": 0,
   "metadata": {
    "colab": {},
    "colab_type": "code",
    "id": "SEsStrkGZO2S"
   },
   "outputs": [],
   "source": [
    "def distance_3(title1, title2, num_of_words):\n",
    "    # Pearson\n",
    "    x = [0] * num_of_words\n",
    "    for elem in title1:\n",
    "        x[elem[0] - 1] += elem[1]\n",
    "    y = [0] * num_of_words\n",
    "    for elem in title2:\n",
    "        y[elem[0] - 1] += elem[1]\n",
    "    x_m = sum(x) / len(x)\n",
    "    y_m = sum(y) / len(y)\n",
    "    x = [x[_] - x_m for _ in range(len(x))]\n",
    "    y = [y[_] - y_m for _ in range(len(x))]\n",
    "    a = sum([x[_] * y[_] for _ in range(len(x))])\n",
    "    b = sum([x[_] * x[_] for _ in range(len(x))])\n",
    "    c = sum([y[_] * y[_] for _ in range(len(x))])\n",
    "    if a == 0:\n",
    "        return 1\n",
    "    return 1 - (a / sqrt(b * c))"
   ]
  },
  {
   "cell_type": "code",
   "execution_count": 0,
   "metadata": {
    "colab": {},
    "colab_type": "code",
    "id": "aSS4N9pzZR1k"
   },
   "outputs": [],
   "source": [
    "MAX_INT = 2147483647"
   ]
  },
  {
   "cell_type": "code",
   "execution_count": 0,
   "metadata": {
    "colab": {},
    "colab_type": "code",
    "id": "ZyJCo-QaZQfT"
   },
   "outputs": [],
   "source": [
    "def cluster(ver, eds, num_of_clusters, dist, num_words):\n",
    "    penalty = MAX_INT\n",
    "    # return DisjointSetUnion of edges\n",
    "    res = DisjointSetUnion(len(ver))\n",
    "    # Your code here\n",
    "    eds.sort()\n",
    "    k = len(ver)\n",
    "    for ed in eds:\n",
    "        u, v = ed[1], ed[2]\n",
    "        if res.find(u) != res.find(v):\n",
    "            k -= 1\n",
    "            res.union_sets(u, v)\n",
    "        if k == num_of_clusters:\n",
    "            break\n",
    "    for ed in eds:\n",
    "      u, v = ed[1], ed[2]\n",
    "      if res.find(u) != res.find(v):\n",
    "        penalty = ed[0]\n",
    "        break\n",
    "    return res, penalty"
   ]
  },
  {
   "cell_type": "code",
   "execution_count": 0,
   "metadata": {
    "colab": {},
    "colab_type": "code",
    "id": "z_3mjJqXZS-n"
   },
   "outputs": [],
   "source": [
    "import random\n",
    "def cluster_2(ver, eds, num_of_clusters, dist, num_words):\n",
    "    res = DisjointSetUnion(len(ver))\n",
    "    penalty = 0\n",
    "    center = random.randint(0, len(ver) - 1)\n",
    "    id_centers = set()\n",
    "    id_centers.add(center)\n",
    "    \n",
    "    for i in range(num_of_clusters - 1):\n",
    "        temp_max = 0\n",
    "        temp_id = 0\n",
    "        for cen in id_centers:\n",
    "            for id_v, v in enumerate(ver):\n",
    "                if id_v not in id_centers:\n",
    "                    d = dist(v, ver[cen], num_words)\n",
    "                    if d > temp_max:\n",
    "                        temp_max = d\n",
    "                        temp_id = id_v\n",
    "        id_centers.add(temp_id)\n",
    "    \n",
    "    penalty = 0\n",
    "    \n",
    "    for v in range(len(ver)):\n",
    "        if v not in id_centers:\n",
    "            temp_min = MAX_INT\n",
    "            temp_id = v\n",
    "            for u in id_centers:\n",
    "                d = dist(ver[v], ver[u], num_words)\n",
    "                if temp_min > d:\n",
    "                    temp_min = d\n",
    "                    temp_id = u\n",
    "            res.union_sets(v, temp_id)\n",
    "    eds.sort(reverse=True)\n",
    "    for ed in eds:\n",
    "      if res.find(ed[1]) == res.find(ed[2]):\n",
    "        penalty = ed[0]\n",
    "        break\n",
    "      \n",
    "    return res, penalty"
   ]
  },
  {
   "cell_type": "code",
   "execution_count": 0,
   "metadata": {
    "colab": {},
    "colab_type": "code",
    "id": "2yqudlVcZTvE"
   },
   "outputs": [],
   "source": [
    "def process(filename, cluster, distance, clusters_num, min_count, max_count):\n",
    "    t_start = time.time()\n",
    "\n",
    "    # input file\n",
    "#    filename = 'test_50.txt'\n",
    "\n",
    "    # function of distance\n",
    "#    distance = dist\n",
    "\n",
    "    # clusters num\n",
    "#    clusters_num = 15\n",
    "\n",
    "    # word freq param\n",
    "#   min_count = min_c\n",
    "#    max_count = max_c\n",
    "\n",
    "    vertices = []\n",
    "    with open('/content/drive/My Drive/AISD_labs/' + filename) as f:\n",
    "        doc_num = int(f.readline())\n",
    "        words_num = int(f.readline())\n",
    "        lines_num = int(f.readline())\n",
    "        words_count = [0] * words_num\n",
    "        vertices = [[] for _ in range(doc_num)]\n",
    "        for i in range(lines_num):\n",
    "            docID, wordID, count = map(int, f.readline().split())\n",
    "            words_count[wordID - 1] += count\n",
    "            if count <= max_count:\n",
    "                vertices[docID - 1].append([wordID, count])\n",
    "\n",
    "    new_v = []\n",
    "    for elem in vertices:\n",
    "        new_v.append([])\n",
    "        for k in elem:\n",
    "            if min_count <= words_count[k[0] - 1] <= max_count:\n",
    "                new_v[-1].append(k)\n",
    "        if len(new_v[-1]) == 0:\n",
    "            print(\"Warning: vertex without words\")\n",
    "    vertices = new_v\n",
    "    print('Vertices:', len(vertices))\n",
    "\n",
    "    edges = [(distance(vertices[i], vertices[j], words_num), i, j)\n",
    "             for i in range(len(vertices) - 1) for j in range(i + 1, len(vertices))]\n",
    "    print('Edges:', len(edges))\n",
    "\n",
    "    components, penalty = cluster(vertices, edges, clusters_num, distance, words_num)\n",
    "\n",
    "    comp = components.result()\n",
    "    d = dict()\n",
    "    for i in range(len(comp)):\n",
    "        if comp[i] not in d:\n",
    "            d[comp[i]] = [i + 1]\n",
    "        else:\n",
    "            d[comp[i]].append(i + 1)\n",
    "    for elem in d:\n",
    "        print(\"Cluster\", elem, \":\", len(d[elem]), \"elems\", \":\", d[elem])\n",
    "    print(\"Penalty =\", penalty)\n",
    "    print(\"Time:\", time.time() - t_start)\n",
    "\n",
    "\n",
    "\n",
    "\n"
   ]
  },
  {
   "cell_type": "markdown",
   "metadata": {
    "colab_type": "text",
    "id": "wtbCBFYOtKBI"
   },
   "source": [
    "# Протестируем на 50 вершинах кластеризацию на основе минимального остовного дерева, максимизирующую минимальное межкластерное расстояние;\n"
   ]
  },
  {
   "cell_type": "code",
   "execution_count": 0,
   "metadata": {
    "colab": {
     "base_uri": "https://localhost:8080/",
     "height": 190
    },
    "colab_type": "code",
    "id": "A_5JGCg2ZUyE",
    "outputId": "8d968c68-1466-41f1-8521-f000fe509768"
   },
   "outputs": [
    {
     "name": "stdout",
     "output_type": "stream",
     "text": [
      "Vertices: 50\n",
      "Edges: 1225\n",
      "Cluster 3 : 45 elems : [1, 2, 3, 4, 5, 7, 8, 9, 10, 11, 12, 13, 14, 15, 16, 17, 18, 19, 20, 21, 23, 25, 26, 27, 28, 29, 30, 31, 32, 33, 34, 35, 36, 37, 38, 39, 41, 42, 43, 44, 45, 46, 47, 49, 50]\n",
      "Cluster 5 : 1 elems : [6]\n",
      "Cluster 21 : 2 elems : [22, 24]\n",
      "Cluster 39 : 1 elems : [40]\n",
      "Cluster 47 : 1 elems : [48]\n",
      "Penalty = 23.473389188611005\n",
      "Time: 0.13773512840270996\n"
     ]
    }
   ],
   "source": [
    "process('test_50.txt', cluster, distance_1, clusters_num = 5, min_count = 2, max_count = 10)"
   ]
  },
  {
   "cell_type": "markdown",
   "metadata": {
    "colab_type": "text",
    "id": "YgvH-P5XuEWU"
   },
   "source": [
    "# на 400 вершинах"
   ]
  },
  {
   "cell_type": "markdown",
   "metadata": {
    "colab_type": "text",
    "id": "Ny0k45sbtJgP"
   },
   "source": []
  },
  {
   "cell_type": "code",
   "execution_count": 0,
   "metadata": {
    "colab": {
     "base_uri": "https://localhost:8080/",
     "height": 360
    },
    "colab_type": "code",
    "id": "rUqRPb2jhKG3",
    "outputId": "90702986-c434-4895-eaae-bee72001af5b"
   },
   "outputs": [
    {
     "name": "stdout",
     "output_type": "stream",
     "text": [
      "Vertices: 400\n",
      "Edges: 79800\n",
      "Cluster 29 : 379 elems : [1, 2, 3, 4, 5, 6, 7, 8, 9, 10, 11, 12, 13, 14, 15, 16, 17, 18, 19, 20, 21, 22, 23, 24, 25, 26, 27, 28, 29, 30, 31, 32, 33, 34, 35, 36, 37, 38, 39, 40, 41, 42, 43, 44, 45, 46, 47, 48, 49, 50, 51, 52, 53, 54, 55, 56, 57, 59, 60, 61, 62, 63, 64, 65, 66, 67, 68, 69, 70, 71, 72, 73, 74, 75, 76, 77, 78, 79, 80, 81, 82, 83, 84, 85, 86, 87, 88, 89, 90, 91, 92, 93, 94, 95, 96, 97, 98, 99, 100, 101, 102, 103, 104, 105, 106, 107, 108, 109, 110, 111, 112, 113, 114, 115, 118, 119, 120, 121, 122, 123, 124, 125, 126, 127, 128, 129, 130, 131, 132, 133, 134, 135, 136, 137, 138, 139, 140, 141, 142, 143, 144, 145, 146, 147, 148, 149, 150, 151, 152, 155, 156, 157, 158, 159, 160, 166, 167, 168, 169, 170, 171, 172, 173, 174, 175, 176, 177, 178, 179, 180, 181, 182, 183, 184, 185, 186, 187, 188, 189, 190, 191, 192, 193, 194, 195, 196, 197, 198, 199, 200, 201, 202, 203, 204, 205, 206, 207, 208, 209, 210, 211, 212, 213, 214, 215, 216, 217, 218, 219, 220, 221, 222, 223, 224, 225, 226, 227, 228, 229, 230, 231, 232, 233, 234, 235, 236, 237, 238, 239, 240, 241, 242, 243, 244, 245, 246, 247, 248, 249, 250, 251, 252, 253, 254, 255, 257, 258, 259, 260, 261, 262, 263, 264, 265, 266, 267, 268, 269, 270, 271, 273, 274, 275, 276, 277, 278, 279, 280, 281, 282, 283, 284, 285, 286, 287, 288, 290, 291, 292, 293, 294, 295, 297, 298, 299, 301, 302, 303, 304, 305, 306, 307, 308, 310, 311, 312, 313, 314, 315, 316, 317, 318, 319, 320, 321, 322, 323, 324, 325, 326, 327, 328, 329, 330, 331, 332, 333, 334, 335, 336, 337, 338, 339, 342, 343, 346, 347, 348, 349, 350, 351, 352, 353, 354, 355, 357, 358, 359, 360, 361, 362, 363, 364, 365, 366, 367, 368, 369, 370, 371, 372, 373, 374, 375, 376, 377, 378, 379, 380, 381, 382, 383, 384, 385, 386, 387, 388, 389, 390, 391, 392, 393, 394, 395, 396, 397, 398, 399, 400]\n",
      "Cluster 57 : 1 elems : [58]\n",
      "Cluster 115 : 2 elems : [116, 117]\n",
      "Cluster 152 : 2 elems : [153, 154]\n",
      "Cluster 160 : 2 elems : [161, 162]\n",
      "Cluster 162 : 2 elems : [163, 164]\n",
      "Cluster 164 : 1 elems : [165]\n",
      "Cluster 255 : 1 elems : [256]\n",
      "Cluster 271 : 1 elems : [272]\n",
      "Cluster 288 : 1 elems : [289]\n",
      "Cluster 295 : 1 elems : [296]\n",
      "Cluster 299 : 1 elems : [300]\n",
      "Cluster 308 : 1 elems : [309]\n",
      "Cluster 339 : 4 elems : [340, 341, 344, 345]\n",
      "Cluster 355 : 1 elems : [356]\n",
      "Penalty = 11.74734012447073\n",
      "Time: 2.5955073833465576\n"
     ]
    }
   ],
   "source": [
    "process('test_400.txt', cluster, distance_1,  clusters_num = 15, min_count = 2, max_count = 4)"
   ]
  },
  {
   "cell_type": "markdown",
   "metadata": {
    "colab_type": "text",
    "id": "z1QOK-HhuXPh"
   },
   "source": [
    "## На 1000 вершинах"
   ]
  },
  {
   "cell_type": "code",
   "execution_count": 0,
   "metadata": {
    "colab": {
     "base_uri": "https://localhost:8080/",
     "height": 445
    },
    "colab_type": "code",
    "id": "v9i5pR87hKOs",
    "outputId": "3b3a425c-35ed-4785-f63c-4b0edb43d328"
   },
   "outputs": [
    {
     "name": "stdout",
     "output_type": "stream",
     "text": [
      "Vertices: 1000\n",
      "Edges: 499500\n",
      "Cluster 268 : 981 elems : [1, 2, 3, 4, 5, 6, 7, 8, 9, 10, 11, 12, 13, 14, 15, 16, 17, 18, 19, 20, 21, 22, 23, 24, 25, 26, 27, 28, 29, 30, 31, 32, 33, 34, 35, 36, 37, 38, 39, 40, 41, 42, 43, 44, 45, 46, 47, 48, 49, 50, 51, 52, 53, 54, 55, 56, 57, 58, 59, 60, 61, 62, 63, 64, 65, 66, 67, 68, 69, 70, 71, 72, 73, 74, 75, 76, 77, 78, 79, 80, 81, 82, 83, 84, 85, 86, 87, 88, 89, 90, 91, 92, 93, 94, 95, 96, 97, 98, 99, 100, 101, 102, 103, 105, 106, 107, 108, 109, 110, 111, 112, 113, 114, 115, 116, 117, 118, 119, 120, 121, 122, 124, 125, 126, 127, 128, 129, 132, 133, 134, 135, 136, 137, 138, 139, 140, 141, 142, 143, 144, 145, 146, 147, 148, 149, 150, 151, 152, 153, 154, 155, 156, 157, 158, 159, 160, 161, 162, 163, 164, 165, 167, 168, 169, 170, 171, 172, 173, 174, 175, 176, 177, 178, 179, 180, 181, 182, 183, 184, 185, 186, 187, 188, 189, 190, 191, 192, 193, 194, 195, 196, 197, 198, 199, 200, 201, 202, 203, 204, 205, 206, 207, 208, 209, 210, 211, 212, 213, 214, 215, 216, 217, 218, 219, 220, 221, 222, 223, 224, 225, 226, 227, 228, 229, 230, 231, 232, 233, 234, 235, 236, 237, 238, 239, 240, 241, 242, 243, 244, 245, 246, 247, 248, 249, 250, 251, 252, 253, 254, 255, 256, 257, 258, 259, 260, 261, 262, 263, 264, 265, 266, 267, 268, 269, 270, 271, 272, 273, 274, 275, 276, 277, 278, 279, 280, 281, 282, 283, 284, 285, 286, 287, 288, 289, 290, 291, 292, 293, 294, 295, 297, 298, 299, 300, 301, 302, 303, 304, 305, 306, 307, 308, 309, 310, 311, 312, 313, 314, 315, 316, 317, 318, 319, 320, 321, 322, 323, 324, 325, 326, 327, 328, 329, 330, 331, 332, 333, 334, 335, 336, 337, 338, 339, 340, 341, 342, 343, 344, 345, 346, 347, 348, 349, 350, 351, 352, 353, 354, 355, 356, 357, 358, 359, 360, 361, 362, 363, 365, 366, 367, 368, 369, 370, 371, 373, 374, 375, 376, 377, 378, 379, 380, 381, 382, 383, 384, 385, 386, 387, 388, 389, 390, 391, 392, 393, 394, 395, 396, 397, 398, 399, 400, 401, 402, 403, 404, 405, 406, 407, 408, 409, 410, 411, 412, 413, 414, 415, 416, 417, 418, 419, 420, 421, 422, 423, 424, 425, 426, 427, 428, 429, 430, 431, 432, 433, 434, 435, 436, 437, 438, 439, 440, 441, 442, 443, 444, 445, 446, 447, 448, 449, 450, 451, 452, 453, 454, 455, 456, 457, 458, 459, 461, 462, 463, 464, 465, 466, 467, 468, 469, 470, 471, 472, 473, 474, 475, 476, 477, 478, 479, 480, 481, 482, 483, 484, 485, 486, 487, 488, 489, 490, 491, 492, 493, 494, 495, 496, 497, 499, 500, 501, 502, 503, 504, 505, 506, 507, 508, 509, 510, 511, 512, 513, 514, 515, 516, 517, 518, 519, 520, 521, 522, 523, 524, 525, 526, 527, 528, 530, 531, 532, 533, 534, 535, 536, 538, 539, 540, 541, 542, 543, 544, 545, 546, 547, 548, 549, 550, 551, 552, 553, 554, 555, 556, 557, 558, 559, 560, 561, 562, 563, 564, 565, 566, 567, 568, 569, 570, 571, 572, 573, 574, 575, 576, 577, 578, 579, 580, 581, 582, 583, 584, 585, 586, 587, 588, 589, 590, 591, 592, 593, 594, 595, 596, 597, 598, 599, 600, 601, 602, 603, 604, 605, 606, 607, 608, 609, 610, 611, 612, 613, 614, 615, 616, 617, 618, 619, 620, 621, 622, 623, 624, 625, 626, 627, 628, 629, 630, 631, 632, 633, 634, 635, 636, 637, 638, 639, 640, 642, 643, 644, 645, 646, 647, 648, 649, 650, 651, 652, 653, 654, 655, 656, 657, 658, 659, 660, 661, 662, 663, 664, 665, 666, 667, 668, 669, 670, 671, 672, 673, 674, 675, 676, 677, 678, 679, 680, 681, 682, 683, 684, 685, 686, 687, 688, 689, 690, 691, 692, 693, 694, 695, 696, 697, 698, 699, 700, 701, 702, 703, 704, 705, 706, 707, 708, 709, 710, 711, 712, 713, 714, 715, 716, 717, 718, 719, 720, 721, 722, 723, 724, 725, 726, 727, 728, 729, 730, 731, 732, 733, 734, 735, 736, 737, 738, 739, 740, 741, 742, 743, 744, 745, 746, 747, 748, 749, 750, 751, 752, 753, 754, 755, 756, 757, 758, 759, 760, 761, 762, 763, 764, 765, 766, 767, 768, 769, 770, 771, 772, 773, 774, 775, 776, 777, 778, 779, 780, 781, 782, 783, 784, 785, 786, 787, 788, 789, 790, 791, 792, 793, 794, 795, 796, 797, 798, 799, 800, 801, 802, 803, 804, 805, 806, 807, 808, 809, 810, 811, 812, 813, 814, 815, 816, 817, 818, 819, 820, 821, 822, 823, 824, 825, 826, 827, 828, 829, 830, 831, 832, 833, 834, 835, 836, 837, 838, 839, 840, 841, 842, 843, 844, 845, 846, 847, 848, 849, 850, 851, 852, 853, 854, 855, 856, 857, 858, 859, 860, 861, 862, 863, 864, 865, 866, 867, 868, 869, 870, 871, 872, 873, 874, 875, 876, 877, 878, 879, 881, 882, 883, 884, 885, 886, 887, 888, 889, 890, 891, 892, 893, 895, 896, 897, 898, 899, 900, 901, 902, 903, 904, 905, 906, 907, 909, 910, 912, 913, 914, 915, 916, 917, 918, 919, 920, 921, 922, 923, 924, 925, 926, 927, 928, 929, 930, 931, 933, 934, 935, 936, 937, 938, 939, 940, 941, 942, 943, 944, 945, 946, 947, 948, 949, 950, 951, 952, 953, 954, 955, 956, 957, 958, 959, 960, 961, 962, 963, 964, 965, 966, 967, 968, 969, 970, 971, 972, 973, 974, 975, 976, 977, 978, 979, 980, 981, 983, 984, 985, 986, 987, 988, 989, 990, 991, 992, 993, 994, 995, 996, 997, 998, 999, 1000]\n",
      "Cluster 103 : 1 elems : [104]\n",
      "Cluster 122 : 1 elems : [123]\n",
      "Cluster 129 : 1 elems : [130]\n",
      "Cluster 130 : 1 elems : [131]\n",
      "Cluster 165 : 1 elems : [166]\n",
      "Cluster 295 : 1 elems : [296]\n",
      "Cluster 363 : 1 elems : [364]\n",
      "Cluster 371 : 1 elems : [372]\n",
      "Cluster 459 : 1 elems : [460]\n",
      "Cluster 497 : 1 elems : [498]\n",
      "Cluster 528 : 1 elems : [529]\n",
      "Cluster 536 : 1 elems : [537]\n",
      "Cluster 640 : 1 elems : [641]\n",
      "Cluster 879 : 1 elems : [880]\n",
      "Cluster 893 : 1 elems : [894]\n",
      "Cluster 907 : 1 elems : [908]\n",
      "Cluster 910 : 1 elems : [911]\n",
      "Cluster 931 : 1 elems : [932]\n",
      "Cluster 981 : 1 elems : [982]\n",
      "Penalty = 40.48456495999432\n",
      "Time: 54.49583625793457\n"
     ]
    }
   ],
   "source": [
    "process('test_1000.txt', cluster, distance_1,  clusters_num = 20, min_count = 0, max_count = 100)"
   ]
  },
  {
   "cell_type": "markdown",
   "metadata": {
    "colab_type": "text",
    "id": "3BgAM3vwvKpQ"
   },
   "source": [
    "# Тестируем с помощью манхеттонской метрики"
   ]
  },
  {
   "cell_type": "markdown",
   "metadata": {
    "colab_type": "text",
    "id": "6rS9kfytYirQ"
   },
   "source": []
  },
  {
   "cell_type": "code",
   "execution_count": 0,
   "metadata": {
    "colab": {
     "base_uri": "https://localhost:8080/",
     "height": 510
    },
    "colab_type": "code",
    "id": "Tal3h9gxZWI0",
    "outputId": "2337affe-267b-47e4-af60-9e1cb5b4b0db"
   },
   "outputs": [
    {
     "name": "stdout",
     "output_type": "stream",
     "text": [
      "Vertices: 50\n",
      "Edges: 1225\n",
      "Cluster 0 : 1 elems : [1]\n",
      "Cluster 1 : 1 elems : [2]\n",
      "Cluster 3 : 25 elems : [3, 4, 5, 8, 10, 15, 17, 19, 21, 23, 25, 27, 28, 29, 30, 32, 33, 34, 35, 36, 37, 38, 39, 42, 46]\n",
      "Cluster 5 : 1 elems : [6]\n",
      "Cluster 6 : 1 elems : [7]\n",
      "Cluster 8 : 1 elems : [9]\n",
      "Cluster 10 : 1 elems : [11]\n",
      "Cluster 11 : 1 elems : [12]\n",
      "Cluster 12 : 1 elems : [13]\n",
      "Cluster 13 : 1 elems : [14]\n",
      "Cluster 15 : 1 elems : [16]\n",
      "Cluster 17 : 1 elems : [18]\n",
      "Cluster 19 : 1 elems : [20]\n",
      "Cluster 21 : 2 elems : [22, 24]\n",
      "Cluster 25 : 1 elems : [26]\n",
      "Cluster 30 : 1 elems : [31]\n",
      "Cluster 39 : 1 elems : [40]\n",
      "Cluster 40 : 1 elems : [41]\n",
      "Cluster 42 : 1 elems : [43]\n",
      "Cluster 43 : 1 elems : [44]\n",
      "Cluster 44 : 1 elems : [45]\n",
      "Cluster 46 : 1 elems : [47]\n",
      "Cluster 47 : 1 elems : [48]\n",
      "Cluster 48 : 1 elems : [49]\n",
      "Cluster 49 : 1 elems : [50]\n",
      "Penalty = 167\n",
      "Time: 0.12240314483642578\n"
     ]
    }
   ],
   "source": [
    "process('test_50.txt', cluster, distance_2, 25, 2, 10)"
   ]
  },
  {
   "cell_type": "markdown",
   "metadata": {
    "colab_type": "text",
    "id": "rCE5KIMqvJyu"
   },
   "source": []
  },
  {
   "cell_type": "code",
   "execution_count": 0,
   "metadata": {
    "colab": {
     "base_uri": "https://localhost:8080/",
     "height": 955
    },
    "colab_type": "code",
    "id": "3m49fa33Zy3z",
    "outputId": "fded71eb-cbce-4fa2-b833-d1edf1a7d46a"
   },
   "outputs": [
    {
     "name": "stdout",
     "output_type": "stream",
     "text": [
      "Vertices: 400\n",
      "Edges: 79800\n",
      "Cluster 29 : 325 elems : [1, 2, 3, 4, 5, 6, 7, 8, 9, 10, 11, 12, 13, 14, 15, 16, 17, 18, 19, 20, 21, 22, 23, 24, 26, 27, 28, 29, 30, 31, 32, 33, 34, 35, 36, 37, 38, 39, 40, 41, 42, 43, 44, 45, 46, 47, 48, 51, 52, 53, 55, 56, 57, 59, 60, 61, 62, 63, 64, 65, 66, 67, 68, 69, 70, 71, 72, 73, 74, 75, 76, 77, 78, 79, 80, 81, 82, 83, 84, 85, 86, 87, 88, 89, 90, 91, 92, 93, 94, 95, 96, 97, 98, 99, 100, 101, 102, 103, 104, 105, 106, 107, 109, 110, 111, 112, 113, 115, 118, 119, 120, 121, 122, 123, 124, 125, 126, 127, 129, 130, 131, 132, 133, 134, 135, 136, 137, 139, 140, 141, 143, 145, 147, 148, 151, 152, 155, 158, 166, 168, 170, 171, 174, 175, 176, 177, 178, 179, 180, 181, 182, 183, 184, 185, 186, 187, 188, 189, 190, 191, 193, 194, 195, 196, 197, 200, 201, 202, 203, 204, 205, 206, 207, 208, 209, 210, 211, 212, 213, 214, 215, 216, 217, 218, 219, 220, 221, 222, 223, 225, 226, 227, 228, 229, 230, 231, 232, 235, 236, 237, 238, 239, 240, 241, 243, 244, 245, 246, 247, 248, 249, 250, 252, 254, 255, 257, 258, 259, 260, 261, 262, 263, 264, 265, 266, 267, 268, 269, 270, 271, 273, 274, 275, 276, 277, 278, 279, 280, 281, 282, 283, 284, 287, 288, 290, 291, 292, 293, 294, 295, 297, 298, 301, 302, 303, 304, 310, 312, 313, 314, 315, 316, 317, 318, 319, 320, 321, 322, 323, 324, 325, 326, 327, 336, 337, 338, 339, 342, 343, 346, 347, 348, 349, 350, 351, 352, 353, 354, 355, 357, 358, 360, 361, 362, 363, 364, 368, 369, 370, 371, 372, 373, 374, 377, 378, 380, 381, 382, 383, 384, 385, 386, 387, 388, 389, 390, 391, 392, 393, 394, 396, 397, 398, 399, 400]\n",
      "Cluster 24 : 1 elems : [25]\n",
      "Cluster 48 : 1 elems : [49]\n",
      "Cluster 49 : 1 elems : [50]\n",
      "Cluster 53 : 1 elems : [54]\n",
      "Cluster 57 : 1 elems : [58]\n",
      "Cluster 107 : 1 elems : [108]\n",
      "Cluster 113 : 1 elems : [114]\n",
      "Cluster 115 : 2 elems : [116, 117]\n",
      "Cluster 127 : 2 elems : [128, 146]\n",
      "Cluster 137 : 1 elems : [138]\n",
      "Cluster 141 : 1 elems : [142]\n",
      "Cluster 143 : 1 elems : [144]\n",
      "Cluster 148 : 2 elems : [149, 150]\n",
      "Cluster 152 : 2 elems : [153, 154]\n",
      "Cluster 155 : 2 elems : [156, 157]\n",
      "Cluster 158 : 2 elems : [159, 160]\n",
      "Cluster 160 : 2 elems : [161, 162]\n",
      "Cluster 162 : 2 elems : [163, 164]\n",
      "Cluster 164 : 1 elems : [165]\n",
      "Cluster 166 : 2 elems : [167, 169]\n",
      "Cluster 171 : 2 elems : [172, 173]\n",
      "Cluster 191 : 1 elems : [192]\n",
      "Cluster 197 : 2 elems : [198, 199]\n",
      "Cluster 223 : 1 elems : [224]\n",
      "Cluster 232 : 2 elems : [233, 234]\n",
      "Cluster 241 : 1 elems : [242]\n",
      "Cluster 250 : 1 elems : [251]\n",
      "Cluster 252 : 1 elems : [253]\n",
      "Cluster 255 : 1 elems : [256]\n",
      "Cluster 271 : 1 elems : [272]\n",
      "Cluster 284 : 1 elems : [285]\n",
      "Cluster 285 : 1 elems : [286]\n",
      "Cluster 288 : 1 elems : [289]\n",
      "Cluster 295 : 1 elems : [296]\n",
      "Cluster 298 : 1 elems : [299]\n",
      "Cluster 299 : 1 elems : [300]\n",
      "Cluster 304 : 2 elems : [305, 306]\n",
      "Cluster 306 : 2 elems : [307, 308]\n",
      "Cluster 308 : 1 elems : [309]\n",
      "Cluster 310 : 1 elems : [311]\n",
      "Cluster 327 : 4 elems : [328, 329, 332, 333]\n",
      "Cluster 329 : 4 elems : [330, 331, 334, 335]\n",
      "Cluster 339 : 4 elems : [340, 341, 344, 345]\n",
      "Cluster 355 : 1 elems : [356]\n",
      "Cluster 358 : 1 elems : [359]\n",
      "Cluster 364 : 4 elems : [365, 375, 376, 379]\n",
      "Cluster 365 : 1 elems : [366]\n",
      "Cluster 366 : 1 elems : [367]\n",
      "Cluster 394 : 1 elems : [395]\n",
      "Penalty = 122\n",
      "Time: 3.7327942848205566\n"
     ]
    }
   ],
   "source": [
    "process('test_400.txt', cluster, distance_2, 50, 2, 10)"
   ]
  },
  {
   "cell_type": "code",
   "execution_count": 0,
   "metadata": {
    "colab": {
     "base_uri": "https://localhost:8080/",
     "height": 955
    },
    "colab_type": "code",
    "id": "U2QFM4OuZ4qa",
    "outputId": "3d67d327-6219-465b-b165-24cf8dae7b81"
   },
   "outputs": [
    {
     "name": "stdout",
     "output_type": "stream",
     "text": [
      "Vertices: 1000\n",
      "Edges: 499500\n",
      "Cluster 268 : 941 elems : [1, 4, 5, 6, 7, 8, 9, 10, 11, 12, 13, 14, 15, 16, 17, 18, 19, 20, 21, 22, 23, 24, 25, 26, 27, 28, 29, 30, 31, 32, 33, 34, 35, 36, 37, 38, 39, 40, 42, 43, 44, 45, 46, 47, 48, 49, 50, 51, 52, 53, 54, 55, 56, 57, 58, 59, 60, 61, 62, 63, 64, 65, 66, 67, 68, 69, 70, 71, 72, 73, 74, 75, 76, 77, 78, 79, 80, 81, 82, 83, 84, 85, 86, 87, 88, 89, 90, 91, 93, 94, 95, 96, 97, 98, 99, 100, 101, 102, 103, 105, 106, 107, 109, 110, 111, 112, 114, 115, 117, 118, 120, 121, 124, 125, 126, 127, 128, 129, 131, 132, 133, 134, 139, 140, 141, 143, 144, 145, 146, 147, 148, 149, 150, 151, 152, 153, 155, 156, 157, 158, 159, 160, 161, 162, 164, 165, 167, 168, 169, 170, 171, 172, 173, 174, 176, 177, 178, 179, 180, 181, 182, 183, 184, 185, 186, 188, 189, 190, 191, 192, 193, 194, 195, 196, 197, 198, 199, 200, 201, 202, 203, 204, 205, 206, 207, 208, 209, 210, 212, 213, 214, 215, 216, 217, 218, 219, 220, 221, 222, 223, 224, 225, 226, 227, 228, 229, 230, 231, 232, 233, 234, 235, 236, 237, 238, 239, 240, 241, 242, 243, 244, 245, 246, 247, 248, 249, 250, 251, 252, 253, 254, 255, 256, 257, 258, 259, 260, 261, 262, 263, 264, 265, 266, 267, 268, 269, 270, 271, 272, 273, 274, 275, 276, 278, 279, 280, 281, 284, 285, 286, 287, 288, 289, 290, 291, 292, 293, 294, 295, 297, 299, 300, 301, 302, 303, 304, 305, 306, 307, 308, 309, 310, 311, 312, 313, 314, 315, 316, 317, 318, 319, 320, 321, 322, 323, 324, 325, 326, 327, 328, 329, 330, 331, 332, 333, 334, 335, 336, 337, 338, 339, 340, 341, 342, 343, 344, 345, 346, 347, 350, 351, 352, 353, 354, 355, 356, 357, 358, 359, 360, 361, 362, 363, 365, 366, 367, 368, 369, 371, 372, 373, 374, 375, 376, 377, 378, 380, 381, 382, 383, 384, 385, 386, 387, 388, 389, 390, 391, 392, 393, 394, 395, 396, 397, 398, 399, 400, 401, 403, 404, 405, 406, 407, 408, 409, 410, 411, 412, 413, 414, 415, 416, 417, 418, 419, 420, 421, 422, 423, 424, 425, 426, 427, 428, 429, 430, 431, 432, 433, 434, 435, 436, 437, 438, 439, 440, 441, 442, 443, 444, 445, 446, 447, 448, 449, 450, 451, 452, 453, 454, 455, 456, 457, 458, 459, 460, 461, 462, 463, 464, 465, 466, 467, 468, 469, 470, 471, 472, 473, 474, 475, 476, 477, 478, 479, 480, 481, 482, 483, 484, 485, 486, 487, 488, 489, 490, 491, 492, 493, 494, 495, 496, 497, 499, 500, 501, 502, 503, 504, 505, 506, 507, 508, 509, 510, 512, 513, 514, 515, 516, 517, 518, 519, 520, 521, 522, 523, 524, 525, 526, 527, 528, 530, 531, 532, 533, 534, 535, 536, 537, 538, 539, 540, 541, 542, 543, 544, 545, 546, 548, 549, 550, 551, 552, 553, 554, 555, 556, 557, 558, 559, 560, 561, 562, 565, 566, 567, 568, 570, 571, 572, 575, 576, 577, 578, 579, 580, 581, 582, 583, 584, 585, 586, 587, 588, 589, 590, 591, 592, 593, 594, 595, 596, 597, 598, 599, 600, 601, 602, 603, 604, 605, 606, 607, 608, 609, 610, 611, 612, 613, 614, 615, 616, 617, 618, 619, 620, 621, 622, 623, 625, 626, 627, 628, 629, 630, 631, 632, 633, 634, 635, 636, 637, 638, 639, 640, 642, 643, 644, 645, 646, 648, 649, 650, 651, 652, 653, 654, 655, 656, 657, 658, 659, 660, 661, 662, 663, 664, 665, 666, 667, 668, 669, 670, 671, 672, 673, 674, 675, 676, 677, 678, 679, 680, 681, 682, 683, 684, 685, 686, 687, 688, 689, 690, 691, 692, 693, 694, 695, 696, 697, 698, 699, 700, 701, 702, 703, 704, 705, 706, 707, 708, 709, 710, 711, 712, 713, 714, 715, 716, 717, 718, 719, 720, 721, 722, 723, 724, 725, 726, 727, 728, 729, 730, 731, 732, 733, 734, 735, 736, 737, 738, 739, 740, 741, 742, 743, 744, 745, 746, 747, 748, 749, 750, 751, 752, 753, 754, 755, 756, 757, 758, 759, 760, 761, 762, 763, 764, 765, 766, 767, 768, 769, 770, 771, 772, 773, 774, 775, 776, 777, 778, 779, 780, 781, 782, 783, 784, 785, 786, 787, 788, 789, 791, 792, 793, 794, 795, 796, 797, 798, 799, 800, 801, 802, 803, 804, 805, 806, 807, 808, 809, 810, 811, 812, 813, 814, 815, 816, 817, 818, 819, 820, 821, 822, 823, 824, 825, 826, 827, 828, 829, 830, 831, 832, 833, 834, 835, 836, 837, 838, 839, 840, 841, 842, 843, 844, 845, 846, 847, 848, 849, 850, 851, 852, 853, 854, 856, 858, 859, 860, 861, 862, 863, 864, 867, 868, 869, 870, 871, 872, 873, 874, 875, 876, 877, 878, 879, 881, 882, 883, 884, 885, 886, 887, 888, 889, 890, 891, 892, 893, 894, 895, 896, 898, 899, 900, 901, 902, 903, 906, 907, 909, 910, 911, 912, 913, 914, 915, 916, 917, 918, 919, 920, 921, 922, 923, 924, 925, 926, 927, 928, 929, 930, 931, 932, 933, 934, 935, 936, 937, 939, 940, 941, 942, 943, 944, 945, 946, 947, 948, 949, 950, 951, 952, 953, 954, 955, 956, 957, 958, 959, 960, 961, 962, 963, 964, 965, 966, 967, 968, 969, 970, 971, 972, 973, 974, 975, 976, 977, 978, 979, 980, 981, 983, 984, 985, 986, 987, 989, 990, 991, 992, 993, 994, 995, 996, 997, 998, 999, 1000]\n",
      "Cluster 1 : 2 elems : [2, 3]\n",
      "Cluster 40 : 1 elems : [41]\n",
      "Cluster 91 : 1 elems : [92]\n",
      "Cluster 103 : 1 elems : [104]\n",
      "Cluster 107 : 1 elems : [108]\n",
      "Cluster 112 : 1 elems : [113]\n",
      "Cluster 115 : 1 elems : [116]\n",
      "Cluster 118 : 1 elems : [119]\n",
      "Cluster 121 : 1 elems : [122]\n",
      "Cluster 122 : 1 elems : [123]\n",
      "Cluster 129 : 1 elems : [130]\n",
      "Cluster 134 : 2 elems : [135, 136]\n",
      "Cluster 136 : 2 elems : [137, 138]\n",
      "Cluster 141 : 1 elems : [142]\n",
      "Cluster 153 : 1 elems : [154]\n",
      "Cluster 162 : 1 elems : [163]\n",
      "Cluster 165 : 1 elems : [166]\n",
      "Cluster 174 : 1 elems : [175]\n",
      "Cluster 186 : 1 elems : [187]\n",
      "Cluster 210 : 1 elems : [211]\n",
      "Cluster 276 : 1 elems : [277]\n",
      "Cluster 281 : 2 elems : [282, 283]\n",
      "Cluster 295 : 1 elems : [296]\n",
      "Cluster 297 : 1 elems : [298]\n",
      "Cluster 347 : 2 elems : [348, 349]\n",
      "Cluster 363 : 1 elems : [364]\n",
      "Cluster 369 : 1 elems : [370]\n",
      "Cluster 378 : 1 elems : [379]\n",
      "Cluster 401 : 1 elems : [402]\n",
      "Cluster 497 : 1 elems : [498]\n",
      "Cluster 510 : 1 elems : [511]\n",
      "Cluster 528 : 1 elems : [529]\n",
      "Cluster 546 : 2 elems : [547, 564]\n",
      "Cluster 562 : 1 elems : [563]\n",
      "Cluster 568 : 1 elems : [569]\n",
      "Cluster 572 : 2 elems : [573, 574]\n",
      "Cluster 623 : 1 elems : [624]\n",
      "Cluster 640 : 1 elems : [641]\n",
      "Cluster 646 : 1 elems : [647]\n",
      "Cluster 789 : 1 elems : [790]\n",
      "Cluster 854 : 2 elems : [855, 857]\n",
      "Cluster 864 : 2 elems : [865, 866]\n",
      "Cluster 879 : 1 elems : [880]\n",
      "Cluster 896 : 1 elems : [897]\n",
      "Cluster 903 : 2 elems : [904, 905]\n",
      "Cluster 907 : 1 elems : [908]\n",
      "Cluster 937 : 1 elems : [938]\n",
      "Cluster 981 : 1 elems : [982]\n",
      "Cluster 987 : 1 elems : [988]\n",
      "Penalty = 103\n",
      "Time: 15.083866357803345\n"
     ]
    }
   ],
   "source": [
    "process('test_1000.txt', cluster, distance_2, 50, 2, 10)"
   ]
  },
  {
   "cell_type": "markdown",
   "metadata": {
    "colab_type": "text",
    "id": "xVn7O_g3wguD"
   },
   "source": [
    "# C помощью 3-ей метрики"
   ]
  },
  {
   "cell_type": "code",
   "execution_count": 0,
   "metadata": {
    "colab": {
     "base_uri": "https://localhost:8080/",
     "height": 340
    },
    "colab_type": "code",
    "id": "mcv_eOXjbSRv",
    "outputId": "89bc533c-c1e4-43d5-b6ff-d9bf66c64ecb"
   },
   "outputs": [
    {
     "name": "stdout",
     "output_type": "stream",
     "text": [
      "Vertices: 50\n",
      "Edges: 1225\n",
      "Cluster 5 : 26 elems : [1, 6, 7, 8, 11, 12, 13, 18, 19, 20, 23, 25, 26, 29, 30, 31, 32, 33, 35, 36, 39, 40, 41, 44, 45, 48]\n",
      "Cluster 1 : 1 elems : [2]\n",
      "Cluster 2 : 1 elems : [3]\n",
      "Cluster 3 : 2 elems : [4, 5]\n",
      "Cluster 8 : 1 elems : [9]\n",
      "Cluster 9 : 1 elems : [10]\n",
      "Cluster 13 : 3 elems : [14, 43, 50]\n",
      "Cluster 14 : 4 elems : [15, 16, 17, 21]\n",
      "Cluster 21 : 2 elems : [22, 24]\n",
      "Cluster 26 : 2 elems : [27, 28]\n",
      "Cluster 33 : 3 elems : [34, 46, 49]\n",
      "Cluster 36 : 1 elems : [37]\n",
      "Cluster 37 : 1 elems : [38]\n",
      "Cluster 41 : 1 elems : [42]\n",
      "Cluster 46 : 1 elems : [47]\n",
      "Penalty = 0.9392844560108129\n",
      "Time: 2.770094633102417\n"
     ]
    }
   ],
   "source": [
    "process('test_50.txt', cluster, distance_3, 15, 2, 10)"
   ]
  },
  {
   "cell_type": "markdown",
   "metadata": {
    "colab_type": "text",
    "id": "G0S9veqAwf9r"
   },
   "source": []
  },
  {
   "cell_type": "code",
   "execution_count": 0,
   "metadata": {
    "colab": {
     "base_uri": "https://localhost:8080/",
     "height": 360
    },
    "colab_type": "code",
    "id": "NVjF-n2Wk463",
    "outputId": "a273677a-7a7b-4b31-b2eb-9cf6a5270b36"
   },
   "outputs": [
    {
     "name": "stdout",
     "output_type": "stream",
     "text": [
      "Vertices: 400\n",
      "Edges: 79800\n",
      "Cluster 111 : 380 elems : [1, 2, 3, 4, 5, 6, 7, 8, 9, 10, 12, 13, 14, 15, 16, 17, 18, 19, 20, 21, 22, 23, 24, 25, 26, 27, 28, 29, 32, 33, 34, 35, 36, 37, 38, 39, 40, 41, 42, 43, 44, 45, 46, 47, 48, 49, 50, 51, 52, 53, 54, 55, 56, 57, 58, 59, 60, 61, 62, 63, 64, 65, 66, 67, 68, 69, 70, 71, 73, 74, 75, 76, 77, 78, 79, 80, 81, 84, 85, 86, 87, 88, 89, 90, 91, 92, 93, 94, 95, 96, 98, 100, 101, 102, 103, 104, 105, 106, 107, 108, 109, 110, 111, 112, 113, 114, 115, 116, 117, 118, 119, 120, 121, 123, 124, 125, 126, 127, 129, 131, 132, 133, 134, 135, 136, 137, 138, 139, 141, 142, 144, 145, 147, 151, 152, 153, 154, 155, 156, 157, 158, 159, 160, 161, 162, 163, 164, 165, 166, 167, 168, 169, 170, 171, 172, 173, 174, 175, 176, 177, 178, 179, 180, 181, 182, 183, 184, 185, 186, 187, 188, 189, 190, 191, 192, 193, 194, 195, 196, 197, 198, 199, 200, 201, 202, 203, 204, 205, 206, 207, 208, 209, 210, 211, 212, 213, 214, 215, 216, 217, 218, 219, 220, 221, 222, 223, 224, 225, 226, 227, 228, 229, 230, 231, 232, 233, 234, 235, 236, 237, 238, 239, 240, 241, 242, 243, 244, 245, 246, 247, 248, 249, 250, 251, 252, 253, 254, 255, 256, 257, 258, 259, 260, 261, 262, 263, 264, 265, 266, 267, 268, 269, 270, 271, 272, 273, 274, 275, 276, 277, 278, 279, 280, 281, 282, 283, 284, 285, 286, 287, 288, 289, 290, 291, 292, 293, 294, 295, 296, 297, 298, 299, 300, 301, 302, 303, 304, 305, 306, 307, 308, 309, 310, 311, 312, 313, 314, 315, 316, 317, 319, 320, 321, 323, 324, 325, 326, 327, 328, 329, 330, 331, 332, 333, 334, 335, 336, 337, 338, 339, 340, 341, 342, 343, 344, 345, 346, 347, 348, 349, 350, 351, 352, 353, 354, 355, 356, 357, 358, 359, 360, 361, 362, 363, 364, 365, 366, 367, 368, 369, 370, 371, 372, 373, 374, 375, 376, 377, 378, 379, 380, 381, 382, 383, 384, 385, 386, 387, 388, 389, 390, 392, 393, 394, 395, 396, 397, 398, 399, 400]\n",
      "Cluster 10 : 1 elems : [11]\n",
      "Cluster 29 : 4 elems : [30, 31, 82, 83]\n",
      "Cluster 71 : 1 elems : [72]\n",
      "Cluster 96 : 1 elems : [97]\n",
      "Cluster 98 : 1 elems : [99]\n",
      "Cluster 121 : 1 elems : [122]\n",
      "Cluster 127 : 2 elems : [128, 146]\n",
      "Cluster 129 : 1 elems : [130]\n",
      "Cluster 139 : 2 elems : [140, 143]\n",
      "Cluster 147 : 1 elems : [148]\n",
      "Cluster 148 : 2 elems : [149, 150]\n",
      "Cluster 317 : 1 elems : [318]\n",
      "Cluster 321 : 1 elems : [322]\n",
      "Cluster 390 : 1 elems : [391]\n",
      "Penalty = 0.9668685494190499\n",
      "Time: 657.694256067276\n"
     ]
    }
   ],
   "source": [
    "process('test_400.txt', cluster, distance_3, 15, 2, 10)"
   ]
  },
  {
   "cell_type": "markdown",
   "metadata": {
    "colab_type": "text",
    "id": "Wfd82YNZw6He"
   },
   "source": [
    "# Кластеризация, приближенно минимизирующая максимальное внутрикластерное расстояние.#\n"
   ]
  },
  {
   "cell_type": "markdown",
   "metadata": {
    "colab_type": "text",
    "id": "cIb7czkhxVXo"
   },
   "source": [
    "## Евклидова метрика"
   ]
  },
  {
   "cell_type": "code",
   "execution_count": 0,
   "metadata": {
    "colab": {
     "base_uri": "https://localhost:8080/",
     "height": 190
    },
    "colab_type": "code",
    "id": "LasKVMtOk-s4",
    "outputId": "3ba84a19-15af-41cc-f7de-ec5cb3a608d1"
   },
   "outputs": [
    {
     "name": "stdout",
     "output_type": "stream",
     "text": [
      "Vertices: 50\n",
      "Edges: 1225\n",
      "Cluster 0 : 46 elems : [1, 2, 3, 4, 5, 6, 7, 8, 9, 10, 11, 12, 13, 14, 15, 16, 17, 18, 19, 20, 21, 23, 25, 26, 27, 28, 29, 30, 31, 32, 33, 34, 35, 36, 37, 38, 39, 41, 42, 43, 44, 45, 46, 47, 49, 50]\n",
      "Cluster 21 : 1 elems : [22]\n",
      "Cluster 23 : 1 elems : [24]\n",
      "Cluster 39 : 1 elems : [40]\n",
      "Cluster 47 : 1 elems : [48]\n",
      "Penalty = 32.66496594212215\n",
      "Time: 0.22289204597473145\n"
     ]
    }
   ],
   "source": [
    "process('test_50.txt', cluster_2, distance_1, 5, 2, 10)"
   ]
  },
  {
   "cell_type": "code",
   "execution_count": 0,
   "metadata": {
    "colab": {
     "base_uri": "https://localhost:8080/",
     "height": 275
    },
    "colab_type": "code",
    "id": "Vwwq-dXFlFGC",
    "outputId": "e4be8f81-2002-4d2f-87cd-92fa52ccbab3"
   },
   "outputs": [
    {
     "name": "stdout",
     "output_type": "stream",
     "text": [
      "Vertices: 400\n",
      "Edges: 79800\n",
      "Cluster 1 : 388 elems : [1, 2, 3, 4, 5, 6, 7, 8, 9, 10, 11, 12, 13, 14, 15, 16, 17, 18, 19, 20, 21, 22, 23, 24, 25, 26, 27, 28, 29, 30, 31, 32, 33, 34, 35, 36, 37, 38, 39, 40, 41, 42, 43, 44, 45, 46, 47, 48, 49, 50, 51, 52, 53, 54, 55, 56, 57, 59, 60, 61, 62, 63, 64, 65, 66, 67, 68, 69, 70, 71, 72, 73, 74, 75, 76, 77, 78, 79, 80, 81, 82, 83, 84, 85, 86, 87, 88, 89, 90, 91, 92, 93, 94, 95, 96, 97, 98, 99, 100, 101, 102, 103, 104, 105, 106, 107, 108, 109, 110, 111, 112, 113, 115, 118, 119, 120, 121, 122, 123, 124, 125, 126, 127, 128, 129, 130, 131, 132, 133, 134, 135, 136, 137, 138, 139, 140, 141, 143, 144, 145, 146, 147, 148, 149, 150, 151, 152, 153, 154, 155, 156, 157, 158, 159, 160, 163, 164, 165, 166, 167, 168, 169, 170, 171, 172, 173, 174, 175, 176, 177, 178, 179, 180, 181, 182, 183, 184, 185, 186, 187, 188, 189, 190, 191, 192, 193, 194, 195, 196, 197, 198, 199, 200, 201, 202, 203, 204, 205, 206, 207, 208, 209, 210, 211, 212, 213, 214, 215, 216, 217, 218, 219, 220, 221, 222, 223, 224, 225, 226, 227, 228, 229, 230, 231, 232, 233, 234, 235, 236, 237, 238, 239, 240, 241, 242, 243, 244, 245, 246, 247, 248, 249, 250, 251, 252, 253, 254, 255, 256, 257, 258, 259, 260, 261, 262, 263, 264, 265, 266, 267, 268, 269, 270, 271, 272, 273, 274, 275, 276, 277, 278, 279, 280, 281, 282, 283, 284, 285, 286, 287, 288, 289, 290, 291, 292, 293, 294, 295, 297, 298, 299, 300, 301, 302, 303, 304, 305, 306, 307, 308, 309, 310, 311, 312, 313, 314, 315, 316, 317, 318, 319, 320, 321, 322, 323, 324, 325, 326, 327, 328, 329, 330, 331, 332, 333, 334, 335, 336, 337, 338, 339, 342, 343, 346, 347, 348, 349, 350, 351, 352, 353, 354, 355, 356, 357, 358, 359, 360, 361, 362, 363, 364, 365, 366, 367, 368, 369, 370, 371, 372, 373, 374, 375, 376, 377, 378, 379, 380, 381, 382, 383, 384, 385, 386, 387, 388, 389, 390, 391, 392, 393, 394, 395, 396, 397, 398, 399, 400]\n",
      "Cluster 57 : 1 elems : [58]\n",
      "Cluster 113 : 1 elems : [114]\n",
      "Cluster 115 : 1 elems : [116]\n",
      "Cluster 116 : 1 elems : [117]\n",
      "Cluster 141 : 1 elems : [142]\n",
      "Cluster 160 : 1 elems : [161]\n",
      "Cluster 161 : 1 elems : [162]\n",
      "Cluster 295 : 1 elems : [296]\n",
      "Cluster 340 : 4 elems : [340, 341, 344, 345]\n",
      "Penalty = 28.407745422683583\n",
      "Time: 6.737777233123779\n"
     ]
    }
   ],
   "source": [
    "process('test_400.txt', cluster_2, distance_1, 10, 2, 10)"
   ]
  },
  {
   "cell_type": "markdown",
   "metadata": {
    "colab_type": "text",
    "id": "2xS_zL_Sgj3A"
   },
   "source": [
    "## На 1000 вершинах"
   ]
  },
  {
   "cell_type": "code",
   "execution_count": 17,
   "metadata": {
    "colab": {
     "base_uri": "https://localhost:8080/",
     "height": 530
    },
    "colab_type": "code",
    "id": "COQDn0XsgdpH",
    "outputId": "07776e3d-69fd-46d8-e91a-f4f5c5f420fe"
   },
   "outputs": [
    {
     "name": "stdout",
     "output_type": "stream",
     "text": [
      "Vertices: 1000\n",
      "Edges: 499500\n",
      "Cluster 0 : 976 elems : [1, 2, 3, 4, 5, 6, 7, 8, 9, 10, 11, 12, 13, 14, 15, 16, 17, 18, 19, 20, 21, 22, 23, 24, 25, 26, 27, 28, 29, 30, 31, 32, 33, 34, 35, 36, 37, 38, 39, 40, 42, 43, 44, 45, 46, 47, 48, 49, 50, 51, 52, 53, 54, 55, 56, 57, 58, 59, 60, 61, 62, 63, 64, 65, 66, 67, 68, 69, 70, 71, 72, 73, 74, 75, 76, 77, 78, 79, 80, 81, 82, 83, 84, 85, 86, 87, 88, 89, 90, 91, 92, 93, 94, 95, 96, 97, 98, 99, 100, 101, 102, 103, 105, 106, 107, 108, 109, 110, 111, 112, 113, 114, 115, 116, 117, 118, 119, 120, 121, 122, 124, 125, 126, 127, 128, 129, 131, 132, 133, 134, 135, 136, 137, 138, 139, 140, 141, 142, 143, 144, 145, 146, 147, 148, 149, 150, 151, 152, 153, 154, 155, 156, 157, 158, 159, 160, 161, 162, 164, 165, 166, 167, 168, 169, 170, 171, 172, 173, 174, 176, 177, 178, 179, 180, 181, 182, 183, 184, 185, 186, 188, 189, 190, 191, 192, 193, 194, 195, 196, 197, 198, 199, 200, 201, 202, 203, 204, 205, 206, 207, 208, 209, 210, 211, 212, 213, 214, 215, 216, 217, 218, 219, 220, 221, 222, 223, 224, 225, 226, 227, 228, 229, 230, 231, 232, 233, 234, 235, 236, 237, 238, 239, 240, 241, 242, 243, 244, 245, 246, 247, 248, 249, 250, 251, 252, 253, 254, 255, 256, 257, 258, 259, 260, 261, 262, 263, 264, 265, 266, 267, 268, 269, 270, 271, 272, 273, 274, 275, 276, 278, 279, 280, 281, 282, 283, 284, 285, 286, 287, 288, 289, 290, 291, 292, 293, 294, 295, 297, 298, 299, 300, 301, 302, 303, 304, 305, 306, 307, 308, 309, 310, 311, 312, 313, 314, 315, 316, 317, 318, 319, 320, 321, 322, 323, 324, 325, 326, 327, 328, 329, 330, 331, 332, 333, 334, 335, 336, 337, 338, 339, 340, 341, 342, 343, 344, 345, 346, 347, 348, 349, 350, 351, 352, 353, 354, 355, 356, 357, 358, 359, 360, 361, 362, 363, 364, 365, 366, 367, 368, 369, 370, 371, 372, 373, 374, 376, 377, 378, 380, 381, 382, 383, 384, 385, 387, 388, 389, 390, 391, 392, 393, 394, 395, 396, 397, 398, 399, 400, 401, 403, 404, 405, 406, 407, 408, 409, 410, 411, 412, 413, 414, 415, 416, 417, 418, 419, 420, 421, 422, 423, 424, 425, 426, 427, 428, 429, 430, 431, 432, 433, 434, 435, 436, 437, 438, 439, 441, 442, 443, 444, 445, 446, 447, 448, 449, 450, 451, 452, 453, 454, 455, 456, 457, 458, 459, 460, 461, 462, 463, 464, 465, 466, 467, 468, 469, 470, 471, 472, 473, 474, 475, 476, 477, 478, 479, 480, 481, 482, 483, 484, 485, 486, 487, 488, 489, 490, 491, 492, 493, 494, 495, 496, 497, 498, 499, 500, 502, 503, 504, 505, 506, 507, 508, 509, 510, 512, 513, 514, 515, 516, 517, 518, 519, 520, 521, 522, 523, 524, 525, 526, 527, 528, 530, 531, 532, 533, 534, 535, 536, 538, 539, 540, 541, 542, 543, 544, 545, 546, 547, 548, 549, 550, 551, 552, 553, 554, 555, 556, 557, 558, 559, 560, 561, 562, 563, 564, 565, 566, 567, 568, 569, 570, 571, 572, 573, 574, 575, 576, 577, 578, 579, 580, 581, 582, 583, 584, 585, 586, 587, 588, 589, 590, 591, 592, 593, 594, 595, 596, 597, 598, 599, 600, 601, 602, 603, 604, 605, 606, 607, 608, 609, 610, 611, 612, 613, 614, 615, 616, 617, 618, 619, 620, 621, 622, 623, 624, 625, 626, 627, 628, 629, 630, 631, 632, 633, 634, 635, 636, 637, 638, 639, 640, 641, 642, 643, 644, 645, 646, 647, 649, 650, 651, 652, 653, 654, 655, 656, 657, 658, 659, 660, 661, 662, 663, 664, 665, 666, 667, 668, 669, 670, 671, 672, 673, 674, 675, 676, 677, 678, 679, 680, 681, 682, 683, 684, 685, 686, 687, 688, 689, 690, 691, 692, 693, 694, 695, 696, 697, 698, 699, 700, 701, 702, 703, 704, 705, 706, 707, 708, 709, 710, 711, 712, 713, 714, 715, 716, 717, 718, 719, 720, 721, 722, 723, 724, 725, 726, 727, 728, 729, 730, 731, 732, 733, 734, 735, 736, 737, 738, 739, 740, 741, 742, 743, 744, 745, 746, 747, 748, 749, 750, 751, 752, 753, 754, 755, 756, 757, 758, 759, 760, 761, 762, 763, 764, 765, 766, 767, 768, 769, 770, 771, 772, 773, 774, 775, 776, 777, 778, 779, 780, 781, 782, 783, 784, 785, 786, 787, 788, 789, 790, 791, 792, 793, 794, 795, 796, 797, 798, 799, 800, 801, 802, 803, 804, 805, 806, 807, 808, 809, 810, 811, 812, 813, 814, 815, 816, 817, 818, 819, 820, 821, 822, 823, 824, 825, 826, 827, 828, 829, 830, 831, 832, 833, 834, 835, 836, 837, 838, 839, 840, 841, 842, 843, 844, 845, 846, 847, 848, 849, 850, 851, 852, 853, 854, 855, 856, 857, 858, 859, 860, 861, 862, 863, 864, 865, 866, 867, 868, 869, 870, 871, 872, 873, 874, 875, 876, 877, 878, 879, 881, 882, 883, 884, 885, 886, 887, 888, 889, 890, 891, 892, 893, 894, 895, 896, 897, 898, 899, 900, 901, 902, 903, 904, 905, 906, 907, 909, 910, 911, 912, 913, 914, 915, 916, 917, 918, 919, 920, 921, 922, 923, 924, 925, 926, 927, 928, 929, 930, 931, 932, 934, 935, 936, 937, 939, 940, 941, 942, 943, 944, 945, 946, 947, 948, 949, 950, 951, 952, 953, 954, 955, 956, 957, 958, 959, 960, 961, 962, 963, 964, 965, 966, 967, 968, 969, 970, 971, 972, 973, 974, 975, 976, 977, 979, 980, 981, 982, 983, 984, 985, 986, 987, 988, 989, 990, 991, 992, 993, 994, 995, 996, 997, 998, 999, 1000]\n",
      "Cluster 40 : 1 elems : [41]\n",
      "Cluster 103 : 1 elems : [104]\n",
      "Cluster 122 : 1 elems : [123]\n",
      "Cluster 129 : 1 elems : [130]\n",
      "Cluster 162 : 1 elems : [163]\n",
      "Cluster 174 : 1 elems : [175]\n",
      "Cluster 186 : 1 elems : [187]\n",
      "Cluster 276 : 1 elems : [277]\n",
      "Cluster 295 : 1 elems : [296]\n",
      "Cluster 374 : 1 elems : [375]\n",
      "Cluster 378 : 1 elems : [379]\n",
      "Cluster 385 : 1 elems : [386]\n",
      "Cluster 401 : 1 elems : [402]\n",
      "Cluster 439 : 1 elems : [440]\n",
      "Cluster 500 : 1 elems : [501]\n",
      "Cluster 510 : 1 elems : [511]\n",
      "Cluster 528 : 1 elems : [529]\n",
      "Cluster 536 : 1 elems : [537]\n",
      "Cluster 647 : 1 elems : [648]\n",
      "Cluster 879 : 1 elems : [880]\n",
      "Cluster 907 : 1 elems : [908]\n",
      "Cluster 932 : 1 elems : [933]\n",
      "Cluster 937 : 1 elems : [938]\n",
      "Cluster 977 : 1 elems : [978]\n",
      "Penalty = 21.93171219946131\n",
      "Time: 37.386311531066895\n"
     ]
    }
   ],
   "source": [
    "process('test_1000.txt', cluster_2, distance_1, 25, 2, 10)"
   ]
  },
  {
   "cell_type": "markdown",
   "metadata": {
    "colab_type": "text",
    "id": "YgJDZdu4xmLV"
   },
   "source": [
    "## Манхеттанская метрика"
   ]
  },
  {
   "cell_type": "code",
   "execution_count": 0,
   "metadata": {
    "colab": {
     "base_uri": "https://localhost:8080/",
     "height": 190
    },
    "colab_type": "code",
    "id": "UqlFEYmSlVfo",
    "outputId": "6a9ce8b9-c9e6-45ec-b321-8c85c1a69362"
   },
   "outputs": [
    {
     "name": "stdout",
     "output_type": "stream",
     "text": [
      "Vertices: 50\n",
      "Edges: 1225\n",
      "Cluster 0 : 46 elems : [1, 2, 3, 4, 5, 7, 8, 9, 10, 11, 12, 13, 14, 15, 16, 17, 18, 19, 20, 21, 23, 25, 26, 27, 28, 29, 30, 31, 32, 33, 34, 35, 36, 37, 38, 39, 41, 42, 43, 44, 45, 46, 47, 48, 49, 50]\n",
      "Cluster 5 : 1 elems : [6]\n",
      "Cluster 21 : 1 elems : [22]\n",
      "Cluster 23 : 1 elems : [24]\n",
      "Cluster 39 : 1 elems : [40]\n",
      "Penalty = 495\n",
      "Time: 0.19565677642822266\n"
     ]
    }
   ],
   "source": [
    "process('test_50.txt', cluster_2, distance_2, 5, 2, 10)"
   ]
  },
  {
   "cell_type": "code",
   "execution_count": 0,
   "metadata": {
    "colab": {
     "base_uri": "https://localhost:8080/",
     "height": 360
    },
    "colab_type": "code",
    "id": "R-guS0Gmx8mt",
    "outputId": "e7f2abf5-3587-4df3-a86c-2de70e403567"
   },
   "outputs": [
    {
     "name": "stdout",
     "output_type": "stream",
     "text": [
      "Vertices: 400\n",
      "Edges: 79800\n",
      "Cluster 0 : 386 elems : [1, 2, 3, 4, 5, 6, 7, 8, 9, 10, 11, 12, 13, 14, 15, 16, 17, 18, 19, 20, 21, 22, 23, 24, 25, 26, 27, 28, 29, 30, 31, 32, 33, 34, 35, 36, 37, 38, 39, 40, 41, 42, 43, 44, 45, 46, 47, 48, 49, 50, 51, 52, 53, 54, 55, 56, 57, 59, 60, 61, 62, 63, 64, 65, 66, 67, 68, 69, 70, 71, 72, 73, 74, 75, 76, 77, 78, 79, 80, 81, 82, 83, 84, 85, 86, 87, 88, 89, 90, 91, 92, 93, 94, 95, 96, 97, 98, 99, 100, 101, 102, 103, 104, 105, 106, 107, 108, 109, 110, 111, 112, 113, 115, 118, 119, 120, 121, 122, 123, 124, 125, 126, 127, 128, 129, 130, 131, 132, 133, 134, 135, 136, 137, 138, 139, 140, 141, 142, 143, 144, 145, 146, 147, 148, 149, 150, 151, 152, 155, 156, 157, 158, 159, 160, 165, 166, 167, 168, 169, 170, 171, 172, 173, 174, 175, 176, 177, 178, 179, 180, 181, 182, 183, 184, 185, 186, 187, 188, 189, 190, 191, 192, 193, 194, 195, 196, 197, 198, 199, 200, 201, 202, 203, 204, 205, 206, 207, 208, 209, 210, 211, 212, 213, 214, 215, 216, 217, 218, 219, 220, 221, 222, 223, 224, 225, 226, 227, 228, 229, 230, 231, 232, 233, 234, 235, 236, 237, 238, 239, 240, 241, 242, 243, 244, 245, 246, 247, 248, 249, 250, 251, 252, 253, 254, 255, 256, 257, 258, 259, 260, 261, 262, 263, 264, 265, 266, 267, 268, 269, 270, 271, 272, 273, 274, 275, 276, 277, 278, 279, 280, 281, 282, 283, 284, 285, 286, 287, 288, 289, 290, 291, 292, 293, 294, 295, 296, 297, 298, 299, 300, 301, 302, 303, 304, 305, 306, 307, 308, 309, 310, 311, 312, 313, 314, 315, 316, 317, 318, 319, 320, 321, 322, 323, 324, 325, 326, 327, 328, 329, 330, 331, 332, 333, 334, 335, 336, 337, 338, 339, 342, 343, 346, 347, 348, 349, 350, 351, 352, 353, 354, 355, 356, 357, 358, 359, 360, 361, 362, 363, 364, 365, 366, 367, 368, 369, 370, 371, 372, 373, 374, 375, 376, 377, 378, 379, 380, 381, 382, 383, 384, 385, 386, 387, 388, 389, 390, 391, 392, 393, 394, 395, 396, 397, 398, 399, 400]\n",
      "Cluster 57 : 1 elems : [58]\n",
      "Cluster 113 : 1 elems : [114]\n",
      "Cluster 115 : 1 elems : [116]\n",
      "Cluster 116 : 1 elems : [117]\n",
      "Cluster 152 : 1 elems : [153]\n",
      "Cluster 153 : 1 elems : [154]\n",
      "Cluster 160 : 1 elems : [161]\n",
      "Cluster 161 : 1 elems : [162]\n",
      "Cluster 162 : 1 elems : [163]\n",
      "Cluster 163 : 1 elems : [164]\n",
      "Cluster 339 : 1 elems : [340]\n",
      "Cluster 340 : 1 elems : [341]\n",
      "Cluster 343 : 1 elems : [344]\n",
      "Cluster 344 : 1 elems : [345]\n",
      "Penalty = 479\n",
      "Time: 8.170713901519775\n"
     ]
    }
   ],
   "source": [
    "process('test_400.txt', cluster_2, distance_2, 15, 2, 10)"
   ]
  },
  {
   "cell_type": "markdown",
   "metadata": {
    "colab_type": "text",
    "id": "ASROkxOEgobX"
   },
   "source": [
    "## На 1000 вершинах"
   ]
  },
  {
   "cell_type": "code",
   "execution_count": 11,
   "metadata": {
    "colab": {
     "base_uri": "https://localhost:8080/",
     "height": 615
    },
    "colab_type": "code",
    "id": "P9tdD15KgYkj",
    "outputId": "1e1e60c5-008b-49cc-aa57-64a5b648640c"
   },
   "outputs": [
    {
     "name": "stdout",
     "output_type": "stream",
     "text": [
      "Vertices: 1000\n",
      "Edges: 499500\n",
      "Cluster 0 : 953 elems : [1, 4, 5, 6, 7, 8, 9, 10, 11, 12, 13, 14, 15, 16, 17, 18, 19, 20, 21, 22, 23, 24, 25, 26, 27, 29, 30, 31, 32, 33, 34, 35, 36, 37, 38, 39, 40, 42, 43, 45, 46, 47, 48, 49, 50, 51, 52, 53, 54, 55, 56, 57, 58, 59, 60, 61, 62, 63, 64, 65, 66, 67, 68, 69, 70, 71, 72, 73, 74, 75, 76, 77, 78, 79, 80, 81, 82, 83, 84, 85, 86, 87, 88, 89, 90, 91, 92, 93, 94, 95, 96, 97, 98, 99, 100, 101, 102, 103, 105, 106, 107, 108, 109, 110, 111, 112, 114, 115, 116, 117, 118, 120, 121, 122, 123, 124, 125, 126, 127, 128, 129, 131, 132, 133, 134, 139, 140, 141, 142, 143, 144, 145, 146, 147, 148, 149, 150, 151, 152, 153, 155, 156, 157, 158, 159, 160, 161, 162, 163, 164, 165, 166, 167, 168, 169, 170, 171, 172, 173, 174, 175, 176, 177, 178, 179, 180, 181, 182, 183, 184, 185, 186, 187, 188, 189, 190, 191, 192, 194, 195, 196, 197, 198, 199, 200, 201, 202, 203, 204, 205, 206, 207, 208, 209, 210, 211, 212, 213, 214, 215, 216, 217, 218, 219, 220, 221, 222, 223, 224, 225, 226, 227, 228, 229, 230, 231, 232, 233, 234, 235, 236, 237, 238, 239, 240, 241, 242, 243, 244, 245, 246, 247, 248, 249, 250, 251, 252, 253, 254, 255, 256, 257, 258, 259, 260, 261, 262, 263, 264, 265, 266, 267, 268, 269, 270, 271, 272, 273, 274, 275, 276, 277, 278, 279, 280, 281, 282, 283, 284, 285, 286, 287, 288, 289, 290, 291, 292, 293, 294, 295, 297, 298, 299, 300, 301, 302, 303, 304, 305, 306, 307, 308, 309, 310, 311, 312, 313, 314, 315, 316, 317, 318, 319, 320, 321, 322, 323, 324, 325, 326, 327, 328, 329, 330, 331, 332, 333, 334, 335, 336, 337, 338, 339, 340, 341, 342, 343, 344, 345, 346, 347, 348, 349, 350, 351, 352, 353, 354, 355, 356, 357, 358, 359, 360, 361, 362, 363, 365, 366, 367, 368, 369, 370, 371, 372, 373, 374, 375, 376, 377, 378, 380, 381, 382, 383, 384, 385, 386, 387, 388, 389, 390, 391, 392, 393, 394, 395, 396, 397, 398, 399, 400, 401, 403, 404, 405, 406, 407, 408, 409, 410, 411, 412, 413, 414, 415, 416, 417, 420, 421, 422, 423, 424, 425, 426, 427, 428, 429, 430, 431, 432, 433, 434, 435, 436, 437, 438, 439, 440, 441, 442, 443, 444, 445, 446, 447, 448, 449, 450, 451, 452, 453, 454, 455, 456, 457, 458, 459, 460, 461, 462, 463, 464, 466, 467, 468, 469, 470, 471, 472, 473, 474, 475, 476, 477, 478, 479, 480, 481, 482, 483, 484, 485, 486, 487, 488, 489, 490, 491, 492, 493, 494, 495, 496, 497, 498, 499, 500, 501, 502, 504, 505, 507, 508, 509, 510, 511, 512, 513, 514, 515, 517, 518, 519, 520, 521, 522, 523, 524, 525, 526, 527, 528, 530, 531, 532, 533, 534, 535, 536, 537, 538, 539, 540, 541, 542, 543, 544, 545, 546, 548, 549, 550, 551, 552, 553, 554, 555, 556, 557, 558, 559, 560, 561, 562, 563, 565, 566, 567, 568, 570, 571, 572, 573, 575, 576, 577, 578, 579, 580, 581, 582, 583, 584, 585, 586, 587, 588, 589, 590, 591, 592, 593, 594, 595, 596, 597, 598, 599, 600, 601, 602, 603, 604, 605, 606, 607, 608, 609, 610, 611, 612, 613, 614, 615, 616, 617, 618, 619, 620, 621, 622, 623, 625, 626, 627, 628, 629, 630, 631, 632, 633, 634, 635, 636, 637, 639, 640, 641, 642, 643, 644, 645, 646, 647, 648, 649, 650, 651, 652, 653, 654, 655, 656, 657, 658, 659, 660, 661, 662, 663, 664, 665, 666, 667, 668, 669, 670, 671, 672, 673, 674, 675, 676, 677, 678, 679, 680, 681, 682, 683, 684, 685, 686, 687, 688, 690, 691, 692, 693, 694, 695, 696, 697, 698, 699, 700, 702, 703, 704, 705, 706, 708, 709, 710, 711, 712, 714, 715, 716, 717, 718, 719, 720, 722, 723, 724, 725, 726, 727, 728, 729, 730, 731, 732, 733, 734, 735, 736, 737, 738, 739, 740, 741, 742, 743, 744, 745, 746, 747, 748, 749, 750, 751, 752, 753, 754, 755, 756, 757, 758, 759, 760, 761, 762, 763, 764, 765, 766, 767, 768, 769, 770, 771, 772, 773, 774, 775, 776, 777, 778, 779, 780, 781, 782, 783, 784, 785, 786, 787, 788, 789, 791, 792, 793, 794, 795, 796, 797, 798, 799, 800, 801, 802, 803, 804, 805, 806, 807, 808, 809, 810, 811, 812, 813, 814, 815, 816, 817, 818, 819, 820, 821, 822, 823, 824, 825, 826, 827, 828, 829, 830, 831, 832, 833, 834, 835, 836, 837, 838, 839, 840, 841, 842, 843, 844, 845, 846, 847, 848, 849, 850, 851, 852, 853, 854, 855, 856, 857, 858, 859, 860, 861, 862, 863, 864, 867, 868, 869, 870, 871, 872, 873, 874, 875, 877, 878, 879, 881, 882, 883, 884, 885, 886, 887, 888, 889, 890, 891, 892, 893, 894, 895, 896, 898, 899, 900, 901, 902, 903, 904, 905, 906, 907, 909, 910, 911, 912, 913, 914, 915, 916, 917, 918, 919, 920, 921, 922, 923, 924, 925, 926, 927, 928, 929, 930, 931, 932, 933, 934, 935, 936, 938, 939, 940, 941, 942, 943, 944, 945, 946, 947, 948, 949, 950, 951, 952, 953, 954, 955, 956, 958, 959, 960, 961, 962, 963, 964, 965, 966, 967, 968, 969, 970, 971, 972, 973, 974, 975, 976, 977, 978, 979, 980, 981, 982, 983, 984, 985, 986, 987, 989, 990, 991, 992, 993, 994, 995, 996, 997, 998, 999, 1000]\n",
      "Cluster 1 : 1 elems : [2]\n",
      "Cluster 2 : 1 elems : [3]\n",
      "Cluster 27 : 8 elems : [28, 465, 503, 516, 569, 707, 876, 957]\n",
      "Cluster 40 : 1 elems : [41]\n",
      "Cluster 43 : 7 elems : [44, 193, 418, 638, 701, 721, 790]\n",
      "Cluster 103 : 1 elems : [104]\n",
      "Cluster 112 : 1 elems : [113]\n",
      "Cluster 118 : 1 elems : [119]\n",
      "Cluster 129 : 1 elems : [130]\n",
      "Cluster 134 : 1 elems : [135]\n",
      "Cluster 135 : 1 elems : [136]\n",
      "Cluster 505 : 4 elems : [137, 506, 689, 713]\n",
      "Cluster 137 : 1 elems : [138]\n",
      "Cluster 153 : 1 elems : [154]\n",
      "Cluster 295 : 1 elems : [296]\n",
      "Cluster 418 : 2 elems : [364, 419]\n",
      "Cluster 378 : 1 elems : [379]\n",
      "Cluster 401 : 1 elems : [402]\n",
      "Cluster 528 : 1 elems : [529]\n",
      "Cluster 546 : 1 elems : [547]\n",
      "Cluster 563 : 1 elems : [564]\n",
      "Cluster 573 : 1 elems : [574]\n",
      "Cluster 623 : 1 elems : [624]\n",
      "Cluster 936 : 2 elems : [865, 937]\n",
      "Cluster 865 : 1 elems : [866]\n",
      "Cluster 879 : 1 elems : [880]\n",
      "Cluster 896 : 1 elems : [897]\n",
      "Cluster 907 : 1 elems : [908]\n",
      "Cluster 987 : 1 elems : [988]\n",
      "Penalty = 239\n",
      "Time: 39.32912015914917\n"
     ]
    }
   ],
   "source": [
    "process('test_1000.txt', cluster_2, distance_2, 30, 2, 10)"
   ]
  },
  {
   "cell_type": "markdown",
   "metadata": {
    "colab_type": "text",
    "id": "28j0dRM4x79C"
   },
   "source": [
    "## С помощью 3-ей метрики"
   ]
  },
  {
   "cell_type": "code",
   "execution_count": 0,
   "metadata": {
    "colab": {
     "base_uri": "https://localhost:8080/",
     "height": 255
    },
    "colab_type": "code",
    "id": "JjmVmLcxmsWl",
    "outputId": "c83cc308-47ad-415c-9375-ba0f16bc47fd"
   },
   "outputs": [
    {
     "name": "stdout",
     "output_type": "stream",
     "text": [
      "Vertices: 50\n",
      "Edges: 1225\n",
      "Cluster 0 : 10 elems : [1, 2, 6, 11, 12, 18, 23, 25, 26, 36]\n",
      "Cluster 2 : 8 elems : [3, 13, 19, 30, 32, 33, 35, 41]\n",
      "Cluster 20 : 3 elems : [4, 21, 29]\n",
      "Cluster 4 : 1 elems : [5]\n",
      "Cluster 6 : 4 elems : [7, 17, 27, 28]\n",
      "Cluster 7 : 8 elems : [8, 14, 15, 38, 42, 43, 46, 50]\n",
      "Cluster 8 : 10 elems : [9, 10, 20, 34, 37, 40, 44, 45, 48, 49]\n",
      "Cluster 15 : 4 elems : [16, 22, 31, 39]\n",
      "Cluster 23 : 1 elems : [24]\n",
      "Cluster 46 : 1 elems : [47]\n",
      "Penalty = 1.011549677267829\n",
      "Time: 7.947933912277222\n"
     ]
    }
   ],
   "source": [
    "process('test_50.txt', cluster_2, distance_3, 10, 2, 10)"
   ]
  },
  {
   "cell_type": "code",
   "execution_count": 0,
   "metadata": {
    "colab": {
     "base_uri": "https://localhost:8080/",
     "height": 360
    },
    "colab_type": "code",
    "id": "kA3MhaM8nstF",
    "outputId": "0d8e7a95-cbf0-4052-ea51-1c49f366305f"
   },
   "outputs": [
    {
     "name": "stdout",
     "output_type": "stream",
     "text": [
      "Vertices: 400\n",
      "Edges: 79800\n",
      "Cluster 0 : 59 elems : [1, 8, 9, 22, 24, 25, 32, 37, 40, 42, 54, 55, 62, 71, 77, 84, 86, 87, 96, 106, 118, 121, 125, 131, 151, 155, 158, 159, 181, 186, 190, 193, 196, 202, 206, 211, 220, 229, 230, 245, 249, 260, 269, 276, 289, 298, 307, 308, 311, 313, 314, 315, 370, 371, 372, 373, 383, 385, 397]\n",
      "Cluster 1 : 31 elems : [2, 3, 18, 44, 57, 60, 132, 139, 145, 192, 203, 217, 222, 228, 257, 262, 263, 279, 280, 309, 339, 340, 341, 342, 343, 344, 345, 346, 347, 386, 394]\n",
      "Cluster 3 : 53 elems : [4, 15, 16, 27, 29, 35, 43, 48, 56, 59, 61, 65, 68, 78, 90, 94, 104, 105, 129, 141, 152, 153, 154, 182, 187, 191, 197, 200, 201, 204, 215, 219, 225, 240, 252, 254, 270, 277, 285, 303, 304, 305, 312, 317, 318, 325, 327, 352, 353, 368, 377, 381, 389]\n",
      "Cluster 4 : 32 elems : [5, 20, 36, 72, 74, 95, 100, 101, 112, 115, 130, 167, 169, 207, 223, 224, 233, 234, 239, 267, 271, 281, 295, 299, 310, 322, 323, 330, 338, 350, 354, 357]\n",
      "Cluster 5 : 66 elems : [6, 7, 12, 13, 17, 21, 28, 38, 45, 49, 52, 58, 79, 92, 97, 98, 99, 102, 114, 120, 123, 134, 135, 144, 147, 148, 161, 166, 172, 173, 179, 180, 183, 184, 185, 188, 189, 212, 216, 218, 221, 226, 235, 236, 238, 243, 259, 268, 275, 278, 282, 288, 290, 297, 316, 349, 355, 359, 361, 364, 378, 387, 388, 392, 396, 398]\n",
      "Cluster 9 : 32 elems : [10, 64, 70, 73, 103, 107, 108, 109, 110, 111, 113, 116, 117, 119, 124, 128, 138, 146, 174, 175, 178, 210, 242, 250, 274, 283, 291, 294, 296, 363, 384, 395]\n",
      "Cluster 10 : 68 elems : [11, 14, 19, 26, 30, 31, 34, 53, 63, 66, 69, 75, 76, 80, 81, 82, 83, 85, 88, 91, 142, 149, 150, 156, 157, 165, 168, 170, 171, 177, 205, 208, 209, 213, 227, 231, 232, 237, 241, 244, 251, 255, 256, 261, 264, 265, 266, 272, 273, 286, 287, 293, 320, 321, 324, 326, 351, 356, 358, 360, 362, 365, 366, 375, 376, 379, 380, 390]\n",
      "Cluster 22 : 52 elems : [23, 33, 39, 41, 46, 47, 50, 51, 67, 89, 93, 122, 126, 127, 133, 136, 137, 140, 143, 163, 176, 194, 195, 198, 199, 214, 246, 247, 248, 253, 258, 284, 292, 300, 301, 302, 319, 328, 329, 332, 333, 336, 337, 348, 367, 369, 374, 382, 391, 393, 399, 400]\n",
      "Cluster 159 : 1 elems : [160]\n",
      "Cluster 161 : 1 elems : [162]\n",
      "Cluster 163 : 1 elems : [164]\n",
      "Cluster 305 : 1 elems : [306]\n",
      "Cluster 330 : 1 elems : [331]\n",
      "Cluster 333 : 1 elems : [334]\n",
      "Cluster 334 : 1 elems : [335]\n",
      "Penalty = 1.0075308933000682\n",
      "Time: 1052.3470685482025\n"
     ]
    }
   ],
   "source": [
    "process('test_400.txt', cluster_2, distance_3, 15, 2, 10)"
   ]
  },
  {
   "cell_type": "markdown",
   "metadata": {
    "colab_type": "text",
    "id": "2Vwsxp7seyby"
   },
   "source": [
    "## На 1000 вершинах"
   ]
  },
  {
   "cell_type": "code",
   "execution_count": 12,
   "metadata": {
    "colab": {
     "base_uri": "https://localhost:8080/",
     "height": 341
    },
    "colab_type": "code",
    "id": "jVMRMh-BXh42",
    "outputId": "805f02ae-1aa9-4bde-bf0f-fa6ebd9a7592"
   },
   "outputs": [
    {
     "name": "stdout",
     "output_type": "stream",
     "text": [
      "Vertices: 1000\n",
      "Edges: 499500\n"
     ]
    },
    {
     "ename": "KeyboardInterrupt",
     "evalue": "ignored",
     "output_type": "error",
     "traceback": [
      "\u001b[0;31m---------------------------------------------------------------------------\u001b[0m",
      "\u001b[0;31mKeyboardInterrupt\u001b[0m                         Traceback (most recent call last)",
      "\u001b[0;32m<ipython-input-12-81c3e9baabf3>\u001b[0m in \u001b[0;36m<module>\u001b[0;34m()\u001b[0m\n\u001b[0;32m----> 1\u001b[0;31m \u001b[0mprocess\u001b[0m\u001b[0;34m(\u001b[0m\u001b[0;34m'test_1000.txt'\u001b[0m\u001b[0;34m,\u001b[0m \u001b[0mcluster_2\u001b[0m\u001b[0;34m,\u001b[0m \u001b[0mdistance_3\u001b[0m\u001b[0;34m,\u001b[0m \u001b[0;36m50\u001b[0m\u001b[0;34m,\u001b[0m \u001b[0;36m2\u001b[0m\u001b[0;34m,\u001b[0m \u001b[0;36m10\u001b[0m\u001b[0;34m)\u001b[0m\u001b[0;34m\u001b[0m\u001b[0;34m\u001b[0m\u001b[0m\n\u001b[0m",
      "\u001b[0;32m<ipython-input-9-6c2f5addbde3>\u001b[0m in \u001b[0;36mprocess\u001b[0;34m(filename, cluster, distance, clusters_num, min_count, max_count)\u001b[0m\n\u001b[1;32m     43\u001b[0m     \u001b[0mprint\u001b[0m\u001b[0;34m(\u001b[0m\u001b[0;34m'Edges:'\u001b[0m\u001b[0;34m,\u001b[0m \u001b[0mlen\u001b[0m\u001b[0;34m(\u001b[0m\u001b[0medges\u001b[0m\u001b[0;34m)\u001b[0m\u001b[0;34m)\u001b[0m\u001b[0;34m\u001b[0m\u001b[0;34m\u001b[0m\u001b[0m\n\u001b[1;32m     44\u001b[0m \u001b[0;34m\u001b[0m\u001b[0m\n\u001b[0;32m---> 45\u001b[0;31m     \u001b[0mcomponents\u001b[0m\u001b[0;34m,\u001b[0m \u001b[0mpenalty\u001b[0m \u001b[0;34m=\u001b[0m \u001b[0mcluster\u001b[0m\u001b[0;34m(\u001b[0m\u001b[0mvertices\u001b[0m\u001b[0;34m,\u001b[0m \u001b[0medges\u001b[0m\u001b[0;34m,\u001b[0m \u001b[0mclusters_num\u001b[0m\u001b[0;34m,\u001b[0m \u001b[0mdistance\u001b[0m\u001b[0;34m,\u001b[0m \u001b[0mwords_num\u001b[0m\u001b[0;34m)\u001b[0m\u001b[0;34m\u001b[0m\u001b[0;34m\u001b[0m\u001b[0m\n\u001b[0m\u001b[1;32m     46\u001b[0m \u001b[0;34m\u001b[0m\u001b[0m\n\u001b[1;32m     47\u001b[0m     \u001b[0mcomp\u001b[0m \u001b[0;34m=\u001b[0m \u001b[0mcomponents\u001b[0m\u001b[0;34m.\u001b[0m\u001b[0mresult\u001b[0m\u001b[0;34m(\u001b[0m\u001b[0;34m)\u001b[0m\u001b[0;34m\u001b[0m\u001b[0;34m\u001b[0m\u001b[0m\n",
      "\u001b[0;32m<ipython-input-8-d8379b2048e7>\u001b[0m in \u001b[0;36mcluster_2\u001b[0;34m(ver, eds, num_of_clusters, dist, num_words)\u001b[0m\n\u001b[1;32m     13\u001b[0m             \u001b[0;32mfor\u001b[0m \u001b[0mid_v\u001b[0m\u001b[0;34m,\u001b[0m \u001b[0mv\u001b[0m \u001b[0;32min\u001b[0m \u001b[0menumerate\u001b[0m\u001b[0;34m(\u001b[0m\u001b[0mver\u001b[0m\u001b[0;34m)\u001b[0m\u001b[0;34m:\u001b[0m\u001b[0;34m\u001b[0m\u001b[0;34m\u001b[0m\u001b[0m\n\u001b[1;32m     14\u001b[0m                 \u001b[0;32mif\u001b[0m \u001b[0mid_v\u001b[0m \u001b[0;32mnot\u001b[0m \u001b[0;32min\u001b[0m \u001b[0mid_centers\u001b[0m\u001b[0;34m:\u001b[0m\u001b[0;34m\u001b[0m\u001b[0;34m\u001b[0m\u001b[0m\n\u001b[0;32m---> 15\u001b[0;31m                     \u001b[0md\u001b[0m \u001b[0;34m=\u001b[0m \u001b[0mdist\u001b[0m\u001b[0;34m(\u001b[0m\u001b[0mv\u001b[0m\u001b[0;34m,\u001b[0m \u001b[0mver\u001b[0m\u001b[0;34m[\u001b[0m\u001b[0mcen\u001b[0m\u001b[0;34m]\u001b[0m\u001b[0;34m,\u001b[0m \u001b[0mnum_words\u001b[0m\u001b[0;34m)\u001b[0m\u001b[0;34m\u001b[0m\u001b[0;34m\u001b[0m\u001b[0m\n\u001b[0m\u001b[1;32m     16\u001b[0m                     \u001b[0;32mif\u001b[0m \u001b[0md\u001b[0m \u001b[0;34m>\u001b[0m \u001b[0mtemp_max\u001b[0m\u001b[0;34m:\u001b[0m\u001b[0;34m\u001b[0m\u001b[0;34m\u001b[0m\u001b[0m\n\u001b[1;32m     17\u001b[0m                         \u001b[0mtemp_max\u001b[0m \u001b[0;34m=\u001b[0m \u001b[0md\u001b[0m\u001b[0;34m\u001b[0m\u001b[0;34m\u001b[0m\u001b[0m\n",
      "\u001b[0;31mKeyboardInterrupt\u001b[0m: "
     ]
    }
   ],
   "source": [
    "process('test_1000.txt', cluster_2, distance_3, 50, 2, 10)"
   ]
  },
  {
   "cell_type": "code",
   "execution_count": 0,
   "metadata": {
    "colab": {},
    "colab_type": "code",
    "id": "W8cuk7uVerXP"
   },
   "outputs": [],
   "source": []
  }
 ],
 "metadata": {
  "colab": {
   "collapsed_sections": [],
   "name": "klaster-2.ipynb",
   "provenance": []
  },
  "kernelspec": {
   "display_name": "Python 3",
   "language": "python",
   "name": "python3"
  },
  "language_info": {
   "codemirror_mode": {
    "name": "ipython",
    "version": 3
   },
   "file_extension": ".py",
   "mimetype": "text/x-python",
   "name": "python",
   "nbconvert_exporter": "python",
   "pygments_lexer": "ipython3",
   "version": "3.6.9"
  }
 },
 "nbformat": 4,
 "nbformat_minor": 1
}
