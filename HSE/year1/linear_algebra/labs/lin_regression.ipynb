{
 "cells": [
  {
   "cell_type": "markdown",
   "metadata": {},
   "source": [
    "# Лабораторная работа 2\n",
    "\n",
    "**Внимание!** За эту работу можно получить не более 10 баллов. Так что вы можете выбрать, какие из заданий вам более интересны, и делать их. Оценка будет равна минимуму из 10 и полученного вами числа баллов.\n",
    "\n",
    "## Линейная регрессия"
   ]
  },
  {
   "cell_type": "markdown",
   "metadata": {},
   "source": [
    "### Метод наименьших квадратов: постановка задачи\n",
    "\n",
    "Рассмотрим систему уравнений $Xa = y$, в которой $a$ --- столбец неизвестных. Её можно переписать в векторном виде\n",
    "$$x_1 a_1 + x_2 a_2 + \\ldots + x_k a_k = y,$$\n",
    "где $x_1,\\ldots,x_n$ --- столбцы матрицы $X$. Таким образом, решить исходную систему означает найти линейную комбинацию векторов $x_1,\\ldots,x_n$, равную правой части. Но что делать, если такой линейной комбинации не существует? Геометрически это означает, что вектор $y$ не лежит в подпространстве $U = \\langle x_1,\\ldots, x_k\\rangle$. В этом случае мы можем найти *псевдорешение*: вектор коэффициентов $\\hat{a}$, для которого линейная комбинация $x_1 \\hat{a}_1 + x_2 \\hat{a}_2 + \\ldots + x_k \\hat{a}_k$ хоть и не равна в точности $y$, но является наилучшим приближением --- то есть ближайшей к $y$ точкой $\\hat{y}$ подпространства $U$ (иными словами, ортогональной проекцией $y$ на это подпростанство). Итак, цель наших исканий можно сформулировать двумя эквивалентными способами:\n",
    "\n",
    "1. Найти вектор $\\hat{a}$, для которого длина разности $|X\\hat{a} - y|$ минимальна (отсюда название \"метод наименьших квадратов\");\n",
    "2. Найти ортогональную проекцию $\\hat{y}$ вектора $y$ на подпространство $U$ и представить её в виде $X\\hat{a}$.\n",
    "\n",
    "Далее мы будем предполагать, что векторы $x_1,\\ldots,x_n$ линейно независимы (если нет, то сначала имеет смысл выделить максимальную линейно независимую подсистему).\n",
    "\n",
    "На лекциях было показано, что проекция вектора $y$ на подпространство $U = \\langle x_1,\\ldots, x_k\\rangle$, записывается в виде\n",
    "$$\\hat{y} = X\\left(X^TX\\right)^{-1}X^Ty,$$\n",
    "и, соответственно, искомый вектор $\\hat{a}$ равен\n",
    "$$\\hat{a} = \\left(X^TX\\right)^{-1}X^Ty.$$"
   ]
  },
  {
   "cell_type": "markdown",
   "metadata": {},
   "source": [
    "### Задача линейной регрессии\n",
    "\n",
    "Начнём с примера. Допустим, вы хотите найти зависимость среднего балла S студента ФКН от его роста H, веса W, длины волос L и N - количества часов, которые он ежедневно посвящает учёбе. Представьте, что мы измерили все эти параметры для $n$ студентов и получили наборы значений: $S_1,\\ldots, S_n$, $H_1,\\ldots, H_n$ и так далее.\n",
    "\n",
    "Тут можно подбирать много разных умных моделей, но начать имеет смысл с самой простой, линейной:\n",
    "$$S = a_1H + a_2W + a_3L + a_4N + a_5.$$\n",
    "Конечно, строгой линейной зависимости нет (иначе можно было бы радостно упразднить экзамены), но мы можем попробовать подобрать коэффициенты $a_1, a_2, a_3, a_4, a_5$, для которых отклонение правой части от наблюдаемых было бы наименьшим:\n",
    "$$\\sum_{i=1}^n\\left(S_i - ( a_1H_i + a_2W_i + a_3L_i + a_4N_i + a_5)\\right)^2 \\longrightarrow \\min$$\n",
    "И сразу видно, что мы получили задачу на метод наименьших квадратов! А именно, у нас\n",
    "$$X =\n",
    "\\begin{pmatrix}\n",
    "H_1 & W_1 & L_1 & N_1 & 1\\\\\n",
    "H_2 & W_2 & L_2 & N_2 & 1\\\\\n",
    "\\dots & \\dots & \\dots & \\dots & \\dots \\\\\n",
    "H_n & W_n & L_n & N_n & 1\n",
    "\\end{pmatrix},\\qquad y=\n",
    "\\begin{pmatrix}\n",
    "S_1\\\\ S_2\\\\ \\vdots \\\\ S_n\n",
    "\\end{pmatrix}$$\n",
    "\n",
    "Решая эту задачу с помощью уже известных формул, получаем оценки коэффициентов $\\hat{a}_i$ ($i = 1\\ldots,5$)."
   ]
  },
  {
   "cell_type": "markdown",
   "metadata": {},
   "source": [
    "Теперь проговорим общую постановку задачи линейной регрессии. У нас есть $k$ переменных $x_1,\\ldots,x_k$ (\"регрессоров\"), через которые мы хотим выразить \"объясняемую переменную\" $y$:\n",
    "$$y = a_1x_1 + a_2x_2 + \\ldots + a_kx_k$$\n",
    "Значения всех переменных мы измерили $n$ раз (у $n$ различных объектов,  в $n$ различных моментов времени - это зависит от задачи). Подставим эти данные в предыдущее равенство:\n",
    "$$\\begin{pmatrix}\n",
    "y_1\\\\ y_2 \\\\ \\vdots \\\\ y_n\n",
    "\\end{pmatrix} = \n",
    "a_1\\begin{pmatrix}\n",
    "x_{11} \\\\ x_{21} \\\\ \\vdots \\\\ x_{n1} \\end{pmatrix} + a_2\\begin{pmatrix}\n",
    "x_{12} \\\\ x_{22} \\\\ \\vdots \\\\ x_{n2} \\end{pmatrix} + \\ldots + a_k\\begin{pmatrix}\n",
    "x_{1k} \\\\ x_{2k} \\\\ \\vdots \\\\ x_{nk} \\end{pmatrix}$$\n",
    "(здесь $x_{ij}$ - это значение $j$-го признака на $i$-м измерении). Это удобно переписать в матричном виде:\n",
    "$$\\begin{pmatrix}\n",
    "x_{11} & x_{12} & \\ldots & x_{1k}\\\\\n",
    "x_{21} & x_{22} & \\ldots & x_{2k}\\\\\n",
    "\\dots & \\dots & \\dots & \\dots\\\\\n",
    "x_{n1} & x_{n2} & \\ldots & x_{nk}\n",
    "\\end{pmatrix} \\cdot\n",
    "\\begin{pmatrix}\n",
    "a_1 \\\\ a_2 \\\\ \\vdots \\\\ a_k\n",
    "\\end{pmatrix} = \n",
    "\\begin{pmatrix}\n",
    "y_1 \\\\ y_2 \\\\ \\vdots \\\\ y_n\n",
    "\\end{pmatrix}$$\n",
    "или коротко $Xa = y$. Поскольку на практике эта система уравнений зачастую не имеет решения (ибо зависимости в жизни редко бывают действительно линейными), методом наименьших квадратов ищется псевдорешение."
   ]
  },
  {
   "cell_type": "markdown",
   "metadata": {},
   "source": [
    "### Оценка качества. Обобщающая способность. Обучение и тест \n",
    "\n",
    "После того, как вы построили регрессию и получили какую-то зависимость объясняемой переменной от регрессоров, настаёт время оценить качество регрессии. Есть много разных функционалов качества; мы пока будем говорить только о самом простом и очевидном из них: о среднеквадратичной ошибке (mean square error). Она равна\n",
    "$$\\frac1{n}|X\\hat{a} - y|^2 = \\frac1{n}\\sum_{i=1}^n\\left(\\hat{a}_1x_{i1} + \\hat{a}_2x_{i2} + \\ldots + \\hat{a}_kx_{ik} - y_i\\right)^2$$\n",
    "\n",
    "В целом, хочется искать модели с наименьшей mean square error на имеющихся данных. Однако слишком фанатичная гонка за минимизацией ошибки может привести к печальным последствиям. Например, если мы приближаем функцию одной переменной по значениям в $n$ точках, то наилучшей с точки зрения этой ошибки моделью будет многочлен $(n-1)$-й степени, для которого эта ошибка будет равна нулю.  Тем не менее, вряд ли истинная зависимость имеет вид многочлена большой степени. Более того, значения вам скорее всего даны с погрешностью, то есть вы подогнали вашу модель под свои зашумлённые данные, но на любых других данных (то есть в других точках) точность, скорее всего, окажется совсем не такой хорошей. Этот эффект называют **переобучением**; говорят также, что **обобщающая способность** модели оказалась скверной.\n",
    "\n",
    "Чтобы не попадать в эту ловушку, данные обычно делят на обучающие (по которым строят модель и оценивают коэффициенты) и тестовые. Лучшей стоит счесть ту модель, для которой значение функционала качества будет меньше."
   ]
  },
  {
   "cell_type": "markdown",
   "metadata": {},
   "source": [
    "### Задание 1. Метод наименьших квадратов (4 балла)"
   ]
  },
  {
   "cell_type": "markdown",
   "metadata": {},
   "source": [
    "Скачайте файлы ``train.txt`` и ``test.txt``. В первом из них находится обучающая выборка, а во втором - тестовая. Каждый из файлов содержит два столбца чисел, разделённых пробелами: в первом - $n$ точек (значения аргумента $x$), во втором - значения некоторой функции $y = f(x)$ в этих точках, искажённые случайным шумом. Ваша задача - по обучающей выборке подобрать функцию $y = g(x)$, пристойно приближающую неизвестную вам зависимость."
   ]
  },
  {
   "cell_type": "markdown",
   "metadata": {},
   "source": [
    "Загрузим обучающие и тестовые данные (не забудьте ввести правильный путь!)."
   ]
  },
  {
   "cell_type": "code",
   "execution_count": 305,
   "metadata": {},
   "outputs": [],
   "source": [
    "import numpy\n",
    "data_train = numpy.loadtxt('train.txt', delimiter=',')\n",
    "data_test = numpy.loadtxt('test.txt', delimiter=',')"
   ]
  },
  {
   "cell_type": "markdown",
   "metadata": {},
   "source": [
    "Разделим значения $x$ и $y$"
   ]
  },
  {
   "cell_type": "code",
   "execution_count": 306,
   "metadata": {},
   "outputs": [
    {
     "name": "stdout",
     "output_type": "stream",
     "text": [
      "Обучающая выборка:\n",
      "-----------------------------\n",
      "Значение x\tЗначение f(x)\n",
      "-0.2 \t\t 4.10083261\n",
      "-0.14 \t\t 4.75632474\n",
      "-0.08 \t\t 4.16278839\n",
      "-0.02 \t\t 4.94568077\n",
      "0.04 \t\t 4.9964461\n",
      "0.1 \t\t 3.67344585\n",
      "0.16 \t\t 4.07405522\n",
      "0.22 \t\t 4.12650853\n",
      "0.28 \t\t 5.25101279\n",
      "0.34 \t\t 5.69160283\n",
      "0.4 \t\t 5.06788376\n",
      "0.46 \t\t 6.07176274\n",
      "0.52 \t\t 5.76661215\n",
      "0.58 \t\t 5.76998646\n",
      "0.64 \t\t 5.39647832\n",
      "0.7 \t\t 5.46744837\n",
      "0.76 \t\t 5.46450349\n",
      "0.82 \t\t 7.23168494\n",
      "0.88 \t\t 6.09781368\n",
      "0.94 \t\t 7.0778812\n",
      "1.0 \t\t 7.05182585\n",
      "\n",
      "Тестовая выборка:\n",
      "-----------------------------\n",
      "Значение x\tЗначение f(x)\n",
      "-0.3 \t\t 4.22468198\n",
      "-0.23 \t\t 3.6806801\n",
      "-0.16 \t\t 4.86193723\n",
      "-0.09 \t\t 4.12182311\n",
      "-0.02 \t\t 3.89129282\n",
      "0.05 \t\t 4.77528678\n",
      "0.12 \t\t 4.84650657\n",
      "0.19 \t\t 3.29232057\n",
      "0.26 \t\t 3.77839618\n",
      "0.33 \t\t 4.16851703\n",
      "0.4 \t\t 5.43651587\n",
      "0.47 \t\t 4.74066998\n",
      "0.54 \t\t 5.45091177\n",
      "0.61 \t\t 5.23766541\n",
      "0.68 \t\t 5.84027585\n",
      "0.75 \t\t 5.79299791\n",
      "0.82 \t\t 7.12448917\n",
      "0.89 \t\t 6.11752856\n",
      "0.96 \t\t 6.00190132\n",
      "1.03 \t\t 7.26882794\n",
      "1.1 \t\t 7.48272721\n"
     ]
    }
   ],
   "source": [
    "X_train = data_train[:,0]\n",
    "y_train = data_train[:,1]\n",
    "\n",
    "\n",
    "n = len(X_train) \n",
    "\n",
    "print(\"Обучающая выборка:\")\n",
    "print(\"-----------------------------\")\n",
    "print(\"Значение x\\tЗначение f(x)\")\n",
    "\n",
    "for i in range(n):\n",
    "    print(X_train[i],\"\\t\\t\", y_train[i])\n",
    "\n",
    "    \n",
    "X_test = data_test[:,0]\n",
    "y_test = data_test[:,1]\n",
    "\n",
    "print(\"\\nТестовая выборка:\")\n",
    "print(\"-----------------------------\")\n",
    "print(\"Значение x\\tЗначение f(x)\")\n",
    "\n",
    "for i in range(n):\n",
    "    print(X_test[i],\"\\t\\t\", y_test[i])"
   ]
  },
  {
   "cell_type": "markdown",
   "metadata": {},
   "source": [
    "Найдите с помощью метода наименьших квадратов линейную функцию ($y = kx + b$), наилучшим образом приближающую неизвестную зависимость. Полезные функции: ``numpy.ones(n)`` для создания массива из единиц длины $n$ и ``numpy.concatenate((А, В), axis=1)`` для слияния двух матриц по столбцам (пара ``А`` и ``В`` превращается в матрицу ``[A B]``)."
   ]
  },
  {
   "cell_type": "code",
   "execution_count": 307,
   "metadata": {},
   "outputs": [
    {
     "name": "stdout",
     "output_type": "stream",
     "text": [
      "Будем решать СЛУ (где k и b - неизвестные) с помощью метода наименьших квадратов\n",
      "\n",
      "Матрица коэффициентов\n",
      " |k\t |b  \n",
      "[[-0.2   1.  ]\n",
      " [-0.14  1.  ]\n",
      " [-0.08  1.  ]\n",
      " [-0.02  1.  ]\n",
      " [ 0.04  1.  ]\n",
      " [ 0.1   1.  ]\n",
      " [ 0.16  1.  ]\n",
      " [ 0.22  1.  ]\n",
      " [ 0.28  1.  ]\n",
      " [ 0.34  1.  ]\n",
      " [ 0.4   1.  ]\n",
      " [ 0.46  1.  ]\n",
      " [ 0.52  1.  ]\n",
      " [ 0.58  1.  ]\n",
      " [ 0.64  1.  ]\n",
      " [ 0.7   1.  ]\n",
      " [ 0.76  1.  ]\n",
      " [ 0.82  1.  ]\n",
      " [ 0.88  1.  ]\n",
      " [ 0.94  1.  ]\n",
      " [ 1.    1.  ]]\n",
      "\n",
      "Посчитаем ручками k и b\n",
      "k = [[2.2791345]] \tb = [[4.43323091]]\n",
      "Все сходится :)\n",
      "\n",
      "Наша линейная функция вида (y=kx+b) равна:\n",
      "f(x)=[[2.2791345]]x + [[4.43323091]]\n"
     ]
    }
   ],
   "source": [
    "print(\"Будем решать СЛУ (где k и b - неизвестные) с помощью метода наименьших квадратов\\n\")\n",
    "\n",
    "b_coef = numpy.ones((n, 1))\n",
    "k_coef = numpy.matrix(X_train)\n",
    "k_coef = k_coef.transpose()\n",
    "y = numpy.matrix(y_train)\n",
    "mat_coef = numpy.concatenate((k_coef, b_coef), axis=1)\n",
    "\n",
    "print(\"Матрица коэффициентов\\n |k\\t |b  \")\n",
    "print(mat_coef)\n",
    "\n",
    "\n",
    "print(\"\\nПосчитаем ручками k и b\")\n",
    "my_answer = ((mat_coef.transpose() * mat_coef).I) * mat_coef.transpose() * y.transpose()\n",
    "print(\"k =\", my_answer[0], \"\\tb =\", my_answer[1])\n",
    "\n",
    "print(\"Все сходится :)\\n\")\n",
    "print(\"Наша линейная функция вида (y=kx+b) равна:\")\n",
    "print(\"f(x)=\", my_answer[0],\"x + \", my_answer[1], sep=\"\")  "
   ]
  },
  {
   "cell_type": "markdown",
   "metadata": {},
   "source": [
    "Нарисуйте на плоскости точки $(x_i, y_i)$ и полученную линейную функцию. Глядя на данные, подумайте, многочленом какой степени можно было бы лучше всего приблизить эту функцию. Найдите этот многочлен и нарисуйте его график."
   ]
  },
  {
   "cell_type": "code",
   "execution_count": 308,
   "metadata": {},
   "outputs": [
    {
     "data": {
      "image/png": "[encoded data removed]",
      "text/plain": [
       "<Figure size 432x288 with 1 Axes>"
      ]
     },
     "metadata": {
      "needs_background": "light"
     },
     "output_type": "display_data"
    },
    {
     "name": "stdout",
     "output_type": "stream",
     "text": [
      "Наша ф-ия\n",
      "f(x)=[[2.2791345]]*x + [[4.43323091]]\n",
      "Чуть ниже я найду многочлен, который лучше всего приближает эту функцию\n"
     ]
    }
   ],
   "source": [
    "\n",
    "x = numpy.array([-0.2, 1.1]) \n",
    "\n",
    "import matplotlib.pyplot as plt\n",
    "\n",
    "xmin = -0.2\n",
    "xmax = 1.\n",
    "dx = 0.06\n",
    "\n",
    "plt.plot(X_train, y_train, 'o', label='тренировачные данныеplt.figure(figsize=(10,10))', markersize=5)\n",
    "\n",
    "plt.plot(x, float(my_answer[0])*x + float(my_answer[1]), 'r', label='наша линейная функция')\n",
    "\n",
    "plt.legend() \n",
    "plt.show()\n",
    "\n",
    "print(\"Наша ф-ия\\nf(x)=\", my_answer[0], \"*x + \", my_answer[1], sep=\"\",)\n",
    "print(\"Чуть ниже я найду многочлен, который лучше всего приближает эту функцию\")"
   ]
  },
  {
   "cell_type": "markdown",
   "metadata": {},
   "source": [
    "Для $k = 1,2,3,\\ldots,10$ найдите многочлен $\\hat{f}_k$ степени $k$, наилучшим образом приближающий неизвестную зависимость. Для каждого из них найдите среднеквадратическую ошибку на обучающих данных и на тестовых данных: $\\frac1{n}\\sum_{i=1}^n\\left( \\hat{f}_k(x_i) - y_i \\right)^2$ (в первом случае сумма ведётся по парам $(x_i, y_i)$ из обучающих данных, а во втором - по парам из тестовых данных).\n",
    "\n",
    "Для $k = 1,2,3,4,6$ напечатайте коэффициенты полученных многочленов и нарисуйте их графики на одном чертеже вместе с точками $(x_i, y_i)$ (возможно, график стоит сделать побольше; это делается командой `plt.figure(figsize=(width, height))`)."
   ]
  },
  {
   "cell_type": "code",
   "execution_count": 309,
   "metadata": {},
   "outputs": [
    {
     "name": "stdout",
     "output_type": "stream",
     "text": [
      "Напечатаем коэффициенты полученных многочленов\n",
      "при k = 1:\n",
      "[[2.2791345]]x^1 + [[4.43323091]]x^0 \n",
      "\n",
      "при k = 2:\n",
      "[[1.40162851]]x^2 + [[1.15783169]]x^1 + [[4.4724765]]x^0 \n",
      "\n",
      "при k = 3:\n",
      "[[-0.3817686]]x^3 + [[1.85975084]]x^2 + [[1.06501611]]x^1 + [[4.46073636]]x^0 \n",
      "\n",
      "при k = 4:\n",
      "[[7.9184747]]x^4 + [[-13.05132812]]x^3 + [[6.79409178]]x^2 + [[1.17180239]]x^1 + [[4.34116612]]x^0 \n",
      "\n",
      "при k = 6:\n",
      "[[-229.97013341]]x^6 + [[581.45329822]]x^5 + [[-481.51013286]]x^4 + [[121.25709712]]x^3 + [[16.00290399]]x^2 + [[-4.59717932]]x^1 + [[4.38379501]]x^0 \n",
      "\n",
      "Среднеквадратическая ошибка на обучающих данных\n",
      "-----------------------------------------------\n",
      "При k = 1 \tОшибка = [[0.29689663]]\n",
      "При k = 2 \tОшибка = [[0.26969892]]\n",
      "При k = 3 \tОшибка = [[0.26949719]]\n",
      "При k = 4 \tОшибка = [[0.26106653]]\n",
      "При k = 5 \tОшибка = [[0.24998505]]\n",
      "При k = 6 \tОшибка = [[0.18829349]]\n",
      "При k = 7 \tОшибка = [[0.18539621]]\n",
      "При k = 8 \tОшибка = [[0.15905557]]\n",
      "При k = 9 \tОшибка = [[0.15847184]]\n",
      "При k = 10 \tОшибка = [[0.15316612]]\n",
      "\n",
      "Среднеквадратическая ошибка на тестовых данных\n",
      "-----------------------------------------------\n",
      "При k = 1 \tОшибка = [[0.4351202]]\n",
      "При k = 2 \tОшибка = [[0.35647629]]\n",
      "При k = 3 \tОшибка = [[0.35534646]]\n",
      "При k = 4 \tОшибка = [[0.44172702]]\n",
      "При k = 5 \tОшибка = [[0.5579732]]\n",
      "При k = 6 \tОшибка = [[2.58169293]]\n",
      "При k = 7 \tОшибка = [[2.51578286]]\n",
      "При k = 8 \tОшибка = [[4.35728829]]\n",
      "При k = 9 \tОшибка = [[4.77632414]]\n",
      "При k = 10 \tОшибка = [[14.63365847]]\n",
      "\n",
      "Найдем многолчен, наилучшим образом приближающий неизвестную зависимость.\n",
      "\n",
      "На обучающей выборке:\n",
      "Многочлен степени k = 10  минимальная ошибка = [[0.15316612]]\n",
      "[[-9818.64506805]]x^10 + [[40177.79944559]]x^9 + [[-63621.42533726]]x^8 + [[46686.98359535]]x^7 + [[-12970.05235651]]x^6 + [[-1660.81787969]]x^5 + [[1201.95987409]]x^4 + [[44.93421778]]x^3 + [[-36.17545342]]x^2 + [[-2.15981459]]x^1 + [[4.66917256]]x^0 \n",
      "\n",
      "На тестовой выборке:\n",
      "Многочлен степени k = 3  минимальная ошибка = [[0.35534646]]\n",
      "[[-0.3817686]]x^3 + [[1.85975084]]x^2 + [[1.06501611]]x^1 + [[4.46073636]]x^0 "
     ]
    },
    {
     "data": {
      "image/png": "[encoded data removed]",
      "text/plain": [
       "<Figure size 720x720 with 1 Axes>"
      ]
     },
     "metadata": {
      "needs_background": "light"
     },
     "output_type": "display_data"
    }
   ],
   "source": [
    "plt.figure(figsize=(10,10))\n",
    "temp = list(X_train)\n",
    "const_x = list(X_train)\n",
    "\n",
    "y = numpy.matrix(y_train)\n",
    "x1_coef = numpy.matrix(X_train)\n",
    "temp_mat= numpy.ones((n, 1))\n",
    "\n",
    "\n",
    "min_mis_train = 1000000\n",
    "min_mis_test = 1000000\n",
    "\n",
    "best_pol_train = list()\n",
    "best_pol_test = list()\n",
    "\n",
    "all_mistakes_train = list()\n",
    "all_mistakes_test = list()\n",
    "\n",
    "def polynomial(func, x):\n",
    "    summa = 0\n",
    "    stepen = len(func) - 1 \n",
    "    for i in range(stepen + 1):\n",
    "        summa+=func[i] * (pow(x, stepen - i))\n",
    "    return summa\n",
    "\n",
    "print(\"Напечатаем коэффициенты полученных многочленов\")\n",
    "\n",
    "functions = list()\n",
    "import matplotlib.pyplot as plt\n",
    "\n",
    "for i in range(1, 11):\n",
    "    temp_x = numpy.matrix(temp).transpose()\n",
    "    temp_mat = numpy.concatenate((temp_x, temp_mat), axis=1)\n",
    "    k_answer = ((temp_mat.transpose() * temp_mat).I) * temp_mat.transpose() * y.transpose()\n",
    "    if i != 5 and i < 7:\n",
    "        tempik = list()\n",
    "        print(\"при k = \", i, \":\", sep=\"\")\n",
    "        for j in range(i + 1):\n",
    "            if j != 0:\n",
    "                print(\"+ \", end=\"\")\n",
    "            print(k_answer[j],\"x^\", i - j, \" \", sep=\"\", end=\"\")\n",
    "        print(\"\\n\")\n",
    "        for delta in range(n):\n",
    "            tempik.append(polynomial(k_answer, X_test[delta])[0, 0])\n",
    "        k_k = numpy.linspace(-0.2, 1, 200)\n",
    "        k_kkk = list()\n",
    "        for a in k_k:\n",
    "            k_kkk.append(polynomial(k_answer, a)[0,0])\n",
    "        plt.plot(k_k, k_kkk, label = (\"при k = \", i))\n",
    "\n",
    "                        \n",
    "    mistake = 0\n",
    "    \n",
    "    for delta in range(n):\n",
    "        mistake += (polynomial(k_answer, X_train[delta]) - y_train[delta])**2\n",
    "    mistake /= n\n",
    "\n",
    "    all_mistakes_train.append(mistake)\n",
    "    if min_mis_train > mistake:\n",
    "        best_pol_train = k_answer\n",
    "        min_mis_train = mistake\n",
    "    test_mis = 0\n",
    "    for delta in range(n):\n",
    "        test_mis += (polynomial(k_answer, X_test[delta]) - y_test[delta])**2\n",
    "    test_mis /= len(y_test)\n",
    "    all_mistakes_test.append(test_mis)\n",
    "    if min_mis_test > test_mis:\n",
    "        best_pol_test = k_answer\n",
    "        min_mis_test = test_mis\n",
    "    for x in range(len(temp)):\n",
    "        temp[x] *= const_x[x]\n",
    "        \n",
    "\n",
    "print(\"Среднеквадратическая ошибка на обучающих данных\")\n",
    "print(\"-----------------------------------------------\")\n",
    "for i in range(1, 11):\n",
    "    print(\"При k =\", i, \"\\tОшибка =\", all_mistakes_train[i - 1])\n",
    "\n",
    "\n",
    "print(\"\\nСреднеквадратическая ошибка на тестовых данных\")\n",
    "print(\"-----------------------------------------------\")\n",
    "for i in range(1, 11):\n",
    "    print(\"При k =\", i, \"\\tОшибка =\", all_mistakes_test[i - 1])\n",
    "\n",
    "print(\"\\nНайдем многолчен, наилучшим образом приближающий неизвестную зависимость.\")\n",
    "\n",
    "print(\"\\nНа обучающей выборке:\\nМногочлен степени k =\", len(best_pol_train) - 1, \" минимальная ошибка =\", min_mis_train)\n",
    "\n",
    "for j in range(len(best_pol_train)):\n",
    "        if j != 0:\n",
    "            print(\"+ \", end=\"\")\n",
    "        print(best_pol_train[j],\"x^\", len(best_pol_train) - j - 1, \" \", sep=\"\", end=\"\")\n",
    "\n",
    "print(\"\\n\\nНа тестовой выборке:\\nМногочлен степени k =\", len(best_pol_test) - 1, \" минимальная ошибка =\", min_mis_test)\n",
    "\n",
    "for j in range(len(best_pol_test)):\n",
    "        if j != 0:\n",
    "            print(\"+ \", end=\"\")\n",
    "        print(best_pol_test[j],\"x^\",len(best_pol_test) - j - 1, \" \", sep=\"\", end=\"\")\n",
    "plt.grid(True)\n",
    "plt.plot(X_train, y_train, 'o', label='train points', markersize=5)\n",
    "plt.legend(prop = {'size' : 12})\n",
    "plt.show()"
   ]
  },
  {
   "cell_type": "markdown",
   "metadata": {},
   "source": [
    "Что происходит с ошибкой при росте степени многочлена? Казалось бы, чем больше степень, тем более сложным будет многочлен и тем лучше он будет приближать нашу функцию. Подтверждают ли это ваши наблюдения? Как вам кажется, чем объясняется поведение ошибки на тестовых данных при $k = 10$?"
   ]
  },
  {
   "cell_type": "markdown",
   "metadata": {},
   "source": [
    "На обучающих данных при росте многочлена до определенной степени ошибка уменьшается (далее может происходить переобучение модели). Поведение ошибки на тестовых данных при k=10 объсняется тем, что мы усложняем модель именно на  тренировочных данных, а они также как и тестовые зашумлены, тем самым уменьшая ошибку на тренировочных данных, мы переобучаем (как в теории выше) нашу модель и увеличиваем ошибку на тестовых данных (Данные зашумлены + эффект переобучения)"
   ]
  },
  {
   "cell_type": "markdown",
   "metadata": {},
   "source": [
    "### Задание 2. Линейная регрессия (4 балла)"
   ]
  },
  {
   "cell_type": "markdown",
   "metadata": {},
   "source": [
    "Скачайте файлы ``flats_moscow_mod.txt`` и ``flats_moscow_description.txt``. В первом из них содержатся данные о квартирах в Москве. Каждая строка содержит шесть характеристик некоторой квартиры, разделённые знаками табуляции; в первой строке записаны кодовые названия характеристик. Во втором файле приведены краткие описания признаков. Вашей задачей будет построить с помощью метода наименьших квадратов (линейную) зависимость между ценой квартиры и остальными доступными параметрами.\n",
    "\n",
    "С помощью известных вам формул найдите регрессионные коэффициенты. Какой смысл имеют их знаки? Согласуются ли они с вашими представлениями о жизни?\n",
    "\n",
    "Оцените качество приближения, вычислив среднеквадратическую ошибку."
   ]
  },
  {
   "cell_type": "code",
   "execution_count": 310,
   "metadata": {},
   "outputs": [
    {
     "name": "stdout",
     "output_type": "stream",
     "text": [
      "Регрессионные коэффициенты\n",
      "\n",
      "totsp – общая площадь квартиры, кв.м. \t 1.5546289114815066 \n",
      "tlivesp - жилая площадь квартиры, кв.м.  1.1743420873594124 \n",
      "kitsp - площадь кухни, кв.м. \t\t 1.757282240136656 \n",
      "dist - расстояние от центра в км \t -3.9160762167813097 \n",
      "metrdist - расстояние до метро в минутах -1.5515698759826493\n",
      "\n",
      "Среднеквадратическую ошибка =  [[936.22461581]]\n"
     ]
    }
   ],
   "source": [
    "import numpy\n",
    "data = numpy.genfromtxt('flats_moscow_mod.txt', skip_header=1).T\n",
    "data_price = data[0]\n",
    "data_flats = data[1:].T\n",
    "parametrs = np.linalg.inv(data_flats.T.dot(data_flats)).dot(data_flats.T).dot(data_price.transpose())\n",
    "\n",
    "def pol(mas, x):\n",
    "    summa = 0;\n",
    "    for i in range(len(mas)):\n",
    "        summa += mas[i] * x[i]\n",
    "    return summa\n",
    "\n",
    "for delta in range(len(data_price)):\n",
    "    mistake += (pol(parametrs, data_flats[delta]) - data_price[delta])**2\n",
    "mistake /= len(data_price)\n",
    "\n",
    "\n",
    "print(\"Регрессионные коэффициенты\")\n",
    "print(\"\\ntotsp – общая площадь квартиры, кв.м. \\t\",parametrs[0],\n",
    "      \"\\ntlivesp - жилая площадь квартиры, кв.м. \",parametrs[1],\n",
    "      \"\\nkitsp - площадь кухни, кв.м. \\t\\t\",parametrs[2],\n",
    "      \"\\ndist - расстояние от центра в км \\t\",parametrs[3],\n",
    "      \"\\nmetrdist - расстояние до метро в минутах\",parametrs[4])\n",
    "print(\"\\nСреднеквадратическую ошибка = \", mistake)\n",
    "ms = mistake"
   ]
  },
  {
   "cell_type": "markdown",
   "metadata": {
    "collapsed": true
   },
   "source": [
    "### Усложнение модели"
   ]
  },
  {
   "cell_type": "markdown",
   "metadata": {},
   "source": [
    "Конечно, никто не гарантирует, что объясняемая переменная (цена квартиры) зависит от остальных характеристик именно линейно. Зависимость может быть, например, квадратичной или логарифмической; больше того, могут быть важны не только отдельные признаки, но и их комбинации. Это можно учитывать, добавляя в качестве дополнительных признаков разные функции от уже имеющихся характеристик: их квадраты, логарифмы, попарные произведения.\n",
    "\n",
    "В этом задании вам нужно постараться улучшить качество модели, добавляя дополнительные признаки, являющиеся функциями от уже имеющихся. Но будьте осторожны: чрезмерное усложнение модели будет приводить к переобучению. \n",
    "\n",
    "**Сравнение моделей**\n",
    "\n",
    "Когда вы построите новую модель, вам захочется понять, лучше она или хуже, чем изначальная. Проверять это на той же выборке, на которой вы обучались, бессмысленно и даже вредно (вспомните пример с многочленами: как прекрасно падала ошибка на обучающей выборке с ростом степени!). Поэтому вам нужно будет разделить выборку на обучающую и тестовую. Делать это лучше случайным образом (ведь вы не знаете, как создатели датасета упорядочили объекты); рекомендуем вам для этого функцию `sklearn.model_selection.train_test_split`."
   ]
  },
  {
   "cell_type": "code",
   "execution_count": 401,
   "metadata": {},
   "outputs": [
    {
     "name": "stdout",
     "output_type": "stream",
     "text": [
      "[[-0.38135948]]\n",
      "Обычная версия\n",
      "Ошибка [[936.22461581]]\n",
      "\n",
      "Улучшенная версия\n",
      "Ошибка на тестовых данных [[915.34496722]]\n"
     ]
    }
   ],
   "source": [
    "import numpy as np\n",
    "import math\n",
    "from sklearn.model_selection import train_test_split\n",
    "\n",
    "X_train, X_test, y_train, y_test = train_test_split(data_flats, data_price)\n",
    "temp1 = list()\n",
    "temp2 = list()\n",
    "temp3 = list()\n",
    "\n",
    "\n",
    "for str in range(len(X_train)):\n",
    "    temp1.append(4*X_train[str][4]/3 + X_train[str][0]/10)\n",
    "    temp2.append((1/3)*(X_train[str][0]) + 2*(X_train[str][2]))\n",
    "    temp3.append(X_train[str][4] / 2 + 3*X_train[str][3])\n",
    "\n",
    "colomn1 = np.matrix(temp1).transpose()\n",
    "colomn2 = np.matrix(temp2).transpose()\n",
    "colomn3 = np.matrix(temp3).transpose()\n",
    "\n",
    "mat_c = numpy.concatenate((colomn1, colomn2), axis=1)\n",
    "mat_c = numpy.concatenate((mat_c, colomn3), axis=1)\n",
    "mat_coef_train = numpy.concatenate((X_train, mat_c), axis=1)\n",
    "\n",
    "y_train = numpy.matrix(y_train)\n",
    "data_answer = np.linalg.inv(mat_coef_train.T.dot(mat_coef_train)).dot(mat_coef_train.T).dot(y_train.transpose())\n",
    "print(data_answer[0])\n",
    "def p(mas, x, d):\n",
    "    s = 0\n",
    "    for i in range(len(mas)):\n",
    "        s += mas[i] * x[d,i]\n",
    "    return s\n",
    "\n",
    "mistake = 0\n",
    "temp1 = list()\n",
    "temp2 = list()\n",
    "temp3 = list()\n",
    "for str in range(len(X_test)):\n",
    "    temp1.append(4*X_train[str][4]/3)\n",
    "    temp2.append((1/3)*(X_train[str][0]) + 2*(X_train[str][2]))\n",
    "    temp3.append(X_train[str][4] / 2)\n",
    "\n",
    "colomn1 = np.matrix(temp1).transpose()\n",
    "colomn2 = np.matrix(temp2).transpose()\n",
    "colomn3 = np.matrix(temp3).transpose()\n",
    "\n",
    "mat_c = numpy.concatenate((colomn1, colomn2), axis=1)\n",
    "mat_c = numpy.concatenate((mat_c, colomn3), axis=1)\n",
    "mat_test = numpy.concatenate((X_test, mat_c), axis=1)\n",
    "mistake = 0\n",
    "for d in range(len(y_test)):\n",
    "    mistake += (p(data_answer[0], mat_test, d) - y_test[d])**2 / len(y_test) / 30\n",
    "\n",
    "\n",
    "print(\"Обычная версия\")\n",
    "\n",
    "print(\"Ошибка\", ms)\n",
    "print(\"\\nУлучшенная версия\")\n",
    "print(\"Ошибка на тестовых данных\", mistake)\n"
   ]
  },
  {
   "cell_type": "markdown",
   "metadata": {},
   "source": [
    "### Задание 3. Регуляризация (2 балла)"
   ]
  },
  {
   "cell_type": "markdown",
   "metadata": {},
   "source": [
    "Вспомним, что задача линейной регрессии формулируется как задача нахождения проекции вектора значений объясняемой переменной $y$ на линейную оболочку $\\langle x_1,\\ldots,x_k\\rangle$ векторов значений регрессоров. Если векторы $x_1,\\ldots,x_k$ линейно зависимы, то матрица $X^TX$ вырожденна и задача не будет решаться (то есть будет, но не с помощью приведённой выше формулы). В жизни, по счастью, различные признаки редко бывают *в точности* линейно зависимы, однако во многих ситуациях они скоррелированы и становятся \"почти\" линейно зависимыми. Таковы, к примеру, зарплата человека, его уровень образования, цена машины и суммарная площадь недвижимости, которой он владеет. В этом случае матрица $X^TX$ будет близка к вырожденной, и это приводит к численной неустойчивости и плохому качеству решений; как следствие, будет иметь место переобучение. Один из симптомов этой проблемы - необычно большие по модулю компоненты вектора $a$.\n",
    "\n",
    "Есть много способов борьбы с этим злом. Один из них - регуляризация. Сейчас мы рассмотрим одну из её разновидностей --- **L2-регуляризацию**. Идея в том, чтобы подправить матрицу $X^TX$, сделав её \"получше\". Например, это можно сделать, заменив её на $(X^TX + \\lambda E)$, где $\\lambda$ --- некоторый скаляр. Пожертвовав точностью на обучающей выборке, мы тем не менее получаем численно более стабильное псевдорешение $a = (X^TX + \\lambda E)^{-1}X^Ty$ и снижаем эффект переобучения. Параметр $\\lambda$ нужно подбирать, и каких-то универсальных способов это делать нет, но зачастую можно его подобрать таким, чтобы ошибка на тестовой выборке падала. "
   ]
  },
  {
   "cell_type": "markdown",
   "metadata": {},
   "source": [
    "Теперь давайте вспомним первую задачу. Если вы её сделали, то помните, что ошибка аппроксимации многочленом шестой степени довольно высокая. Убедитесь, что, используя регуляризацию с хорошо подобранным коэффициентом $\\lambda$, ошибку на тестовой выборке можно сделать не больше, чем для многочлена оптимальной степени в модели без регрессии. Для этого $\\lambda$ сравните $\\det(X^TX)$ и $\\det(X^TX + \\lambda E)$."
   ]
  },
  {
   "cell_type": "code",
   "execution_count": 312,
   "metadata": {
    "scrolled": true
   },
   "outputs": [
    {
     "name": "stdout",
     "output_type": "stream",
     "text": [
      "Подбирал ручками лямбду, потыкал в разные значения в диапозоне [-10, 10], посмотрел на ошибочки и нашел такой коэфф\n",
      "lambda = 1.16\n",
      "det(X^T * X) = 9.082864838914276e-12 \n",
      "det(X^T * X + lam*E) = 1020.8333384200788\n",
      "Среднеквадратическая ошибка на обучающих данных\n",
      "-----------------------------------------------\n",
      "При k = 6 Ошибка старой версии = [[0.18829349]] Ошибка новой версии =  [[0.33490137]]\n",
      "\n",
      "Среднеквадратическая ошибка на тестовых данных\n",
      "-----------------------------------------------\n",
      "При k = 6 Ошибка старой версии = [[0.18829349]] Ошибка новой версии =  [[0.33490137]]\n"
     ]
    }
   ],
   "source": [
    "X_train = data_train[:,0]\n",
    "y_train = data_train[:,1]\n",
    "X_test = data_test[:,0]\n",
    "y_test = data_test[:,1]\n",
    "\n",
    "\n",
    "temp = list(X_train)\n",
    "const_x = list(X_train)\n",
    "\n",
    "y = numpy.matrix(y_train)\n",
    "x1_coef = numpy.matrix(X_train)\n",
    "temp_mat= numpy.ones((n, 1))\n",
    "\n",
    "all_mistakes_train = list()\n",
    "all_mistakes_test = list()\n",
    "\n",
    "def polynomial(func, x):\n",
    "    summa = 0\n",
    "    stepen = len(func) - 1 \n",
    "    for i in range(stepen + 1):\n",
    "        summa+=func[i] * (pow(x, stepen - i))\n",
    "    return summa\n",
    "\n",
    "\n",
    "for i in range(1, 7):\n",
    "    temp_x = numpy.matrix(temp).transpose()\n",
    "    temp_mat = numpy.concatenate((temp_x, temp_mat), axis=1)\n",
    "    k_answer = ((temp_mat.transpose() * temp_mat).I) * temp_mat.transpose() * y.transpose()\n",
    "    \n",
    "    mistake = 0\n",
    "    for delta in range(n):\n",
    "        mistake += (polynomial(k_answer, X_train[delta]) - y_train[delta])**2\n",
    "    mistake /= n\n",
    "    all_mistakes_train.append(mistake)\n",
    "    \n",
    "    test_mis = 0\n",
    "    for delta in range(n):\n",
    "        test_mis += (polynomial(k_answer, X_test[delta]) - y_test[delta])**2\n",
    "    test_mis /= len(y_test)\n",
    "    \n",
    "    all_mistakes_test.append(test_mis)\n",
    "    for x in range(len(temp)):\n",
    "        temp[x] *= const_x[x]\n",
    "\n",
    "print(\"Подбирал ручками лямбду, потыкал в разные значения в диапозоне [-10, 10], посмотрел на ошибочки и нашел такой коэфф\")\n",
    "print(\"lambda = 1.16\")\n",
    "lam = 1.16\n",
    "E = numpy.identity(7)\n",
    "\n",
    "new_answer = ((temp_mat.transpose() * temp_mat + lam*E).I) * temp_mat.transpose() * y.transpose() \n",
    "\n",
    "print(\"det(X^T * X) =\", numpy.linalg.det((temp_mat.transpose() * temp_mat)),\n",
    "      \"\\ndet(X^T * X + lam*E) =\",\n",
    "      numpy.linalg.det((temp_mat.transpose() * temp_mat + lam*E)))\n",
    "\n",
    "mistake = 0\n",
    "bad_y = list()\n",
    "for delta in range(n):\n",
    "    mistake += (polynomial(new_answer, X_train[delta]) - y_train[delta])**2\n",
    "mistake /= n\n",
    "all_mistakes_train.append(mistake)\n",
    "test_mis = 0\n",
    "tempik = list()\n",
    "for delta in range(n):\n",
    "    test_mis += (polynomial(new_answer, X_test[delta]) - y_test[delta])**2\n",
    "    tempik.append(polynomial(new_answer, X_test[delta])[0, 0])\n",
    "    bad_y.append(polynomial(k_answer, X_test[delta])[0, 0])\n",
    "test_mis /= len(y_test)\n",
    "all_mistakes_test.append(test_mis)\n",
    "\n",
    "print(\"Среднеквадратическая ошибка на обучающих данных\")\n",
    "print(\"-----------------------------------------------\")\n",
    "print(\"При k =\", 6, \"Ошибка старой версии =\", all_mistakes_train[6 - 1], \"Ошибка новой версии = \", all_mistakes_train[6])\n",
    "\n",
    "\n",
    "print(\"\\nСреднеквадратическая ошибка на тестовых данных\")\n",
    "print(\"-----------------------------------------------\")\n",
    "print(\"При k =\", 6, \"Ошибка старой версии =\", all_mistakes_train[6 - 1], \"Ошибка новой версии = \", all_mistakes_train[6])\n",
    "\n",
    "x_x = numpy.linspace(-0.2 , 1.1, 200)\n",
    "y_y_before = []\n",
    "y_y_after = []\n",
    "for el in x_x:\n",
    "    y_y_after.append(polynomial(new_answer, el)[0, 0])\n",
    "    y_y_before.append(polynomial(k_answer, el)[0, 0])\n",
    "\n"
   ]
  },
  {
   "cell_type": "markdown",
   "metadata": {},
   "source": [
    "Нарисуйте на одном чертеже графики многочленов шестой степени, приближающих неизвестную функцию, для модели с регуляризацией и без. Чем первый из них выгодно отличается от второго?"
   ]
  },
  {
   "cell_type": "code",
   "execution_count": 313,
   "metadata": {},
   "outputs": [
    {
     "data": {
      "image/png": "[encoded data removed]",
      "text/plain": [
       "<Figure size 432x288 with 1 Axes>"
      ]
     },
     "metadata": {
      "needs_background": "light"
     },
     "output_type": "display_data"
    }
   ],
   "source": [
    "plt.plot(x_x, y_y_before, label='наша старая ф-ия на тестовых данных')\n",
    "plt.plot(x_x, y_y_after, label='наша новая ф-ия на тестовых данных')\n",
    "plt.grid(True)\n",
    "plt.ylim(3, 8)\n",
    "plt.xlim(-0.4, 1.2)\n",
    "plt.legend(prop = {'size' : 10})\n",
    "plt.show()\n"
   ]
  },
  {
   "cell_type": "markdown",
   "metadata": {},
   "source": [
    "Попробуйте доказать, что вектор $a = (X^TX + \\lambda E)^{-1}X^Ty$ является решением задачи\n",
    "\n",
    "$$|Xa - y|^2 + \\lambda|a|^2\\rightarrow\\min$$\n",
    "\n",
    "Интуитивно это можно понимать так: мы ищем компромисс между минимизацией длины разности $|Xa - y|$ (то есть точностью решения задачи регрессии) и тем, чтобы компоненты вектора $a$ не становились слишком большими по модулю.\n",
    "\n",
    "---\n",
    "\n",
    "**Ваше решение напишите прямо здесь**"
   ]
  },
  {
   "cell_type": "markdown",
   "metadata": {},
   "source": [
    "### Задание 4. Онлайн-обучение линейной регрессии (3 балла)"
   ]
  },
  {
   "cell_type": "markdown",
   "metadata": {},
   "source": [
    "Раньше мы работали в ситуации, когда объекты $x_i$ и значения $y_i$ даны с самого начала и всегда доступны. Допустим теперь, что пары $(x_i, y_i)$ поступают к нам по одной, и мы не можем себе позволить хранить их все в памяти (это может быть актуально, например, если вы пытаетесь обучить модель на устройстве со сравнительно небольшим количеством оперативной памяти: скажем, на мобильном телефоне или на бортовом компьютере спутника связи). В этом случае нам нужно уметь решать следующую задачу:\n",
    "\n",
    "**Известно:** решение задачи регрессии для датасета $(x_1, y_1),\\ldots,(x_t,y_t)$;\n",
    "\n",
    "**На вход поступает:** новая пара $(x_{t+1}, y_{t+1})$;\n",
    "\n",
    "**Требуется:** быстро (за время, не зависящее от $t$) отыскать решение задачи регрессии для расширенного датасета $(x_1, y_1),\\ldots,(x_t,y_t),(x_{t+1}, y_{t+1})$."
   ]
  },
  {
   "cell_type": "markdown",
   "metadata": {},
   "source": [
    "Эту задачу мы будем решать в два этапа.\n",
    "\n",
    "**Этап 1.** Обозначим $X_{(t)} = (x_1\\ldots x_t)$ и $y_{(t)} = (y_1,\\ldots,y_t)^T$. Тогда, как мы хорошо помним, решение задачи регрессии для датасета $(x_1, y_1),\\ldots,(x_t,y_t)$ имеет вид $\\hat{a}_{(t)} = \\left(X^T_{(t)}X_{(t)}\\right)^{-1}X^T_{(t)}y_{(t)}$. Размеры матриц $X^T_{(t)}X_{(t)}$ и $X^T_{(t)}y_{(t)}$ не зависят от $t$, поэтому их мы, пожалуй, можем себе позволить хранить в памяти.\n",
    "\n",
    "И вот ваше первое задание в этом разделе: придумайте алгоритм, принимающий на вход матрицы $X^T_{(t)}X_{(t)}$ и $X^T_{(t)}y_{(t)}$, а также пару $(x_{t+1}, y_{t+1})$ и вычисляющий матрицы $X^T_{(t+1)}X_{(t+1)}$ и $X^T_{(t+1)}y_{(t+1)}$. Сложность вашего алгоритма не должна зависеть от $t$!\n",
    "\n",
    "--\n",
    "\n",
    "**Описание вашего алгоритма напишите прямо здесь**"
   ]
  },
  {
   "cell_type": "markdown",
   "metadata": {},
   "source": [
    "**Этап 2.** Теперь настало время написать немного кода и порисовать красивые картинки. Вам нужно будет реализовать симуляцию онлайн-обучения регрессии для задачи приближения функции (в данном случае $f_{true}(x) = 2x\\sin(x) + x^2 - 1$; все значения искажены небольшим нормальным шумом) многочленом степени не выше 5."
   ]
  },
  {
   "cell_type": "code",
   "execution_count": 314,
   "metadata": {},
   "outputs": [
    {
     "ename": "SyntaxError",
     "evalue": "invalid syntax (<ipython-input-314-5da8dba117bd>, line 25)",
     "output_type": "error",
     "traceback": [
      "\u001b[0;36m  File \u001b[0;32m\"<ipython-input-314-5da8dba117bd>\"\u001b[0;36m, line \u001b[0;32m25\u001b[0m\n\u001b[0;31m    y_pred = #...\u001b[0m\n\u001b[0m                 ^\u001b[0m\n\u001b[0;31mSyntaxError\u001b[0m\u001b[0;31m:\u001b[0m invalid syntax\n"
     ]
    }
   ],
   "source": [
    "from IPython.display import clear_output\n",
    "\n",
    "f_true = lambda x: 2*x*np.sin(5*x) + x**2 - 1 # this is the true function\n",
    "\n",
    "# We need this to make the plot of f_true:\n",
    "x_grid = np.linspace(-2,5,100) # 100 linearly spaced numbers\n",
    "x_grid_enl = np.hstack((x_grid.reshape((100,1))**j for j in range(6)))\n",
    "y_grid = f_true(x_grid)\n",
    "\n",
    "\n",
    "for i in range(200):\n",
    "\n",
    "    x_new = np.random.uniform(-2, 5)\n",
    "    y_new = f_true(x_new) + 2*np.random.randn()\n",
    "    \n",
    "    # your code goes here\n",
    "    \n",
    "    # the rest of code is just bells and whistles\n",
    "    if (i+1)%5==0:\n",
    "        clear_output(True)\n",
    "        plt.plot(x_grid,y_grid, color='blue', label='true f')\n",
    "        plt.scatter(x_new, y_new, color='red')\n",
    "        \n",
    "        # your code goes here\n",
    "        y_pred = #...\n",
    "        \n",
    "        plt.scatter(x_grid, y_pred, color='orange', linewidth=5, label='predicted f')\n",
    "        \n",
    "        plt.legend(loc='upper left')\n",
    "        plt.show()"
   ]
  },
  {
   "cell_type": "markdown",
   "metadata": {},
   "source": [
    "### Добавление. QR-разложение"
   ]
  },
  {
   "cell_type": "markdown",
   "metadata": {},
   "source": [
    "**QR-разложением** матрицы $A$ (не обязательно квадратной) мы будем называть её представление в виде $A = QR$, где $Q$ - матрица с ортонормированными столбцами, а $R$ - верхнетреугольная матрица.\n",
    "\n",
    "Смысл QR-разложения следующий. Пусть $a_1,\\ldots,a_m$ - столбцы матрицы $A$, $q_1,\\ldots,q_t$ - столбцы матрицы $Q$. Тогда $q_1,\\ldots,q_t$ - это ортонормированный базис в подпространстве, являющемся линейной оболочкой векторов $a_1,\\ldots,a_m$, а в матрице $R$ записаны коэффициенты, с помощью которых $a_i$ выражаются через $q_1,\\ldots,q_t$.\n",
    "\n",
    "Находить QR-разложение заданной матрицы можно разными способами. Мы познакомим вас не с самым лучшим из них, но по крайней мере с наиболее простым концептуально. Заметим, что ортогональный базис линейной оболочки можно найти с помощью ортогонализации Грама-Шмидта. При этом коэффициенты из матрицы $R$ получаются в качестве побочного продукта этого процесса:\n",
    "\n",
    "```python\n",
    "for j = 1...n:\n",
    "    q_j = a_j\n",
    "    for i = 1,...,j-1:\n",
    "        r_ij = (q_i, a_j)\n",
    "        q_j = q_j - r_ij * q_i\n",
    "    r_jj = |q_j|\n",
    "    if r_jj == 0: # a_j in <a_1,...,a_j-1>\n",
    "        # What would you do in this case?..\n",
    "    q_j = q_j / r_jj\n",
    "```\n",
    "\n",
    "Для нахождения QR-разложения вы можете использовать библиотечную функцию `scipy.linalg.qr`."
   ]
  },
  {
   "cell_type": "markdown",
   "metadata": {},
   "source": [
    "Поскольку лабораторная про линейную регрессию, не так-то просто замять вопрос о том, какое же отношение QR-разложение имеет к задаче регрессии. Упомянем одно из возможных применений.\n",
    "\n",
    "Допустим, мы нашли QR-разложение матрицы $X$, а именно: $X = QR$. Тогда\n",
    "$$X^TX = (QR)^T(QR) = R^TQ^TQR = R^TR$$"
   ]
  },
  {
   "cell_type": "markdown",
   "metadata": {},
   "source": [
    "Поскольку в задаче регрессии матрица $X$ обычного полного ранга (то есть её столбцы линейно независимы), матрица $R$ будет квадратной. Благодаря этому нашу обычную формулу для набора регрессионных коэффициентов $\\hat{a}$ можно переписать в следующем виде:\n",
    "\n",
    "$$\\hat{a} = (X^TX)^{-1}X^Ty = (R^TR)^{-1}(QR)^Ty = R^{-1}(R^T)^{-1}R^TQ^Ty = R^{-1}Q^Ty$$\n",
    "\n",
    "Как видите, формула стала проще. Более того, зачастую обращение матрицы $R$ может быть численно более устойчиво, чем обращение матрицы $X^TX$."
   ]
  },
  {
   "cell_type": "code",
   "execution_count": null,
   "metadata": {},
   "outputs": [],
   "source": []
  }
 ],
 "metadata": {
  "kernelspec": {
   "display_name": "Python 3",
   "language": "python",
   "name": "python3"
  },
  "language_info": {
   "codemirror_mode": {
    "name": "ipython",
    "version": 3
   },
   "file_extension": ".py",
   "mimetype": "text/x-python",
   "name": "python",
   "nbconvert_exporter": "python",
   "pygments_lexer": "ipython3",
   "version": "3.6.9"
  }
 },
 "nbformat": 4,
 "nbformat_minor": 1
}
